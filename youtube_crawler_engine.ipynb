{
  "nbformat": 4,
  "nbformat_minor": 0,
  "metadata": {
    "colab": {
      "name": "youtube_crawler_engine",
      "provenance": []
    },
    "kernelspec": {
      "display_name": "Python 3",
      "name": "python3"
    },
    "deepnote_notebook_id": "493be161-7c1f-439a-b19b-8aa1582f6d1d",
    "deepnote": {
      "is_reactive": false
    },
    "deepnote_execution_queue": []
  },
  "cells": [
    {
      "cell_type": "markdown",
      "metadata": {
        "id": "9jHy0IZ2SxGr"
      },
      "source": [
        "This Notebook contains :\n",
        "\n",
        "\n",
        "1.   Importing configuration file\n",
        "2.   Importing essential information from config file\n",
        "3.   General Crawling which will run daily to capture daily landslide events and focused crawling which will run on occasional basis to capture more videos related to any particular events. ( Both for twitter and youtube )\n",
        "4.   Saved General crawler CSV on google drive folder\n",
        "\n",
        "Note : This notebook was automatically ran on daily basis with the help of deepnote.com\n",
        "\n"
      ]
    },
    {
      "cell_type": "markdown",
      "metadata": {
        "id": "UHE3iu2w3etb",
        "cell_id": "00000-cbb44c7d-fd6f-491c-bebf-161b0983249e",
        "deepnote_cell_type": "markdown"
      },
      "source": [
        "Adding all the dependencies\n"
      ]
    },
    {
      "cell_type": "code",
      "metadata": {
        "id": "qIA3ZHNQ3QSE",
        "cell_id": "00001-137e6f60-e657-4539-81ad-0955b18de528",
        "deepnote_to_be_reexecuted": false,
        "source_hash": "7f62d692",
        "execution_start": 1626238588100,
        "execution_millis": 16350,
        "deepnote_cell_type": "code"
      },
      "source": [
        "%%capture\n",
        "!pip3 install google-api-python-client\n",
        "!pip install apiclient\n",
        "!pip install --upgrade google-api-python-client google-auth-httplib2 google-auth-oauthlib"
      ],
      "execution_count": null,
      "outputs": []
    },
    {
      "cell_type": "code",
      "metadata": {
        "tags": [],
        "cell_id": "00002-2dd85d21-3538-4516-92c9-6c024157867f",
        "deepnote_to_be_reexecuted": false,
        "source_hash": "25879df0",
        "execution_start": 1626238604461,
        "execution_millis": 1854,
        "deepnote_cell_type": "code",
        "id": "o9_CoAu6SEGN"
      },
      "source": [
        "#!pip3 install google-api-python-client\n",
        "#from apiclient.discovery import build\n",
        "#from apiclient import discovery\n",
        "#from discovery import build\n",
        "from googleapiclient.discovery import build\n",
        "import argparse\n",
        "import csv\n",
        "import pandas as pd\n",
        "from sklearn.cluster import KMeans\n",
        "import datetime as dt\n",
        "from matplotlib import pyplot as plt\n",
        "import math"
      ],
      "execution_count": null,
      "outputs": []
    },
    {
      "cell_type": "markdown",
      "metadata": {
        "id": "vbBSQdSUaaVA",
        "cell_id": "00002-327c708b-25f0-425e-8511-516ccd29945a",
        "deepnote_cell_type": "markdown"
      },
      "source": [
        "Importing Configuration File\n",
        "\n",
        "---\n",
        "Reference : https://www.kite.com/python/answers/how-to-update-a-json-file-in-python\n"
      ]
    },
    {
      "cell_type": "code",
      "metadata": {
        "tags": [],
        "cell_id": "00005-1f50c1d7-fcab-47b6-a715-2130c9a85911",
        "deepnote_to_be_reexecuted": false,
        "source_hash": "e3f75b5",
        "execution_start": 1626238606326,
        "execution_millis": 3851,
        "deepnote_cell_type": "code",
        "id": "9yAD1hx-SEGP",
        "outputId": "6eac49f9-79c0-4a7c-e153-defb1ca86ab4"
      },
      "source": [
        "# Listing Datasets which are being saved in google drive\n",
        "!ls /datasets/outputyoutube/Landslide_Project"
      ],
      "execution_count": null,
      "outputs": [
        {
          "output_type": "stream",
          "text": [
            "Cleaning_Clustering_Youtube_Landslide_Prediction.ipynb\r\n",
            "config_.json\r\n",
            "India_Locations_Villages\r\n",
            "Scraping_Youtube_Twitter.ipynb\r\n",
            "Twitter_General_July01.csv\r\n",
            "Twitter_General_July02.csv\r\n",
            "Twitter_General_July03.csv\r\n",
            "Twitter_General_July04.csv\r\n",
            "Twitter_General_July05.csv\r\n",
            "Twitter_General_July06.csv\r\n",
            "Twitter_General_July07.csv\r\n",
            "Twitter_General_July08.csv\r\n",
            "Twitter_General_July09.csv\r\n",
            "Twitter_General_June13.csv\r\n",
            "Twitter_General_June15.csv\r\n",
            "Twitter_General_June16.csv\r\n",
            "Twitter_General_June17.csv\r\n",
            "Twitter_General_June18.csv\r\n",
            "Twitter_General_June19.csv\r\n",
            "Twitter_General_June20.csv\r\n",
            "Twitter_General_June21.csv\r\n",
            "Twitter_General_June22.csv\r\n",
            "Twitter_General_June23.csv\r\n",
            "Twitter_General_June24.csv\r\n",
            "Twitter_General_June25.csv\r\n",
            "Twitter_General_June26.csv\r\n",
            "Twitter_General_June27.csv\r\n",
            "Twitter_General_June28.csv\r\n",
            "Twitter_General_June29.csv\r\n",
            "Twitter_General_June30.csv\r\n",
            "YouTube\r\n",
            "Youtube_General_July01.csv\r\n",
            "Youtube_General_July02.csv\r\n",
            "Youtube_General_July03.csv\r\n",
            "Youtube_General_July04.csv\r\n",
            "Youtube_General_July05.csv\r\n",
            "Youtube_General_July06.csv\r\n",
            "Youtube_General_July07.csv\r\n",
            "Youtube_General_July08.csv\r\n",
            "Youtube_General_July09.csv\r\n",
            "Youtube_General_July13.csv\r\n",
            "Youtube_General_June11.csv\r\n",
            "Youtube_General_June12.csv\r\n",
            "Youtube_General_June15.csv\r\n",
            "Youtube_General_June16.csv\r\n",
            "Youtube_General_June17.csv\r\n",
            "Youtube_General_June18.csv\r\n",
            "Youtube_General_June19.csv\r\n",
            "Youtube_General_June20.csv\r\n",
            "Youtube_General_June21.csv\r\n",
            "Youtube_General_June22.csv\r\n",
            "Youtube_General_June23.csv\r\n",
            "Youtube_General_June24.csv\r\n",
            "Youtube_General_June25.csv\r\n",
            "Youtube_General_June26.csv\r\n",
            "Youtube_General_June27.csv\r\n",
            "Youtube_General_June28.csv\r\n",
            "Youtube_General_June29.csv\r\n",
            "Youtube_General_June30.csv\r\n",
            "youtube_jun3.csv\r\n",
            "Youtube_June7.csv\r\n"
          ],
          "name": "stdout"
        }
      ]
    },
    {
      "cell_type": "code",
      "metadata": {
        "tags": [],
        "cell_id": "00006-fdae6a66-950e-4315-9d90-b258d47d0e1c",
        "deepnote_to_be_reexecuted": false,
        "source_hash": "f8f4d04e",
        "execution_start": 1626238610173,
        "execution_millis": 3,
        "deepnote_cell_type": "code",
        "id": "N21PKvK9SEGS"
      },
      "source": [
        "#!ls /datasets/configuration-file"
      ],
      "execution_count": null,
      "outputs": []
    },
    {
      "cell_type": "code",
      "metadata": {
        "id": "RiiMdPmGbSd7",
        "cell_id": "00003-552038a1-ae8c-4d44-82d8-cc595ef0d29d",
        "deepnote_to_be_reexecuted": false,
        "source_hash": "8eee1b4",
        "execution_start": 1626238610248,
        "execution_millis": 997,
        "deepnote_cell_type": "code"
      },
      "source": [
        "import json\n",
        "a_file = open(\"/datasets/outputyoutube/Landslide_Project/config_.json\",\"r+\",encoding='UTF-8')\n",
        "json_object = json.load(a_file)\n",
        "a_file.close()"
      ],
      "execution_count": null,
      "outputs": []
    },
    {
      "cell_type": "markdown",
      "metadata": {
        "id": "bW1SrbgY3rXh",
        "cell_id": "00004-4b1f6f13-a0d1-4e5f-b6b8-e038e36bf9a4",
        "deepnote_cell_type": "markdown"
      },
      "source": [
        "\n",
        "#Collecting Data From Youtube\n"
      ]
    },
    {
      "cell_type": "code",
      "metadata": {
        "id": "kdqawEtZ34QB",
        "cell_id": "00005-3189cb6e-8896-4465-9aad-b186ee8cc7f2",
        "deepnote_to_be_reexecuted": false,
        "source_hash": "42c17d89",
        "execution_start": 1626238611253,
        "execution_millis": 0,
        "deepnote_cell_type": "code"
      },
      "source": [
        "# Please register and replace this with your key\n",
        "",
        "# My API KEY : \n",
        "# MY API KEY 2 : \n",
        "DEVELOPER_KEY = \"\"\n",
        "YOUTUBE_API_SERVICE_NAME = \"youtube\"\n",
        "YOUTUBE_API_VERSION = \"v3\""
      ],
      "execution_count": null,
      "outputs": []
    },
    {
      "cell_type": "code",
      "metadata": {
        "id": "DaMZIhqY4GHE",
        "cell_id": "00006-af37c085-b02c-488d-847f-18ba09163c99",
        "deepnote_to_be_reexecuted": false,
        "source_hash": "c7f54808",
        "execution_start": 1626238611257,
        "execution_millis": 8,
        "deepnote_cell_type": "code"
      },
      "source": [
        "youtube = build(YOUTUBE_API_SERVICE_NAME, YOUTUBE_API_VERSION, developerKey=DEVELOPER_KEY)"
      ],
      "execution_count": null,
      "outputs": []
    },
    {
      "cell_type": "markdown",
      "metadata": {
        "id": "gUKwJtiy4RQd",
        "cell_id": "00007-1e97598d-8dab-4440-8e3d-ea0cfad9ab93",
        "deepnote_cell_type": "markdown"
      },
      "source": [
        "## Generic Crawling\n",
        "\n",
        "\n",
        "\n",
        "\n"
      ]
    },
    {
      "cell_type": "code",
      "metadata": {
        "id": "wUq6B2kgh2G9",
        "cell_id": "00008-3618ede9-e28b-40b3-8b58-092b6f166c07",
        "deepnote_to_be_reexecuted": false,
        "source_hash": "718b23a2",
        "execution_start": 1626238611266,
        "execution_millis": 6,
        "deepnote_cell_type": "code"
      },
      "source": [
        "# Parsing the list of General Keywords\n",
        "Gen_Keywords =json_object[\"General-Crawling\"][\"General-Keywords\"]\n",
        "Gen_Keywords=list(Gen_Keywords)[0]\n",
        "keys = f\"{Gen_Keywords}\"\n",
        "Gen_keywords=Gen_Keywords.split(',')\n",
        "# Gen_keywords"
      ],
      "execution_count": null,
      "outputs": []
    },
    {
      "cell_type": "code",
      "metadata": {
        "id": "SnCRIMScQ-ac",
        "cell_id": "00009-b843b56b-19a5-48c4-8642-fced76e06a64",
        "deepnote_to_be_reexecuted": false,
        "source_hash": "c6943be5",
        "execution_start": 1626238611273,
        "execution_millis": 4956,
        "deepnote_cell_type": "code"
      },
      "source": [
        "%%capture\n",
        "!pip install youtube_transcript_api\n",
        "!pip install google-api-python-client"
      ],
      "execution_count": null,
      "outputs": []
    },
    {
      "cell_type": "code",
      "metadata": {
        "id": "dWiaE_JGQ-h5",
        "cell_id": "00010-030b6398-e6ef-46be-9f8f-fdeb8b43950f",
        "deepnote_to_be_reexecuted": false,
        "source_hash": "a6d60b01",
        "execution_start": 1626238616234,
        "execution_millis": 30,
        "deepnote_cell_type": "code"
      },
      "source": [
        "from youtube_transcript_api import YouTubeTranscriptApi"
      ],
      "execution_count": null,
      "outputs": []
    },
    {
      "cell_type": "code",
      "metadata": {
        "id": "v2q43GwPkBd1",
        "cell_id": "00011-845ccae9-17a5-442e-9b46-6e2fac106d77",
        "deepnote_to_be_reexecuted": false,
        "source_hash": "54aab899",
        "execution_start": 1626238616268,
        "execution_millis": 3,
        "deepnote_cell_type": "code"
      },
      "source": [
        "import datetime\n",
        "import pandas as pd\n",
        "import time\n",
        "from datetime import timedelta"
      ],
      "execution_count": null,
      "outputs": []
    },
    {
      "cell_type": "code",
      "metadata": {
        "colab": {
          "base_uri": "https://localhost:8080/"
        },
        "id": "ZqU10xvGqjiB",
        "cell_id": "00012-90c783f6-192d-4be4-b88f-f83e46521399",
        "deepnote_to_be_reexecuted": false,
        "source_hash": "4a39ceb",
        "execution_start": 1626238616279,
        "execution_millis": 25,
        "deepnote_cell_type": "code",
        "outputId": "06da3dda-d864-48f5-a34b-2cc630a75cae"
      },
      "source": [
        "from datetime import date\n",
        "curr_time = datetime.datetime.now()\n",
        "#print(curr_time)\n",
        "published_after = curr_time - datetime.timedelta(days=1) + datetime.timedelta(minutes=5)\n",
        "published_after=published_after.strftime(\"%Y-%m-%dT%XZ\") # converting into youtube api format\n",
        "print(\"The General Crawler will start Scrapping from \"+published_after)"
      ],
      "execution_count": null,
      "outputs": [
        {
          "output_type": "stream",
          "text": [
            "The General Crawler will start Scrapping from 2021-07-13T05:01:56Z\n"
          ],
          "name": "stdout"
        }
      ]
    },
    {
      "cell_type": "code",
      "metadata": {
        "id": "XCKUH6VQGJpr",
        "cell_id": "00013-cb188e70-ca22-4ca0-8b65-8da877ab9f0e",
        "deepnote_to_be_reexecuted": false,
        "source_hash": "96287a99",
        "execution_start": 1626238616290,
        "execution_millis": 19,
        "deepnote_cell_type": "code"
      },
      "source": [
        "# If we want to publish alternate to daily basis we can edit in config file and uncomment this code\n",
        "# published_after_alt=json_object['General-Crawling']['General-Keywords'][keys]['End_Datetime']"
      ],
      "execution_count": 1,
      "outputs": []
    },
    {
      "cell_type": "code",
      "metadata": {
        "id": "I4c9-Poy9HnT",
        "cell_id": "00014-909de9db-11be-499f-8a17-ae11d5ae83fa",
        "deepnote_to_be_reexecuted": false,
        "source_hash": "e25b9ce4",
        "execution_start": 1626238616339,
        "execution_millis": 141179,
        "deepnote_cell_type": "code"
      },
      "source": [
        "# Reference : https://www.pragnakalp.com/automate-youtube-video-transcription-python/\n",
        "\n",
        "column_names=[\"Topic\", \"Channel_Name\" ,\"TimeQueried\", \"Video_Title\", \"Video_ID\", \"Published_At\", \"duration\", \"viewCount\", \"likeCount\", \"dislikeCount\",\n",
        "      \"favoriteCount\",\"commentCount\", \"Description\",\"Location\",\"Tags\",\"Latitude\",\"Longitude\"]\n",
        "ddf2=pd.DataFrame(columns=column_names)\n",
        "textlist=[]\n",
        "for Query in Gen_keywords:\n",
        "  videos=[]\n",
        "  next_page_token = None\n",
        "  while 1:\n",
        "    search_response = youtube.search().list(q=Query,type=\"video\", part=\"id,snippet\", maxResults=100,regionCode=\"IN\",order=\"relevance\",publishedAfter=published_after).execute() \n",
        "    videos+=search_response['items']\n",
        "    #next_page_token = search_response.get('nextPageToken')\n",
        "    #print(next_page_token)\n",
        "    if next_page_token is None:\n",
        "            break\n",
        "  count=0\n",
        "  video_ids=[]\n",
        "  for video in videos:\n",
        "      video_ids.append(video['id']['videoId'])\n",
        "      count=count+1\n",
        "  count \n",
        "  #text_df = pd.DataFrame(textlist,columns=[\"Transcript\"])\n",
        "  for video_id in video_ids:\n",
        "      templist=[]\n",
        "      try:\n",
        "        responses = YouTubeTranscriptApi.get_transcript(\n",
        "            video_id, languages=['en'])\n",
        "        #responses2=responses.get_transcript\n",
        "        for response in responses:\n",
        "            text = response['text']\n",
        "            templist.append(text)\n",
        "        textlist.append(templist)\n",
        "      except Exception as e:\n",
        "        textlist.append(\"NaN\") # Generally when transcript are not available or too many requests are there\n",
        "\n",
        "  for k in range(len(video_ids)):\n",
        "    request = youtube.videos().list(\n",
        "            part=\"statistics,contentDetails,snippet,status,recordingDetails\",\n",
        "            id=video_ids[k]\n",
        "        )\n",
        "    response = request.execute()\n",
        "    #print(response)\n",
        "    #print(response[\"items\"][0][\"statistics\"][\"likeCount\"])\n",
        "    #print(response[\"items\"][0][\"snippet\"][\"channelTitle\"])\n",
        "    #print(response[\"items\"][0][\"snippet\"]['tags'][0:10])\n",
        "    #print(response['items'][0])\n",
        "    # try :\n",
        "    #   print(response[\"items\"][0][\"recordingDetails\"]['location']['latitude'])\n",
        "    # except :\n",
        "    #   print(\"no location\")\n",
        "    #print(response[\"items\"][0][\"snippet\"][\"description\"])\n",
        "    #response[\"items\"][0][\"statistics\"][\"favoriteCount\"]\n",
        "\n",
        "    try:\n",
        "        ddf2 = ddf2.append({\"Topic\":Query,\"Channel_Name\":response[\"items\"][0][\"snippet\"][\"channelTitle\"],\"TimeQueried\":dt.datetime.now(), \"Video_Title\":response[\"items\"][0][\"snippet\"][\"title\"], \"Video_ID\":response[\"items\"][0][\"id\"], \"Published_At\":response[\"items\"][0][\"snippet\"][\"publishedAt\"], \"duration\":response[\"items\"][0][\"contentDetails\"][\"duration\"], \"viewCount\":response[\"items\"][0][\"statistics\"][\"viewCount\"], \"likeCount\":response[\"items\"][0][\"statistics\"][\"likeCount\"], \"dislikeCount\":response[\"items\"][0][\"statistics\"][\"dislikeCount\"],\"favoriteCount\":response[\"items\"][0][\"statistics\"][\"favoriteCount\"],\"commentCount\":response[\"items\"][0][\"statistics\"][\"commentCount\"], \"Description\":response[\"items\"][0][\"snippet\"][\"description\"],\"Location\": response[\"items\"][0][\"recordingDetails\"][\"location\"],\"Tags\":response[\"items\"][0][\"snippet\"]['tags'][0:10],\"Latitude\":response[\"items\"][0][\"recordingDetails\"]['location']['latitude'],\"Longitude\":response[\"items\"][0][\"recordingDetails\"]['location']['longitude']},ignore_index = True)\n",
        "\n",
        "    except:\n",
        "        ddf2 = ddf2.append({\"Topic\":Query,\"Channel_Name\":response[\"items\"][0][\"snippet\"][\"channelTitle\"] ,\"TimeQueried\":dt.datetime.now(), \"Video_Title\":response[\"items\"][0][\"snippet\"][\"title\"], \"Video_ID\":response[\"items\"][0][\"id\"], \"Published_At\":response[\"items\"][0][\"snippet\"][\"publishedAt\"], \"duration\":response[\"items\"][0][\"contentDetails\"][\"duration\"], \"viewCount\":response[\"items\"][0][\"statistics\"][\"viewCount\"], \"likeCount\":\"\", \"dislikeCount\":\"\",\"favoriteCount\":\"\",\"commentCount\":\"\", \"Description\":response[\"items\"][0][\"snippet\"][\"description\"],\"Tags\":\"\",\"Latitude\":\"\",\"Longitude\":\"\"},ignore_index = True)"
      ],
      "execution_count": null,
      "outputs": []
    },
    {
      "cell_type": "code",
      "metadata": {
        "id": "QeO9FeT09Hvf",
        "cell_id": "00015-5c8afdea-88bb-47e8-ad6b-8d76c63802c4",
        "deepnote_to_be_reexecuted": false,
        "source_hash": "cd97805f",
        "execution_start": 1626238757550,
        "execution_millis": 0,
        "deepnote_cell_type": "code"
      },
      "source": [
        "# ddf2.shape"
      ],
      "execution_count": null,
      "outputs": []
    },
    {
      "cell_type": "code",
      "metadata": {
        "id": "Elwp3sA-EJsj",
        "cell_id": "00016-38b80517-96b6-4297-b80e-7117abeee008",
        "deepnote_to_be_reexecuted": false,
        "source_hash": "ad87e8fd",
        "execution_start": 1626238757551,
        "execution_millis": 0,
        "deepnote_cell_type": "code"
      },
      "source": [
        "# ddf2.head(10)"
      ],
      "execution_count": null,
      "outputs": []
    },
    {
      "cell_type": "code",
      "metadata": {
        "id": "KO4um1Bmm5Q6",
        "cell_id": "00017-02020265-791a-47a1-8f80-ab2d53fa07ff",
        "deepnote_to_be_reexecuted": false,
        "source_hash": "637d575d",
        "execution_start": 1626238757552,
        "execution_millis": 0,
        "deepnote_cell_type": "code"
      },
      "source": [
        "text_df = pd.DataFrame()\n",
        "text_df[\"Transcript\"] = textlist"
      ],
      "execution_count": null,
      "outputs": []
    },
    {
      "cell_type": "code",
      "metadata": {
        "id": "KJ8JIOXz-2Ja",
        "cell_id": "00018-171d6b87-1c4f-4b92-8544-a5eb0a7de587",
        "deepnote_to_be_reexecuted": false,
        "source_hash": "c8a38dfe",
        "execution_start": 1626238757571,
        "execution_millis": 0,
        "deepnote_cell_type": "code"
      },
      "source": [
        "# text_df.shape"
      ],
      "execution_count": null,
      "outputs": []
    },
    {
      "cell_type": "code",
      "metadata": {
        "id": "sZPNP20uDrdG",
        "cell_id": "00019-fdeb7ff7-de71-4fb1-a1d4-f10eb21a9701",
        "deepnote_to_be_reexecuted": false,
        "source_hash": "82ae49da",
        "execution_start": 1626238757572,
        "execution_millis": 0,
        "deepnote_cell_type": "code"
      },
      "source": [
        "ddf2 = pd.concat([ddf2,text_df],axis=1,ignore_index=False,join=\"outer\")"
      ],
      "execution_count": null,
      "outputs": []
    },
    {
      "cell_type": "code",
      "metadata": {
        "id": "FBbpdA-5GeJH",
        "cell_id": "00020-1774cca6-1340-4075-a356-21be97d1d202",
        "deepnote_to_be_reexecuted": false,
        "source_hash": "46569169",
        "execution_start": 1626238757572,
        "execution_millis": 1,
        "deepnote_cell_type": "code"
      },
      "source": [
        "#ddf2.head()"
      ],
      "execution_count": null,
      "outputs": []
    },
    {
      "cell_type": "code",
      "metadata": {
        "id": "Qdke42F0G6tc",
        "cell_id": "00021-cd1b3cb8-4225-4ed9-94c5-c8beae5ea679",
        "deepnote_to_be_reexecuted": false,
        "source_hash": "ce7800a6",
        "execution_start": 1626238757573,
        "execution_millis": 38367706,
        "deepnote_cell_type": "code"
      },
      "source": [
        "#ddf2['Transcript'].unique()"
      ],
      "execution_count": null,
      "outputs": []
    },
    {
      "cell_type": "code",
      "metadata": {
        "id": "7h7SGaAriQaD",
        "cell_id": "00022-a0ebd113-79a7-47fc-8b30-b415b70ffb62",
        "deepnote_to_be_reexecuted": false,
        "source_hash": "eab88145",
        "execution_start": 1626238757614,
        "execution_millis": 1,
        "deepnote_cell_type": "code"
      },
      "source": [
        "ddf2=ddf2.drop_duplicates(subset=['Video_ID',\n",
        "                                  'Video_Title'])"
      ],
      "execution_count": null,
      "outputs": []
    },
    {
      "cell_type": "code",
      "metadata": {
        "id": "jB-ahAH_jCXr",
        "cell_id": "00023-1799680c-6b5e-40f7-aebd-8022f01c7c21",
        "deepnote_to_be_reexecuted": false,
        "source_hash": "3320bc33",
        "execution_start": 1626238757615,
        "execution_millis": 0,
        "deepnote_cell_type": "code"
      },
      "source": [
        "#ddf2.shape"
      ],
      "execution_count": null,
      "outputs": []
    },
    {
      "cell_type": "code",
      "metadata": {
        "id": "5oEnKtPDdpGn",
        "cell_id": "00024-9f3e5094-e5c2-45d1-bace-eeca16b3841b",
        "deepnote_to_be_reexecuted": false,
        "source_hash": "945633d1",
        "execution_start": 1626238757616,
        "execution_millis": 45,
        "deepnote_cell_type": "code",
        "outputId": "a4fce5ca-9442-4213-a985-d04c7d7221f9"
      },
      "source": [
        "ddf2.head()"
      ],
      "execution_count": null,
      "outputs": [
        {
          "output_type": "execute_result",
          "data": {
            "application/vnd.deepnote.dataframe.v2+json": {
              "row_count": 5,
              "column_count": 18,
              "columns": [
                {
                  "name": "Topic",
                  "dtype": "object",
                  "stats": {
                    "unique_count": 1,
                    "nan_count": 0,
                    "categories": [
                      {
                        "name": "landslide",
                        "count": 5
                      }
                    ]
                  }
                },
                {
                  "name": "Channel_Name",
                  "dtype": "object",
                  "stats": {
                    "unique_count": 5,
                    "nan_count": 0,
                    "categories": [
                      {
                        "name": "The Tribune",
                        "count": 1
                      },
                      {
                        "name": "TV9 Gujarati",
                        "count": 1
                      },
                      {
                        "name": "3 others",
                        "count": 3
                      }
                    ]
                  }
                },
                {
                  "name": "TimeQueried",
                  "dtype": "datetime64[ns]",
                  "stats": {
                    "unique_count": 5,
                    "nan_count": 0,
                    "min": "2021-07-14 04:57:17.998203",
                    "max": "2021-07-14 04:57:18.239435",
                    "histogram": [
                      {
                        "bin_start": 1626238637998203000,
                        "bin_end": 1626238638022326000,
                        "count": 1
                      },
                      {
                        "bin_start": 1626238638022326000,
                        "bin_end": 1626238638046449400,
                        "count": 0
                      },
                      {
                        "bin_start": 1626238638046449400,
                        "bin_end": 1626238638070572500,
                        "count": 1
                      },
                      {
                        "bin_start": 1626238638070572500,
                        "bin_end": 1626238638094695700,
                        "count": 0
                      },
                      {
                        "bin_start": 1626238638094695700,
                        "bin_end": 1626238638118818800,
                        "count": 0
                      },
                      {
                        "bin_start": 1626238638118818800,
                        "bin_end": 1626238638142942200,
                        "count": 1
                      },
                      {
                        "bin_start": 1626238638142942200,
                        "bin_end": 1626238638167065300,
                        "count": 0
                      },
                      {
                        "bin_start": 1626238638167065300,
                        "bin_end": 1626238638191188500,
                        "count": 1
                      },
                      {
                        "bin_start": 1626238638191188500,
                        "bin_end": 1626238638215312000,
                        "count": 0
                      },
                      {
                        "bin_start": 1626238638215312000,
                        "bin_end": 1626238638239435000,
                        "count": 1
                      }
                    ]
                  }
                },
                {
                  "name": "Video_Title",
                  "dtype": "object",
                  "stats": {
                    "unique_count": 5,
                    "nan_count": 0,
                    "categories": [
                      {
                        "name": "Dharamsala flash floods:10 persons missing in landslide presumed dead; 184 roads blocked in Himachal",
                        "count": 1
                      },
                      {
                        "name": "Six houses swept away as landslide hits Himachal's Kangra district | TV9News",
                        "count": 1
                      },
                      {
                        "name": "3 others",
                        "count": 3
                      }
                    ]
                  }
                },
                {
                  "name": "Video_ID",
                  "dtype": "object",
                  "stats": {
                    "unique_count": 5,
                    "nan_count": 0,
                    "categories": [
                      {
                        "name": "Ht6YmGsebdU",
                        "count": 1
                      },
                      {
                        "name": "8c8DOhJkIL8",
                        "count": 1
                      },
                      {
                        "name": "3 others",
                        "count": 3
                      }
                    ]
                  }
                },
                {
                  "name": "Published_At",
                  "dtype": "object",
                  "stats": {
                    "unique_count": 5,
                    "nan_count": 0,
                    "categories": [
                      {
                        "name": "2021-07-13T09:39:59Z",
                        "count": 1
                      },
                      {
                        "name": "2021-07-13T05:37:53Z",
                        "count": 1
                      },
                      {
                        "name": "3 others",
                        "count": 3
                      }
                    ]
                  }
                },
                {
                  "name": "duration",
                  "dtype": "object",
                  "stats": {
                    "unique_count": 5,
                    "nan_count": 0,
                    "categories": [
                      {
                        "name": "PT2M53S",
                        "count": 1
                      },
                      {
                        "name": "PT38S",
                        "count": 1
                      },
                      {
                        "name": "3 others",
                        "count": 3
                      }
                    ]
                  }
                },
                {
                  "name": "viewCount",
                  "dtype": "object",
                  "stats": {
                    "unique_count": 5,
                    "nan_count": 0,
                    "categories": [
                      {
                        "name": "13275",
                        "count": 1
                      },
                      {
                        "name": "3120",
                        "count": 1
                      },
                      {
                        "name": "3 others",
                        "count": 3
                      }
                    ]
                  }
                },
                {
                  "name": "likeCount",
                  "dtype": "object",
                  "stats": {
                    "unique_count": 1,
                    "nan_count": 0,
                    "categories": [
                      {
                        "name": "",
                        "count": 5
                      }
                    ]
                  }
                },
                {
                  "name": "dislikeCount",
                  "dtype": "object",
                  "stats": {
                    "unique_count": 1,
                    "nan_count": 0,
                    "categories": [
                      {
                        "name": "",
                        "count": 5
                      }
                    ]
                  }
                },
                {
                  "name": "favoriteCount",
                  "dtype": "object",
                  "stats": {
                    "unique_count": 1,
                    "nan_count": 0,
                    "categories": [
                      {
                        "name": "",
                        "count": 5
                      }
                    ]
                  }
                },
                {
                  "name": "commentCount",
                  "dtype": "object",
                  "stats": {
                    "unique_count": 1,
                    "nan_count": 0,
                    "categories": [
                      {
                        "name": "",
                        "count": 5
                      }
                    ]
                  }
                },
                {
                  "name": "Description",
                  "dtype": "object",
                  "stats": {
                    "unique_count": 5,
                    "nan_count": 0,
                    "categories": [
                      {
                        "name": "Read story here: https://tinyurl.com/e2yvdscn\n#Dharamsala #FlashFloods #HimachalPradesh\nTen persons missing in a massive landslide at Boh valley of Kangra district on Monday are presumed dead now by the authorities, taking the toll in the calamity to 11. \nOne body was retrieved on Monday while 10 persons were missing. The rescue operations had been going on amid the debris of five houses since early morning. However, till afternoon, nobody could be located. The authorities are now presuming that all the missing are dead.\n\nThe Tribune, now published from Chandigarh, started publication on February 2, 1881, in Lahore (now in Pakistan). It was started by Sardar Dyal Singh Majithia, a public-spirited philanthropist, and is run by a trust comprising five eminent persons as trustees.\r\n\r\nSubscribe for more videos: https://www.youtube.com/c/TheTribunechd\r\nLike us on Facebook: https://www.facebook.com/TheTribuneChd/\r\nFollow us on Twitter: https://twitter.com/thetribunechd\r\nDownload The Tribune App: https://goo.gl/YyBCw9",
                        "count": 1
                      },
                      {
                        "name": "Six houses swept away as landslide hits Himachal's Kangra district | TV9News | D41\n\n#MonsoonNews #GujaratRains #Monsoon2021 \n\nTv9 ગુજરાતીની Youtube ચેનલને સબસ્ક્રાઈબ કરો અને બેલ આઈકોન જરૂરથી દબાવો...જેથી દરેક મહત્વના વીડિયોની નોટિફિકેશન તમને મળતા રહેશે\n\nPlease click on subscribe button and press bell icon button also to get notifications of interesting videos from TV9 Gujarati\n\nTop playlists :-\nBhakti Stories : https://bit.ly/2Z9jtDr\nAround The Gujarat = https://bit.ly/2Z6kWKG\nNaukri9 = https://bit.ly/2GeYglK\nDhartiputra = https://urlzs.com/RrCRH\nTop 9 News = https://bit.ly/31WChrd\nTV9Gujarati.com Special = https://bit.ly/3kIway6\nCoronavirus Updates : https://bit.ly/3bi1Mpr\nMumbai Report = https://urlzs.com/juftG\nBhakti = https://urlzs.com/DXiWB\n\n\n#gujaratinews #tv9gujarati #tv9gujaratilive #topnewstoday\n#SpeedNews #entertainment #tv9news #food\n#politicnews #politicalnews #sportsnews\n\n======\nSocial Media A/Cs\n\nYoutube Channel - https://www.youtube.com/tv9gujaratinews\nFB - https://www.facebook.com/tv9gujarati\nInstagram : https://bit.ly/2uYyP2b\nTwitter - https://www.twitter.com/tv9gujarati\nWebsite - https://www.tv9gujarati.com\nAndriod App - http://tiny.cc/lcom7y\nIOS App - http://tiny.cc/leom7y\n\n=====\nGUJARAT'S NO.1 NEWS CHANNEL\n\nFirst 24/7 Gujarati television news station operating from Ahmedabad, Gujarat, India. Known for its very bold, fast and for the people journalism in Gujarati. Its all said in its tag-line ...... : \" GARV CHHE GUJARATI CHHU \"\n\nEmail : - tv9webdesk@gmail.com",
                        "count": 1
                      },
                      {
                        "name": "3 others",
                        "count": 3
                      }
                    ]
                  }
                },
                {
                  "name": "Location",
                  "dtype": "object",
                  "stats": {
                    "unique_count": 0,
                    "nan_count": 5,
                    "categories": [
                      {
                        "name": "Missing",
                        "count": 5
                      }
                    ]
                  }
                },
                {
                  "name": "Tags",
                  "dtype": "object",
                  "stats": {
                    "unique_count": 1,
                    "nan_count": 0,
                    "categories": [
                      {
                        "name": "",
                        "count": 5
                      }
                    ]
                  }
                },
                {
                  "name": "Latitude",
                  "dtype": "object",
                  "stats": {
                    "unique_count": 1,
                    "nan_count": 0,
                    "categories": [
                      {
                        "name": "",
                        "count": 5
                      }
                    ]
                  }
                },
                {
                  "name": "Longitude",
                  "dtype": "object",
                  "stats": {
                    "unique_count": 1,
                    "nan_count": 0,
                    "categories": [
                      {
                        "name": "",
                        "count": 5
                      }
                    ]
                  }
                },
                {
                  "name": "Transcript",
                  "dtype": "object",
                  "stats": {
                    "unique_count": 1,
                    "nan_count": 0,
                    "categories": [
                      {
                        "name": "NaN",
                        "count": 5
                      }
                    ]
                  }
                },
                {
                  "name": "_deepnote_index_column",
                  "dtype": "int64"
                }
              ],
              "rows_top": [
                {
                  "Topic": "landslide",
                  "Channel_Name": "The Tribune",
                  "TimeQueried": "2021-07-14T04:57:17.998203",
                  "Video_Title": "Dharamsala flash floods:10 persons missing in landslide presumed dead; 184 roads blocked in Himachal",
                  "Video_ID": "Ht6YmGsebdU",
                  "Published_At": "2021-07-13T09:39:59Z",
                  "duration": "PT2M53S",
                  "viewCount": "13275",
                  "likeCount": "",
                  "dislikeCount": "",
                  "favoriteCount": "",
                  "commentCount": "",
                  "Description": "Read story here: https://tinyurl.com/e2yvdscn\n#Dharamsala #FlashFloods #HimachalPradesh\nTen persons…",
                  "Location": "nan",
                  "Tags": "",
                  "Latitude": "",
                  "Longitude": "",
                  "Transcript": "NaN",
                  "_deepnote_index_column": 0
                },
                {
                  "Topic": "landslide",
                  "Channel_Name": "TV9 Gujarati",
                  "TimeQueried": "2021-07-14T04:57:18.069278",
                  "Video_Title": "Six houses swept away as landslide hits Himachal's Kangra district | TV9News",
                  "Video_ID": "8c8DOhJkIL8",
                  "Published_At": "2021-07-13T05:37:53Z",
                  "duration": "PT38S",
                  "viewCount": "3120",
                  "likeCount": "",
                  "dislikeCount": "",
                  "favoriteCount": "",
                  "commentCount": "",
                  "Description": "Six houses swept away as landslide hits Himachal's Kangra district | TV9News | D41\n\n#MonsoonNews #G…",
                  "Location": "nan",
                  "Tags": "",
                  "Latitude": "",
                  "Longitude": "",
                  "Transcript": "NaN",
                  "_deepnote_index_column": 1
                },
                {
                  "Topic": "landslide",
                  "Channel_Name": "TV9 Bharatvarsh",
                  "TimeQueried": "2021-07-14T04:57:18.125585",
                  "Video_Title": "पहाड़ों पर बरसी आसमानी आफत! Tehri में Landslide के बाद नाले में गिरी कार",
                  "Video_ID": "Mm_kCpnZPdg",
                  "Published_At": "2021-07-13T08:43:21Z",
                  "duration": "PT5M38S",
                  "viewCount": "5089",
                  "likeCount": "",
                  "dislikeCount": "",
                  "favoriteCount": "",
                  "commentCount": "",
                  "Description": "हिमाचल प्रदेश में लगातार बारिश हो रही है. कई इलाकों बाढ़ की स्थिति बन गई है. कही बारिश से लैंडस्लाइ…",
                  "Location": "nan",
                  "Tags": "",
                  "Latitude": "",
                  "Longitude": "",
                  "Transcript": "NaN",
                  "_deepnote_index_column": 2
                },
                {
                  "Topic": "landslide",
                  "Channel_Name": "Aaj Tak",
                  "TimeQueried": "2021-07-14T04:57:18.187915",
                  "Video_Title": "Monsoon Reach At Delhi-NCR I Rain Continue In Delhi I Landslide In Himachal And Uttarakhand",
                  "Video_ID": "Dgxdnq7QHmw",
                  "Published_At": "2021-07-13T05:21:31Z",
                  "duration": "PT21M1S",
                  "viewCount": "17595",
                  "likeCount": "",
                  "dislikeCount": "",
                  "favoriteCount": "",
                  "commentCount": "",
                  "Description": "आखिरकार Delhi-NCR में मानसून पहुंच ही गया. सुबह से ही राहत की बारिश हो रही है. तो वहीं कई इलाकों मे…",
                  "Location": "nan",
                  "Tags": "",
                  "Latitude": "",
                  "Longitude": "",
                  "Transcript": "NaN",
                  "_deepnote_index_column": 3
                },
                {
                  "Topic": "landslide",
                  "Channel_Name": "Oneindia Hindi | वनइंडिया हिन्दी",
                  "TimeQueried": "2021-07-14T04:57:18.239435",
                  "Video_Title": "Heavy Rain in Kangra: Himachal Pradesh के Boh में Landslide, 10 लोग लापता | वनइंडिया हिंदी",
                  "Video_ID": "6UGIhugiF5E",
                  "Published_At": "2021-07-13T09:30:00Z",
                  "duration": "PT3M4S",
                  "viewCount": "1813",
                  "likeCount": "",
                  "dislikeCount": "",
                  "favoriteCount": "",
                  "commentCount": "",
                  "Description": "Landslide occurred after heavy rains in Boh area of Shahpur in Kangra district of Himachal Pradesh.…",
                  "Location": "nan",
                  "Tags": "",
                  "Latitude": "",
                  "Longitude": "",
                  "Transcript": "NaN",
                  "_deepnote_index_column": 4
                }
              ],
              "rows_bottom": null
            },
            "text/plain": [
              "       Topic                      Channel_Name                TimeQueried  \\\n",
              "0  landslide                       The Tribune 2021-07-14 04:57:17.998203   \n",
              "1  landslide                      TV9 Gujarati 2021-07-14 04:57:18.069278   \n",
              "2  landslide                   TV9 Bharatvarsh 2021-07-14 04:57:18.125585   \n",
              "3  landslide                           Aaj Tak 2021-07-14 04:57:18.187915   \n",
              "4  landslide  Oneindia Hindi | वनइंडिया हिन्दी 2021-07-14 04:57:18.239435   \n",
              "\n",
              "                                         Video_Title     Video_ID  \\\n",
              "0  Dharamsala flash floods:10 persons missing in ...  Ht6YmGsebdU   \n",
              "1  Six houses swept away as landslide hits Himach...  8c8DOhJkIL8   \n",
              "2  पहाड़ों पर बरसी आसमानी आफत! Tehri में Landslid...  Mm_kCpnZPdg   \n",
              "3  Monsoon Reach At Delhi-NCR I Rain Continue In ...  Dgxdnq7QHmw   \n",
              "4  Heavy Rain in Kangra: Himachal Pradesh के Boh ...  6UGIhugiF5E   \n",
              "\n",
              "           Published_At duration viewCount likeCount dislikeCount  \\\n",
              "0  2021-07-13T09:39:59Z  PT2M53S     13275                          \n",
              "1  2021-07-13T05:37:53Z    PT38S      3120                          \n",
              "2  2021-07-13T08:43:21Z  PT5M38S      5089                          \n",
              "3  2021-07-13T05:21:31Z  PT21M1S     17595                          \n",
              "4  2021-07-13T09:30:00Z   PT3M4S      1813                          \n",
              "\n",
              "  favoriteCount commentCount  \\\n",
              "0                              \n",
              "1                              \n",
              "2                              \n",
              "3                              \n",
              "4                              \n",
              "\n",
              "                                         Description Location Tags Latitude  \\\n",
              "0  Read story here: https://tinyurl.com/e2yvdscn\\...      NaN                 \n",
              "1  Six houses swept away as landslide hits Himach...      NaN                 \n",
              "2  हिमाचल प्रदेश में लगातार बारिश हो रही है. कई इ...      NaN                 \n",
              "3  आखिरकार Delhi-NCR में मानसून पहुंच ही गया. सुब...      NaN                 \n",
              "4  Landslide occurred after heavy rains in Boh ar...      NaN                 \n",
              "\n",
              "  Longitude Transcript  \n",
              "0                  NaN  \n",
              "1                  NaN  \n",
              "2                  NaN  \n",
              "3                  NaN  \n",
              "4                  NaN  "
            ],
            "text/html": [
              "<div>\n",
              "<style scoped>\n",
              "    .dataframe tbody tr th:only-of-type {\n",
              "        vertical-align: middle;\n",
              "    }\n",
              "\n",
              "    .dataframe tbody tr th {\n",
              "        vertical-align: top;\n",
              "    }\n",
              "\n",
              "    .dataframe thead th {\n",
              "        text-align: right;\n",
              "    }\n",
              "</style>\n",
              "<table border=\"1\" class=\"dataframe\">\n",
              "  <thead>\n",
              "    <tr style=\"text-align: right;\">\n",
              "      <th></th>\n",
              "      <th>Topic</th>\n",
              "      <th>Channel_Name</th>\n",
              "      <th>TimeQueried</th>\n",
              "      <th>Video_Title</th>\n",
              "      <th>Video_ID</th>\n",
              "      <th>Published_At</th>\n",
              "      <th>duration</th>\n",
              "      <th>viewCount</th>\n",
              "      <th>likeCount</th>\n",
              "      <th>dislikeCount</th>\n",
              "      <th>favoriteCount</th>\n",
              "      <th>commentCount</th>\n",
              "      <th>Description</th>\n",
              "      <th>Location</th>\n",
              "      <th>Tags</th>\n",
              "      <th>Latitude</th>\n",
              "      <th>Longitude</th>\n",
              "      <th>Transcript</th>\n",
              "    </tr>\n",
              "  </thead>\n",
              "  <tbody>\n",
              "    <tr>\n",
              "      <th>0</th>\n",
              "      <td>landslide</td>\n",
              "      <td>The Tribune</td>\n",
              "      <td>2021-07-14 04:57:17.998203</td>\n",
              "      <td>Dharamsala flash floods:10 persons missing in ...</td>\n",
              "      <td>Ht6YmGsebdU</td>\n",
              "      <td>2021-07-13T09:39:59Z</td>\n",
              "      <td>PT2M53S</td>\n",
              "      <td>13275</td>\n",
              "      <td></td>\n",
              "      <td></td>\n",
              "      <td></td>\n",
              "      <td></td>\n",
              "      <td>Read story here: https://tinyurl.com/e2yvdscn\\...</td>\n",
              "      <td>NaN</td>\n",
              "      <td></td>\n",
              "      <td></td>\n",
              "      <td></td>\n",
              "      <td>NaN</td>\n",
              "    </tr>\n",
              "    <tr>\n",
              "      <th>1</th>\n",
              "      <td>landslide</td>\n",
              "      <td>TV9 Gujarati</td>\n",
              "      <td>2021-07-14 04:57:18.069278</td>\n",
              "      <td>Six houses swept away as landslide hits Himach...</td>\n",
              "      <td>8c8DOhJkIL8</td>\n",
              "      <td>2021-07-13T05:37:53Z</td>\n",
              "      <td>PT38S</td>\n",
              "      <td>3120</td>\n",
              "      <td></td>\n",
              "      <td></td>\n",
              "      <td></td>\n",
              "      <td></td>\n",
              "      <td>Six houses swept away as landslide hits Himach...</td>\n",
              "      <td>NaN</td>\n",
              "      <td></td>\n",
              "      <td></td>\n",
              "      <td></td>\n",
              "      <td>NaN</td>\n",
              "    </tr>\n",
              "    <tr>\n",
              "      <th>2</th>\n",
              "      <td>landslide</td>\n",
              "      <td>TV9 Bharatvarsh</td>\n",
              "      <td>2021-07-14 04:57:18.125585</td>\n",
              "      <td>पहाड़ों पर बरसी आसमानी आफत! Tehri में Landslid...</td>\n",
              "      <td>Mm_kCpnZPdg</td>\n",
              "      <td>2021-07-13T08:43:21Z</td>\n",
              "      <td>PT5M38S</td>\n",
              "      <td>5089</td>\n",
              "      <td></td>\n",
              "      <td></td>\n",
              "      <td></td>\n",
              "      <td></td>\n",
              "      <td>हिमाचल प्रदेश में लगातार बारिश हो रही है. कई इ...</td>\n",
              "      <td>NaN</td>\n",
              "      <td></td>\n",
              "      <td></td>\n",
              "      <td></td>\n",
              "      <td>NaN</td>\n",
              "    </tr>\n",
              "    <tr>\n",
              "      <th>3</th>\n",
              "      <td>landslide</td>\n",
              "      <td>Aaj Tak</td>\n",
              "      <td>2021-07-14 04:57:18.187915</td>\n",
              "      <td>Monsoon Reach At Delhi-NCR I Rain Continue In ...</td>\n",
              "      <td>Dgxdnq7QHmw</td>\n",
              "      <td>2021-07-13T05:21:31Z</td>\n",
              "      <td>PT21M1S</td>\n",
              "      <td>17595</td>\n",
              "      <td></td>\n",
              "      <td></td>\n",
              "      <td></td>\n",
              "      <td></td>\n",
              "      <td>आखिरकार Delhi-NCR में मानसून पहुंच ही गया. सुब...</td>\n",
              "      <td>NaN</td>\n",
              "      <td></td>\n",
              "      <td></td>\n",
              "      <td></td>\n",
              "      <td>NaN</td>\n",
              "    </tr>\n",
              "    <tr>\n",
              "      <th>4</th>\n",
              "      <td>landslide</td>\n",
              "      <td>Oneindia Hindi | वनइंडिया हिन्दी</td>\n",
              "      <td>2021-07-14 04:57:18.239435</td>\n",
              "      <td>Heavy Rain in Kangra: Himachal Pradesh के Boh ...</td>\n",
              "      <td>6UGIhugiF5E</td>\n",
              "      <td>2021-07-13T09:30:00Z</td>\n",
              "      <td>PT3M4S</td>\n",
              "      <td>1813</td>\n",
              "      <td></td>\n",
              "      <td></td>\n",
              "      <td></td>\n",
              "      <td></td>\n",
              "      <td>Landslide occurred after heavy rains in Boh ar...</td>\n",
              "      <td>NaN</td>\n",
              "      <td></td>\n",
              "      <td></td>\n",
              "      <td></td>\n",
              "      <td>NaN</td>\n",
              "    </tr>\n",
              "  </tbody>\n",
              "</table>\n",
              "</div>"
            ]
          },
          "metadata": {
            "tags": []
          },
          "execution_count": 24
        }
      ]
    },
    {
      "cell_type": "code",
      "metadata": {
        "id": "_3UDa6ZUSlHi",
        "cell_id": "00025-11a6f823-6cc2-4021-9906-99357fb690fd",
        "deepnote_to_be_reexecuted": false,
        "source_hash": "14dbfe44",
        "execution_start": 1626238757702,
        "execution_millis": 0,
        "deepnote_cell_type": "code"
      },
      "source": [
        "import datetime\n",
        "x = datetime.datetime.now()\n",
        "#print(x.strftime(\"%B%d\"))\n",
        "output_date = f'Youtube_General_{x.strftime(\"%B%d\")}.csv'"
      ],
      "execution_count": null,
      "outputs": []
    },
    {
      "cell_type": "code",
      "metadata": {
        "tags": [],
        "cell_id": "00030-43200c1d-f546-41ec-8e44-76b1423622e1",
        "deepnote_to_be_reexecuted": false,
        "source_hash": "b623e53d",
        "execution_start": 1626238757703,
        "execution_millis": 0,
        "deepnote_cell_type": "code",
        "id": "GcfKgy6xSEGe"
      },
      "source": [
        ""
      ],
      "execution_count": null,
      "outputs": []
    },
    {
      "cell_type": "code",
      "metadata": {
        "id": "3jBW1-9xjIGa",
        "colab": {
          "base_uri": "https://localhost:8080/"
        },
        "cell_id": "00026-d7c24d09-0dc3-4b5a-b159-948ce047a9c5",
        "deepnote_to_be_reexecuted": false,
        "source_hash": "cd27fc02",
        "execution_start": 1626238757704,
        "execution_millis": 2411,
        "deepnote_cell_type": "code",
        "outputId": "f1799479-c648-4b9c-eb0f-e241de6176e7"
      },
      "source": [
        "ddf2.to_csv(f'/datasets/outputyoutube/Landslide_Project/{output_date}')\n",
        "print(\"The final youtube data is saved as : \"+output_date)"
      ],
      "execution_count": null,
      "outputs": [
        {
          "output_type": "stream",
          "text": [
            "The final youtube data is saved as : Youtube_General_July14.csv\n"
          ],
          "name": "stdout"
        }
      ]
    },
    {
      "cell_type": "code",
      "metadata": {
        "tags": [],
        "cell_id": "00032-63afb724-c41a-4be3-aa9a-dbd6043261c8",
        "deepnote_to_be_reexecuted": false,
        "source_hash": "e3f75b5",
        "execution_start": 1626238760117,
        "execution_millis": 594,
        "deepnote_cell_type": "code",
        "id": "DTEZBQbgSEGe",
        "outputId": "a93308e4-276f-473f-9d9a-049e0a468ab6"
      },
      "source": [
        "!ls /datasets/outputyoutube/Landslide_Project"
      ],
      "execution_count": null,
      "outputs": [
        {
          "output_type": "stream",
          "text": [
            "Cleaning_Clustering_Youtube_Landslide_Prediction.ipynb\r\n",
            "config_.json\r\n",
            "India_Locations_Villages\r\n",
            "Scraping_Youtube_Twitter.ipynb\r\n",
            "Twitter_General_July01.csv\r\n",
            "Twitter_General_July02.csv\r\n",
            "Twitter_General_July03.csv\r\n",
            "Twitter_General_July04.csv\r\n",
            "Twitter_General_July05.csv\r\n",
            "Twitter_General_July06.csv\r\n",
            "Twitter_General_July07.csv\r\n",
            "Twitter_General_July08.csv\r\n",
            "Twitter_General_July09.csv\r\n",
            "Twitter_General_June13.csv\r\n",
            "Twitter_General_June15.csv\r\n",
            "Twitter_General_June16.csv\r\n",
            "Twitter_General_June17.csv\r\n",
            "Twitter_General_June18.csv\r\n",
            "Twitter_General_June19.csv\r\n",
            "Twitter_General_June20.csv\r\n",
            "Twitter_General_June21.csv\r\n",
            "Twitter_General_June22.csv\r\n",
            "Twitter_General_June23.csv\r\n",
            "Twitter_General_June24.csv\r\n",
            "Twitter_General_June25.csv\r\n",
            "Twitter_General_June26.csv\r\n",
            "Twitter_General_June27.csv\r\n",
            "Twitter_General_June28.csv\r\n",
            "Twitter_General_June29.csv\r\n",
            "Twitter_General_June30.csv\r\n",
            "YouTube\r\n",
            "Youtube_General_July01.csv\r\n",
            "Youtube_General_July02.csv\r\n",
            "Youtube_General_July03.csv\r\n",
            "Youtube_General_July04.csv\r\n",
            "Youtube_General_July05.csv\r\n",
            "Youtube_General_July06.csv\r\n",
            "Youtube_General_July07.csv\r\n",
            "Youtube_General_July08.csv\r\n",
            "Youtube_General_July09.csv\r\n",
            "Youtube_General_July13.csv\r\n",
            "Youtube_General_July14.csv\r\n",
            "Youtube_General_June11.csv\r\n",
            "Youtube_General_June12.csv\r\n",
            "Youtube_General_June15.csv\r\n",
            "Youtube_General_June16.csv\r\n",
            "Youtube_General_June17.csv\r\n",
            "Youtube_General_June18.csv\r\n",
            "Youtube_General_June19.csv\r\n",
            "Youtube_General_June20.csv\r\n",
            "Youtube_General_June21.csv\r\n",
            "Youtube_General_June22.csv\r\n",
            "Youtube_General_June23.csv\r\n",
            "Youtube_General_June24.csv\r\n",
            "Youtube_General_June25.csv\r\n",
            "Youtube_General_June26.csv\r\n",
            "Youtube_General_June27.csv\r\n",
            "Youtube_General_June28.csv\r\n",
            "Youtube_General_June29.csv\r\n",
            "Youtube_General_June30.csv\r\n",
            "youtube_jun3.csv\r\n",
            "Youtube_June7.csv\r\n"
          ],
          "name": "stdout"
        }
      ]
    },
    {
      "cell_type": "markdown",
      "metadata": {
        "id": "tepIZ_CTZKFG",
        "cell_id": "00028-1e76ecd0-9b3c-4da9-9a6d-0a9e9d19ec59",
        "deepnote_cell_type": "markdown"
      },
      "source": [
        "## Focused Crawling"
      ]
    },
    {
      "cell_type": "markdown",
      "metadata": {
        "id": "YQ5Arb33aqC-"
      },
      "source": [
        "This is just an example of focused crawling"
      ]
    },
    {
      "cell_type": "code",
      "metadata": {
        "colab": {
          "base_uri": "https://localhost:8080/"
        },
        "id": "mIBTliuXZ6O5",
        "cell_id": "00029-306b45c0-d025-4a70-b256-d1f879c70557",
        "deepnote_to_be_reexecuted": false,
        "source_hash": "e6af5302",
        "execution_start": 1626238760743,
        "execution_millis": 61,
        "deepnote_cell_type": "code",
        "outputId": "d304e51c-5d16-4a41-ed3d-571c3485a6e1"
      },
      "source": [
        "foc_keywords =json_object[\"Focused-Crawling\"][\"Specific-Keywords\"]\n",
        "foc_Keywords=list(foc_keywords)[0]\n",
        "keys = f\"{foc_Keywords}\"\n",
        "foc_keywords=foc_Keywords.split(',')\n",
        "foc_keywords"
      ],
      "execution_count": null,
      "outputs": [
        {
          "output_type": "execute_result",
          "data": {
            "text/plain": [
              "['southern-monsoon', 'flood', 'rockfall']"
            ]
          },
          "metadata": {
            "tags": []
          },
          "execution_count": 28
        }
      ]
    },
    {
      "cell_type": "code",
      "metadata": {
        "id": "22FiOEAEZ8Y_",
        "cell_id": "00030-ba4d6446-6f83-4dac-9c42-f7d213718eb8",
        "deepnote_to_be_reexecuted": false,
        "source_hash": "4845953d",
        "execution_start": 1626238760745,
        "execution_millis": 4,
        "deepnote_cell_type": "code"
      },
      "source": [
        "published_After =json_object['Focused-Crawling']['Specific-Keywords'][keys]['Start_Datetime']"
      ],
      "execution_count": null,
      "outputs": []
    },
    {
      "cell_type": "code",
      "metadata": {
        "id": "tewQawSuZOOX",
        "cell_id": "00031-49c8550a-b7ec-48f7-998c-b8c6be84486c",
        "deepnote_to_be_reexecuted": false,
        "source_hash": "6ab58234",
        "execution_start": 1626238760780,
        "execution_millis": 75566,
        "deepnote_cell_type": "code"
      },
      "source": [
        "column_names=[\"Topic\", \"Channel_Name\" ,\"TimeQueried\", \"Video_Title\", \"Video_ID\", \"Published_At\", \"duration\", \"viewCount\", \"likeCount\", \"dislikeCount\",\n",
        "      \"favoriteCount\",\"commentCount\", \"Description\",\"Location\",\"Tags\",\"latitude\",\"longitude\"]\n",
        "df_youtube_focused=pd.DataFrame(columns=column_names)\n",
        "textlist_foc=[]\n",
        "for Query in foc_keywords:\n",
        "  videos=[]\n",
        "  next_page_token = None\n",
        "  while 1:\n",
        "    search_response = youtube.search().list(q=Query,type=\"video\", part=\"id,snippet\", maxResults=100,regionCode=\"IN\",order=\"relevance\",publishedAfter=published_After).execute() \n",
        "    videos+=search_response['items']\n",
        "    #next_page_token = search_response.get('nextPageToken')\n",
        "    #print(next_page_token)\n",
        "    if next_page_token is None:\n",
        "            break\n",
        "  count=0\n",
        "  video_ids=[]\n",
        "  for video in videos:\n",
        "      video_ids.append(video['id']['videoId'])\n",
        "      count=count+1\n",
        "  count \n",
        "  #text_df = pd.DataFrame(textlist,columns=[\"Transcript\"])\n",
        "  for video_id in video_ids:\n",
        "      templist=[]\n",
        "      try:\n",
        "        responses = YouTubeTranscriptApi.get_transcript(\n",
        "            video_id, languages=['en'])\n",
        "        #responses2=responses.get_transcript\n",
        "        for response in responses:\n",
        "            text = response['text']\n",
        "            templist.append(text)\n",
        "        textlist_foc.append(templist)\n",
        "      except Exception as e:\n",
        "        textlist_foc.append(\"NaN\") # Generally when transcript are not available or too many requests are there\n",
        "\n",
        "  for k in range(len(video_ids)):\n",
        "    request = youtube.videos().list(\n",
        "            part=\"statistics,contentDetails,snippet,status,recordingDetails\",\n",
        "            id=video_ids[k]\n",
        "        )\n",
        "    response = request.execute()\n",
        "    try:\n",
        "        df_youtube_focused = df_youtube_focused.append({\"Topic\":Query,\"Channel_Name\":response[\"items\"][0][\"snippet\"][\"channelTitle\"],\"TimeQueried\":dt.datetime.now(), \"Video_Title\":response[\"items\"][0][\"snippet\"][\"title\"], \"Video_ID\":response[\"items\"][0][\"id\"], \"Published_At\":response[\"items\"][0][\"snippet\"][\"publishedAt\"], \"duration\":response[\"items\"][0][\"contentDetails\"][\"duration\"], \"viewCount\":response[\"items\"][0][\"statistics\"][\"viewCount\"], \"likeCount\":response[\"items\"][0][\"statistics\"][\"likeCount\"], \"dislikeCount\":response[\"items\"][0][\"statistics\"][\"dislikeCount\"],\"favoriteCount\":response[\"items\"][0][\"statistics\"][\"favoriteCount\"],\"commentCount\":response[\"items\"][0][\"statistics\"][\"commentCount\"], \"Description\":response[\"items\"][0][\"snippet\"][\"description\"],\"Location\": response[\"items\"][0][\"recordingDetails\"][\"location\"],\"Tags\":response[\"items\"][0][\"snippet\"]['tags'][0:10],\"Latitude\":response[\"items\"][0][\"recordingDetails\"]['location']['latitude'],\"Longitude\":response[\"items\"][0][\"recordingDetails\"]['location']['longitude']},ignore_index = True)\n",
        "    except:\n",
        "        df_youtube_focused = df_youtube_focused.append({\"Topic\":Query,\"Channel_Name\":response[\"items\"][0][\"snippet\"][\"channelTitle\"] ,\"TimeQueried\":dt.datetime.now(), \"Video_Title\":response[\"items\"][0][\"snippet\"][\"title\"], \"Video_ID\":response[\"items\"][0][\"id\"], \"Published_At\":response[\"items\"][0][\"snippet\"][\"publishedAt\"], \"duration\":response[\"items\"][0][\"contentDetails\"][\"duration\"], \"viewCount\":response[\"items\"][0][\"statistics\"][\"viewCount\"], \"likeCount\":\"\", \"dislikeCount\":\"\",\"favoriteCount\":response[\"items\"][0][\"statistics\"][\"favoriteCount\"],\"commentCount\":\"\", \"Description\":response[\"items\"][0][\"snippet\"][\"description\"],\"Tags\":\"\",\"Latitude\":\"\",\"Longitude\":\"\"},ignore_index = True)\n"
      ],
      "execution_count": null,
      "outputs": []
    },
    {
      "cell_type": "code",
      "metadata": {
        "id": "iX2gAEQCZ6Rz",
        "cell_id": "00032-f85648ab-eb26-4096-95a1-1bdffe03352e",
        "deepnote_to_be_reexecuted": false,
        "source_hash": "e4824538",
        "execution_start": 1626238836346,
        "execution_millis": 1,
        "deepnote_cell_type": "code"
      },
      "source": [
        "text_df_foc = pd.DataFrame()\n",
        "text_df_foc[\"Transcript\"] = textlist_foc"
      ],
      "execution_count": null,
      "outputs": []
    },
    {
      "cell_type": "code",
      "metadata": {
        "id": "YRYTkaG2Z6UP",
        "cell_id": "00033-6e30eec8-7a0f-4d81-a42e-8e4bf4215aeb",
        "deepnote_to_be_reexecuted": false,
        "source_hash": "2d52b7e1",
        "execution_start": 1626238836347,
        "execution_millis": 1,
        "deepnote_cell_type": "code"
      },
      "source": [
        "df_youtube_focused = pd.concat([df_youtube_focused,text_df_foc],axis=1,ignore_index=False,join=\"outer\")"
      ],
      "execution_count": null,
      "outputs": []
    },
    {
      "cell_type": "code",
      "metadata": {
        "id": "sOI_8Os6Z6XZ",
        "cell_id": "00034-b886bc22-acd2-484f-8b65-4a6b4b2a713a",
        "deepnote_to_be_reexecuted": false,
        "source_hash": "f98a0e13",
        "execution_start": 1626238836348,
        "execution_millis": 2,
        "deepnote_cell_type": "code"
      },
      "source": [
        "df_youtube_focused=df_youtube_focused.drop_duplicates(subset=['Video_ID',\n",
        "                                  'Video_Title'])"
      ],
      "execution_count": null,
      "outputs": []
    },
    {
      "cell_type": "code",
      "metadata": {
        "id": "1L27fmmsd82f",
        "cell_id": "00035-02a7fa9c-0ee3-40fa-832e-e9dece82fd3c",
        "deepnote_to_be_reexecuted": false,
        "source_hash": "3f9fe525",
        "execution_start": 1626238836356,
        "execution_millis": 106,
        "deepnote_cell_type": "code",
        "outputId": "272abecb-1984-4dec-dcc6-f302ec14be4e"
      },
      "source": [
        "df_youtube_focused.head()"
      ],
      "execution_count": null,
      "outputs": [
        {
          "output_type": "execute_result",
          "data": {
            "application/vnd.deepnote.dataframe.v2+json": {
              "row_count": 5,
              "column_count": 20,
              "columns": [
                {
                  "name": "Topic",
                  "dtype": "object",
                  "stats": {
                    "unique_count": 1,
                    "nan_count": 0,
                    "categories": [
                      {
                        "name": "southern-monsoon",
                        "count": 5
                      }
                    ]
                  }
                },
                {
                  "name": "Channel_Name",
                  "dtype": "object",
                  "stats": {
                    "unique_count": 5,
                    "nan_count": 0,
                    "categories": [
                      {
                        "name": "PADMASUTRA",
                        "count": 1
                      },
                      {
                        "name": "City Prepping",
                        "count": 1
                      },
                      {
                        "name": "3 others",
                        "count": 3
                      }
                    ]
                  }
                },
                {
                  "name": "TimeQueried",
                  "dtype": "datetime64[ns]",
                  "stats": {
                    "unique_count": 5,
                    "nan_count": 0,
                    "min": "2021-07-14 04:59:45.261767",
                    "max": "2021-07-14 04:59:45.456914",
                    "histogram": [
                      {
                        "bin_start": 1626238785261767000,
                        "bin_end": 1626238785281281500,
                        "count": 1
                      },
                      {
                        "bin_start": 1626238785281281500,
                        "bin_end": 1626238785300796400,
                        "count": 0
                      },
                      {
                        "bin_start": 1626238785300796400,
                        "bin_end": 1626238785320311000,
                        "count": 0
                      },
                      {
                        "bin_start": 1626238785320311000,
                        "bin_end": 1626238785339825700,
                        "count": 0
                      },
                      {
                        "bin_start": 1626238785339825700,
                        "bin_end": 1626238785359340500,
                        "count": 0
                      },
                      {
                        "bin_start": 1626238785359340500,
                        "bin_end": 1626238785378855200,
                        "count": 1
                      },
                      {
                        "bin_start": 1626238785378855200,
                        "bin_end": 1626238785398369800,
                        "count": 1
                      },
                      {
                        "bin_start": 1626238785398369800,
                        "bin_end": 1626238785417884400,
                        "count": 0
                      },
                      {
                        "bin_start": 1626238785417884400,
                        "bin_end": 1626238785437399300,
                        "count": 1
                      },
                      {
                        "bin_start": 1626238785437399300,
                        "bin_end": 1626238785456914000,
                        "count": 1
                      }
                    ]
                  }
                },
                {
                  "name": "Video_Title",
                  "dtype": "object",
                  "stats": {
                    "unique_count": 5,
                    "nan_count": 0,
                    "categories": [
                      {
                        "name": "കർക്കിടകത്തിൽ രണ്ടാഴ്ച ചെയ്യേണ്ട ദേഹരക്ഷ!Ayurveda monsoon treatment at home 2021|Ayurveda Doctor",
                        "count": 1
                      },
                      {
                        "name": "Massive Heat Waves: Expect Even Worse (And What to Do)",
                        "count": 1
                      },
                      {
                        "name": "3 others",
                        "count": 3
                      }
                    ]
                  }
                },
                {
                  "name": "Video_ID",
                  "dtype": "object",
                  "stats": {
                    "unique_count": 5,
                    "nan_count": 0,
                    "categories": [
                      {
                        "name": "LrFb_M3aydY",
                        "count": 1
                      },
                      {
                        "name": "YerhC3e8Qyc",
                        "count": 1
                      },
                      {
                        "name": "3 others",
                        "count": 3
                      }
                    ]
                  }
                },
                {
                  "name": "Published_At",
                  "dtype": "object",
                  "stats": {
                    "unique_count": 5,
                    "nan_count": 0,
                    "categories": [
                      {
                        "name": "2021-07-03T09:06:09Z",
                        "count": 1
                      },
                      {
                        "name": "2021-07-11T16:27:02Z",
                        "count": 1
                      },
                      {
                        "name": "3 others",
                        "count": 3
                      }
                    ]
                  }
                },
                {
                  "name": "duration",
                  "dtype": "object",
                  "stats": {
                    "unique_count": 5,
                    "nan_count": 0,
                    "categories": [
                      {
                        "name": "PT14M38S",
                        "count": 1
                      },
                      {
                        "name": "PT18M7S",
                        "count": 1
                      },
                      {
                        "name": "3 others",
                        "count": 3
                      }
                    ]
                  }
                },
                {
                  "name": "viewCount",
                  "dtype": "object",
                  "stats": {
                    "unique_count": 5,
                    "nan_count": 0,
                    "categories": [
                      {
                        "name": "6680",
                        "count": 1
                      },
                      {
                        "name": "68492",
                        "count": 1
                      },
                      {
                        "name": "3 others",
                        "count": 3
                      }
                    ]
                  }
                },
                {
                  "name": "likeCount",
                  "dtype": "object",
                  "stats": {
                    "unique_count": 3,
                    "nan_count": 0,
                    "categories": [
                      {
                        "name": "",
                        "count": 3
                      },
                      {
                        "name": "347",
                        "count": 1
                      },
                      {
                        "name": "3108",
                        "count": 1
                      }
                    ]
                  }
                },
                {
                  "name": "dislikeCount",
                  "dtype": "object",
                  "stats": {
                    "unique_count": 3,
                    "nan_count": 0,
                    "categories": [
                      {
                        "name": "",
                        "count": 3
                      },
                      {
                        "name": "6",
                        "count": 1
                      },
                      {
                        "name": "32",
                        "count": 1
                      }
                    ]
                  }
                },
                {
                  "name": "favoriteCount",
                  "dtype": "object",
                  "stats": {
                    "unique_count": 1,
                    "nan_count": 0,
                    "categories": [
                      {
                        "name": "0",
                        "count": 5
                      }
                    ]
                  }
                },
                {
                  "name": "commentCount",
                  "dtype": "object",
                  "stats": {
                    "unique_count": 3,
                    "nan_count": 0,
                    "categories": [
                      {
                        "name": "",
                        "count": 3
                      },
                      {
                        "name": "117",
                        "count": 1
                      },
                      {
                        "name": "257",
                        "count": 1
                      }
                    ]
                  }
                },
                {
                  "name": "Description",
                  "dtype": "object",
                  "stats": {
                    "unique_count": 5,
                    "nan_count": 0,
                    "categories": [
                      {
                        "name": "Karkidakam (month of Aashada/Aadi) is the month when monsoon hits hard  on the southern coast of India. For Keralites, this is the month of hardships, diseases and hunger. The cold, rainy and humid atmosphere is conducive to the escalation of Vata dosha. Therefore, it is advised to stick to a stringent, yet revitalizing Ayurveda wellness regimen to fight infirmities, increase the natural immunity of the body and to regain the vigor and vitality. This video describes the Ayurvedic regimen one is advised to observe during the month  of Karkidakam. The preparation of the famed marunnu kanji (medicinal porridge), the Ayurvedic formulations to be taken throughout the month and essential Ayurveda routines such as Nasyam, virechanam are also described.\n\n1.Skin brightening body massage oil:\nhttps://youtu.be/IiOq7Y2DUkU\n\n2.Karkkidakam special series 2020: https://www.youtube.com/playlist?list=PLi2OW1Qc7TOnaoEg9e-cSvdmmEJTIZCtY\n\n\nReach me at: draparnasooraj@gmail.com\n\nFind me on Instagram: padamsutra_ayurveda\n\n#karkidakachikitsa2021 #karkidakakanji #padmasutra\n\nDisclaimer: This video is intended for informational purposes only. This is not a substitute for direct consultation with a medical practitioner. Use your best discretion before using any medicines. Avoid self-medication.",
                        "count": 1
                      },
                      {
                        "name": "Record-setting heat waves are increasing in frequency.  As a result, a cascade of environmental challenges are playing out in front of us.  What can we even do?  Sign up at https://bit.ly/34futCW to get member-specific content in our weekly newsletter.\n\nDISCLAIMER: This video description contains affiliate links, which means that if you click on one of the product links, I’ll receive a small commission. This helps supports my channel and allows me to continue making videos. Thank you for your support! \n\nSupport the channel by clicking here before you start shopping on Amazon: http://amzn.to/2vbNo1l (heck, even bookmark it for future use if you're feeling extra generous). \n\nFollow me on: \nInstagram - https://www.instagram.com/cityprepping\nFacebook - https://www.facebook.com/cityprepping \nTwitter - https://twitter.com/cityprepping \nVisit online - http://www.cityprepping.com",
                        "count": 1
                      },
                      {
                        "name": "3 others",
                        "count": 3
                      }
                    ]
                  }
                },
                {
                  "name": "Location",
                  "dtype": "object",
                  "stats": {
                    "unique_count": 5,
                    "nan_count": 3,
                    "categories": [
                      {
                        "name": "{'latitude': 51.5073509, 'longitude': -0.1277583, 'altitude': 0}",
                        "count": 1
                      },
                      {
                        "name": "{'latitude': 31.828458, 'longitude': -109.949686, 'altitude': 0}",
                        "count": 1
                      },
                      {
                        "name": "Missing",
                        "count": 3
                      }
                    ]
                  }
                },
                {
                  "name": "Tags",
                  "dtype": "object",
                  "stats": {
                    "unique_count": 5,
                    "nan_count": 0,
                    "categories": [
                      {
                        "name": "",
                        "count": 3
                      },
                      {
                        "name": "['#karkkidakam', '#karkkidakakanji', '#karkkidakamrashi2021malayalam', '#marunnukanji', '#karkkidakamarunnumalayalam', 'കര്\\u200dക്കിടകം', 'കര്\\u200dക്കിടകചികില്\\u200dസ', 'കര്\\u200dക്കിടകഔഷധക്കഞ്ഞി', 'ഔഷധക്കഞ്ഞി', 'ആയുര്\\u200dവേദം']",
                        "count": 1
                      },
                      {
                        "name": "['green dream project', 'green dream', 'gdp', 'off grid', 'offgrid', 'off the grid', 'off-grid', 'rainwater harvesting', 'rain water harvesting']",
                        "count": 1
                      }
                    ]
                  }
                },
                {
                  "name": "latitude",
                  "dtype": "object",
                  "stats": {
                    "unique_count": 0,
                    "nan_count": 5,
                    "categories": [
                      {
                        "name": "Missing",
                        "count": 5
                      }
                    ]
                  }
                },
                {
                  "name": "longitude",
                  "dtype": "object",
                  "stats": {
                    "unique_count": 0,
                    "nan_count": 5,
                    "categories": [
                      {
                        "name": "Missing",
                        "count": 5
                      }
                    ]
                  }
                },
                {
                  "name": "Latitude",
                  "dtype": "object",
                  "stats": {
                    "unique_count": 3,
                    "nan_count": 0,
                    "categories": [
                      {
                        "name": "",
                        "count": 3
                      },
                      {
                        "name": "51.5073509",
                        "count": 1
                      },
                      {
                        "name": "31.828458",
                        "count": 1
                      }
                    ]
                  }
                },
                {
                  "name": "Longitude",
                  "dtype": "object",
                  "stats": {
                    "unique_count": 3,
                    "nan_count": 0,
                    "categories": [
                      {
                        "name": "",
                        "count": 3
                      },
                      {
                        "name": "-0.1277583",
                        "count": 1
                      },
                      {
                        "name": "-109.949686",
                        "count": 1
                      }
                    ]
                  }
                },
                {
                  "name": "Transcript",
                  "dtype": "object",
                  "stats": {
                    "unique_count": 5,
                    "nan_count": 0,
                    "categories": [
                      {
                        "name": "['[Music]', 'foreign', 'foreign', 'foreign', 'um', 'foreign', 'foreign', 'foreign', 'foreign', 'foreign', 'um', 'i']",
                        "count": 1
                      },
                      {
                        "name": "['heat waves droughts not seen in', 'centuries crop failures hunger', 'mass migrations rising sea levels', 'wildfires', 'floods storm surges mudslides and over', '16 000', 'new animals added to the endangered', 'species list', 'there is no refuting that the earth is', 'undergoing a dramatic period of change', 'that will render some areas unlivable', 'hundreds are dead from the recent', 'pacific northwest heat wave', 'one of the dueling heat waves scorching', 'north america deserts will bloom and', 'grasslands will turn to dust', 'at the most conservative of estimates', 'sea levels will rise almost a foot', 'in the next 30 years that will have a', 'devastating impact far beyond coastal', 'regions', 'oceans will wash further and further on', 'the land and storm surges will bring an', 'abundance', 'of rain suddenly to sun scorched and sun', 'compacted lands', 'it may sound like a plot of an action', 'thriller movie and for some', \"it may play out that way we don't always\", 'see how extensive this environmental', \"change is because it's not always\", 'viewable out of our windows', 'many will dismiss this freak once in a', 'lifetime storm that hits their hometown', 'as just that', \"once in a lifetime they're only slightly\", 'more perplexed the following year when', 'it happens again', 'then when it happens for a third year in', 'a row they have to choose between', 'clinging to their beliefs', 'or accepting that a more significant', 'ecological threat', \"confronts them by then they're far\", 'behind the curve on getting prepared', 'humans are very good at psychologically', 'distancing themselves from things that', 'matter in the future but not now', \"the myths that it won't affect you and\", \"there's nothing you can do will\", 'eventually give way to the accelerating', 'reality of more heat waves', 'floods fires storms and more can you', \"prepare for earth's environmental change\", 'that will affect you but will more', 'dramatically affect your children', 'and their children please consider', 'subscribing to our newsletter by', 'clicking on the link in the description', 'and comment section below', 'if you enjoyed this video please', 'subscribe and click the like button to', 'help the channel grow', 'no matter where you live chicago seems', 'far enough removed from the coastal', 'threats of oceans rising', 'but it is engaged in a similar struggle', \"it doesn't sit in the path of hurricanes\", \"and it doesn't suffer from wildfires\", 'like in the west', \"however there's no drought there as the\", 'last five years have been wetter than', 'any decade on record', 'areas along the banks of lake michigan', 'have frequently flooded', 'however increased evaporation has also', 'caused water levels to drop', 'significantly', \"there's an oscillating pattern of\", 'extremely high and low', 'levels as bad as flooding is the', 'evaporation rates threaten to lower', 'michigan levels so much that they could', 'cease to flow into the chicago river', 'the river would then backflow into the', 'lake the river carries in fresh water to', 'the city and carries off wastewater', 'chicago is just one example the pacific', 'northwest is ill-equipped to handle hot', 'weather', 'the houses are built to withstand cold', 'and rain but not heat', \"most solar homes don't even have any\", 'form of air conditioning', \"it's of little surprise that hundreds\", 'died in this last heat wave', 'and this previous heat wave will have a', 'devastating and lasting effect', 'on wildlife and plant life native plants', 'are flowering too early', 'and old growth trees are dying off if', 'the heat waves persist or occur with', 'increasing regularity', 'the whole ecology of an area can be', 'altered this is especially difficult for', 'farmers who grow crops ideal for a', 'specific climate', 'when that climate is too extreme crops', 'fell or produce lower yields', 'this has a rippling effect across a food', 'supply chain', 'and it leads to significant shortages', 'anywhere that crop', 'is used or is eaten those ripples extend', 'out to wherever you may be', 'in whatever safe corner of the earth you', \"are i'll explore this and how our narrow\", 'range of variations', 'is a recipe for disaster with this', 'extreme weather a little later in this', 'video', \"but it's essential to understand how\", 'far-ranging these weather patterns are', 'heat everywhere in february a jet stream', 'of sahara dust brought a winter heat', 'wave to europe', 'historic temperatures and droughts are', 'scorching the entire western states of', 'the u.s', 'the arctic circle including russia', 'canada greenland', 'and the united states hit records of', '31.9 degrees celsius', '89.4 degrees fahrenheit in june heat', 'waves were experienced across the great', 'plains of canadian prairies', 'death valley california recorded a', 'record-breaking', '128 degrees fahrenheit 53.3 degrees', 'celsius', 'from the pacific northwest throughout', 'mexico and the southwestern united', 'states', 'even nova scotia in the east coast of', 'the united states are suffering from', 'dueling heat waves', 'ice melting and greater evaporation led', 'to more significant moisture in the air', 'leading to more incredible storms when', 'the rain does come', 'when the rain comes to parched dried and', 'compacted land', \"it doesn't stay put so both more\", 'significant storms and flood surges are', 'possible for many', 'the current heat induced trout creates', 'another problem for many', 'that is wildfires colorado had the three', \"largest fires in the state's history\", 'just last year california suffered from', 'multiple wildfires', 'more european countries suffered from', 'large forest fires in 2018', 'than ever before and sweden experienced', 'the worst fire season in reporting', 'history', 'canada is fighting more than 180', 'wildfires right now', 'and most homes and structures in the', 'village of litton were destroyed after a', 'fast-moving fire suddenly tore', 'through the community forcing more than', '1 000 people to flee', 'some of these fires are sparked by', 'downed power lines some are man-made', 'some are induced by lightning strikes', 'the causes vary but the conditions', 'the dry tinder and scorching', 'temperatures that create the perfect', 'fuel for the wildfires', 'have been building for years this', 'current heat wave may seem new because', 'we feel the effects so acutely right now', 'but it has been ongoing it stretches', 'across several years and shows no', 'accurate indication of letting up any', 'time', 'soon the wildfire that devastated the', 'western canadian village of linton', 'canada in july was preceded by heatwave', 'in june', 'which has exceeded the all-time high', 'temperatures ever recorded in canada', 'while the northern hemisphere burns the', 'southern hemisphere freezes', 'parts of europe suffered through both', 'the record heat waves and a cold', 'wave in february february brought a cold', 'wave to the central regions of most of', 'north america as well', 'unreasonably cold weather resulted in', 'heavy snow to widespread areas of china', 'even the middle east as they experienced', 'their winter', 'it is a brutally cold winter next up for', 'the northern hemisphere', 'and will it bring new record cold or', 'record snowfall and much', 'needed precipitation if the heat and', 'drought suddenly reverse and fall', 'as they may very well do the western and', 'southern united states', 'should be bracing for monsoon conditions', 'over the last several years', 'there has been a significant weakening', 'of the polar vortex unleashing blasts of', 'freezing cold air into the united states', 'this has destabilized the jet stream and', 'cause it to slow', 'the result is that these patterns of', 'extreme heat just sitting in place for', 'an extended period of time', 'they slow even stall in place if the', \"heat waves don't reverse and persist\", 'even', 'slightly through the northern hemisphere', 'winter months we will see mild', 'temperatures intermittent with freezing', 'temperatures', 'with little moisture this will lead to a', 'cold but dry winter', \"next year's heat waves and drought will\", 'be exponentially more extreme', 'infrastructure failures lake meads', 'levels have dropped and that impairs', \"hoover dam's ability to produce\", 'hydroelectric power', 'one of the largest hydropower plants in', 'the united states is producing', '33 percent less energy due to the', 'drought strangling the western united', 'states', 'at the same time record high', 'temperatures are creating greater', 'consumer demand for cooling needs', \"it's not just the one energy producer\", \"though the oroville dam's water levels\", 'may get so low this summer that the', 'power plant there will have to go online', 'completely', 'high winds and brutally dry conditions', 'spark wildfires', 'enrolling blackouts as an aging', 'electrical grid is forced to transform', 'itself', 'to keep pace with a rapidly changing', 'climate', 'these problems did not exist to this', 'extent 40 years ago', 'and demand was much lower then we', 'witnessed the effect of extreme cold', 'weather in texas this year', 'as electricity producers went offline', 'freezing pipes resulted in wide-scale', 'failures in the water delivery system', 'gas stations were depleted and unable to', 'be replenished which left many without', 'fuel for generators', 'extreme weather events often exceed', 'infrastructure capacities', 'and design standards and initiate', 'infrastructure hardware and', 'institutional failures', 'which can cascade to service outages why', 'would a company invest', 'in winterizing power plants against a', 'significant cold for an extended period', 'so we have the texas power failure heat', 'and demand can cause power lines as sag', 'and can result in blackouts', 'higher than average and persistent winds', 'can force companies to shut down to', 'prevent possible wildfires', 'infrastructure systems are increasingly', 'interdependent upon each other', 'when the power goes out so do the pumps', 'for the fuel municipal water and sewers', 'the bottom line is extreme weather', 'oscillations of temperatures from highs', 'to lows', 'and irregular patterns can directly lead', 'to interdependent infrastructure', 'failures', 'these minor and major grid down', 'situations have a cascading effect', 'across supply and food chains', 'monoculture', 'the downfall of the food supply during', 'weather extremes', 'food shortages are just one looming', 'disaster that environmental change will', 'bring', 'monoculture is agricultural practice of', 'growing a single crop', 'plant or livestock species variety or', 'breed in a field or farming system at a', 'time', 'polyculture is where more than one crop', 'or livestock species are grown in the', 'same place', 'the term monoculture also extends out to', 'genetic monocultures', 'when failures occur along a genetic', 'monoculture', 'whole cultures are affected the', 'exclusive use of just one variety of', 'potatoes in ireland', 'led to the great famine of 1845-1849', 'and led to one of the greatest mass', 'exodus from a single island in history', 'you may not remember the grass michelle', 'cultivar of banana', 'it was favored before the 1950s for its', 'tastes and tiny seeds', 'but it was also planted asexually', 'through cuttings it had a singular', 'genetic', 'marker that left it vulnerable to a', 'fungal disease that wiped out production', 'and forced growers to adopt the', 'cavendish the cavendish is also a clone', 'of previous plants', 'so it is acceptable to a single similar', 'blight', 'potatoes and bananas are just two', 'examples the same monoculture that leads', 'to high yields', 'weakened genetics has been seen in', 'livestock as well', 'focusing heavily on one genetic trait', 'has come', 'at the expense of other characteristics', 'resistance to disease', 'mothering instincts even fertility is', 'sometimes diminished in favor of bulk', 'leanness or fat 30 years ago in the', 'early 1990s', 'this was realized when holstein calves', 'were notably growing slower', 'and some were dying before they were', 'even six months old they were found to', 'be homozygous', 'having the same genetic sequence for a', 'gene that caused leukocyte adhesion', 'deficiency', 'a recessive disorder causing', 'immunodeficiency', 'once diagnosed the same genetic defect', 'was found in an estimated', 'six hundred thousand cattle worldwide', 'and was tracked to a single bull', 'that was widely used in the industry', 'right now the global consumption of', 'chicken is at 137 million chickens per', 'day', 'global consumption of eggs and developed', 'nations ranges between 200 and 320 eggs', \"per person per year there's a lot of\", 'potential for failure in the monoculture', 'poultry and egg industry', 'the loss of biodiversity and feed', 'diversity leaves livestock susceptible', 'to various elements both genetic and', 'external', 'rising temperatures and species migrants', 'have led to an accelerated spread', 'of infectious diseases modern high-yield', 'chicken', 'cattle and hog production create the', 'potential for wide scale failures', 'when the commercial hybrid cornish', 'chicken comes down with a case of avian', 'flu', \"or the heat is so extreme they can't be\", 'cooled in their massive facilities', 'what then can the chicken industry pivot', 'to a heartier chicken', 'of the more than 500 species out there', 'if an outbreak occurs and miss a handful', 'of egg-laying varieties on farms', 'with populations of hundreds of', 'thousands of them can the industry just', 'shift to a harder yard variety', 'probably not in both cases the flow of', 'chicken or eggs', 'to your stores would evaporate overnight', 'these singular strains of plants and', 'animals create', 'excellent yields when things are stable', 'but are more susceptible to blight or', 'disease', 'when weather patterns alter', 'significantly for long periods', \"most of the world's biggest crops soy\", 'corn wheat', 'oats potato barley and more all come', 'from singular genetic lines or a few', 'variations', 'of the hundreds available in the wild', 'because of their specific ability to', 'grow in a particular stable climate', 'when these crops fell bee crops fell the', 'result', 'is fewer nutrients lower immunities and', 'a higher chance of cascading collapses', 'in our food supply', \"what can you do let's be honest one\", 'person', 'one country even a few countries banning', 'together', \"likely isn't enough to alter the\", 'trajectory of weather extremes', 'though you could move off-grid and live', 'in a self-sufficient lifestyle which', 'would be ideal', 'most lack the resources to do so what', 'you can do is to develop', 'your independence from the systems that', 'absolutely will fail', 'and to harden yourself off from the', 'extreme weather patterns that will occur', 'with greater frequency', 'here are five short-term survival needs', 'you can address today', 'water get your personal water stores to', 'a level that will sustain you for a', 'minimum of three days', 'the ideal would be a minimum of three', 'weeks', \"that should be your goal you'll need at\", 'least one gallon of water per person', 'per day for emergencies one half a', 'gallon for drinking', 'one fourth gallon for cooking and one', 'fourth gallon for washing', 'that would be 21 gallons or so per', 'person for 21 days', 'that will get you through the bulk of', 'disasters you face', 'you can quickly and compactly store this', 'amount of water along a wall', 'with one 10 pack of water bricks like', 'those available at the cityprepping.com', 'website', \"i'll post a link in the comments section\", 'below food', 'food is the next essential to building', 'your security and missed disasters', \"most people don't have enough in their\", 'refrigerator and shelves to sustain them', 'even for a few days', 'food has to be your next prep beyond', 'water have enough non-perishable and', 'long', 'shelf-life food on hand to feed you at', 'least one month', 'and preferably three months your goal is', 'to be constantly pushing the time frame', 'further back', \"when you're at a year or more you're\", 'prepped with food to last you through', 'almost any of the significant disasters', 'you could face', 'be aware that long shelf-life food is', 'often dehydrated or freeze-dried', 'and will increase the amount of water', 'needed for cooking beyond this and', 'especially if the disaster continues', 'learn to grow something to supplement', 'and extend your supplies', \"if that's a patio garden or a backyard\", 'garden great', \"if it's sprouts or mushrooms on the\", 'counter top of your kitchen', \"great if it's learning to forage and\", 'knowing where plants grow in your area', \"that's great too i guarantee you that\", 'after a disaster', \"most people won't be harvesting personal\", 'and dandelion and broadly planting on', 'your lawn', 'but both will give you an abundance of', 'vital nutrients', 'make sure you have the food you need to', 'survive for an extended period of time', 'power with your water and food needs', 'addressed you', 'should have enough energy to meet your', 'minimal needs charging smart devices', 'light sources heaters refrigerator', 'coolers fans and other small devices', 'this can be achieved through power', 'supplies large and small', 'if you only need small devices charged', 'the solar panel or small', 'solar battery may suffice more powerful', 'solar generator is more expensive', 'but it will provide you with a broader', 'range of uses and higher power levels', 'have some form of power backup whether', 'that is solar wind gas or propane', \"i'll be doing a video shortly about\", 'getting a whole home battery backup', 'system installed', 'shelter either insulate your whole', 'structure or select areas of it that you', 'can retreat to', 'that will maintain comfortable', 'temperatures for the longest amount of', 'time', 'i have other videos on surviving cold', 'weather by quickly altering and', 'insulating a room', 'so you might want to take a look at that', 'also look at long-term solutions', 'is there an internal room of your house', 'that can be insulated further', 'heated or cooled easily if so can you', 'establish it as part of your extreme', 'weather survival plan', 'can you quickly convert it to your', 'operations center conversely', 'if you live in an area that has any', 'recorded history of flood', 'fire or inclement weather study up on', 'those occurrences', 'it is worth understanding what the worst', 'was in your area in the past', 'areas that have flooded can flood again', 'at the same or higher levels', 'the great dust bowl can happen again', 'understand how those people', 'sheltered cope and survived if you live', 'in the same zone', 'know your evacuation routes and be', \"prepared to bug out you can't stay in\", \"your home if it's on fire underwater\", 'make shelter part of your survival plan', 'health and sanitation', 'i have some other videos on this topic', 'as i do for most of the things discussed', 'here', 'but your health and sanitation needs are', 'critical after disaster', 'beyond having the medicines and eight', 'supplies you need after disaster', 'you have to be able to dispose of human', 'waste safely make sure to have a large', 'five-gallon bucket', 'and hundreds of trash bags on hand many', 'disasters can befall you', 'there are the very likely and the', 'unlikely but possible varieties', 'you have to move extreme and prolonged', 'weather into the probable category', \"there isn't any more time for debate and\", \"we don't have to know the reasons behind\", 'it to plug in our own solution set', 'even if your area remains stable in', 'temperature when other regions suffer', 'it sends a ripple across our food supply', 'and jeopardizes our critical', 'interdependent infrastructure', 'this results in more and greater', 'disasters so insulating yourself from', 'heat waves in extreme', 'prolonged weather by addressing the five', 'short-term survival needs', 'will increase your odds of survival how', 'has this weather affected you', 'what is your plan to deal with the', 'fallout should things continue or worsen', \"what's your forecast let us all know in\", 'the comments below', 'and read me in the comments respond to', 'them when i can i can notify you when', 'other videos become available', 'if you subscribe to this channel as', 'always stay safe out there', '[Music]']",
                        "count": 1
                      },
                      {
                        "name": "3 others",
                        "count": 3
                      }
                    ]
                  }
                },
                {
                  "name": "_deepnote_index_column",
                  "dtype": "int64"
                }
              ],
              "rows_top": [
                {
                  "Topic": "southern-monsoon",
                  "Channel_Name": "PADMASUTRA",
                  "TimeQueried": "2021-07-14T04:59:45.261767",
                  "Video_Title": "കർക്കിടകത്തിൽ രണ്ടാഴ്ച ചെയ്യേണ്ട ദേഹരക്ഷ!Ayurveda monsoon treatment at home 2021|Ayurveda Doctor",
                  "Video_ID": "LrFb_M3aydY",
                  "Published_At": "2021-07-03T09:06:09Z",
                  "duration": "PT14M38S",
                  "viewCount": "6680",
                  "likeCount": "347",
                  "dislikeCount": "6",
                  "favoriteCount": "0",
                  "commentCount": "117",
                  "Description": "Karkidakam (month of Aashada/Aadi) is the month when monsoon hits hard  on the southern coast of In…",
                  "Location": "{'latitude': 51.5073509, 'longitude': -0.1277583, 'altitude': 0}",
                  "Tags": "['#karkkidakam', '#karkkidakakanji', '#karkkidakamrashi2021malayalam', '#marunnukanji', '#karkkidak…",
                  "latitude": "nan",
                  "longitude": "nan",
                  "Latitude": "51.5073509",
                  "Longitude": "-0.1277583",
                  "Transcript": "['[Music]', 'foreign', 'foreign', 'foreign', 'um', 'foreign', 'foreign', 'foreign', 'foreign', 'for…",
                  "_deepnote_index_column": 0
                },
                {
                  "Topic": "southern-monsoon",
                  "Channel_Name": "City Prepping",
                  "TimeQueried": "2021-07-14T04:59:45.363038",
                  "Video_Title": "Massive Heat Waves: Expect Even Worse (And What to Do)",
                  "Video_ID": "YerhC3e8Qyc",
                  "Published_At": "2021-07-11T16:27:02Z",
                  "duration": "PT18M7S",
                  "viewCount": "68492",
                  "likeCount": "",
                  "dislikeCount": "",
                  "favoriteCount": "0",
                  "commentCount": "",
                  "Description": "Record-setting heat waves are increasing in frequency.  As a result, a cascade of environmental cha…",
                  "Location": "nan",
                  "Tags": "",
                  "latitude": "nan",
                  "longitude": "nan",
                  "Latitude": "",
                  "Longitude": "",
                  "Transcript": "['heat waves droughts not seen in', 'centuries crop failures hunger', 'mass migrations rising sea l…",
                  "_deepnote_index_column": 1
                },
                {
                  "Topic": "southern-monsoon",
                  "Channel_Name": "Green Dream Project",
                  "TimeQueried": "2021-07-14T04:59:45.393404",
                  "Video_Title": "Our First Monsoon Storm Hits! | Prepping for Sustainable Off-Grid Desert Living",
                  "Video_ID": "EehICCK3l8U",
                  "Published_At": "2021-07-10T19:00:03Z",
                  "duration": "PT15M56S",
                  "viewCount": "32366",
                  "likeCount": "3108",
                  "dislikeCount": "32",
                  "favoriteCount": "0",
                  "commentCount": "257",
                  "Description": "Our First Monsoon Storm Hits! | Prepping for Sustainable Off-Grid Desert Living\nWe get hit with the…",
                  "Location": "{'latitude': 31.828458, 'longitude': -109.949686, 'altitude': 0}",
                  "Tags": "['green dream project', 'green dream', 'gdp', 'off grid', 'offgrid', 'off the grid', 'off-grid', 'r…",
                  "latitude": "nan",
                  "longitude": "nan",
                  "Latitude": "31.828458",
                  "Longitude": "-109.949686",
                  "Transcript": "[\"hey there you're watching the green\", 'dream project now my wife and i we live', \"off-grid and we…",
                  "_deepnote_index_column": 2
                },
                {
                  "Topic": "southern-monsoon",
                  "Channel_Name": "8 News NOW Las Vegas",
                  "TimeQueried": "2021-07-14T04:59:45.422879",
                  "Video_Title": "Experts discuss monsoon season outlook in Las Vegas amid dry conditions",
                  "Video_ID": "akqaRlcO3qM",
                  "Published_At": "2021-06-19T06:09:34Z",
                  "duration": "PT2M17S",
                  "viewCount": "26976",
                  "likeCount": "",
                  "dislikeCount": "",
                  "favoriteCount": "0",
                  "commentCount": "",
                  "Description": "Experts discuss monsoon season outlook in Las Vegas amid dry conditions",
                  "Location": "nan",
                  "Tags": "",
                  "latitude": "nan",
                  "longitude": "nan",
                  "Latitude": "",
                  "Longitude": "",
                  "Transcript": "[\"it's mid-june and that means of course\", 'monsoon season is upon us many across', 'the valley', '…",
                  "_deepnote_index_column": 3
                },
                {
                  "Topic": "southern-monsoon",
                  "Channel_Name": "12 News",
                  "TimeQueried": "2021-07-14T04:59:45.456914",
                  "Video_Title": "Monsoon 2021: July 10 update",
                  "Video_ID": "zljxmjHemQI",
                  "Published_At": "2021-07-11T04:23:41Z",
                  "duration": "PT1H34M58S",
                  "viewCount": "8371",
                  "likeCount": "",
                  "dislikeCount": "",
                  "favoriteCount": "0",
                  "commentCount": "",
                  "Description": "Team 12 gives us a look at activity throughout the state and what the Valley can expect tonight.",
                  "Location": "nan",
                  "Tags": "",
                  "latitude": "nan",
                  "longitude": "nan",
                  "Latitude": "",
                  "Longitude": "",
                  "Transcript": "['sorry about that', 'uh sure we can do that yeah', \"you know what i'm gonna skip the tucson\", 'are…",
                  "_deepnote_index_column": 4
                }
              ],
              "rows_bottom": null
            },
            "text/plain": [
              "              Topic          Channel_Name                TimeQueried  \\\n",
              "0  southern-monsoon            PADMASUTRA 2021-07-14 04:59:45.261767   \n",
              "1  southern-monsoon         City Prepping 2021-07-14 04:59:45.363038   \n",
              "2  southern-monsoon   Green Dream Project 2021-07-14 04:59:45.393404   \n",
              "3  southern-monsoon  8 News NOW Las Vegas 2021-07-14 04:59:45.422879   \n",
              "4  southern-monsoon               12 News 2021-07-14 04:59:45.456914   \n",
              "\n",
              "                                         Video_Title     Video_ID  \\\n",
              "0  കർക്കിടകത്തിൽ രണ്ടാഴ്ച ചെയ്യേണ്ട ദേഹരക്ഷ!Ayurv...  LrFb_M3aydY   \n",
              "1  Massive Heat Waves: Expect Even Worse (And Wha...  YerhC3e8Qyc   \n",
              "2  Our First Monsoon Storm Hits! | Prepping for S...  EehICCK3l8U   \n",
              "3  Experts discuss monsoon season outlook in Las ...  akqaRlcO3qM   \n",
              "4                       Monsoon 2021: July 10 update  zljxmjHemQI   \n",
              "\n",
              "           Published_At    duration viewCount likeCount dislikeCount  \\\n",
              "0  2021-07-03T09:06:09Z    PT14M38S      6680       347            6   \n",
              "1  2021-07-11T16:27:02Z     PT18M7S     68492                          \n",
              "2  2021-07-10T19:00:03Z    PT15M56S     32366      3108           32   \n",
              "3  2021-06-19T06:09:34Z     PT2M17S     26976                          \n",
              "4  2021-07-11T04:23:41Z  PT1H34M58S      8371                          \n",
              "\n",
              "  favoriteCount commentCount  \\\n",
              "0             0          117   \n",
              "1             0                \n",
              "2             0          257   \n",
              "3             0                \n",
              "4             0                \n",
              "\n",
              "                                         Description  \\\n",
              "0  Karkidakam (month of Aashada/Aadi) is the mont...   \n",
              "1  Record-setting heat waves are increasing in fr...   \n",
              "2  Our First Monsoon Storm Hits! | Prepping for S...   \n",
              "3  Experts discuss monsoon season outlook in Las ...   \n",
              "4  Team 12 gives us a look at activity throughout...   \n",
              "\n",
              "                                            Location  \\\n",
              "0  {'latitude': 51.5073509, 'longitude': -0.12775...   \n",
              "1                                                NaN   \n",
              "2  {'latitude': 31.828458, 'longitude': -109.9496...   \n",
              "3                                                NaN   \n",
              "4                                                NaN   \n",
              "\n",
              "                                                Tags latitude longitude  \\\n",
              "0  [#karkkidakam, #karkkidakakanji, #karkkidakamr...      NaN       NaN   \n",
              "1                                                         NaN       NaN   \n",
              "2  [green dream project, green dream, gdp, off gr...      NaN       NaN   \n",
              "3                                                         NaN       NaN   \n",
              "4                                                         NaN       NaN   \n",
              "\n",
              "    Latitude   Longitude                                         Transcript  \n",
              "0  51.507351   -0.127758  [[Music], foreign, foreign, foreign, um, forei...  \n",
              "1                         [heat waves droughts not seen in, centuries cr...  \n",
              "2  31.828458 -109.949686  [hey there you're watching the green, dream pr...  \n",
              "3                         [it's mid-june and that means of course, monso...  \n",
              "4                         [sorry about that, uh sure we can do that yeah...  "
            ],
            "text/html": [
              "<div>\n",
              "<style scoped>\n",
              "    .dataframe tbody tr th:only-of-type {\n",
              "        vertical-align: middle;\n",
              "    }\n",
              "\n",
              "    .dataframe tbody tr th {\n",
              "        vertical-align: top;\n",
              "    }\n",
              "\n",
              "    .dataframe thead th {\n",
              "        text-align: right;\n",
              "    }\n",
              "</style>\n",
              "<table border=\"1\" class=\"dataframe\">\n",
              "  <thead>\n",
              "    <tr style=\"text-align: right;\">\n",
              "      <th></th>\n",
              "      <th>Topic</th>\n",
              "      <th>Channel_Name</th>\n",
              "      <th>TimeQueried</th>\n",
              "      <th>Video_Title</th>\n",
              "      <th>Video_ID</th>\n",
              "      <th>Published_At</th>\n",
              "      <th>duration</th>\n",
              "      <th>viewCount</th>\n",
              "      <th>likeCount</th>\n",
              "      <th>dislikeCount</th>\n",
              "      <th>favoriteCount</th>\n",
              "      <th>commentCount</th>\n",
              "      <th>Description</th>\n",
              "      <th>Location</th>\n",
              "      <th>Tags</th>\n",
              "      <th>latitude</th>\n",
              "      <th>longitude</th>\n",
              "      <th>Latitude</th>\n",
              "      <th>Longitude</th>\n",
              "      <th>Transcript</th>\n",
              "    </tr>\n",
              "  </thead>\n",
              "  <tbody>\n",
              "    <tr>\n",
              "      <th>0</th>\n",
              "      <td>southern-monsoon</td>\n",
              "      <td>PADMASUTRA</td>\n",
              "      <td>2021-07-14 04:59:45.261767</td>\n",
              "      <td>കർക്കിടകത്തിൽ രണ്ടാഴ്ച ചെയ്യേണ്ട ദേഹരക്ഷ!Ayurv...</td>\n",
              "      <td>LrFb_M3aydY</td>\n",
              "      <td>2021-07-03T09:06:09Z</td>\n",
              "      <td>PT14M38S</td>\n",
              "      <td>6680</td>\n",
              "      <td>347</td>\n",
              "      <td>6</td>\n",
              "      <td>0</td>\n",
              "      <td>117</td>\n",
              "      <td>Karkidakam (month of Aashada/Aadi) is the mont...</td>\n",
              "      <td>{'latitude': 51.5073509, 'longitude': -0.12775...</td>\n",
              "      <td>[#karkkidakam, #karkkidakakanji, #karkkidakamr...</td>\n",
              "      <td>NaN</td>\n",
              "      <td>NaN</td>\n",
              "      <td>51.507351</td>\n",
              "      <td>-0.127758</td>\n",
              "      <td>[[Music], foreign, foreign, foreign, um, forei...</td>\n",
              "    </tr>\n",
              "    <tr>\n",
              "      <th>1</th>\n",
              "      <td>southern-monsoon</td>\n",
              "      <td>City Prepping</td>\n",
              "      <td>2021-07-14 04:59:45.363038</td>\n",
              "      <td>Massive Heat Waves: Expect Even Worse (And Wha...</td>\n",
              "      <td>YerhC3e8Qyc</td>\n",
              "      <td>2021-07-11T16:27:02Z</td>\n",
              "      <td>PT18M7S</td>\n",
              "      <td>68492</td>\n",
              "      <td></td>\n",
              "      <td></td>\n",
              "      <td>0</td>\n",
              "      <td></td>\n",
              "      <td>Record-setting heat waves are increasing in fr...</td>\n",
              "      <td>NaN</td>\n",
              "      <td></td>\n",
              "      <td>NaN</td>\n",
              "      <td>NaN</td>\n",
              "      <td></td>\n",
              "      <td></td>\n",
              "      <td>[heat waves droughts not seen in, centuries cr...</td>\n",
              "    </tr>\n",
              "    <tr>\n",
              "      <th>2</th>\n",
              "      <td>southern-monsoon</td>\n",
              "      <td>Green Dream Project</td>\n",
              "      <td>2021-07-14 04:59:45.393404</td>\n",
              "      <td>Our First Monsoon Storm Hits! | Prepping for S...</td>\n",
              "      <td>EehICCK3l8U</td>\n",
              "      <td>2021-07-10T19:00:03Z</td>\n",
              "      <td>PT15M56S</td>\n",
              "      <td>32366</td>\n",
              "      <td>3108</td>\n",
              "      <td>32</td>\n",
              "      <td>0</td>\n",
              "      <td>257</td>\n",
              "      <td>Our First Monsoon Storm Hits! | Prepping for S...</td>\n",
              "      <td>{'latitude': 31.828458, 'longitude': -109.9496...</td>\n",
              "      <td>[green dream project, green dream, gdp, off gr...</td>\n",
              "      <td>NaN</td>\n",
              "      <td>NaN</td>\n",
              "      <td>31.828458</td>\n",
              "      <td>-109.949686</td>\n",
              "      <td>[hey there you're watching the green, dream pr...</td>\n",
              "    </tr>\n",
              "    <tr>\n",
              "      <th>3</th>\n",
              "      <td>southern-monsoon</td>\n",
              "      <td>8 News NOW Las Vegas</td>\n",
              "      <td>2021-07-14 04:59:45.422879</td>\n",
              "      <td>Experts discuss monsoon season outlook in Las ...</td>\n",
              "      <td>akqaRlcO3qM</td>\n",
              "      <td>2021-06-19T06:09:34Z</td>\n",
              "      <td>PT2M17S</td>\n",
              "      <td>26976</td>\n",
              "      <td></td>\n",
              "      <td></td>\n",
              "      <td>0</td>\n",
              "      <td></td>\n",
              "      <td>Experts discuss monsoon season outlook in Las ...</td>\n",
              "      <td>NaN</td>\n",
              "      <td></td>\n",
              "      <td>NaN</td>\n",
              "      <td>NaN</td>\n",
              "      <td></td>\n",
              "      <td></td>\n",
              "      <td>[it's mid-june and that means of course, monso...</td>\n",
              "    </tr>\n",
              "    <tr>\n",
              "      <th>4</th>\n",
              "      <td>southern-monsoon</td>\n",
              "      <td>12 News</td>\n",
              "      <td>2021-07-14 04:59:45.456914</td>\n",
              "      <td>Monsoon 2021: July 10 update</td>\n",
              "      <td>zljxmjHemQI</td>\n",
              "      <td>2021-07-11T04:23:41Z</td>\n",
              "      <td>PT1H34M58S</td>\n",
              "      <td>8371</td>\n",
              "      <td></td>\n",
              "      <td></td>\n",
              "      <td>0</td>\n",
              "      <td></td>\n",
              "      <td>Team 12 gives us a look at activity throughout...</td>\n",
              "      <td>NaN</td>\n",
              "      <td></td>\n",
              "      <td>NaN</td>\n",
              "      <td>NaN</td>\n",
              "      <td></td>\n",
              "      <td></td>\n",
              "      <td>[sorry about that, uh sure we can do that yeah...</td>\n",
              "    </tr>\n",
              "  </tbody>\n",
              "</table>\n",
              "</div>"
            ]
          },
          "metadata": {
            "tags": []
          },
          "execution_count": 34
        }
      ]
    },
    {
      "cell_type": "code",
      "metadata": {
        "id": "gdvPdIFgZOfT",
        "cell_id": "00036-5fe2f2ce-9dda-4070-b849-1d3012cf1241",
        "deepnote_to_be_reexecuted": false,
        "source_hash": "6f95053a",
        "execution_start": 1626238836468,
        "execution_millis": 11,
        "deepnote_cell_type": "code"
      },
      "source": [
        "import datetime\n",
        "y = datetime.datetime.now()\n",
        "#print(x.strftime(\"%B%d\"))\n",
        "output_date_foc = f'Youtube_focused_{y.strftime(\"%B%d\")}.csv'"
      ],
      "execution_count": null,
      "outputs": []
    },
    {
      "cell_type": "code",
      "metadata": {
        "id": "gwAXRIGa6e7_",
        "cell_id": "00037-1ab483da-65de-482c-a93c-0e36cb9519db",
        "deepnote_to_be_reexecuted": false,
        "source_hash": "58f1f5b0",
        "execution_start": 1626238836486,
        "execution_millis": 67,
        "deepnote_cell_type": "code"
      },
      "source": [
        "df_youtube_focused.to_csv(output_date_foc)\n",
        "print(\"The final Focused youtube data is saved as : \"+output_date)"
      ],
      "execution_count": null,
      "outputs": []
    },
    {
      "cell_type": "code",
      "metadata": {
        "id": "HnWdVNma6fBj",
        "cell_id": "00038-79539272-b958-44ac-8582-79a1380f8260",
        "deepnote_to_be_reexecuted": false,
        "source_hash": "476f3f2b",
        "execution_start": 1626238836558,
        "execution_millis": 6,
        "deepnote_cell_type": "code"
      },
      "source": [
        "# If we want to update the configuration file dynamically we can uncomment this code\n",
        "#json_object['Focused-Crawling']['Specific-Keywords'][keys]['End_Datetime'].append(y.strftime(\"%Y-%m-%dT%XZ\"))\n",
        "#json_object['General-Crawling']['General-Keywords'][keys]['End_Datetime'].append(y.strftime(\"%Y-%m-%dT%XZ\"))"
      ],
      "execution_count": null,
      "outputs": []
    },
    {
      "cell_type": "code",
      "metadata": {
        "id": "f9vWq37i8DwM",
        "cell_id": "00039-8a698542-b52c-4add-8777-3f300be841eb",
        "deepnote_to_be_reexecuted": false,
        "source_hash": "47f543c7",
        "execution_start": 1626238836572,
        "execution_millis": 0,
        "deepnote_cell_type": "code"
      },
      "source": [
        "a_file = open(\"config_.json\", \"w\")\n",
        "json.dump(json_object,a_file)\n",
        "a_file.close()"
      ],
      "execution_count": null,
      "outputs": []
    },
    {
      "cell_type": "markdown",
      "metadata": {
        "id": "1zaJVtH7dGtl",
        "cell_id": "00040-ff6f33fb-3004-464a-a24b-da8819ad44a7",
        "deepnote_cell_type": "markdown"
      },
      "source": [
        "#Collecting data from twitter"
      ]
    },
    {
      "cell_type": "code",
      "metadata": {
        "tags": [],
        "cell_id": "00047-c731933b-b348-48bb-b7d8-bb91950d0233",
        "deepnote_to_be_reexecuted": false,
        "source_hash": "344ab537",
        "execution_start": 1626238836617,
        "execution_millis": 3792,
        "deepnote_cell_type": "code",
        "id": "98HDxwyaSEGj"
      },
      "source": [
        "%%capture\n",
        "!pip install tweepy"
      ],
      "execution_count": null,
      "outputs": []
    },
    {
      "cell_type": "code",
      "metadata": {
        "id": "c0ezA1M5ZWYM",
        "cell_id": "00041-623e4f84-8b08-4146-8849-69151fe60a3e",
        "deepnote_to_be_reexecuted": false,
        "source_hash": "17aef8d5",
        "execution_start": 1626238840419,
        "execution_millis": 813,
        "deepnote_cell_type": "code"
      },
      "source": [
        "import tweepy\n",
        "import re\n",
        "from nltk.tokenize import TweetTokenizer\n",
        "consumer_key = 'It6qdrfzzKYBT0F3B1IQYnpEG'\n",
        "consumer_secret = '2UYJ8ys7zQb6z2251xVpMHeloqK09JnnuXyki7LFZ0bTCnIoiy'\n",
        "access_token = '1364258204473982978-IrTfDSw2ZvA8IkZqaO30BT0xgBMGv2'\n",
        "access_token_secret = 'cPSxtNQBI1BetT71fbMP2B3Ok41UXS8QI1bmPeYYKUyqp'\n"
      ],
      "execution_count": null,
      "outputs": []
    },
    {
      "cell_type": "code",
      "metadata": {
        "id": "3bd8Gh_Qdefs",
        "cell_id": "00042-12fbc951-3789-44a9-a7d8-671192b1430b",
        "deepnote_to_be_reexecuted": false,
        "source_hash": "78f3b522",
        "execution_start": 1626238841238,
        "execution_millis": 4,
        "deepnote_cell_type": "code"
      },
      "source": [
        "auth = tweepy.OAuthHandler(consumer_key,consumer_secret)\n",
        "auth.set_access_token(access_token,access_token_secret)\n",
        "api = tweepy.API(auth,wait_on_rate_limit=True)"
      ],
      "execution_count": null,
      "outputs": []
    },
    {
      "cell_type": "code",
      "metadata": {
        "id": "N4xWAOLPzaoI",
        "cell_id": "00043-38058864-da02-42ee-82c9-4f1b6bcb3cd8",
        "deepnote_to_be_reexecuted": false,
        "source_hash": "9d4a1b59",
        "execution_start": 1626238841251,
        "execution_millis": 3,
        "deepnote_cell_type": "code"
      },
      "source": [
        "emojis = {':)': 'smile', ':-)': 'smile', ';d': 'wink', ':-E': 'vampire', ':(': 'sad', \n",
        "          ':-(': 'sad', ':-<': 'sad', ':P': 'raspberry', ':O': 'surprised',\n",
        "          ':-@': 'shocked', ':@': 'shocked',':-$': 'confused', ':\\\\': 'annoyed', \n",
        "          ':#': 'mute', ':X': 'mute', ':^)': 'smile', ':-&': 'confused', '$_$': 'greedy',\n",
        "          '@@': 'eyeroll', ':-!': 'confused', ':-D': 'smile', ':-0': 'yell', 'O.o': 'confused',\n",
        "          '<(-_-)>': 'robot', 'd[-_-]b': 'dj', \":'-)\": 'sadsmile', ';)': 'wink', \n",
        "          ';-)': 'wink', 'O:-)': 'angel','O*-)': 'angel','(:-D': 'gossip', '=^.^=': 'cat'}\n",
        "\n",
        "irrelevant_words = [\"Politics\",\"pubg mobile\",\"british parliamentary records\",\n",
        "                    \"software career oppounity\",\"child labor\"]\n",
        "\n",
        "def TextClean(tweet):\n",
        "  tweet = tweet.lower()\n",
        "  tweet = re.sub(r'@[a-z0-9_]\\S+' , '', tweet)\n",
        "  #tweet = re.sub(r'#[a-z0-9_]\\S+', '',tweet)\n",
        "  tweet = re.sub(r'&[a-z0-9_]\\S+','',tweet)\n",
        "  tweet = re.sub(r'0[?!.+,;$%&\"]+','',tweet)\n",
        "  tweet = re.sub(r'rt[\\s]+', '', tweet)\n",
        "  tweet = re.sub(r'\\d+', '', tweet)\n",
        "  tweet = re.sub(r'\\$', '', tweet)\n",
        "  tweet = re.sub(r'rt+', '', tweet)\n",
        "  tweet = re.sub(r'https?:?\\/\\/\\S+', '', tweet)\n",
        "  for emoji in emojis.keys():\n",
        "    tweet = tweet.replace(emoji, \"EMOJI\" + emojis[emoji])\n",
        "\n",
        "  \n",
        "  return tweet"
      ],
      "execution_count": null,
      "outputs": []
    },
    {
      "cell_type": "code",
      "metadata": {
        "id": "SkkXu53TdgHD",
        "cell_id": "00044-f492ca2b-6946-4a1a-a83f-d99db37be59f",
        "deepnote_to_be_reexecuted": false,
        "source_hash": "f4df1d4c",
        "execution_start": 1626238841257,
        "execution_millis": 103973,
        "deepnote_cell_type": "code"
      },
      "source": [
        "# google api , database of all location of india\n",
        "import pandas as pd\n",
        "i=0\n",
        "limit = 10000\n",
        "tweets_df=pd.DataFrame(columns=['Datetime','Tweet','Username','Retweets','Followers','Likes','Location'])\n",
        "for Query in Gen_keywords :\n",
        "  for tweet in tweepy.Cursor(api.search,q=Query,count=1000,lang='en',order=\"relevance\", publishedAfter=published_after,regionCode=\"IN\",tweet_mode='extended').items() :\n",
        "\n",
        "      #print(\"Tweets Downloaded :\",i,'/',100,end = '\\r')\n",
        "      tweets_df = tweets_df.append({'Datetime': tweet.created_at,\n",
        "                                    'Tweet': tweet.full_text,\n",
        "                                    'Username': tweet.user.screen_name,\n",
        "                                    'Retweets': tweet.retweet_count,\n",
        "                                    'Followers': tweet.user.followers_count ,\n",
        "                                    'Likes': tweet.favorite_count,\n",
        "                                    'Location' : tweet.user.location} , ignore_index=True)\n",
        "      i+=1\n",
        "      if i>=limit :\n",
        "        break\n",
        "      else :\n",
        "        pass\n",
        "  tweets_df['CleanTweet'] = tweets_df['Tweet'].apply(TextClean)\n",
        "      #tweets_df.to_csv(key_word + '.csv', encoding = 'utf-8')\n",
        "      # tweets_df.drop_duplicates(subset=['Tweet'], inplace = True)\n",
        "      # tweets_df['CleanTweet'] = tweets_df['Tweet'].apply(TextClean)\n",
        "      # tweet_tokenizer = TweetTokenizer()\n",
        "      # tweets_df['CleanTweet'] = tweets_df['CleanTweet'].apply(tweet_tokenizer.tokenize) \n",
        "      # tweets_df['CleanTweet'] = [', '.join(map(str, token)) for token in tweets_df['CleanTweet']]"
      ],
      "execution_count": null,
      "outputs": []
    },
    {
      "cell_type": "code",
      "metadata": {
        "id": "RMkSFYxtewYE",
        "cell_id": "00045-641a243b-8d10-40a9-87fd-22bf62683209",
        "deepnote_to_be_reexecuted": false,
        "source_hash": "b509e4a8",
        "execution_start": 1626238945271,
        "execution_millis": 0,
        "deepnote_cell_type": "code"
      },
      "source": [
        "tweets_df=tweets_df.drop_duplicates(subset=['Tweet',\n",
        "                                            'CleanTweet'])"
      ],
      "execution_count": null,
      "outputs": []
    },
    {
      "cell_type": "code",
      "metadata": {
        "tags": [],
        "cell_id": "00053-bb29b808-82d6-4614-9201-f3d291612875",
        "deepnote_to_be_reexecuted": false,
        "source_hash": "bd7baf15",
        "execution_start": 1626238945272,
        "execution_millis": 2164,
        "deepnote_cell_type": "code",
        "id": "QGzK8SU0SEGm",
        "outputId": "b75cf189-4dd5-4786-c829-262c6f6d6032"
      },
      "source": [
        "import datetime\n",
        "y = datetime.datetime.now()\n",
        "#print(x.strftime(\"%B%d\"))\n",
        "output_date_gen_twitter = f'Twitter_General_{y.strftime(\"%B%d\")}.csv'\n",
        "tweets_df.to_csv(f'/datasets/outputyoutube/Landslide_Project/{output_date_gen_twitter}')\n",
        "print(\"The final General Twitter data is saved as : \"+output_date_gen_twitter)"
      ],
      "execution_count": null,
      "outputs": [
        {
          "output_type": "stream",
          "text": [
            "The final General Twitter data is saved as : Twitter_General_July14.csv\n"
          ],
          "name": "stdout"
        }
      ]
    },
    {
      "cell_type": "code",
      "metadata": {
        "colab": {
          "base_uri": "https://localhost:8080/"
        },
        "id": "ZVO9z4DmfJ5x",
        "cell_id": "00046-323fc69c-0617-491b-b289-6529f14facbc",
        "deepnote_to_be_reexecuted": false,
        "source_hash": "dd975d9b",
        "execution_start": 1626238947431,
        "execution_millis": 13,
        "deepnote_cell_type": "code",
        "outputId": "48db7122-ff04-4182-ff3c-28a506e1751a"
      },
      "source": [
        "tweets_df.shape"
      ],
      "execution_count": null,
      "outputs": [
        {
          "output_type": "execute_result",
          "data": {
            "text/plain": [
              "(3232, 8)"
            ]
          },
          "metadata": {
            "tags": []
          },
          "execution_count": 46
        }
      ]
    },
    {
      "cell_type": "code",
      "metadata": {
        "colab": {
          "base_uri": "https://localhost:8080/"
        },
        "id": "gQYBf3Pu-Kqz",
        "cell_id": "00047-ccf003bb-f0a5-442a-9f0a-b56b683d07e5",
        "deepnote_to_be_reexecuted": false,
        "source_hash": "260ec1f0",
        "execution_start": 1626238947440,
        "execution_millis": 10,
        "deepnote_cell_type": "code",
        "outputId": "002d80c6-c31b-46cd-cdab-4298b95fc669"
      },
      "source": [
        "import datetime\n",
        "# x = datetime.datetime.now()\n",
        "# print(x.day,x.month)\n",
        "x = datetime.datetime.now()\n",
        "print(x.strftime(\"%B%d\"))"
      ],
      "execution_count": null,
      "outputs": [
        {
          "output_type": "stream",
          "text": [
            "July14\n"
          ],
          "name": "stdout"
        }
      ]
    },
    {
      "cell_type": "code",
      "metadata": {
        "id": "uJa9eUf0iDKT",
        "cell_id": "00048-80020baa-9822-4cf8-a1a8-46af136054f6",
        "deepnote_to_be_reexecuted": false,
        "source_hash": "790e0353",
        "execution_start": 1626238947486,
        "execution_millis": 31,
        "deepnote_cell_type": "code"
      },
      "source": [
        "output_date = f'tweets_{x.strftime(\"%B%d\")}.csv'\n",
        "tweets_df.to_csv(output_date)"
      ],
      "execution_count": null,
      "outputs": []
    },
    {
      "cell_type": "code",
      "metadata": {
        "colab": {
          "base_uri": "https://localhost:8080/"
        },
        "id": "vNvvSlnm702_",
        "cell_id": "00050-436fbe5f-bac9-45bb-99d7-ff393f42e124",
        "deepnote_to_be_reexecuted": false,
        "source_hash": "2de2705e",
        "execution_start": 1626238947519,
        "execution_millis": 18,
        "deepnote_cell_type": "code",
        "outputId": "2baff475-1a73-4bf3-d980-36d6ff1030a0"
      },
      "source": [
        "tweets_df[\"CleanTweet\"]"
      ],
      "execution_count": null,
      "outputs": [
        {
          "output_type": "execute_result",
          "data": {
            "text/plain": [
              "0        \"we won the election by a landslide, we won it...\n",
              "1        by now everyone in government has seen both ne...\n",
              "2        . new book, landslide, quotes donald j. trump ...\n",
              "3        latest: uttarakhand landslide: four bodies rec...\n",
              "4        landslide blocks village main road in loliem\\n...\n",
              "                               ...                        \n",
              "10003    / the graph also provides us with greater flex...\n",
              "10004                         icefall mantle, here i come!\n",
              "10006    you know what? no. im not letting this slide. ...\n",
              "10008     the pandora’s box of shit people should’ve ke...\n",
              "10009    immediate response of tapovan #glacierburst wa...\n",
              "Name: CleanTweet, Length: 3232, dtype: object"
            ]
          },
          "metadata": {
            "tags": []
          },
          "execution_count": 50
        }
      ]
    },
    {
      "cell_type": "code",
      "metadata": {
        "colab": {
          "base_uri": "https://localhost:8080/",
          "height": 55
        },
        "id": "F561rzllvvdz",
        "cell_id": "00059-59944973-4316-4f3e-b87d-1a5779e4d945",
        "deepnote_to_be_reexecuted": false,
        "source_hash": "7100e37c",
        "execution_start": 1626238947589,
        "execution_millis": 431949150,
        "deepnote_cell_type": "code",
        "outputId": "97d4905d-f306-479e-e4f7-1d239b4af1f7"
      },
      "source": [
        "tweets_df[\"CleanTweet\"][3]"
      ],
      "execution_count": null,
      "outputs": [
        {
          "output_type": "execute_result",
          "data": {
            "text/plain": [
              "'latest: uttarakhand landslide: four bodies recovered\\nfour bodies recovered from boh valley till last night, a total of five bodies have been recovered so far. five to six persons still went missing. rescue operation resumed early morning today, said kangra dt comm nipun jindal.'"
            ]
          },
          "metadata": {
            "tags": []
          },
          "execution_count": 59
        }
      ]
    },
    {
      "cell_type": "code",
      "metadata": {
        "id": "dfHHBAia4fnd",
        "cell_id": "00068-cfd66302-d5b1-40ad-8d0e-0406cfafb667",
        "deepnote_to_be_reexecuted": false,
        "source_hash": "ab29e35f",
        "execution_start": 1626238947614,
        "execution_millis": 431949165,
        "deepnote_cell_type": "code"
      },
      "source": [
        "cleanlist =tweets_df[\"CleanTweet\"].values.tolist()\n",
        "tweetlist = list(dict.fromkeys(cleanlist))"
      ],
      "execution_count": null,
      "outputs": []
    },
    {
      "cell_type": "markdown",
      "metadata": {
        "id": "r4AZFJV4XFHI",
        "cell_id": "00077-1ba959ae-12e9-4192-9623-980d437e4193",
        "deepnote_cell_type": "markdown"
      },
      "source": [
        "# Archives ( OLD CODE )\n"
      ]
    },
    {
      "cell_type": "code",
      "metadata": {
        "id": "WgFjR7FvT26L",
        "cell_id": "00078-36ec08c2-2927-48e3-83ef-b15e137a1f77",
        "deepnote_to_be_reexecuted": false,
        "source_hash": "65671781",
        "execution_start": 1626238947615,
        "execution_millis": 431949155,
        "deepnote_cell_type": "code"
      },
      "source": [
        "# import requests\n",
        "# import pickle\n",
        "# import time\n",
        "# import json\n",
        "# import csv\n",
        "# import operator\n",
        "# import sys\n",
        "\n",
        "\n",
        "# Wiki_Threshold=0.0\n",
        "\n",
        "# def get_response(ques,qid,tagme_ent):\n",
        "# \ttagme_ent[qid]={}\n",
        "# \ttagme_ent[qid]['ques']=ques\n",
        "# \ttagme_ent[qid]['spot']=[]\n",
        "# \treq_string='https://tagme.d4science.org/tagme/tag?lang=en&include_abstract=true&include_categories=true&gcube-token=9dc5f6c0-3040-411b-9687-75ca53249072-843339462&text='+ques#.encode('utf-8')\n",
        "# \ttry:\n",
        "# \t\tr = requests.get(req_string)\n",
        "# \t\twiki=r.json()\n",
        "# \t\tannotations=wiki['annotations']\n",
        "# \t\tfor doc in annotations:\n",
        "# \t\t\tif doc['rho']>=Wiki_Threshold:\n",
        "# \t\t\t\ttagme_ent[qid]['spot'].append((doc['spot'],doc['title'],doc['rho']))\n",
        "# \texcept:\n",
        "# \t\tprint(\"TAGME Problem \", ques)\n",
        "# \treturn tagme_ent\n"
      ],
      "execution_count": null,
      "outputs": []
    },
    {
      "cell_type": "code",
      "metadata": {
        "id": "6UtYEJ9GT3c-",
        "cell_id": "00079-5b5be82f-3018-4204-84a4-6dbc6f070d27",
        "deepnote_to_be_reexecuted": false,
        "source_hash": "ed244d55",
        "execution_start": 1626238947616,
        "execution_millis": 431949131,
        "deepnote_cell_type": "code"
      },
      "source": [
        "# pd.options.display.max_colwidth=1000\n",
        "# #ddf.style.set_properties(**{'text-align': 'left'})\n",
        "# ddfStyler = ddf.style.set_properties(**{'text-align': 'left'})\n",
        "# ddfStyler.set_table_styles([dict(selector='th', props=[('text-align', 'left')])])\n",
        "# for i in range(50):\n",
        "#   print(ddf[\"Description\"][i])"
      ],
      "execution_count": null,
      "outputs": []
    },
    {
      "cell_type": "code",
      "metadata": {
        "id": "iLpm8-l5T3fU",
        "cell_id": "00080-291cd2b7-f1fa-4b42-8367-abc477d3e794",
        "deepnote_to_be_reexecuted": false,
        "source_hash": "a0c90287",
        "execution_start": 1626238947619,
        "execution_millis": 431949132,
        "deepnote_cell_type": "code"
      },
      "source": [
        "# keyword = pd.read_csv('keywords.txt',header=None)\n",
        "# keywords=keyword[0].values.tolist()"
      ],
      "execution_count": null,
      "outputs": []
    },
    {
      "cell_type": "code",
      "metadata": {
        "id": "tQCoUdqtT3hv",
        "cell_id": "00081-2f01ee5b-2a9e-4ff2-bf4f-b9a1490f818a",
        "deepnote_to_be_reexecuted": false,
        "source_hash": "48f4111e",
        "execution_start": 1626238947631,
        "execution_millis": 431949120,
        "deepnote_cell_type": "code"
      },
      "source": [
        "# keywords = ['flood-India','LandSlip-India']"
      ],
      "execution_count": null,
      "outputs": []
    },
    {
      "cell_type": "code",
      "metadata": {
        "id": "D0c94hdFT3ku",
        "cell_id": "00082-1c828a08-92bc-4aae-8b26-0d6a720471a6",
        "deepnote_to_be_reexecuted": false,
        "source_hash": "924a22a7",
        "execution_start": 1626238947634,
        "execution_millis": 431949084,
        "deepnote_cell_type": "code"
      },
      "source": [
        "# # Parsing the list of General Keywords\n",
        "# Gen_Keywords =parsed_json[\"General-Crawling\"][\"General-Keywords\"]\n",
        "# Gen_Keywords=list(Gen_Keywords)[0]\n",
        "# keyword=Gen_Keywords.split(',')"
      ],
      "execution_count": null,
      "outputs": []
    },
    {
      "cell_type": "code",
      "metadata": {
        "id": "DcTHdiGVSE3z",
        "cell_id": "00083-43901044-3e2d-47cc-b9cc-2e1a528630e5",
        "deepnote_to_be_reexecuted": false,
        "source_hash": "23fc8ef5",
        "execution_start": 1626238947634,
        "execution_millis": 431949086,
        "deepnote_cell_type": "code"
      },
      "source": [
        "# import datetime\n",
        "# x = datetime.datetime.now()\n",
        "# print(x.strftime(\"%Y-%m-%dT%XZ\")) \n",
        "# print(x)\n",
        "# \"2020-01-02T00:00:00Z\""
      ],
      "execution_count": null,
      "outputs": []
    },
    {
      "cell_type": "code",
      "metadata": {
        "id": "STlisQAWXIGY",
        "cell_id": "00084-bf1aed4e-bb46-4200-b1c0-1d8a616ed97f",
        "deepnote_to_be_reexecuted": false,
        "source_hash": "7ac06c70",
        "execution_start": 1626238947636,
        "execution_millis": 431949097,
        "deepnote_cell_type": "code"
      },
      "source": [
        "# This is our Old Concept ( Youtube )\n",
        "\n",
        "# # Understaand and optimize the queries( how queries are written )\n",
        "# # unique video_id ( to avoid dublicate data)\n",
        "# # Add support for next page parsing( next page token for next 50 results(if available))\n",
        "# column_names=[\"Topic\", \"TimeQueried\", \"Video_Title\", \"Video_ID\", \"Published_At\", \"duration\", \"viewCount\", \"likeCount\", \"dislikeCount\",\n",
        "#       \"favoriteCount\",\"commentCount\", \"Description\",\"Location\"]\n",
        "# ddf=pd.DataFrame(columns=column_names)\n",
        "# # ,pageToken=next_page_token\n",
        "# video_ids=[]\n",
        "# for Query in keywords:\n",
        "#   videos=[]\n",
        "#   next_page_token = None\n",
        "#   while 1:\n",
        "#     search_response = youtube.search().list(q=Query,type=\"video\", part=\"id,snippet\", maxResults=20,regionCode=\"IN\",order=\"relevance\", publishedAfter=\"2021-02-02T00:00:00Z\").execute() \n",
        "#     videos+=search_response['items']\n",
        "#     #next_page_token = search_response.get('nextPageToken')\n",
        "#     #print(next_page_token)\n",
        "#     if next_page_token is None:\n",
        "#             break\n",
        "\n",
        "\n",
        "#   count=0\n",
        "#   for video in videos:\n",
        "#       #video_ids.append(video['items'][i][\"id\"][\"videoId\"])\n",
        "#       video_ids.append(video['id']['videoId'])\n",
        "\n",
        "#       count=count+1\n",
        "#   count  \n",
        "#   #video_ids = list(set(video_ids))\n",
        "\n",
        "  \n",
        "#   for k in range(len(video_ids)):\n",
        "#       request = youtube.videos().list(\n",
        "#               part=\"statistics,contentDetails,snippet,status,recordingDetails\",\n",
        "#               id=video_ids[k]\n",
        "#           )\n",
        "#       response = request.execute()\n",
        "#       #print(response[\"items\"][0][\"statistics\"][\"likeCount\"])\n",
        "#       #video_ids = list(set(video_ids))\n",
        "#       try:\n",
        "#           ddf = ddf.append({\"Topic\":Query, \"TimeQueried\":dt.datetime.now(), \"Video_Title\":response[\"items\"][0][\"snippet\"][\"title\"], \"Video_ID\":response[\"items\"][0][\"id\"], \"Published_At\":response[\"items\"][0][\"snippet\"][\"publishedAt\"], \"duration\":response[\"items\"][0][\"contentDetails\"][\"duration\"], \"viewCount\":response[\"items\"][0][\"statistics\"][\"viewCount\"], \"likeCount\":response[\"items\"][0][\"statistics\"][\"likeCount\"], \"dislikeCount\":response[\"items\"][0][\"statistics\"][\"dislikeCount\"],\"favoriteCount\":response[\"items\"][0][\"statistics\"][\"favoriteCount\"],\"commentCount\":response[\"items\"][0][\"statistics\"][\"commentCount\"], \"Description\":response[\"items\"][0][\"snippet\"][\"description\"],\"Location\": response[\"items\"][0][\"recordingDetails\"][\"location\"]},ignore_index = True)\n",
        "#       except:\n",
        "#           ddf = ddf.append({\"Topic\":Query, \"TimeQueried\":dt.datetime.now(), \"Video_Title\":response[\"items\"][0][\"snippet\"][\"title\"], \"Video_ID\":response[\"items\"][0][\"id\"], \"Published_At\":response[\"items\"][0][\"snippet\"][\"publishedAt\"], \"duration\":response[\"items\"][0][\"contentDetails\"][\"duration\"], \"viewCount\":response[\"items\"][0][\"statistics\"][\"viewCount\"], \"likeCount\":\"\", \"dislikeCount\":\"\",\"favoriteCount\":response[\"items\"][0][\"statistics\"][\"favoriteCount\"],\"commentCount\":\"\", \"Description\":response[\"items\"][0][\"snippet\"][\"description\"]},ignore_index = True)\n"
      ],
      "execution_count": null,
      "outputs": []
    },
    {
      "cell_type": "markdown",
      "metadata": {
        "tags": [],
        "created_in_deepnote_cell": true,
        "deepnote_cell_type": "markdown",
        "id": "_d8zrYJwSEGt"
      },
      "source": [
        "<a style='text-decoration:none;line-height:16px;display:flex;color:#5B5B62;padding:10px;justify-content:end;' href='https://deepnote.com?utm_source=created-in-deepnote-cell&projectId=f9dfcc21-4f2b-451a-841d-32b6f6f36d94' target=\"_blank\">\n",
        "<img alt='Created in deepnote.com' style='display:inline;max-height:16px;margin:0px;margin-right:7.5px;' src='data:image/svg+xml;base64,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' > </img>\n",
        "Created in <span style='font-weight:600;margin-left:4px;'>Deepnote</span></a>"
      ]
    }
  ]
}
