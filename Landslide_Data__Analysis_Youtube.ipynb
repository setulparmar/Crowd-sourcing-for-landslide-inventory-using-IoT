{
  "nbformat": 4,
  "nbformat_minor": 0,
  "metadata": {
    "colab": {
      "name": "Landslide_Data _Analysis_Youtube",
      "provenance": []
    },
    "kernelspec": {
      "name": "python3",
      "display_name": "Python 3"
    },
    "language_info": {
      "name": "python"
    },
    "deepnote_notebook_id": "df56edbb-5599-4857-93f4-83161c45a26e",
    "deepnote": {},
    "deepnote_execution_queue": []
  },
  "cells": [
    {
      "cell_type": "markdown",
      "metadata": {
        "id": "CTrUwQrl_lCH"
      },
      "source": [
        "This Notebook contains following :\n",
        "1.   Data Cleansing using NLP techniques as well as hard coding to remove irrelevant events\n",
        "2.   Data Analysis and clustering using Pre-Trained Sentence Transformer model and KNN approach\n",
        "3.   Keyword Extraction model using YAKE library which extracts important events( and rank them ) after merging all the video titles which will help us to do focused crawling\n",
        "4.   Keyword Extraction using RAKE to find important keywords per cluster\n",
        "\n",
        "These keywords ranking may further be used to do focus crawling to find out more facts about the event by crawling through different newspaper articles.\n",
        "\n",
        "Note : This notebook was automated by scheduling on daily basis on deepnote.com\n",
        "\n",
        "\n",
        "\n"
      ]
    },
    {
      "cell_type": "code",
      "metadata": {
        "id": "KrhQfoEwaqfn",
        "cell_id": "00000-c7cee3ea-7e02-48e6-9117-b7deff7e6c12",
        "deepnote_to_be_reexecuted": false,
        "source_hash": "95ca2f14",
        "execution_start": 1626262548079,
        "execution_millis": 2304,
        "deepnote_cell_type": "code"
      },
      "source": [
        "# Importing Essential Libraries\n",
        "import pandas as pd\n",
        "import numpy as np\n",
        "import matplotlib.pyplot as plt\n",
        "import string"
      ],
      "execution_count": 2,
      "outputs": []
    },
    {
      "cell_type": "code",
      "metadata": {
        "tags": [],
        "cell_id": "00002-e35f64f9-a303-44e3-b274-e21b1fec410a",
        "deepnote_to_be_reexecuted": false,
        "source_hash": "a984be7",
        "execution_start": 1626262551347,
        "execution_millis": 2346,
        "deepnote_cell_type": "code",
        "id": "j09gxwso28tl"
      },
      "source": [
        "import datetime\n",
        "x = datetime.datetime.now()\n",
        "input_csv = f'/datasets/outputyoutube/Landslide_Project/Youtube_General_{x.strftime(\"%B%d\")}.csv'\n",
        "#df = pd.read_csv('Youtube_General_July14.csv')\n",
        "df= pd.read_csv(input_csv)"
      ],
      "execution_count": 6,
      "outputs": []
    },
    {
      "cell_type": "code",
      "metadata": {
        "colab": {
          "base_uri": "https://localhost:8080/"
        },
        "id": "w8-0wBPtKi2n",
        "cell_id": "00003-56dfc64f-54a0-433a-98e9-41e6f7d0289a",
        "deepnote_to_be_reexecuted": false,
        "source_hash": "14f60b8f",
        "execution_start": 1626262553700,
        "execution_millis": 14,
        "deepnote_cell_type": "code",
        "outputId": "82ec9547-ac17-4dd8-9477-5d83f27d2f46"
      },
      "source": [
        "df.shape"
      ],
      "execution_count": 7,
      "outputs": [
        {
          "output_type": "execute_result",
          "data": {
            "text/plain": [
              "(276, 22)"
            ]
          },
          "metadata": {
            "tags": []
          },
          "execution_count": 7
        }
      ]
    },
    {
      "cell_type": "code",
      "metadata": {
        "id": "glYhIEmRK6G5",
        "cell_id": "00004-e607d8d1-5f57-4d6a-a33d-bdff5b23e1dc",
        "deepnote_to_be_reexecuted": false,
        "source_hash": "14d5b569",
        "execution_start": 1626262553709,
        "execution_millis": 11,
        "deepnote_cell_type": "code"
      },
      "source": [
        "df=df.drop_duplicates(subset=['Video_ID',\n",
        "                                  'Video_Title'])"
      ],
      "execution_count": 8,
      "outputs": []
    },
    {
      "cell_type": "code",
      "metadata": {
        "colab": {
          "base_uri": "https://localhost:8080/"
        },
        "id": "XNbuUwQ3LNUW",
        "cell_id": "00005-ad1f1392-7f1d-45e4-a164-5830376e41c0",
        "deepnote_to_be_reexecuted": false,
        "source_hash": "14f60b8f",
        "execution_start": 1626262554017,
        "execution_millis": 8,
        "deepnote_cell_type": "code",
        "outputId": "58618733-a680-4410-9b6d-3db9f63edc07"
      },
      "source": [
        "df.shape"
      ],
      "execution_count": 9,
      "outputs": [
        {
          "output_type": "execute_result",
          "data": {
            "text/plain": [
              "(276, 22)"
            ]
          },
          "metadata": {
            "tags": []
          },
          "execution_count": 9
        }
      ]
    },
    {
      "cell_type": "markdown",
      "metadata": {
        "id": "mqEoxeXekB93",
        "cell_id": "00007-6e3e182e-5b2c-4ee0-9879-07488619fbdf",
        "deepnote_cell_type": "markdown"
      },
      "source": [
        "# Data Cleaning and preprocessing"
      ]
    },
    {
      "cell_type": "code",
      "metadata": {
        "id": "JxsPFeaNqhXP",
        "cell_id": "00010-f6a27ad4-09d2-4bcc-82da-697175279883",
        "deepnote_to_be_reexecuted": false,
        "source_hash": "b558a660",
        "execution_start": 1626262555334,
        "execution_millis": 5,
        "deepnote_cell_type": "code"
      },
      "source": [
        "# Removing Irrelevant Data ( Using Hard Coding )\n",
        "df_updated = df[df[\"Video_Title\"].str.contains(\"BJP|Switzerland|assassin|battles|czech|fingerstyle guitar|mobile gameplay|Germany|test championship|election|🇩🇪|Elections|vote|child labor agents|child traffickers|Top 10 Disastrous Floods in India|quality product|Shangzhi|New Zealand|Aryan Migration|Learn with BYJU'S|Waterpark in Brazil|Trump mispronounces|PM Modi|Park of Poland|Important Personalities of India|FIVE wicket haul|Covid 19 vaccination|Seaplane arrives|Funny Indoor Activity|Real Royalty|Fun Story|Dispute between India|Movie|CAR vs.|Guru Ka Langar|Voter|Laxmikant Jaybhaye|Nigeria's|Nigeria|Corona Vaccination|Hindi Dubbed Movies|job online|MUPPADAI TRAINING ACADEMY|kedarnath Baba ki|Hidden place|Gangtok|Indonesia|Japan earthquake|India-China Dispute|10 Beautiful Places|Article 370|KFC|Wazwan|Pakistan|Aarti Tikoo|Kashmiri Pandits EXODUS|Bollywood|Paradise on Earth|SOHNIYE|IMPORTANT TOURIST DESTINATIONS|NEW KITCHEN|Students Back To Books|GREEN SHAAG|EASY AND TASTY|ventilators|fresh snowfall|organic|vegetables|Dam Failures|Ball Toys|in Canada|beautiful view|Dream Journey|UNSC|Afghanistan\")==False]"
      ],
      "execution_count": 10,
      "outputs": []
    },
    {
      "cell_type": "code",
      "metadata": {
        "colab": {
          "base_uri": "https://localhost:8080/"
        },
        "id": "o2xEZfNNrHsC",
        "cell_id": "00011-6dd05488-b97e-42f6-aec8-9249dee455a5",
        "deepnote_to_be_reexecuted": false,
        "source_hash": "a38494fe",
        "execution_start": 1626262556530,
        "execution_millis": 13,
        "deepnote_cell_type": "code",
        "outputId": "b4a538a5-13c9-4ddf-a9b0-44349b971925"
      },
      "source": [
        "df_updated.shape"
      ],
      "execution_count": 11,
      "outputs": [
        {
          "output_type": "execute_result",
          "data": {
            "text/plain": [
              "(276, 22)"
            ]
          },
          "metadata": {
            "tags": []
          },
          "execution_count": 11
        }
      ]
    },
    {
      "cell_type": "code",
      "metadata": {
        "id": "2OWPV9U-pJIC",
        "cell_id": "00012-cddbf102-b80c-499b-9b29-63292b58da71",
        "deepnote_to_be_reexecuted": false,
        "source_hash": "14cdcaee",
        "execution_start": 1626262557197,
        "execution_millis": 3,
        "deepnote_cell_type": "code"
      },
      "source": [
        "emojis = {':)': 'smile', ':-)': 'smile', ';d': 'wink', ':-E': 'vampire', ':(': 'sad', \n",
        "          ':-(': 'sad', ':-<': 'sad', ':P': 'raspberry', ':O': 'surprised',\n",
        "          ':-@': 'shocked', ':@': 'shocked',':-$': 'confused', ':\\\\': 'annoyed', \n",
        "          ':#': 'mute', ':X': 'mute', ':^)': 'smile', ':-&': 'confused', '$_$': 'greedy',\n",
        "          '@@': 'eyeroll', ':-!': 'confused', ':-D': 'smile', ':-0': 'yell', 'O.o': 'confused',\n",
        "          '<(-_-)>': 'robot', 'd[-_-]b': 'dj', \":'-)\": 'sadsmile', ';)': 'wink', \n",
        "          ';-)': 'wink', 'O:-)': 'angel','O*-)': 'angel','(:-D': 'gossip', '=^.^=': 'cat'\n",
        "          ,'🌏': '','🔔': '','👈':'','✔':'','🔥':''}"
      ],
      "execution_count": 12,
      "outputs": []
    },
    {
      "cell_type": "code",
      "metadata": {
        "id": "Ne-XeFgZup0h",
        "cell_id": "00013-d8be2fe5-152e-45c2-8adb-80d05f74cd90",
        "deepnote_to_be_reexecuted": false,
        "source_hash": "3ca5f826",
        "execution_start": 1626262557393,
        "execution_millis": 11937,
        "deepnote_cell_type": "code"
      },
      "source": [
        "%%capture\n",
        "import re\n",
        "import nltk\n",
        "import string\n",
        "from nltk.tokenize import word_tokenize\n",
        "from nltk.corpus import stopwords\n",
        "from nltk.stem import WordNetLemmatizer\n",
        "nltk.download('stopwords')\n",
        "nltk.download('punkt')\n",
        "nltk.download('wordnet')\n",
        "tokens = word_tokenize(str(df['Description']))\n",
        "lemmatizer = WordNetLemmatizer()\n",
        "!pip install ml2en\n",
        "#!pip install mtranslate\n",
        "!pip install google_trans_new"
      ],
      "execution_count": 13,
      "outputs": []
    },
    {
      "cell_type": "code",
      "metadata": {
        "id": "fH2JPbUwj_B7",
        "cell_id": "00014-9c4000b1-7874-403f-bc29-a1f591502e9e",
        "deepnote_to_be_reexecuted": false,
        "source_hash": "eb7ca743",
        "execution_start": 1626262569337,
        "execution_millis": 2,
        "deepnote_cell_type": "code"
      },
      "source": [
        "# Converting malyalam to english.\n",
        "from ml2en import ml2en\n",
        "converter = ml2en()\n",
        "#from mtranslate import translate"
      ],
      "execution_count": 14,
      "outputs": []
    },
    {
      "cell_type": "code",
      "metadata": {
        "tags": [],
        "cell_id": "00012-7af4ab69-9a7c-42fd-a1ea-295317967bca",
        "deepnote_to_be_reexecuted": false,
        "source_hash": "ce106d0e",
        "execution_start": 1626262569386,
        "execution_millis": 0,
        "deepnote_cell_type": "code",
        "id": "vtvHpELE28tv"
      },
      "source": [
        "from google_trans_new import google_translator  \n",
        "translator = google_translator()  "
      ],
      "execution_count": 15,
      "outputs": []
    },
    {
      "cell_type": "code",
      "metadata": {
        "tags": [],
        "cell_id": "00012-29094f23-2b27-4f6f-b5f7-50140975ba8d",
        "deepnote_to_be_reexecuted": false,
        "source_hash": "cb343a57",
        "execution_start": 1626262569386,
        "execution_millis": 0,
        "deepnote_cell_type": "code",
        "id": "r9RXbevU28tw"
      },
      "source": [
        "def translate(text) :\n",
        "    text =str(text)\n",
        "    text = converter.transliterate(text)\n",
        "    #text = translate(text)\n",
        "    translate_text = translator.translate(text,lang_tgt='en')  \n",
        "    return translate_text"
      ],
      "execution_count": 16,
      "outputs": []
    },
    {
      "cell_type": "code",
      "metadata": {
        "tags": [],
        "cell_id": "00013-ad66283a-3aa5-4f01-af73-ebd34acd4b66",
        "deepnote_to_be_reexecuted": false,
        "source_hash": "aeed5386",
        "execution_start": 1626262569387,
        "execution_millis": 110,
        "deepnote_cell_type": "code",
        "id": "pIbXbwTs28tw"
      },
      "source": [
        "try :\n",
        "    df_updated['Video_Title'] = df_updated['Video_Title'].apply(translate)\n",
        "except :\n",
        "    pass"
      ],
      "execution_count": 17,
      "outputs": []
    },
    {
      "cell_type": "code",
      "metadata": {
        "tags": [],
        "cell_id": "00015-f7380589-1ad3-4630-8a90-d79b7d9345b3",
        "deepnote_to_be_reexecuted": false,
        "source_hash": "9d554cdc",
        "execution_start": 1626262569557,
        "execution_millis": 58,
        "deepnote_cell_type": "code",
        "colab": {
          "base_uri": "https://localhost:8080/",
          "height": 538
        },
        "id": "-_l3--wW28tw",
        "outputId": "338a17bb-0b11-45e7-c8e6-14887c2871a0"
      },
      "source": [
        "df_updated.head()"
      ],
      "execution_count": 18,
      "outputs": [
        {
          "output_type": "execute_result",
          "data": {
            "text/html": [
              "<div>\n",
              "<style scoped>\n",
              "    .dataframe tbody tr th:only-of-type {\n",
              "        vertical-align: middle;\n",
              "    }\n",
              "\n",
              "    .dataframe tbody tr th {\n",
              "        vertical-align: top;\n",
              "    }\n",
              "\n",
              "    .dataframe thead th {\n",
              "        text-align: right;\n",
              "    }\n",
              "</style>\n",
              "<table border=\"1\" class=\"dataframe\">\n",
              "  <thead>\n",
              "    <tr style=\"text-align: right;\">\n",
              "      <th></th>\n",
              "      <th>Unnamed: 0</th>\n",
              "      <th>Unnamed: 0.1</th>\n",
              "      <th>Topic</th>\n",
              "      <th>Channel_Name</th>\n",
              "      <th>TimeQueried</th>\n",
              "      <th>Video_Title</th>\n",
              "      <th>Video_ID</th>\n",
              "      <th>Published_At</th>\n",
              "      <th>duration</th>\n",
              "      <th>viewCount</th>\n",
              "      <th>likeCount</th>\n",
              "      <th>dislikeCount</th>\n",
              "      <th>favoriteCount</th>\n",
              "      <th>commentCount</th>\n",
              "      <th>Description</th>\n",
              "      <th>Location</th>\n",
              "      <th>Tags</th>\n",
              "      <th>Latitude</th>\n",
              "      <th>Longitude</th>\n",
              "      <th>Transcript</th>\n",
              "      <th>clean_title</th>\n",
              "      <th>clean_description</th>\n",
              "    </tr>\n",
              "  </thead>\n",
              "  <tbody>\n",
              "    <tr>\n",
              "      <th>0</th>\n",
              "      <td>0</td>\n",
              "      <td>0</td>\n",
              "      <td>landslide</td>\n",
              "      <td>The Tribune</td>\n",
              "      <td>2021-07-14 04:57:17.998203</td>\n",
              "      <td>Dharamsala flash floods:10 persons missing in ...</td>\n",
              "      <td>Ht6YmGsebdU</td>\n",
              "      <td>2021-07-13T09:39:59Z</td>\n",
              "      <td>PT2M53S</td>\n",
              "      <td>13275</td>\n",
              "      <td>NaN</td>\n",
              "      <td>NaN</td>\n",
              "      <td>NaN</td>\n",
              "      <td>NaN</td>\n",
              "      <td>Read story here: https://tinyurl.com/e2yvdscn\\...</td>\n",
              "      <td>NaN</td>\n",
              "      <td>NaN</td>\n",
              "      <td>NaN</td>\n",
              "      <td>NaN</td>\n",
              "      <td>NaN</td>\n",
              "      <td>dharamsala,flash,person,missing,landslide,pres...</td>\n",
              "      <td>read,story,dharamsala,flashflood,himachalprade...</td>\n",
              "    </tr>\n",
              "    <tr>\n",
              "      <th>1</th>\n",
              "      <td>1</td>\n",
              "      <td>1</td>\n",
              "      <td>landslide</td>\n",
              "      <td>TV9 Gujarati</td>\n",
              "      <td>2021-07-14 04:57:18.069278</td>\n",
              "      <td>Six houses swept away as landslide hits Himach...</td>\n",
              "      <td>8c8DOhJkIL8</td>\n",
              "      <td>2021-07-13T05:37:53Z</td>\n",
              "      <td>PT38S</td>\n",
              "      <td>3120</td>\n",
              "      <td>NaN</td>\n",
              "      <td>NaN</td>\n",
              "      <td>NaN</td>\n",
              "      <td>NaN</td>\n",
              "      <td>Six houses swept away as landslide hits Himach...</td>\n",
              "      <td>NaN</td>\n",
              "      <td>NaN</td>\n",
              "      <td>NaN</td>\n",
              "      <td>NaN</td>\n",
              "      <td>NaN</td>\n",
              "      <td>six,house,swept,away,landslide,hit,himachal,ka...</td>\n",
              "      <td>six,house,swept,away,landslide,hit,himachal,ka...</td>\n",
              "    </tr>\n",
              "    <tr>\n",
              "      <th>2</th>\n",
              "      <td>2</td>\n",
              "      <td>2</td>\n",
              "      <td>landslide</td>\n",
              "      <td>TV9 Bharatvarsh</td>\n",
              "      <td>2021-07-14 04:57:18.125585</td>\n",
              "      <td>पहाड़ों पर बरसी आसमानी आफत! Tehri में Landslid...</td>\n",
              "      <td>Mm_kCpnZPdg</td>\n",
              "      <td>2021-07-13T08:43:21Z</td>\n",
              "      <td>PT5M38S</td>\n",
              "      <td>5089</td>\n",
              "      <td>NaN</td>\n",
              "      <td>NaN</td>\n",
              "      <td>NaN</td>\n",
              "      <td>NaN</td>\n",
              "      <td>हिमाचल प्रदेश में लगातार बारिश हो रही है. कई इ...</td>\n",
              "      <td>NaN</td>\n",
              "      <td>NaN</td>\n",
              "      <td>NaN</td>\n",
              "      <td>NaN</td>\n",
              "      <td>NaN</td>\n",
              "      <td>पर,आफत,tehri,landslide</td>\n",
              "      <td>कई,बन,गई,गई,वजह,एक,जगह,जगह,सफर,landslide,tehri...</td>\n",
              "    </tr>\n",
              "    <tr>\n",
              "      <th>3</th>\n",
              "      <td>3</td>\n",
              "      <td>3</td>\n",
              "      <td>landslide</td>\n",
              "      <td>Aaj Tak</td>\n",
              "      <td>2021-07-14 04:57:18.187915</td>\n",
              "      <td>Monsoon Reach At Delhi-NCR I Rain Continue In ...</td>\n",
              "      <td>Dgxdnq7QHmw</td>\n",
              "      <td>2021-07-13T05:21:31Z</td>\n",
              "      <td>PT21M1S</td>\n",
              "      <td>17595</td>\n",
              "      <td>NaN</td>\n",
              "      <td>NaN</td>\n",
              "      <td>NaN</td>\n",
              "      <td>NaN</td>\n",
              "      <td>आखिरकार Delhi-NCR में मानसून पहुंच ही गया. सुब...</td>\n",
              "      <td>NaN</td>\n",
              "      <td>NaN</td>\n",
              "      <td>NaN</td>\n",
              "      <td>NaN</td>\n",
              "      <td>NaN</td>\n",
              "      <td>monsoon,reach,delhincr,rain,continue,delhi,lan...</td>\n",
              "      <td>delhincr,कई,वजह,पर,पर,लग,गए,himachal,pradesh,c...</td>\n",
              "    </tr>\n",
              "    <tr>\n",
              "      <th>4</th>\n",
              "      <td>4</td>\n",
              "      <td>4</td>\n",
              "      <td>landslide</td>\n",
              "      <td>Oneindia Hindi | वनइंडिया हिन्दी</td>\n",
              "      <td>2021-07-14 04:57:18.239435</td>\n",
              "      <td>Heavy Rain in Kangra: Himachal Pradesh के Boh ...</td>\n",
              "      <td>6UGIhugiF5E</td>\n",
              "      <td>2021-07-13T09:30:00Z</td>\n",
              "      <td>PT3M4S</td>\n",
              "      <td>1813</td>\n",
              "      <td>NaN</td>\n",
              "      <td>NaN</td>\n",
              "      <td>NaN</td>\n",
              "      <td>NaN</td>\n",
              "      <td>Landslide occurred after heavy rains in Boh ar...</td>\n",
              "      <td>NaN</td>\n",
              "      <td>NaN</td>\n",
              "      <td>NaN</td>\n",
              "      <td>NaN</td>\n",
              "      <td>NaN</td>\n",
              "      <td>heavy,rain,kangra,himachal,pradesh,boh,landslide</td>\n",
              "      <td>landslide,occurred,heavy,rain,boh,area,shahpur...</td>\n",
              "    </tr>\n",
              "  </tbody>\n",
              "</table>\n",
              "</div>"
            ],
            "text/plain": [
              "   Unnamed: 0  ...                                  clean_description\n",
              "0           0  ...  read,story,dharamsala,flashflood,himachalprade...\n",
              "1           1  ...  six,house,swept,away,landslide,hit,himachal,ka...\n",
              "2           2  ...  कई,बन,गई,गई,वजह,एक,जगह,जगह,सफर,landslide,tehri...\n",
              "3           3  ...  delhincr,कई,वजह,पर,पर,लग,गए,himachal,pradesh,c...\n",
              "4           4  ...  landslide,occurred,heavy,rain,boh,area,shahpur...\n",
              "\n",
              "[5 rows x 22 columns]"
            ]
          },
          "metadata": {
            "tags": []
          },
          "execution_count": 18
        }
      ]
    },
    {
      "cell_type": "code",
      "metadata": {
        "tags": [],
        "cell_id": "00014-a60383aa-2e60-4252-b3b9-e83d552f2a12",
        "deepnote_to_be_reexecuted": false,
        "source_hash": "52c8b925",
        "execution_start": 1626262569604,
        "execution_millis": 2,
        "deepnote_cell_type": "code",
        "id": "rCt2AJZG28tx"
      },
      "source": [
        "import sys\n",
        "sys.setrecursionlimit(10000)"
      ],
      "execution_count": 19,
      "outputs": []
    },
    {
      "cell_type": "code",
      "metadata": {
        "id": "LuvQ7sPsuht3",
        "cell_id": "00016-8ac0798e-f75e-4375-8dc9-2e4fa98e49d8",
        "deepnote_to_be_reexecuted": false,
        "source_hash": "1c1ef254",
        "execution_start": 1626262569611,
        "execution_millis": 6,
        "deepnote_cell_type": "code"
      },
      "source": [
        "def TextClean_Final(text):\n",
        "  text =str(text)\n",
        "  text = text.lower()\n",
        "  text = re.sub(r'@[a-z0-9_]\\S+' , '', text)\n",
        "  text = re.sub(r'&[a-z0-9_]\\S+','',text)\n",
        "  text = re.sub(r'rt[\\s]+', '', text)\n",
        "  text = re.sub(r'\\$', '', text)\n",
        "  text = re.sub(r'rt+', '', text)\n",
        "  text = re.sub(r'https?:?\\/\\/\\S+', '', text)\n",
        "  for emoji in emojis.keys():\n",
        "    text = text.replace(emoji, \"\" + emojis[emoji])\n",
        "  \n",
        "  tokens = word_tokenize(text)\n",
        "  table = str.maketrans('', '', string.punctuation)\n",
        "  stripped = [w.translate(table) for w in tokens]\n",
        "  text = [word for word in stripped if word.isalpha()]\n",
        "  stop_words = set(stopwords.words('english'))\n",
        "  text = [w for w in text if not w in stop_words]\n",
        "  text = [lemmatizer.lemmatize(word) for word in text]\n",
        "  return ','.join(text)"
      ],
      "execution_count": 20,
      "outputs": []
    },
    {
      "cell_type": "code",
      "metadata": {
        "id": "yEvxBI-_vj8F",
        "cell_id": "00017-b1f7bbde-2349-453f-9586-085ccb3dec79",
        "deepnote_to_be_reexecuted": false,
        "source_hash": "f6921c07",
        "execution_start": 1626262569662,
        "execution_millis": 3320,
        "deepnote_cell_type": "code"
      },
      "source": [
        "df_updated['clean_title'] = df_updated['Video_Title'].apply(TextClean_Final)\n",
        "df_updated['clean_description'] = df_updated['Description'].apply(TextClean_Final)"
      ],
      "execution_count": 21,
      "outputs": []
    },
    {
      "cell_type": "code",
      "metadata": {
        "colab": {
          "base_uri": "https://localhost:8080/"
        },
        "id": "DcJqo8kmdvhP",
        "cell_id": "00018-8051d23e-3e74-41ea-8c0d-ca9c06e65bd9",
        "deepnote_to_be_reexecuted": false,
        "source_hash": "3fafde21",
        "execution_start": 1626262572981,
        "execution_millis": 15,
        "deepnote_cell_type": "code",
        "outputId": "34e2600d-abac-4b8c-de18-1b2d86464e7c"
      },
      "source": [
        "len(df_updated['Description'].unique())"
      ],
      "execution_count": 22,
      "outputs": [
        {
          "output_type": "execute_result",
          "data": {
            "text/plain": [
              "239"
            ]
          },
          "metadata": {
            "tags": []
          },
          "execution_count": 22
        }
      ]
    },
    {
      "cell_type": "code",
      "metadata": {
        "tags": [],
        "cell_id": "00015-0fc2ca5e-4185-4adc-8d15-fe672bd032bc",
        "deepnote_to_be_reexecuted": false,
        "source_hash": "6e7c3a09",
        "execution_start": 1626262572989,
        "execution_millis": 20,
        "deepnote_cell_type": "code",
        "colab": {
          "base_uri": "https://localhost:8080/"
        },
        "id": "dYysNiIo28ty",
        "outputId": "997d143c-6864-40a7-d3a9-d15ee74e7a4d"
      },
      "source": [
        "df_updated['clean_title']"
      ],
      "execution_count": 23,
      "outputs": [
        {
          "output_type": "execute_result",
          "data": {
            "text/plain": [
              "0      dharamsala,flash,person,missing,landslide,pres...\n",
              "1      six,house,swept,away,landslide,hit,himachal,ka...\n",
              "2                                 पर,आफत,tehri,landslide\n",
              "3      monsoon,reach,delhincr,rain,continue,delhi,lan...\n",
              "4       heavy,rain,kangra,himachal,pradesh,boh,landslide\n",
              "                             ...                        \n",
              "271    july,uttarakhand,news,live,today,uttarakhand,k...\n",
              "272    daily,bihar,news,july,bihar,ki,khabren,bihar,n...\n",
              "273    july,खबर,morning,uttarakhand,news,uk,news,live...\n",
              "274    himachal,pradesh,cloud,burst,cloud,burst,himac...\n",
              "275    corruption,uttarakhand,road,infrastructure,pc,ssc\n",
              "Name: clean_title, Length: 276, dtype: object"
            ]
          },
          "metadata": {
            "tags": []
          },
          "execution_count": 23
        }
      ]
    },
    {
      "cell_type": "code",
      "metadata": {
        "tags": [],
        "cell_id": "00015-2015d879-a812-4db8-b01c-e17d87d1ec0b",
        "deepnote_to_be_reexecuted": false,
        "source_hash": "dd7a8e48",
        "execution_start": 1626262573013,
        "execution_millis": 13,
        "deepnote_cell_type": "code",
        "colab": {
          "base_uri": "https://localhost:8080/"
        },
        "id": "NoZ_QvVE28ty",
        "outputId": "b450ce89-3b1b-4510-fd9a-f6beaeb8a7a7"
      },
      "source": [
        "df_updated['Video_Title']"
      ],
      "execution_count": 24,
      "outputs": [
        {
          "output_type": "execute_result",
          "data": {
            "text/plain": [
              "0      Dharamsala flash floods:10 persons missing in ...\n",
              "1      Six houses swept away as landslide hits Himach...\n",
              "2      पहाड़ों पर बरसी आसमानी आफत! Tehri में Landslid...\n",
              "3      Monsoon Reach At Delhi-NCR I Rain Continue In ...\n",
              "4      Heavy Rain in Kangra: Himachal Pradesh के Boh ...\n",
              "                             ...                        \n",
              "271    13 JULY 2021| uttarakhand  news live today | u...\n",
              "272    Daily Bihar news 13 JULY 2021 !!  Bihar ki kha...\n",
              "273    14 July 2021 I उत्तराखंड की ताजा खबर I Morning...\n",
              "274    himachal pradesh cloud burst  | Cloud Burst in...\n",
              "275    Corruption On Uttarakhand In Road Infrastructu...\n",
              "Name: Video_Title, Length: 276, dtype: object"
            ]
          },
          "metadata": {
            "tags": []
          },
          "execution_count": 24
        }
      ]
    },
    {
      "cell_type": "code",
      "metadata": {
        "tags": [],
        "cell_id": "00016-46673633-e92a-4f15-942d-4df5da0846ac",
        "deepnote_to_be_reexecuted": false,
        "source_hash": "89b9f647",
        "execution_start": 1626262767913,
        "execution_millis": 1,
        "deepnote_cell_type": "code",
        "id": "kihFGsQe28tz"
      },
      "source": [
        "output_date = f'Youtube_General_{x.strftime(\"%B%d\")}.csv'"
      ],
      "execution_count": null,
      "outputs": []
    },
    {
      "cell_type": "code",
      "metadata": {
        "tags": [],
        "cell_id": "00017-2eb40258-b0ae-436c-8efe-2f347f2f95d4",
        "deepnote_to_be_reexecuted": false,
        "source_hash": "966c4760",
        "execution_start": 1626262768043,
        "execution_millis": 4004,
        "deepnote_cell_type": "code",
        "id": "o125siZC28tz",
        "outputId": "5b9c23cc-3e95-454c-87bf-833d283eea91"
      },
      "source": [
        "df_updated.to_csv(f'/datasets/outputyoutube/Landslide_Project/{output_date}')\n",
        "print(\"The final youtube data is saved as : \"+output_date)"
      ],
      "execution_count": null,
      "outputs": [
        {
          "output_type": "stream",
          "text": [
            "The final youtube data is saved as : Youtube_General_July14.csv\n"
          ],
          "name": "stdout"
        }
      ]
    },
    {
      "cell_type": "markdown",
      "metadata": {
        "id": "7ipTxz5rq6jU",
        "cell_id": "00028-53526608-634e-4592-a465-e626e35dffac",
        "deepnote_cell_type": "markdown"
      },
      "source": [
        "# Data Analysis and Clustering"
      ]
    },
    {
      "cell_type": "code",
      "metadata": {
        "id": "xnd9cXywq5xK",
        "cell_id": "00029-a90b7a88-9948-402f-98ea-0ea99a9087b2",
        "deepnote_to_be_reexecuted": false,
        "source_hash": "256b37c8",
        "execution_start": 1626262792910,
        "execution_millis": 9270,
        "deepnote_cell_type": "code"
      },
      "source": [
        "%%capture\n",
        "!pip install -U sentence-transformers"
      ],
      "execution_count": 25,
      "outputs": []
    },
    {
      "cell_type": "code",
      "metadata": {
        "id": "6VxZ0pByrKu7",
        "cell_id": "00030-575c4b9a-c9ff-43a9-a118-afcf857af2ca",
        "deepnote_to_be_reexecuted": false,
        "source_hash": "69b300b6",
        "execution_start": 1626262802187,
        "execution_millis": 13912,
        "deepnote_cell_type": "code"
      },
      "source": [
        "from apiclient.discovery import build\n",
        "import argparse\n",
        "import csv\n",
        "import pandas as pd\n",
        "from sentence_transformers import SentenceTransformer\n",
        "from sklearn.cluster import KMeans\n",
        "import datetime as dt\n",
        "from matplotlib import pyplot as plt\n",
        "import math"
      ],
      "execution_count": 26,
      "outputs": []
    },
    {
      "cell_type": "code",
      "metadata": {
        "id": "LMNprcL-rK63",
        "cell_id": "00031-bc28f699-9b2c-4120-b1e2-1cfc63e97866",
        "deepnote_to_be_reexecuted": false,
        "source_hash": "ef80c5aa",
        "execution_start": 1626262816107,
        "execution_millis": 1141,
        "deepnote_cell_type": "code"
      },
      "source": [
        "%%capture\n",
        "embedder = SentenceTransformer('distilbert-base-nli-stsb-mean-tokens') # Distilbert gives a nice balance between speed and performance"
      ],
      "execution_count": 27,
      "outputs": []
    },
    {
      "cell_type": "code",
      "metadata": {
        "id": "3nVp4M95rK97",
        "cell_id": "00032-de5c6b29-22ee-40c9-bf64-86ca73429842",
        "deepnote_to_be_reexecuted": true,
        "source_hash": "b65c3370",
        "execution_start": 1624946536145,
        "execution_millis": 43,
        "deepnote_cell_type": "code"
      },
      "source": [
        "corpus_t=df_updated['Video_Title'][0:50].values\n",
        "#corpus_d=df_updated[\"Description\"]\n",
        "corpus_embeddings = embedder.encode(corpus_t)"
      ],
      "execution_count": 37,
      "outputs": []
    },
    {
      "cell_type": "code",
      "metadata": {
        "id": "F7Zfl-pyrLAw",
        "cell_id": "00033-c617a2fe-8141-48d9-b302-8cd47b071702",
        "deepnote_to_be_reexecuted": true,
        "source_hash": "5576dac1",
        "deepnote_cell_type": "code"
      },
      "source": [
        "from sklearn.cluster import KMeans\n",
        "\n",
        "num_clusters = 4\n",
        "clustering_model = KMeans(n_clusters=num_clusters)\n",
        "clustering_model.fit(corpus_embeddings)\n",
        "cluster_assignment = clustering_model.labels_"
      ],
      "execution_count": 46,
      "outputs": []
    },
    {
      "cell_type": "code",
      "metadata": {
        "colab": {
          "base_uri": "https://localhost:8080/"
        },
        "id": "CJjtpOKzrLEL",
        "cell_id": "00034-86a155ef-5bc2-4d79-8013-b85a937ea5f3",
        "deepnote_to_be_reexecuted": true,
        "source_hash": "95242ac5",
        "deepnote_cell_type": "code",
        "outputId": "fa4e865c-894b-4105-dcf8-d4920b81f319"
      },
      "source": [
        "clustered_sentences = [[] for i in range(num_clusters)]\n",
        "for sentence_id, cluster_id in enumerate(cluster_assignment):\n",
        "    clustered_sentences[cluster_id].append(corpus_t[sentence_id])\n",
        "\n",
        "for i, cluster in enumerate(clustered_sentences):\n",
        "    print(\"Cluster \", i+1)\n",
        "    print(cluster)\n",
        "    print(\"\")"
      ],
      "execution_count": 47,
      "outputs": [
        {
          "output_type": "stream",
          "text": [
            "Cluster  1\n",
            "[\"Six houses swept away as landslide hits Himachal's Kangra district | TV9News\", 'Kalsi Chakrata Road in Vikasnagar closed due to Landslide | Landslide viral video | Uttarakhand', 'Dawn News headlines 03 PM | Hotel destroy due to landslide |13 July 2021', '9 People Goes Missing After Rains Trigger Massive Landslide In Himachal Pradesh | Vijay Karnataka', 'Due to the landslide mountain collapsed in Vikasnagar | Uttarakhand landslide viral video', 'NH44 Ramban Update; Jammu Srinagar National Highway blocked due to landslide at Cafeteria Ramban', \"'Weird,' 'Frightening,' 'Disastrous': Inside Trump’s Paranoid Final Days In Office\", 'Multi Excavators-Same Hilly Work-Cutting Hill-Removing Road Dirt-Excavators Video', 'Uttarkashi Landslide | Heavy Rainfall | Weather | Uttarakhand | Gangotri Yamunotri Highway Closed']\n",
            "\n",
            "Cluster  2\n",
            "['Monsoon Reach At Delhi-NCR I Rain Continue In Delhi I Landslide In Himachal And Uttarakhand', 'Rain Continue In Delhi I Landslide In Himachal And Uttarakhand I Monsoon Reach At Delhi NCR', 'Himachal Pradesh Landslide | Heavy Rain In Himachal Pradesh | Sky Lighting In UP-Rajasthan | Tez', 'Landslide in Himachal Pradesh | Himachal News | Kangra | Heavy Rainfall | Shorts | CNN News18', \"Nature's Fury Batters Himachal Pradesh; Rains, Cloudburst, Flash-Floods, Landslide Maroon Many Parts\", 'Monsoon Wreaks Havoc With ‘Flash Flood’ In Himachal Pradesh, Landslide In Uttarakhand', 'Incessant Rains Trigger Flash Floods, Cloudburst, Landslides In Uttarakhand, Himachal Pradesh', 'Heavy Rains Trigger Floods & Landslides In Himachal Pradesh, Uttarakhand; IMD Issues Alert', 'Heavy Rains Trigger Landslides, Traffic Jams In Many Parts Of Maharashtra; IMD Issues Red Alert', 'Srinagar Heavy Rain | Dehradun Vikasnagar River Overflow | Cloudburst | Landslide | Uttarakhand |', 'Srinagar Garhwal Heavy Rainfall | Cloudburst | Landslide | Uttarakhand | Weather | Latest News']\n",
            "\n",
            "Cluster  3\n",
            "['Dharamsala flash floods:10 persons missing in landslide presumed dead; 184 roads blocked in Himachal', \"Rescue operations underway in Himachal's Kangra after landslides, floods\", \"Rescue ops underway in Himachal's Kangra after landslides, floods\", 'Kangra Landslide: Rescue Operation Continues, 3 Bodies Recovered, Five Still Missing', 'Massive Landslides & Floods Hit Himachal Pradesh, Kangra, Dharamshala Worst-Hit; Rescue Ops Underway', \"Rescue Ops Underway In Himachal's Kangra After Landslides, Floods\", 'JCB Backhoe Loader Making Drain For Wall Construction To Stop Landslide | #JCBBackhoe Loader Video', \"Rescue Operations Underway In Himachal's Kangra After Landslides, Floods | Catch News\", 'Himachal Pradesh: 7 dead in Kangra landslides, floods', 'Himachal Pradesh Floods: Rescue Operations At Bow Valley | V6 News']\n",
            "\n",
            "Cluster  4\n",
            "['Himachal Pradesh Landslide | 5 Rescued From Kangar Area', 'Landslide at Veling Priol Goankarwada', 'Himachal Pradesh: Massive landslide in Boh valley in Kangra district | KeralaKaumudi', 'Landslide', 'Lyrical Group - Landslide', 'Landslide in Abanda Majuwa', 'Landslide in Himachal Pradesh', 'Huge Landslide at Near by Chakrata road. Uttarakhand,India']\n",
            "\n",
            "Cluster  5\n",
            "['पहाड़ों पर बरसी आसमानी आफत! Tehri में Landslide के बाद नाले में गिरी कार', 'Heavy Rain in Kangra: Himachal Pradesh के Boh में Landslide, 10 लोग लापता | वनइंडिया हिंदी', 'Himachal Pradesh: District Kangra Mein Landslide Se Bure Halat | Relief Ka Kaam Jari | News18 Urdu', 'Himachal के बोह में Landslide, 10 लोगों की मौत की आंशका, 2 शव मिले | Viral Video', 'Landslide In Himachal: देश के कई हिस्सों में आफत की बरसात, हिमाचल प्रदेश में पहाड़ दरकने से हाहाकार', 'Landslide in Utrakhand NH 7 . #shorts', 'खबर देश से: दरकता हिमालय | Landslide in Himachal | Uttarakhand | Kashmir | Heavy Rainfall | JTV', 'J&K News: Srinagar-Muzaffarabad Road Ko Landslide Ki Wajah Se Bandh Kiya Gaya | News18 Urdu', 'Ghar ke sath ho rha hai Landslide 🙄 |Jogi Jangam ki Kahani', 'Легальные читы в Geometry dash??😳 [62]', 'Bachaao Yarr isse Koi | Bura haal ho gaya Mera to | Landslide In My Village | Pahadi Lifestyle', 'बादल फटने से तबाही//हिमाचल//landslide']\n",
            "\n"
          ],
          "name": "stdout"
        }
      ]
    },
    {
      "cell_type": "code",
      "metadata": {
        "colab": {
          "base_uri": "https://localhost:8080/",
          "height": 295
        },
        "id": "tD-lDF7XrLGj",
        "cell_id": "00035-0d69bd0a-f777-4dea-a42a-7f84eff97f1b",
        "deepnote_to_be_reexecuted": true,
        "source_hash": "c0a2d92d",
        "deepnote_cell_type": "code",
        "outputId": "f7a1dd9f-a5ae-4a5a-f4d5-c0bedfc7a833"
      },
      "source": [
        "wcss = []\n",
        "for i in range(1, 25):\n",
        "    kmeans = KMeans(n_clusters=i, init='k-means++', max_iter=300, n_init=10, random_state=0)\n",
        "    kmeans.fit(corpus_embeddings)\n",
        "    wcss.append(kmeans.inertia_)\n",
        "plt.plot(range(1, 25), wcss)\n",
        "plt.title('Elbow Method')\n",
        "plt.xlabel('Number of clusters')\n",
        "plt.ylabel('WCSS')\n",
        "plt.show()"
      ],
      "execution_count": 40,
      "outputs": [
        {
          "output_type": "display_data",
          "data": {
            "image/png": "[encoded data removed]",
            "text/plain": [
              "<Figure size 432x288 with 1 Axes>"
            ]
          },
          "metadata": {
            "tags": [],
            "needs_background": "light"
          }
        }
      ]
    },
    {
      "cell_type": "code",
      "metadata": {
        "colab": {
          "base_uri": "https://localhost:8080/",
          "height": 295
        },
        "id": "rztO3qSrrLJc",
        "cell_id": "00036-70549f1f-f7f9-4d1e-a515-ce8d4d5bf546",
        "deepnote_to_be_reexecuted": true,
        "source_hash": "d77e947f",
        "deepnote_cell_type": "code",
        "outputId": "75313e36-fc54-4812-8c3d-6d7263bc83b2"
      },
      "source": [
        "wcss = []\n",
        "for i in range(1, 15):\n",
        "    kmeans = KMeans(n_clusters=i, init='k-means++', max_iter=300, n_init=10, random_state=0)\n",
        "    kmeans.fit(corpus_embeddings)\n",
        "    wcss.append(kmeans.inertia_ + 500*math.log(i))\n",
        "plt.plot(range(1, 15), wcss)\n",
        "plt.title('Elbow Method')\n",
        "plt.xlabel('Number of clusters')\n",
        "plt.ylabel('WCSS')\n",
        "plt.show()"
      ],
      "execution_count": 41,
      "outputs": [
        {
          "output_type": "display_data",
          "data": {
            "image/png": "[encoded data removed]",
            "text/plain": [
              "<Figure size 432x288 with 1 Axes>"
            ]
          },
          "metadata": {
            "tags": [],
            "needs_background": "light"
          }
        }
      ]
    },
    {
      "cell_type": "code",
      "metadata": {
        "id": "OrY-KwjqsA91",
        "cell_id": "00037-9e26d60a-a8d8-4810-b830-f896ae9317f6",
        "deepnote_to_be_reexecuted": true,
        "source_hash": "83b18aaa",
        "deepnote_cell_type": "code"
      },
      "source": [
        "import numpy as np\n",
        "from scipy.cluster import hierarchy\n",
        "from scipy.cluster.hierarchy import dendrogram\n",
        "from sklearn.datasets import load_iris\n",
        "from sklearn.cluster import AgglomerativeClustering\n"
      ],
      "execution_count": 42,
      "outputs": []
    },
    {
      "cell_type": "code",
      "metadata": {
        "colab": {
          "base_uri": "https://localhost:8080/",
          "height": 266
        },
        "id": "hPchuXRVsBI2",
        "cell_id": "00038-9800652a-aaef-4842-bd78-128bcd9e05d1",
        "deepnote_to_be_reexecuted": true,
        "source_hash": "4ddc591f",
        "deepnote_cell_type": "code",
        "outputId": "6822db3a-a790-4d11-adb4-121603d17e5b"
      },
      "source": [
        "Z = hierarchy.linkage(corpus_embeddings, 'single')\n",
        "plt.figure()\n",
        "dn = hierarchy.dendrogram(Z)"
      ],
      "execution_count": 43,
      "outputs": [
        {
          "output_type": "display_data",
          "data": {
            "image/png": "[encoded data removed]",
            "text/plain": [
              "<Figure size 432x288 with 1 Axes>"
            ]
          },
          "metadata": {
            "tags": [],
            "needs_background": "light"
          }
        }
      ]
    },
    {
      "cell_type": "code",
      "metadata": {
        "colab": {
          "base_uri": "https://localhost:8080/",
          "height": 266
        },
        "id": "r63qdJPpsBLU",
        "cell_id": "00039-7e6f12aa-b763-41ea-8f59-d77f1f02d3eb",
        "deepnote_to_be_reexecuted": true,
        "source_hash": "34832a6",
        "deepnote_cell_type": "code",
        "outputId": "823b0c34-7748-4dad-f4d6-119e9aa9b692"
      },
      "source": [
        "Z = hierarchy.linkage(corpus_embeddings, 'complete')\n",
        "plt.figure()\n",
        "dn = hierarchy.dendrogram(Z)"
      ],
      "execution_count": 44,
      "outputs": [
        {
          "output_type": "display_data",
          "data": {
            "image/png": "[encoded data removed]",
            "text/plain": [
              "<Figure size 432x288 with 1 Axes>"
            ]
          },
          "metadata": {
            "tags": [],
            "needs_background": "light"
          }
        }
      ]
    },
    {
      "cell_type": "code",
      "metadata": {
        "colab": {
          "base_uri": "https://localhost:8080/"
        },
        "id": "m2u7_GExsBN2",
        "cell_id": "00040-b91a7459-d9fa-45dc-9704-60177ba83f22",
        "deepnote_to_be_reexecuted": true,
        "source_hash": "94c13828",
        "deepnote_cell_type": "code",
        "outputId": "303258f6-02e6-4c13-d18d-096acad0f9c9"
      },
      "source": [
        "clustered_sentences[1]\n",
        "\n",
        "# Most of the landslides are of uttrakhand, so clustering is working"
      ],
      "execution_count": 45,
      "outputs": [
        {
          "output_type": "execute_result",
          "data": {
            "text/plain": [
              "[\"Six houses swept away as landslide hits Himachal's Kangra district | TV9News\",\n",
              " 'Himachal Pradesh: District Kangra Mein Landslide Se Bure Halat | Relief Ka Kaam Jari | News18 Urdu',\n",
              " 'Kalsi Chakrata Road in Vikasnagar closed due to Landslide | Landslide viral video | Uttarakhand',\n",
              " 'Landslide at Veling Priol Goankarwada',\n",
              " 'Landslide in Utrakhand NH 7 . #shorts',\n",
              " 'Himachal Pradesh: Massive landslide in Boh valley in Kangra district | KeralaKaumudi',\n",
              " 'Due to the landslide mountain collapsed in Vikasnagar | Uttarakhand landslide viral video',\n",
              " 'Ghar ke sath ho rha hai Landslide 🙄 |Jogi Jangam ki Kahani',\n",
              " 'NH44 Ramban Update; Jammu Srinagar National Highway blocked due to landslide at Cafeteria Ramban',\n",
              " 'Landslide',\n",
              " 'Lyrical Group - Landslide',\n",
              " 'Landslide in Abanda Majuwa',\n",
              " 'Landslide in Himachal Pradesh',\n",
              " 'Huge Landslide at Near by Chakrata road. Uttarakhand,India',\n",
              " 'Uttarkashi Landslide | Heavy Rainfall | Weather | Uttarakhand | Gangotri Yamunotri Highway Closed']"
            ]
          },
          "metadata": {
            "tags": []
          },
          "execution_count": 45
        }
      ]
    },
    {
      "cell_type": "markdown",
      "metadata": {
        "id": "GOwW0OxdR_AD",
        "cell_id": "00041-949ef747-51a0-452b-9e97-d612d586db4f",
        "deepnote_cell_type": "markdown"
      },
      "source": [
        "# Keyword Extraction to recommend queries for focused crawler"
      ]
    },
    {
      "cell_type": "code",
      "metadata": {
        "id": "8tnv9hqwRmcL",
        "cell_id": "00042-69b56b6a-0030-4db5-9c65-666718b33211",
        "deepnote_to_be_reexecuted": true,
        "source_hash": "b4675e16",
        "execution_start": 1624620298065,
        "execution_millis": 8190,
        "deepnote_cell_type": "code"
      },
      "source": [
        "%%capture\n",
        "!pip install git+https://github.com/LIAAD/yake"
      ],
      "execution_count": 48,
      "outputs": []
    },
    {
      "cell_type": "code",
      "metadata": {
        "id": "37KTkMncRmkj",
        "cell_id": "00043-763f4819-e777-4eb7-9b0a-f4b2fe77f67b",
        "deepnote_to_be_reexecuted": true,
        "source_hash": "7f18a17b",
        "execution_start": 1624620306267,
        "execution_millis": 143,
        "deepnote_cell_type": "code"
      },
      "source": [
        "import yake\n",
        "language = \"en\"\n",
        "max_ngram_size = 3\n",
        "deduplication_thresold = 0.9\n",
        "deduplication_algo = 'seqm'\n",
        "windowSize = 1\n",
        "numOfKeywords = 20\n",
        "kw_extractor = yake.KeywordExtractor()"
      ],
      "execution_count": 49,
      "outputs": []
    },
    {
      "cell_type": "code",
      "metadata": {
        "id": "2cK2i4XKV7vj",
        "cell_id": "00044-e3386695-214f-4875-93fc-38aabdbb34b0",
        "deepnote_to_be_reexecuted": true,
        "source_hash": "5e62b466",
        "execution_start": 1624620306415,
        "execution_millis": 48,
        "is_output_hidden": true,
        "deepnote_cell_type": "code"
      },
      "source": [
        "# Merging the description\n",
        "\n",
        "# text = []\n",
        "# irrelevant =[]\n",
        "# for i in range(len(df_updated)) :\n",
        "#   try :\n",
        "#     temp = df_updated['Description'][i]\n",
        "#     text.append(temp)\n",
        "#   except :\n",
        "#     irrelevant.append(\"\")\n",
        "\n",
        "#text = ''.join(str(text))"
      ],
      "execution_count": 50,
      "outputs": []
    },
    {
      "cell_type": "code",
      "metadata": {
        "id": "cp6WQRT63hZC",
        "cell_id": "00047-d6bf0b1e-e19c-4902-8679-46d8d3644b71",
        "deepnote_to_be_reexecuted": true,
        "source_hash": "1b4b7486",
        "execution_start": 1624620607308,
        "execution_millis": 2,
        "deepnote_cell_type": "code"
      },
      "source": [
        "# Merging Video Titles to rank the most important events \n",
        "text = []\n",
        "irrelevant =[]\n",
        "for i in range(len(df_updated)) :\n",
        "  try :\n",
        "    temp = str(df_updated['Video_Title'][i])\n",
        "    text.append(temp)\n",
        "  except :\n",
        "    irrelevant.append(\"\")"
      ],
      "execution_count": 51,
      "outputs": []
    },
    {
      "cell_type": "code",
      "metadata": {
        "id": "lLunInmR3yY0",
        "cell_id": "00048-6d3c7e54-1f73-4bc1-8d8b-e96429c1da7d",
        "deepnote_to_be_reexecuted": true,
        "source_hash": "983849b3",
        "execution_start": 1624620608246,
        "execution_millis": 2,
        "deepnote_cell_type": "code"
      },
      "source": [
        "text = ''.join(str(text))"
      ],
      "execution_count": 52,
      "outputs": []
    },
    {
      "cell_type": "code",
      "metadata": {
        "id": "WdlWvsnG05y1",
        "cell_id": "00050-5e9e7ce9-5373-436c-8432-d38ecc358169",
        "deepnote_to_be_reexecuted": true,
        "source_hash": "c687bf5b",
        "execution_start": 1624620613536,
        "execution_millis": 405,
        "deepnote_cell_type": "code"
      },
      "source": [
        "# Yake Library Paper : https://repositorio.inesctec.pt/bitstream/123456789/7623/1/P-00N-NF5.pdf\n",
        "\n",
        "kw_extractor = yake.KeywordExtractor()\n",
        "keywords = kw_extractor.extract_keywords(text)"
      ],
      "execution_count": 54,
      "outputs": []
    },
    {
      "cell_type": "markdown",
      "metadata": {
        "id": "_-dIlgem-WQh"
      },
      "source": [
        "We can clearly notice below , we rank the important landslide events that our keyword extractor captured"
      ]
    },
    {
      "cell_type": "code",
      "metadata": {
        "colab": {
          "base_uri": "https://localhost:8080/"
        },
        "id": "hm9Pa53J052g",
        "cell_id": "00051-d2356e21-a8d2-4c83-b3cb-b490759104f9",
        "deepnote_to_be_reexecuted": true,
        "source_hash": "1f7781bf",
        "execution_start": 1624620615406,
        "execution_millis": 10,
        "deepnote_cell_type": "code",
        "outputId": "c8299967-b04a-4afa-fe7a-b2b6ecb083c5"
      },
      "source": [
        "for kw in keywords:\n",
        "\tprint(kw)"
      ],
      "execution_count": 55,
      "outputs": [
        {
          "output_type": "stream",
          "text": [
            "('Himachal Pradesh Landslide', 0.00020404189251219105)\n",
            "('Himachal flash flood', 0.0002857186874773786)\n",
            "('Himachal Pradesh', 0.0004352167780294632)\n",
            "('flash flood', 0.0004832808349338941)\n",
            "('landslide hits Himachal', 0.0005518588024946492)\n",
            "('Dharamsala flash floods', 0.0006017059557563751)\n",
            "('Kangra Mein Landslide', 0.0006825772797378637)\n",
            "('London flash floods', 0.0007412778985560565)\n",
            "('Himachal Pradesh Floods', 0.0007421977345009992)\n",
            "('hits Himachal Kangra', 0.0009608979621055371)\n",
            "('landslide', 0.0009832376589994554)\n",
            "('Floods Hit Himachal', 0.0010051718230212336)\n",
            "('Himachal Kangra', 0.00101000047464106)\n",
            "('triggers flash flood', 0.0011255869035312132)\n",
            "('Uttarakhand Flash Flood', 0.0011674492472973361)\n",
            "('Landslide viral video', 0.0013598251574753915)\n",
            "('Uttarakhand landslide viral', 0.0014870553878369157)\n",
            "('Himachal', 0.0015624931491615567)\n",
            "('Rescue ops underway', 0.0016137046936749325)\n",
            "('flood', 0.0016976368179103811)\n"
          ],
          "name": "stdout"
        }
      ]
    },
    {
      "cell_type": "markdown",
      "metadata": {
        "id": "Rca-wvnWUEro",
        "cell_id": "00057-c5a227ac-9e25-4c04-9b3c-a0ea7afeb13c",
        "deepnote_cell_type": "markdown"
      },
      "source": [
        "# Finding Ranks/reccommendation using RAKE Library through our clustering"
      ]
    },
    {
      "cell_type": "code",
      "metadata": {
        "id": "-XtRb_1iUMH3",
        "cell_id": "00058-d5cbfb89-bcfe-44ed-b5e4-aa311f8f3db6",
        "deepnote_to_be_reexecuted": true,
        "source_hash": "db8be977",
        "deepnote_cell_type": "code"
      },
      "source": [
        "%%capture\n",
        "!pip install rake_nltk"
      ],
      "execution_count": 56,
      "outputs": []
    },
    {
      "cell_type": "markdown",
      "metadata": {
        "id": "QCN67sMr-5hQ"
      },
      "source": [
        "This is useful when we want to capture important events per cluster"
      ]
    },
    {
      "cell_type": "code",
      "metadata": {
        "colab": {
          "base_uri": "https://localhost:8080/"
        },
        "id": "ytyJUDNMUEDL",
        "cell_id": "00059-51486fde-1848-4e76-a5a8-c63ab11a268a",
        "deepnote_to_be_reexecuted": true,
        "source_hash": "b2ee37f6",
        "deepnote_cell_type": "code",
        "outputId": "c9caa065-b96e-48e8-b040-1dedfe533602"
      },
      "source": [
        "import string\n",
        "from rake_nltk import Rake\n",
        "extracts=[[] for i in range(num_clusters)]\n",
        "r = Rake() # Uses stopwords for english from NLTK, and all puntuation characters.\n",
        "r = Rake(min_length=1, max_length=5)\n",
        "for i in range(len(clustered_sentences)):\n",
        "  text=' '.join(clustered_sentences[i])\n",
        "  r.extract_keywords_from_text(text)\n",
        "  print(\"Cluster\",i,\": \",r.get_ranked_phrases()[0:3]) # To get keyword phrases ranked highest to lowest.\n",
        "  extracts[i] = ' '.join(r.get_ranked_phrases())"
      ],
      "execution_count": 57,
      "outputs": [
        {
          "output_type": "stream",
          "text": [
            "Cluster 0 :  [\"disastrous ': inside trump ’\", 'six houses swept away', 'tv9news kalsi chakrata road']\n",
            "Cluster 1 :  ['dehradun vikasnagar river overflow', 'delhi ncr himachal pradesh landslide', '‘ flash flood ’']\n",
            "Cluster 2 :  ['five still missing massive landslides', 'floods rescue ops underway', 'catch news himachal pradesh']\n",
            "Cluster 3 :  ['veling priol goankarwada himachal pradesh', 'keralakaumudi landslide lyrical group', 'himachal pradesh huge landslide']\n",
            "Cluster 4 :  ['bura haal ho gaya mera', 'relief ka kaam jari', 'bachaao yarr isse koi']\n"
          ],
          "name": "stdout"
        }
      ]
    },
    {
      "cell_type": "markdown",
      "metadata": {
        "id": "2Lt3klWaJcfp",
        "cell_id": "00060-3e3f181b-ec3a-404c-9f2c-131f0a5befb4",
        "deepnote_cell_type": "markdown"
      },
      "source": [
        "# Archives - OLD CODE"
      ]
    },
    {
      "cell_type": "code",
      "metadata": {
        "id": "j7RS5hTaJeaS",
        "cell_id": "00061-e6c48c61-c6d5-47b8-ab7d-fdd9f4eb58d4",
        "deepnote_to_be_reexecuted": true,
        "source_hash": "6b844c25",
        "deepnote_cell_type": "code"
      },
      "source": [
        "# pip install date-extractor\n",
        "# def ExtractDate(tweet):\n",
        "#   tweet =str(tweet)\n",
        "#   tweet = tweet.lower()\n",
        "#   #tweet = re.sub(r'@[a-z0-9_]\\S+' , '', tweet)\n",
        "#   match = re.search(r\"(\\d+)[-.\\/](\\d+)[-.\\/](\\d+)\", tweet)\n",
        "#   date = extract_dates(tweet)\n",
        "#   date = str(date)\n",
        "#   return date\n",
        "#ddf['dates_extracted'] = ddf['Description'].apply(ExtractDate)"
      ],
      "execution_count": null,
      "outputs": []
    },
    {
      "cell_type": "code",
      "metadata": {
        "id": "scXMj1hxoJ1l",
        "cell_id": "00062-f9ed5d10-df5b-438d-9263-968485456d7b",
        "deepnote_to_be_reexecuted": true,
        "source_hash": "2bbe117f",
        "deepnote_cell_type": "code"
      },
      "source": [
        "# def Keyword_extract(text):\n",
        "#   most_imp=[]\n",
        "#   kw_extractor = yake.KeywordExtractor()\n",
        "#   keywords = kw_extractor.extract_keywords(text)\n",
        "#   for kw in keywords:\n",
        "#     most_imp.append(kw)\n",
        "#     break\n",
        "#   return most_imp"
      ],
      "execution_count": null,
      "outputs": []
    },
    {
      "cell_type": "markdown",
      "metadata": {
        "id": "Fe1utM0ABNNF",
        "cell_id": "00021-75c9d731-8ac4-4c70-9642-2a918dd80759",
        "deepnote_cell_type": "markdown"
      },
      "source": [
        "Hindi to English transliteration"
      ]
    },
    {
      "cell_type": "code",
      "metadata": {
        "id": "QVzAwPdiBLx8",
        "cell_id": "00022-dd9ec853-236a-4500-8633-d60cf4acde56",
        "deepnote_to_be_reexecuted": false,
        "source_hash": "1640e753",
        "execution_start": 1626262783274,
        "execution_millis": 1,
        "deepnote_cell_type": "code"
      },
      "source": [
        "#!pip install mtranslate"
      ],
      "execution_count": null,
      "outputs": []
    },
    {
      "cell_type": "code",
      "metadata": {
        "tags": [],
        "cell_id": "00022-aed2a176-0c04-444a-a95a-5a50b1b765fc",
        "deepnote_to_be_reexecuted": false,
        "source_hash": "2cc1418b",
        "execution_start": 1626262783626,
        "execution_millis": 3,
        "deepnote_cell_type": "code",
        "id": "-nL8u_Sw28t0"
      },
      "source": [
        "#from mtranslate import translate"
      ],
      "execution_count": null,
      "outputs": []
    },
    {
      "cell_type": "code",
      "metadata": {
        "tags": [],
        "cell_id": "00023-872869f6-983d-4a75-8ccd-6bb07d1089ee",
        "deepnote_to_be_reexecuted": false,
        "source_hash": "b8d81131",
        "execution_start": 1626262784987,
        "execution_millis": 3,
        "deepnote_cell_type": "code",
        "id": "BBVpc1iu28t0"
      },
      "source": [
        "   # to_translate = 'नमस्ते कैसी हो तुम?'\n",
        "   # print(translate(to_translate))\n",
        "   # print(translate(to_translate, 'en'))\n",
        "   # print(translate(to_translate, 'hi'))"
      ],
      "execution_count": null,
      "outputs": []
    },
    {
      "cell_type": "code",
      "metadata": {
        "tags": [],
        "cell_id": "00024-c26a30c2-7396-46a8-a13d-16860e05a123",
        "deepnote_to_be_reexecuted": false,
        "source_hash": "21a09558",
        "execution_start": 1626262785346,
        "execution_millis": 3669,
        "deepnote_cell_type": "code",
        "id": "70eQ9Q-U28t0"
      },
      "source": [
        "%%capture\n",
        "!pip install google_trans_new"
      ],
      "execution_count": null,
      "outputs": []
    },
    {
      "cell_type": "code",
      "metadata": {
        "tags": [],
        "cell_id": "00025-5ef79c5d-aff2-49dd-9103-c17b0e10a354",
        "deepnote_to_be_reexecuted": false,
        "source_hash": "b1be686f",
        "execution_start": 1626262791631,
        "execution_millis": 1103,
        "deepnote_cell_type": "code",
        "id": "_VsM9__B28t1"
      },
      "source": [
        "from google_trans_new import google_translator  \n",
        "  \n",
        "translator = google_translator()  \n",
        "translate_text = translator.translate('हेलो चीनी',lang_tgt='en')  \n",
        "print(translate_text)"
      ],
      "execution_count": null,
      "outputs": []
    },
    {
      "cell_type": "markdown",
      "metadata": {
        "tags": [],
        "created_in_deepnote_cell": true,
        "deepnote_cell_type": "markdown",
        "id": "qlXHE27f28uA"
      },
      "source": [
        "<a style='text-decoration:none;line-height:16px;display:flex;color:#5B5B62;padding:10px;justify-content:end;' href='https://deepnote.com?utm_source=created-in-deepnote-cell&projectId=0b3b9dd4-a27f-4475-aef1-6b87fc2efdf5' target=\"_blank\">\n",
        "<img alt='Created in deepnote.com' style='display:inline;max-height:16px;margin:0px;margin-right:7.5px;' src='data:image/svg+xml;base64,PD94bWwgdmVyc2lvbj0iMS4wIiBlbmNvZGluZz0iVVRGLTgiPz4KPHN2ZyB3aWR0aD0iODBweCIgaGVpZ2h0PSI4MHB4IiB2aWV3Qm94PSIwIDAgODAgODAiIHZlcnNpb249IjEuMSIgeG1sbnM9Imh0dHA6Ly93d3cudzMub3JnLzIwMDAvc3ZnIiB4bWxuczp4bGluaz0iaHR0cDovL3d3dy53My5vcmcvMTk5OS94bGluayI+CiAgICA8IS0tIEdlbmVyYXRvcjogU2tldGNoIDU0LjEgKDc2NDkwKSAtIGh0dHBzOi8vc2tldGNoYXBwLmNvbSAtLT4KICAgIDx0aXRsZT5Hcm91cCAzPC90aXRsZT4KICAgIDxkZXNjPkNyZWF0ZWQgd2l0aCBTa2V0Y2guPC9kZXNjPgogICAgPGcgaWQ9IkxhbmRpbmciIHN0cm9rZT0ibm9uZSIgc3Ryb2tlLXdpZHRoPSIxIiBmaWxsPSJub25lIiBmaWxsLXJ1bGU9ImV2ZW5vZGQiPgogICAgICAgIDxnIGlkPSJBcnRib2FyZCIgdHJhbnNmb3JtPSJ0cmFuc2xhdGUoLTEyMzUuMDAwMDAwLCAtNzkuMDAwMDAwKSI+CiAgICAgICAgICAgIDxnIGlkPSJHcm91cC0zIiB0cmFuc2Zvcm09InRyYW5zbGF0ZSgxMjM1LjAwMDAwMCwgNzkuMDAwMDAwKSI+CiAgICAgICAgICAgICAgICA8cG9seWdvbiBpZD0iUGF0aC0yMCIgZmlsbD0iIzAyNjVCNCIgcG9pbnRzPSIyLjM3NjIzNzYyIDgwIDM4LjA0NzY2NjcgODAgNTcuODIxNzgyMiA3My44MDU3NTkyIDU3LjgyMTc4MjIgMzIuNzU5MjczOSAzOS4xNDAyMjc4IDMxLjY4MzE2ODMiPjwvcG9seWdvbj4KICAgICAgICAgICAgICAgIDxwYXRoIGQ9Ik0zNS4wMDc3MTgsODAgQzQyLjkwNjIwMDcsNzYuNDU0OTM1OCA0Ny41NjQ5MTY3LDcxLjU0MjI2NzEgNDguOTgzODY2LDY1LjI2MTk5MzkgQzUxLjExMjI4OTksNTUuODQxNTg0MiA0MS42NzcxNzk1LDQ5LjIxMjIyODQgMjUuNjIzOTg0Niw0OS4yMTIyMjg0IEMyNS40ODQ5Mjg5LDQ5LjEyNjg0NDggMjkuODI2MTI5Niw0My4yODM4MjQ4IDM4LjY0NzU4NjksMzEuNjgzMTY4MyBMNzIuODcxMjg3MSwzMi41NTQ0MjUgTDY1LjI4MDk3Myw2Ny42NzYzNDIxIEw1MS4xMTIyODk5LDc3LjM3NjE0NCBMMzUuMDA3NzE4LDgwIFoiIGlkPSJQYXRoLTIyIiBmaWxsPSIjMDAyODY4Ij48L3BhdGg+CiAgICAgICAgICAgICAgICA8cGF0aCBkPSJNMCwzNy43MzA0NDA1IEwyNy4xMTQ1MzcsMC4yNTcxMTE0MzYgQzYyLjM3MTUxMjMsLTEuOTkwNzE3MDEgODAsMTAuNTAwMzkyNyA4MCwzNy43MzA0NDA1IEM4MCw2NC45NjA0ODgyIDY0Ljc3NjUwMzgsNzkuMDUwMzQxNCAzNC4zMjk1MTEzLDgwIEM0Ny4wNTUzNDg5LDc3LjU2NzA4MDggNTMuNDE4MjY3Nyw3MC4zMTM2MTAzIDUzLjQxODI2NzcsNTguMjM5NTg4NSBDNTMuNDE4MjY3Nyw0MC4xMjg1NTU3IDM2LjMwMzk1NDQsMzcuNzMwNDQwNSAyNS4yMjc0MTcsMzcuNzMwNDQwNSBDMTcuODQzMDU4NiwzNy43MzA0NDA1IDkuNDMzOTE5NjYsMzcuNzMwNDQwNSAwLDM3LjczMDQ0MDUgWiIgaWQ9IlBhdGgtMTkiIGZpbGw9IiMzNzkzRUYiPjwvcGF0aD4KICAgICAgICAgICAgPC9nPgogICAgICAgIDwvZz4KICAgIDwvZz4KPC9zdmc+' > </img>\n",
        "Created in <span style='font-weight:600;margin-left:4px;'>Deepnote</span></a>"
      ]
    }
  ]
}
