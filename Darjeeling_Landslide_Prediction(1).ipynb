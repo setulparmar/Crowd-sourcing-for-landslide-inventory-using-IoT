{
  "nbformat": 4,
  "nbformat_minor": 0,
  "metadata": {
    "colab": {
      "name": "Darjeeling_Landslide_Prediction",
      "provenance": []
    },
    "kernelspec": {
      "display_name": "Python 3",
      "name": "python3"
    },
    "language_info": {
      "name": "python"
    }
  },
  "cells": [
    {
      "cell_type": "code",
      "metadata": {
        "id": "xU6-ZkO3Xw_B"
      },
      "source": [
        "import pandas as pd\n",
        "import numpy as np"
      ],
      "execution_count": 1,
      "outputs": []
    },
    {
      "cell_type": "code",
      "metadata": {
        "id": "xV-HBsa5X4f4"
      },
      "source": [
        "df = pd.read_csv('/content/Darjeeling.csv')"
      ],
      "execution_count": 2,
      "outputs": []
    },
    {
      "cell_type": "code",
      "metadata": {
        "colab": {
          "base_uri": "https://localhost:8080/"
        },
        "id": "PriZ0HJXxfk0",
        "outputId": "946f0031-58df-4798-acbf-2f2616610b5c"
      },
      "source": [
        "df.columns"
      ],
      "execution_count": 3,
      "outputs": [
        {
          "output_type": "execute_result",
          "data": {
            "text/plain": [
              "Index(['landslide', 'month(in no.)', 'month', 'year', 'rainfall', 'earthquake',\n",
              "       'elevation', 'count'],\n",
              "      dtype='object')"
            ]
          },
          "metadata": {
            "tags": []
          },
          "execution_count": 3
        }
      ]
    },
    {
      "cell_type": "code",
      "metadata": {
        "id": "t62a6_MLY3ah"
      },
      "source": [
        "# Dropping Irrelevant Variables\n",
        "df = df.drop(['elevation','year','month','count'],axis = 1)"
      ],
      "execution_count": 4,
      "outputs": []
    },
    {
      "cell_type": "code",
      "metadata": {
        "colab": {
          "base_uri": "https://localhost:8080/"
        },
        "id": "dB-VNW-TdRUa",
        "outputId": "66f09397-41a9-4ccf-f7b0-efc9667a4cec"
      },
      "source": [
        "df.columns"
      ],
      "execution_count": 5,
      "outputs": [
        {
          "output_type": "execute_result",
          "data": {
            "text/plain": [
              "Index(['landslide', 'month(in no.)', 'rainfall', 'earthquake'], dtype='object')"
            ]
          },
          "metadata": {
            "tags": []
          },
          "execution_count": 5
        }
      ]
    },
    {
      "cell_type": "code",
      "metadata": {
        "colab": {
          "base_uri": "https://localhost:8080/",
          "height": 206
        },
        "id": "cKIOUdolWn4H",
        "outputId": "00eef9d6-5d16-44a1-f725-ea760670c1d0"
      },
      "source": [
        "df.tail()"
      ],
      "execution_count": 6,
      "outputs": [
        {
          "output_type": "execute_result",
          "data": {
            "text/html": [
              "<div>\n",
              "<style scoped>\n",
              "    .dataframe tbody tr th:only-of-type {\n",
              "        vertical-align: middle;\n",
              "    }\n",
              "\n",
              "    .dataframe tbody tr th {\n",
              "        vertical-align: top;\n",
              "    }\n",
              "\n",
              "    .dataframe thead th {\n",
              "        text-align: right;\n",
              "    }\n",
              "</style>\n",
              "<table border=\"1\" class=\"dataframe\">\n",
              "  <thead>\n",
              "    <tr style=\"text-align: right;\">\n",
              "      <th></th>\n",
              "      <th>landslide</th>\n",
              "      <th>month(in no.)</th>\n",
              "      <th>rainfall</th>\n",
              "      <th>earthquake</th>\n",
              "    </tr>\n",
              "  </thead>\n",
              "  <tbody>\n",
              "    <tr>\n",
              "      <th>163</th>\n",
              "      <td>1.0</td>\n",
              "      <td>8</td>\n",
              "      <td>644.0</td>\n",
              "      <td>3.8</td>\n",
              "    </tr>\n",
              "    <tr>\n",
              "      <th>164</th>\n",
              "      <td>1.0</td>\n",
              "      <td>9</td>\n",
              "      <td>827.0</td>\n",
              "      <td>6.5</td>\n",
              "    </tr>\n",
              "    <tr>\n",
              "      <th>165</th>\n",
              "      <td>NaN</td>\n",
              "      <td>10</td>\n",
              "      <td>91.2</td>\n",
              "      <td>3.6</td>\n",
              "    </tr>\n",
              "    <tr>\n",
              "      <th>166</th>\n",
              "      <td>NaN</td>\n",
              "      <td>11</td>\n",
              "      <td>1.8</td>\n",
              "      <td>0.0</td>\n",
              "    </tr>\n",
              "    <tr>\n",
              "      <th>167</th>\n",
              "      <td>NaN</td>\n",
              "      <td>12</td>\n",
              "      <td>2.8</td>\n",
              "      <td>0.0</td>\n",
              "    </tr>\n",
              "  </tbody>\n",
              "</table>\n",
              "</div>"
            ],
            "text/plain": [
              "     landslide  month(in no.)  rainfall  earthquake\n",
              "163        1.0              8     644.0         3.8\n",
              "164        1.0              9     827.0         6.5\n",
              "165        NaN             10      91.2         3.6\n",
              "166        NaN             11       1.8         0.0\n",
              "167        NaN             12       2.8         0.0"
            ]
          },
          "metadata": {
            "tags": []
          },
          "execution_count": 6
        }
      ]
    },
    {
      "cell_type": "code",
      "metadata": {
        "id": "HYwOaHXwETE5",
        "colab": {
          "base_uri": "https://localhost:8080/"
        },
        "outputId": "170f99b4-9691-4092-d574-efa8db2577b5"
      },
      "source": [
        "# Checking Null values in Dataset\n",
        "df.isnull().sum()"
      ],
      "execution_count": 7,
      "outputs": [
        {
          "output_type": "execute_result",
          "data": {
            "text/plain": [
              "landslide        102\n",
              "month(in no.)      0\n",
              "rainfall           0\n",
              "earthquake         0\n",
              "dtype: int64"
            ]
          },
          "metadata": {
            "tags": []
          },
          "execution_count": 7
        }
      ]
    },
    {
      "cell_type": "code",
      "metadata": {
        "id": "XApEgmFoEpA_"
      },
      "source": [
        "# Replacing null values with 0 \n",
        "df['landslide'] = df['landslide'].fillna(0)\n",
        "df['month(in no.)'] = df['month(in no.)'].fillna(0)\n",
        "df['rainfall'] = df['rainfall'].fillna(0)\n",
        "df['earthquake'] = df['earthquake'].fillna(0)\n",
        "#df['count'] = df['count'].fillna(0)"
      ],
      "execution_count": 8,
      "outputs": []
    },
    {
      "cell_type": "code",
      "metadata": {
        "colab": {
          "base_uri": "https://localhost:8080/"
        },
        "id": "6hWWwys662HB",
        "outputId": "8c6ab78a-b0d9-4a09-e917-1b9c38195d2d"
      },
      "source": [
        "import numpy as np\n",
        "np.count_nonzero(df['landslide'])"
      ],
      "execution_count": 9,
      "outputs": [
        {
          "output_type": "execute_result",
          "data": {
            "text/plain": [
              "66"
            ]
          },
          "metadata": {
            "tags": []
          },
          "execution_count": 9
        }
      ]
    },
    {
      "cell_type": "code",
      "metadata": {
        "id": "Jj5UBLTJ0w-W"
      },
      "source": [
        "## Encoding Function for Cyclic Variable ( Month )\n",
        "# def encode(data, col, max_val):\n",
        "#     data[col + '_sin'] = np.sin(2 * np.pi * data[col]/max_val)\n",
        "#     data[col + '_cos'] = np.cos(2 * np.pi * data[col]/max_val)\n",
        "#     return data"
      ],
      "execution_count": 10,
      "outputs": []
    },
    {
      "cell_type": "code",
      "metadata": {
        "id": "ebPijPuR0yOT"
      },
      "source": [
        "#data = encode(df, 'month(in no)', 12)"
      ],
      "execution_count": 11,
      "outputs": []
    },
    {
      "cell_type": "code",
      "metadata": {
        "id": "p87V43D30ySH"
      },
      "source": [
        "#data.head()"
      ],
      "execution_count": 12,
      "outputs": []
    },
    {
      "cell_type": "code",
      "metadata": {
        "id": "nxiK1Hefgyqu"
      },
      "source": [
        " # Doing One - Hot encoding on 'Month' variable\n",
        "from sklearn.preprocessing import OneHotEncoder\n",
        "enc = OneHotEncoder()\n",
        "hm = enc.fit_transform(np.array(df['month(in no.)']).reshape(-1,1))"
      ],
      "execution_count": 13,
      "outputs": []
    },
    {
      "cell_type": "code",
      "metadata": {
        "colab": {
          "base_uri": "https://localhost:8080/"
        },
        "id": "i2jSydR0kLpg",
        "outputId": "76ea9a72-ea85-4179-dd94-48919af30f18"
      },
      "source": [
        "hm.shape"
      ],
      "execution_count": 14,
      "outputs": [
        {
          "output_type": "execute_result",
          "data": {
            "text/plain": [
              "(168, 12)"
            ]
          },
          "metadata": {
            "tags": []
          },
          "execution_count": 14
        }
      ]
    },
    {
      "cell_type": "code",
      "metadata": {
        "id": "4V7OHwEJlfcz"
      },
      "source": [
        "df[enc.categories_[0]] = hm.toarray()"
      ],
      "execution_count": 15,
      "outputs": []
    },
    {
      "cell_type": "code",
      "metadata": {
        "id": "Wg881hKHmK1B"
      },
      "source": [
        "df.drop('month(in no.)',axis = 1 , inplace = True)"
      ],
      "execution_count": 16,
      "outputs": []
    },
    {
      "cell_type": "code",
      "metadata": {
        "colab": {
          "base_uri": "https://localhost:8080/",
          "height": 206
        },
        "id": "1XCLLD_92BDK",
        "outputId": "36840656-33ab-4adf-bad5-784b8759a65c"
      },
      "source": [
        "df.head()"
      ],
      "execution_count": 17,
      "outputs": [
        {
          "output_type": "execute_result",
          "data": {
            "text/html": [
              "<div>\n",
              "<style scoped>\n",
              "    .dataframe tbody tr th:only-of-type {\n",
              "        vertical-align: middle;\n",
              "    }\n",
              "\n",
              "    .dataframe tbody tr th {\n",
              "        vertical-align: top;\n",
              "    }\n",
              "\n",
              "    .dataframe thead th {\n",
              "        text-align: right;\n",
              "    }\n",
              "</style>\n",
              "<table border=\"1\" class=\"dataframe\">\n",
              "  <thead>\n",
              "    <tr style=\"text-align: right;\">\n",
              "      <th></th>\n",
              "      <th>landslide</th>\n",
              "      <th>rainfall</th>\n",
              "      <th>earthquake</th>\n",
              "      <th>1</th>\n",
              "      <th>2</th>\n",
              "      <th>3</th>\n",
              "      <th>4</th>\n",
              "      <th>5</th>\n",
              "      <th>6</th>\n",
              "      <th>7</th>\n",
              "      <th>8</th>\n",
              "      <th>9</th>\n",
              "      <th>10</th>\n",
              "      <th>11</th>\n",
              "      <th>12</th>\n",
              "    </tr>\n",
              "  </thead>\n",
              "  <tbody>\n",
              "    <tr>\n",
              "      <th>0</th>\n",
              "      <td>0.0</td>\n",
              "      <td>3.1</td>\n",
              "      <td>0.0</td>\n",
              "      <td>1.0</td>\n",
              "      <td>0.0</td>\n",
              "      <td>0.0</td>\n",
              "      <td>0.0</td>\n",
              "      <td>0.0</td>\n",
              "      <td>0.0</td>\n",
              "      <td>0.0</td>\n",
              "      <td>0.0</td>\n",
              "      <td>0.0</td>\n",
              "      <td>0.0</td>\n",
              "      <td>0.0</td>\n",
              "      <td>0.0</td>\n",
              "    </tr>\n",
              "    <tr>\n",
              "      <th>1</th>\n",
              "      <td>0.0</td>\n",
              "      <td>81.1</td>\n",
              "      <td>0.0</td>\n",
              "      <td>0.0</td>\n",
              "      <td>1.0</td>\n",
              "      <td>0.0</td>\n",
              "      <td>0.0</td>\n",
              "      <td>0.0</td>\n",
              "      <td>0.0</td>\n",
              "      <td>0.0</td>\n",
              "      <td>0.0</td>\n",
              "      <td>0.0</td>\n",
              "      <td>0.0</td>\n",
              "      <td>0.0</td>\n",
              "      <td>0.0</td>\n",
              "    </tr>\n",
              "    <tr>\n",
              "      <th>2</th>\n",
              "      <td>0.0</td>\n",
              "      <td>46.6</td>\n",
              "      <td>0.0</td>\n",
              "      <td>0.0</td>\n",
              "      <td>0.0</td>\n",
              "      <td>1.0</td>\n",
              "      <td>0.0</td>\n",
              "      <td>0.0</td>\n",
              "      <td>0.0</td>\n",
              "      <td>0.0</td>\n",
              "      <td>0.0</td>\n",
              "      <td>0.0</td>\n",
              "      <td>0.0</td>\n",
              "      <td>0.0</td>\n",
              "      <td>0.0</td>\n",
              "    </tr>\n",
              "    <tr>\n",
              "      <th>3</th>\n",
              "      <td>0.0</td>\n",
              "      <td>160.1</td>\n",
              "      <td>0.0</td>\n",
              "      <td>0.0</td>\n",
              "      <td>0.0</td>\n",
              "      <td>0.0</td>\n",
              "      <td>1.0</td>\n",
              "      <td>0.0</td>\n",
              "      <td>0.0</td>\n",
              "      <td>0.0</td>\n",
              "      <td>0.0</td>\n",
              "      <td>0.0</td>\n",
              "      <td>0.0</td>\n",
              "      <td>0.0</td>\n",
              "      <td>0.0</td>\n",
              "    </tr>\n",
              "    <tr>\n",
              "      <th>4</th>\n",
              "      <td>1.0</td>\n",
              "      <td>215.1</td>\n",
              "      <td>4.2</td>\n",
              "      <td>0.0</td>\n",
              "      <td>0.0</td>\n",
              "      <td>0.0</td>\n",
              "      <td>0.0</td>\n",
              "      <td>1.0</td>\n",
              "      <td>0.0</td>\n",
              "      <td>0.0</td>\n",
              "      <td>0.0</td>\n",
              "      <td>0.0</td>\n",
              "      <td>0.0</td>\n",
              "      <td>0.0</td>\n",
              "      <td>0.0</td>\n",
              "    </tr>\n",
              "  </tbody>\n",
              "</table>\n",
              "</div>"
            ],
            "text/plain": [
              "   landslide  rainfall  earthquake    1    2    3  ...    7    8    9   10   11   12\n",
              "0        0.0       3.1         0.0  1.0  0.0  0.0  ...  0.0  0.0  0.0  0.0  0.0  0.0\n",
              "1        0.0      81.1         0.0  0.0  1.0  0.0  ...  0.0  0.0  0.0  0.0  0.0  0.0\n",
              "2        0.0      46.6         0.0  0.0  0.0  1.0  ...  0.0  0.0  0.0  0.0  0.0  0.0\n",
              "3        0.0     160.1         0.0  0.0  0.0  0.0  ...  0.0  0.0  0.0  0.0  0.0  0.0\n",
              "4        1.0     215.1         4.2  0.0  0.0  0.0  ...  0.0  0.0  0.0  0.0  0.0  0.0\n",
              "\n",
              "[5 rows x 15 columns]"
            ]
          },
          "metadata": {
            "tags": []
          },
          "execution_count": 17
        }
      ]
    },
    {
      "cell_type": "code",
      "metadata": {
        "id": "J1YRfUYvQv4P"
      },
      "source": [
        "from sklearn.preprocessing import MinMaxScaler\n",
        "# feature_range=(0,3)\n",
        "scaler=MinMaxScaler()\n",
        "df1=scaler.fit_transform((df.iloc[:,[1,2]]))\n",
        "df_2 = pd.DataFrame(df1)\n",
        "df_final = pd.concat([df.iloc[:,[0,3,4,5,6,7,8,9,10,11,12,13,14]],df_2],axis=1)"
      ],
      "execution_count": 18,
      "outputs": []
    },
    {
      "cell_type": "code",
      "metadata": {
        "colab": {
          "base_uri": "https://localhost:8080/",
          "height": 206
        },
        "id": "gyWY7kS3H21W",
        "outputId": "6f386777-c334-40a1-b44a-a92cd7f95b26"
      },
      "source": [
        "df_final.head()"
      ],
      "execution_count": 19,
      "outputs": [
        {
          "output_type": "execute_result",
          "data": {
            "text/html": [
              "<div>\n",
              "<style scoped>\n",
              "    .dataframe tbody tr th:only-of-type {\n",
              "        vertical-align: middle;\n",
              "    }\n",
              "\n",
              "    .dataframe tbody tr th {\n",
              "        vertical-align: top;\n",
              "    }\n",
              "\n",
              "    .dataframe thead th {\n",
              "        text-align: right;\n",
              "    }\n",
              "</style>\n",
              "<table border=\"1\" class=\"dataframe\">\n",
              "  <thead>\n",
              "    <tr style=\"text-align: right;\">\n",
              "      <th></th>\n",
              "      <th>landslide</th>\n",
              "      <th>1</th>\n",
              "      <th>2</th>\n",
              "      <th>3</th>\n",
              "      <th>4</th>\n",
              "      <th>5</th>\n",
              "      <th>6</th>\n",
              "      <th>7</th>\n",
              "      <th>8</th>\n",
              "      <th>9</th>\n",
              "      <th>10</th>\n",
              "      <th>11</th>\n",
              "      <th>12</th>\n",
              "      <th>0</th>\n",
              "      <th>1</th>\n",
              "    </tr>\n",
              "  </thead>\n",
              "  <tbody>\n",
              "    <tr>\n",
              "      <th>0</th>\n",
              "      <td>0.0</td>\n",
              "      <td>1.0</td>\n",
              "      <td>0.0</td>\n",
              "      <td>0.0</td>\n",
              "      <td>0.0</td>\n",
              "      <td>0.0</td>\n",
              "      <td>0.0</td>\n",
              "      <td>0.0</td>\n",
              "      <td>0.0</td>\n",
              "      <td>0.0</td>\n",
              "      <td>0.0</td>\n",
              "      <td>0.0</td>\n",
              "      <td>0.0</td>\n",
              "      <td>0.002899</td>\n",
              "      <td>0.000000</td>\n",
              "    </tr>\n",
              "    <tr>\n",
              "      <th>1</th>\n",
              "      <td>0.0</td>\n",
              "      <td>0.0</td>\n",
              "      <td>1.0</td>\n",
              "      <td>0.0</td>\n",
              "      <td>0.0</td>\n",
              "      <td>0.0</td>\n",
              "      <td>0.0</td>\n",
              "      <td>0.0</td>\n",
              "      <td>0.0</td>\n",
              "      <td>0.0</td>\n",
              "      <td>0.0</td>\n",
              "      <td>0.0</td>\n",
              "      <td>0.0</td>\n",
              "      <td>0.075851</td>\n",
              "      <td>0.000000</td>\n",
              "    </tr>\n",
              "    <tr>\n",
              "      <th>2</th>\n",
              "      <td>0.0</td>\n",
              "      <td>0.0</td>\n",
              "      <td>0.0</td>\n",
              "      <td>1.0</td>\n",
              "      <td>0.0</td>\n",
              "      <td>0.0</td>\n",
              "      <td>0.0</td>\n",
              "      <td>0.0</td>\n",
              "      <td>0.0</td>\n",
              "      <td>0.0</td>\n",
              "      <td>0.0</td>\n",
              "      <td>0.0</td>\n",
              "      <td>0.0</td>\n",
              "      <td>0.043584</td>\n",
              "      <td>0.000000</td>\n",
              "    </tr>\n",
              "    <tr>\n",
              "      <th>3</th>\n",
              "      <td>0.0</td>\n",
              "      <td>0.0</td>\n",
              "      <td>0.0</td>\n",
              "      <td>0.0</td>\n",
              "      <td>1.0</td>\n",
              "      <td>0.0</td>\n",
              "      <td>0.0</td>\n",
              "      <td>0.0</td>\n",
              "      <td>0.0</td>\n",
              "      <td>0.0</td>\n",
              "      <td>0.0</td>\n",
              "      <td>0.0</td>\n",
              "      <td>0.0</td>\n",
              "      <td>0.149738</td>\n",
              "      <td>0.000000</td>\n",
              "    </tr>\n",
              "    <tr>\n",
              "      <th>4</th>\n",
              "      <td>1.0</td>\n",
              "      <td>0.0</td>\n",
              "      <td>0.0</td>\n",
              "      <td>0.0</td>\n",
              "      <td>0.0</td>\n",
              "      <td>1.0</td>\n",
              "      <td>0.0</td>\n",
              "      <td>0.0</td>\n",
              "      <td>0.0</td>\n",
              "      <td>0.0</td>\n",
              "      <td>0.0</td>\n",
              "      <td>0.0</td>\n",
              "      <td>0.0</td>\n",
              "      <td>0.201178</td>\n",
              "      <td>0.646154</td>\n",
              "    </tr>\n",
              "  </tbody>\n",
              "</table>\n",
              "</div>"
            ],
            "text/plain": [
              "   landslide    1    2    3    4    5  ...    9   10   11   12         0         1\n",
              "0        0.0  1.0  0.0  0.0  0.0  0.0  ...  0.0  0.0  0.0  0.0  0.002899  0.000000\n",
              "1        0.0  0.0  1.0  0.0  0.0  0.0  ...  0.0  0.0  0.0  0.0  0.075851  0.000000\n",
              "2        0.0  0.0  0.0  1.0  0.0  0.0  ...  0.0  0.0  0.0  0.0  0.043584  0.000000\n",
              "3        0.0  0.0  0.0  0.0  1.0  0.0  ...  0.0  0.0  0.0  0.0  0.149738  0.000000\n",
              "4        1.0  0.0  0.0  0.0  0.0  1.0  ...  0.0  0.0  0.0  0.0  0.201178  0.646154\n",
              "\n",
              "[5 rows x 15 columns]"
            ]
          },
          "metadata": {
            "tags": []
          },
          "execution_count": 19
        }
      ]
    },
    {
      "cell_type": "code",
      "metadata": {
        "id": "2PQAerRCIDxJ"
      },
      "source": [
        "from sklearn.model_selection import train_test_split\n",
        "X = df_final.iloc[:,1:]\n",
        "y = df_final.iloc[:,0]\n",
        "X_train, X_test, y_train, y_test = train_test_split(X.values, y.values, test_size=0.33, random_state=42)"
      ],
      "execution_count": 20,
      "outputs": []
    },
    {
      "cell_type": "code",
      "metadata": {
        "id": "7nJTxb5uNQdv"
      },
      "source": [
        "## Balancing the Dataset\n",
        "\n",
        "# from imblearn.over_sampling import SMOTE\n",
        "# from collections import Counter\n",
        "# over_sampler = SMOTE(k_neighbors=3)\n",
        "# X_res, y_res = over_sampler.fit_resample(X_train, y_train)\n",
        "# print(f\"Training target statistics: {Counter(y_res)}\")\n",
        "# print(f\"Testing target statistics: {Counter(y_test)}\")"
      ],
      "execution_count": 21,
      "outputs": []
    },
    {
      "cell_type": "code",
      "metadata": {
        "id": "8Pc6XBVfNRA4"
      },
      "source": [
        "# #reshape inputs to [samples,time steps,features] which is required for LSTM\n",
        "# X_train=X_res.reshape(X_res.shape[0],X_res.shape[1],1)\n",
        "# X_test = X_test.reshape(X_test.shape[0],X_test.shape[1],1)"
      ],
      "execution_count": 22,
      "outputs": []
    },
    {
      "cell_type": "markdown",
      "metadata": {
        "id": "b-6gkEOYoEEQ"
      },
      "source": [
        "# LSTM"
      ]
    },
    {
      "cell_type": "code",
      "metadata": {
        "id": "_uSZUSFaFKQe"
      },
      "source": [
        "from keras.layers import Dense, Dropout, LSTM, Embedding\n",
        "from keras.preprocessing.sequence import pad_sequences\n",
        "from keras.models import Sequential"
      ],
      "execution_count": 65,
      "outputs": []
    },
    {
      "cell_type": "code",
      "metadata": {
        "id": "tclkLFHeap8L"
      },
      "source": [
        "#reshape inputs to [samples,time steps,features] which is required for LSTM\n",
        "X_train=X_train.reshape(X_train.shape[0],X_train.shape[1],1)\n",
        "X_test = X_test.reshape(X_test.shape[0],X_test.shape[1],1)"
      ],
      "execution_count": 66,
      "outputs": []
    },
    {
      "cell_type": "code",
      "metadata": {
        "id": "Nu0XX8LhaqA1"
      },
      "source": [
        "#create the LSTM model\n",
        "from tensorflow.keras.models import Sequential\n",
        "from tensorflow.keras.layers import Dense\n",
        "from tensorflow.keras.layers import LSTM\n",
        "from keras.layers.convolutional import Conv1D\n",
        "from keras.layers.convolutional import MaxPooling1D\n",
        "from keras.optimizers import SGD"
      ],
      "execution_count": 67,
      "outputs": []
    },
    {
      "cell_type": "markdown",
      "metadata": {
        "id": "-uQLEeOEwEER"
      },
      "source": [
        "LSTM + CNN "
      ]
    },
    {
      "cell_type": "code",
      "metadata": {
        "id": "J2J6-CejaqDi"
      },
      "source": [
        "model=Sequential()\n",
        "model.add(LSTM(50,return_sequences=True,input_shape=(2,1)))\n",
        "#model.add(Conv1D(filters=10, kernel_size=1, padding='same', activation='tanh'))\n",
        "#model.add(MaxPooling1D(pool_size=1))\n",
        "model.add(Dropout(0.2))\n",
        "model.add(LSTM(50 , return_sequences=True)) # stacked LSTM model\n",
        "model.add(Dropout(0.2))\n",
        "model.add(LSTM(50)) # one more layer\n",
        "#model.add(Dense(1)) # added final output \n",
        "model.add(Dense(1, activation='sigmoid'))\t\n",
        "#opt = SGD(learning_rate=0.01, momentum=0.9)\n",
        "model.compile(loss='binary_crossentropy', optimizer='adam', metrics=['binary_accuracy'])"
      ],
      "execution_count": 72,
      "outputs": []
    },
    {
      "cell_type": "code",
      "metadata": {
        "id": "RTJlPW3aaqHo",
        "colab": {
          "base_uri": "https://localhost:8080/"
        },
        "outputId": "6eb5642b-154a-452b-df9d-26600d936067"
      },
      "source": [
        "from keras import callbacks\n",
        "earlystopping = callbacks.EarlyStopping(monitor =\"val_binary_accuracy\", \n",
        "                                        mode =\"max\", patience = 900, \n",
        "                                        restore_best_weights = True)\n",
        "model.fit(X_train,y_train,validation_data=(X_test,y_test),epochs=1000,batch_size=56,verbose=1,callbacks =[earlystopping],shuffle=False)"
      ],
      "execution_count": 74,
      "outputs": [
        {
          "output_type": "stream",
          "text": [
            "Epoch 1/1000\n",
            "2/2 [==============================] - 0s 339ms/step - loss: 0.6647 - binary_accuracy: 0.6071 - val_loss: 0.6611 - val_binary_accuracy: 0.6071\n",
            "Epoch 2/1000\n",
            "2/2 [==============================] - 0s 172ms/step - loss: 0.6644 - binary_accuracy: 0.6071 - val_loss: 0.6592 - val_binary_accuracy: 0.6071\n",
            "Epoch 3/1000\n",
            "2/2 [==============================] - 0s 163ms/step - loss: 0.6631 - binary_accuracy: 0.6071 - val_loss: 0.6574 - val_binary_accuracy: 0.6071\n",
            "Epoch 4/1000\n",
            "2/2 [==============================] - 0s 163ms/step - loss: 0.6607 - binary_accuracy: 0.6071 - val_loss: 0.6551 - val_binary_accuracy: 0.6071\n",
            "Epoch 5/1000\n",
            "2/2 [==============================] - 0s 99ms/step - loss: 0.6583 - binary_accuracy: 0.6071 - val_loss: 0.6516 - val_binary_accuracy: 0.6071\n",
            "Epoch 6/1000\n",
            "2/2 [==============================] - 0s 141ms/step - loss: 0.6550 - binary_accuracy: 0.6071 - val_loss: 0.6466 - val_binary_accuracy: 0.6071\n",
            "Epoch 7/1000\n",
            "2/2 [==============================] - 0s 48ms/step - loss: 0.6510 - binary_accuracy: 0.6071 - val_loss: 0.6396 - val_binary_accuracy: 0.6071\n",
            "Epoch 8/1000\n",
            "2/2 [==============================] - 0s 47ms/step - loss: 0.6460 - binary_accuracy: 0.6071 - val_loss: 0.6301 - val_binary_accuracy: 0.6071\n",
            "Epoch 9/1000\n",
            "2/2 [==============================] - 0s 54ms/step - loss: 0.6365 - binary_accuracy: 0.6071 - val_loss: 0.6172 - val_binary_accuracy: 0.6071\n",
            "Epoch 10/1000\n",
            "2/2 [==============================] - 0s 48ms/step - loss: 0.6278 - binary_accuracy: 0.6071 - val_loss: 0.5994 - val_binary_accuracy: 0.6071\n",
            "Epoch 11/1000\n",
            "2/2 [==============================] - 0s 115ms/step - loss: 0.6156 - binary_accuracy: 0.6071 - val_loss: 0.5743 - val_binary_accuracy: 0.6071\n",
            "Epoch 12/1000\n",
            "2/2 [==============================] - 0s 175ms/step - loss: 0.5952 - binary_accuracy: 0.6071 - val_loss: 0.5407 - val_binary_accuracy: 0.6071\n",
            "Epoch 13/1000\n",
            "2/2 [==============================] - 0s 179ms/step - loss: 0.5652 - binary_accuracy: 0.6071 - val_loss: 0.5007 - val_binary_accuracy: 0.6071\n",
            "Epoch 14/1000\n",
            "2/2 [==============================] - 0s 145ms/step - loss: 0.5315 - binary_accuracy: 0.6250 - val_loss: 0.4599 - val_binary_accuracy: 0.6786\n",
            "Epoch 15/1000\n",
            "2/2 [==============================] - 0s 145ms/step - loss: 0.4902 - binary_accuracy: 0.7679 - val_loss: 0.4187 - val_binary_accuracy: 0.9286\n",
            "Epoch 16/1000\n",
            "2/2 [==============================] - 0s 132ms/step - loss: 0.4546 - binary_accuracy: 0.8482 - val_loss: 0.3747 - val_binary_accuracy: 0.9464\n",
            "Epoch 17/1000\n",
            "2/2 [==============================] - 0s 52ms/step - loss: 0.4183 - binary_accuracy: 0.8750 - val_loss: 0.3308 - val_binary_accuracy: 0.9464\n",
            "Epoch 18/1000\n",
            "2/2 [==============================] - 0s 49ms/step - loss: 0.3409 - binary_accuracy: 0.9107 - val_loss: 0.2789 - val_binary_accuracy: 0.9821\n",
            "Epoch 19/1000\n",
            "2/2 [==============================] - 0s 53ms/step - loss: 0.3043 - binary_accuracy: 0.8661 - val_loss: 0.2380 - val_binary_accuracy: 0.9464\n",
            "Epoch 20/1000\n",
            "2/2 [==============================] - 0s 57ms/step - loss: 0.2800 - binary_accuracy: 0.8929 - val_loss: 0.2139 - val_binary_accuracy: 0.9464\n",
            "Epoch 21/1000\n",
            "2/2 [==============================] - 0s 137ms/step - loss: 0.2482 - binary_accuracy: 0.9018 - val_loss: 0.2178 - val_binary_accuracy: 0.9464\n",
            "Epoch 22/1000\n",
            "2/2 [==============================] - 0s 126ms/step - loss: 0.2437 - binary_accuracy: 0.8839 - val_loss: 0.2189 - val_binary_accuracy: 0.9107\n",
            "Epoch 23/1000\n",
            "2/2 [==============================] - 0s 165ms/step - loss: 0.1855 - binary_accuracy: 0.9375 - val_loss: 0.2322 - val_binary_accuracy: 0.9464\n",
            "Epoch 24/1000\n",
            "2/2 [==============================] - 0s 164ms/step - loss: 0.2693 - binary_accuracy: 0.8661 - val_loss: 0.1922 - val_binary_accuracy: 0.9464\n",
            "Epoch 25/1000\n",
            "2/2 [==============================] - 0s 112ms/step - loss: 0.2349 - binary_accuracy: 0.8839 - val_loss: 0.1643 - val_binary_accuracy: 0.9464\n",
            "Epoch 26/1000\n",
            "2/2 [==============================] - 0s 140ms/step - loss: 0.2028 - binary_accuracy: 0.9196 - val_loss: 0.1751 - val_binary_accuracy: 0.9464\n",
            "Epoch 27/1000\n",
            "2/2 [==============================] - 0s 51ms/step - loss: 0.2652 - binary_accuracy: 0.8839 - val_loss: 0.1907 - val_binary_accuracy: 0.9464\n",
            "Epoch 28/1000\n",
            "2/2 [==============================] - 0s 47ms/step - loss: 0.2113 - binary_accuracy: 0.8750 - val_loss: 0.2168 - val_binary_accuracy: 0.8571\n",
            "Epoch 29/1000\n",
            "2/2 [==============================] - 0s 49ms/step - loss: 0.2053 - binary_accuracy: 0.9018 - val_loss: 0.2046 - val_binary_accuracy: 0.9464\n",
            "Epoch 30/1000\n",
            "2/2 [==============================] - 0s 47ms/step - loss: 0.2003 - binary_accuracy: 0.9018 - val_loss: 0.1925 - val_binary_accuracy: 0.9464\n",
            "Epoch 31/1000\n",
            "2/2 [==============================] - 0s 49ms/step - loss: 0.1999 - binary_accuracy: 0.9286 - val_loss: 0.1787 - val_binary_accuracy: 0.9464\n",
            "Epoch 32/1000\n",
            "2/2 [==============================] - 0s 49ms/step - loss: 0.1906 - binary_accuracy: 0.9107 - val_loss: 0.1805 - val_binary_accuracy: 0.9464\n",
            "Epoch 33/1000\n",
            "2/2 [==============================] - 0s 49ms/step - loss: 0.1787 - binary_accuracy: 0.9196 - val_loss: 0.1877 - val_binary_accuracy: 0.9464\n",
            "Epoch 34/1000\n",
            "2/2 [==============================] - 0s 57ms/step - loss: 0.1797 - binary_accuracy: 0.9196 - val_loss: 0.2026 - val_binary_accuracy: 0.9464\n",
            "Epoch 35/1000\n",
            "2/2 [==============================] - 0s 48ms/step - loss: 0.1779 - binary_accuracy: 0.9286 - val_loss: 0.2102 - val_binary_accuracy: 0.9464\n",
            "Epoch 36/1000\n",
            "2/2 [==============================] - 0s 47ms/step - loss: 0.2225 - binary_accuracy: 0.8839 - val_loss: 0.1971 - val_binary_accuracy: 0.9464\n",
            "Epoch 37/1000\n",
            "2/2 [==============================] - 0s 46ms/step - loss: 0.2079 - binary_accuracy: 0.8839 - val_loss: 0.1848 - val_binary_accuracy: 0.9464\n",
            "Epoch 38/1000\n",
            "2/2 [==============================] - 0s 48ms/step - loss: 0.2158 - binary_accuracy: 0.8929 - val_loss: 0.1767 - val_binary_accuracy: 0.9464\n",
            "Epoch 39/1000\n",
            "2/2 [==============================] - 0s 47ms/step - loss: 0.1765 - binary_accuracy: 0.9286 - val_loss: 0.1769 - val_binary_accuracy: 0.9464\n",
            "Epoch 40/1000\n",
            "2/2 [==============================] - 0s 47ms/step - loss: 0.2082 - binary_accuracy: 0.9107 - val_loss: 0.1947 - val_binary_accuracy: 0.9464\n",
            "Epoch 41/1000\n",
            "2/2 [==============================] - 0s 48ms/step - loss: 0.2004 - binary_accuracy: 0.9018 - val_loss: 0.1977 - val_binary_accuracy: 0.9821\n",
            "Epoch 42/1000\n",
            "2/2 [==============================] - 0s 48ms/step - loss: 0.1781 - binary_accuracy: 0.9196 - val_loss: 0.1957 - val_binary_accuracy: 0.9464\n",
            "Epoch 43/1000\n",
            "2/2 [==============================] - 0s 48ms/step - loss: 0.1708 - binary_accuracy: 0.9107 - val_loss: 0.1840 - val_binary_accuracy: 0.9464\n",
            "Epoch 44/1000\n",
            "2/2 [==============================] - 0s 48ms/step - loss: 0.1468 - binary_accuracy: 0.9196 - val_loss: 0.1731 - val_binary_accuracy: 0.9464\n",
            "Epoch 45/1000\n",
            "2/2 [==============================] - 0s 51ms/step - loss: 0.1786 - binary_accuracy: 0.9375 - val_loss: 0.1707 - val_binary_accuracy: 0.9464\n",
            "Epoch 46/1000\n",
            "2/2 [==============================] - 0s 50ms/step - loss: 0.1786 - binary_accuracy: 0.9286 - val_loss: 0.1730 - val_binary_accuracy: 0.9464\n",
            "Epoch 47/1000\n",
            "2/2 [==============================] - 0s 60ms/step - loss: 0.2045 - binary_accuracy: 0.8929 - val_loss: 0.1791 - val_binary_accuracy: 0.9464\n",
            "Epoch 48/1000\n",
            "2/2 [==============================] - 0s 48ms/step - loss: 0.1907 - binary_accuracy: 0.9286 - val_loss: 0.1894 - val_binary_accuracy: 0.9464\n",
            "Epoch 49/1000\n",
            "2/2 [==============================] - 0s 47ms/step - loss: 0.1952 - binary_accuracy: 0.9286 - val_loss: 0.1837 - val_binary_accuracy: 0.9464\n",
            "Epoch 50/1000\n",
            "2/2 [==============================] - 0s 55ms/step - loss: 0.1864 - binary_accuracy: 0.9018 - val_loss: 0.1798 - val_binary_accuracy: 0.9464\n",
            "Epoch 51/1000\n",
            "2/2 [==============================] - 0s 50ms/step - loss: 0.1687 - binary_accuracy: 0.9286 - val_loss: 0.1910 - val_binary_accuracy: 0.9464\n",
            "Epoch 52/1000\n",
            "2/2 [==============================] - 0s 46ms/step - loss: 0.1929 - binary_accuracy: 0.9107 - val_loss: 0.2036 - val_binary_accuracy: 0.9464\n",
            "Epoch 53/1000\n",
            "2/2 [==============================] - 0s 47ms/step - loss: 0.2303 - binary_accuracy: 0.8929 - val_loss: 0.1894 - val_binary_accuracy: 0.9464\n",
            "Epoch 54/1000\n",
            "2/2 [==============================] - 0s 50ms/step - loss: 0.1870 - binary_accuracy: 0.9018 - val_loss: 0.1925 - val_binary_accuracy: 0.9464\n",
            "Epoch 55/1000\n",
            "2/2 [==============================] - 0s 47ms/step - loss: 0.2098 - binary_accuracy: 0.9196 - val_loss: 0.1835 - val_binary_accuracy: 0.9464\n",
            "Epoch 56/1000\n",
            "2/2 [==============================] - 0s 56ms/step - loss: 0.1937 - binary_accuracy: 0.9196 - val_loss: 0.1793 - val_binary_accuracy: 0.9464\n",
            "Epoch 57/1000\n",
            "2/2 [==============================] - 0s 54ms/step - loss: 0.1911 - binary_accuracy: 0.9018 - val_loss: 0.1862 - val_binary_accuracy: 0.9464\n",
            "Epoch 58/1000\n",
            "2/2 [==============================] - 0s 53ms/step - loss: 0.1753 - binary_accuracy: 0.9196 - val_loss: 0.1819 - val_binary_accuracy: 0.9464\n",
            "Epoch 59/1000\n",
            "2/2 [==============================] - 0s 47ms/step - loss: 0.1629 - binary_accuracy: 0.9375 - val_loss: 0.1807 - val_binary_accuracy: 0.9464\n",
            "Epoch 60/1000\n",
            "2/2 [==============================] - 0s 56ms/step - loss: 0.1788 - binary_accuracy: 0.9196 - val_loss: 0.1785 - val_binary_accuracy: 0.9464\n",
            "Epoch 61/1000\n",
            "2/2 [==============================] - 0s 47ms/step - loss: 0.1750 - binary_accuracy: 0.9196 - val_loss: 0.1763 - val_binary_accuracy: 0.9464\n",
            "Epoch 62/1000\n",
            "2/2 [==============================] - 0s 47ms/step - loss: 0.1972 - binary_accuracy: 0.9286 - val_loss: 0.1786 - val_binary_accuracy: 0.9464\n",
            "Epoch 63/1000\n",
            "2/2 [==============================] - 0s 52ms/step - loss: 0.1810 - binary_accuracy: 0.8929 - val_loss: 0.1768 - val_binary_accuracy: 0.9464\n",
            "Epoch 64/1000\n",
            "2/2 [==============================] - 0s 49ms/step - loss: 0.1689 - binary_accuracy: 0.9375 - val_loss: 0.1692 - val_binary_accuracy: 0.9464\n",
            "Epoch 65/1000\n",
            "2/2 [==============================] - 0s 50ms/step - loss: 0.1724 - binary_accuracy: 0.9196 - val_loss: 0.1659 - val_binary_accuracy: 0.9464\n",
            "Epoch 66/1000\n",
            "2/2 [==============================] - 0s 52ms/step - loss: 0.1926 - binary_accuracy: 0.8929 - val_loss: 0.1689 - val_binary_accuracy: 0.9464\n",
            "Epoch 67/1000\n",
            "2/2 [==============================] - 0s 47ms/step - loss: 0.1919 - binary_accuracy: 0.9107 - val_loss: 0.1743 - val_binary_accuracy: 0.9464\n",
            "Epoch 68/1000\n",
            "2/2 [==============================] - 0s 52ms/step - loss: 0.1686 - binary_accuracy: 0.9286 - val_loss: 0.1725 - val_binary_accuracy: 0.9464\n",
            "Epoch 69/1000\n",
            "2/2 [==============================] - 0s 48ms/step - loss: 0.1731 - binary_accuracy: 0.9286 - val_loss: 0.1667 - val_binary_accuracy: 0.9464\n",
            "Epoch 70/1000\n",
            "2/2 [==============================] - 0s 51ms/step - loss: 0.1736 - binary_accuracy: 0.9018 - val_loss: 0.1601 - val_binary_accuracy: 0.9464\n",
            "Epoch 71/1000\n",
            "2/2 [==============================] - 0s 50ms/step - loss: 0.1816 - binary_accuracy: 0.9196 - val_loss: 0.1617 - val_binary_accuracy: 0.9464\n",
            "Epoch 72/1000\n",
            "2/2 [==============================] - 0s 47ms/step - loss: 0.1760 - binary_accuracy: 0.9196 - val_loss: 0.1701 - val_binary_accuracy: 0.9464\n",
            "Epoch 73/1000\n",
            "2/2 [==============================] - 0s 57ms/step - loss: 0.1812 - binary_accuracy: 0.9107 - val_loss: 0.1781 - val_binary_accuracy: 0.9464\n",
            "Epoch 74/1000\n",
            "2/2 [==============================] - 0s 51ms/step - loss: 0.1558 - binary_accuracy: 0.9286 - val_loss: 0.1811 - val_binary_accuracy: 0.9821\n",
            "Epoch 75/1000\n",
            "2/2 [==============================] - 0s 47ms/step - loss: 0.1870 - binary_accuracy: 0.8929 - val_loss: 0.1733 - val_binary_accuracy: 0.9464\n",
            "Epoch 76/1000\n",
            "2/2 [==============================] - 0s 51ms/step - loss: 0.1920 - binary_accuracy: 0.9196 - val_loss: 0.1692 - val_binary_accuracy: 0.9464\n",
            "Epoch 77/1000\n",
            "2/2 [==============================] - 0s 55ms/step - loss: 0.1664 - binary_accuracy: 0.9196 - val_loss: 0.1678 - val_binary_accuracy: 0.9464\n",
            "Epoch 78/1000\n",
            "2/2 [==============================] - 0s 51ms/step - loss: 0.1865 - binary_accuracy: 0.9196 - val_loss: 0.1793 - val_binary_accuracy: 0.9821\n",
            "Epoch 79/1000\n",
            "2/2 [==============================] - 0s 52ms/step - loss: 0.1986 - binary_accuracy: 0.9196 - val_loss: 0.1888 - val_binary_accuracy: 0.9464\n",
            "Epoch 80/1000\n",
            "2/2 [==============================] - 0s 47ms/step - loss: 0.2145 - binary_accuracy: 0.8839 - val_loss: 0.1780 - val_binary_accuracy: 0.9464\n",
            "Epoch 81/1000\n",
            "2/2 [==============================] - 0s 50ms/step - loss: 0.1690 - binary_accuracy: 0.9286 - val_loss: 0.1699 - val_binary_accuracy: 0.9464\n",
            "Epoch 82/1000\n",
            "2/2 [==============================] - 0s 54ms/step - loss: 0.1803 - binary_accuracy: 0.9196 - val_loss: 0.1684 - val_binary_accuracy: 0.9464\n",
            "Epoch 83/1000\n",
            "2/2 [==============================] - 0s 48ms/step - loss: 0.1690 - binary_accuracy: 0.9196 - val_loss: 0.1720 - val_binary_accuracy: 0.9464\n",
            "Epoch 84/1000\n",
            "2/2 [==============================] - 0s 47ms/step - loss: 0.1582 - binary_accuracy: 0.9196 - val_loss: 0.1800 - val_binary_accuracy: 0.9464\n",
            "Epoch 85/1000\n",
            "2/2 [==============================] - 0s 49ms/step - loss: 0.1799 - binary_accuracy: 0.8929 - val_loss: 0.1757 - val_binary_accuracy: 0.9464\n",
            "Epoch 86/1000\n",
            "2/2 [==============================] - 0s 47ms/step - loss: 0.1669 - binary_accuracy: 0.9196 - val_loss: 0.1728 - val_binary_accuracy: 0.9464\n",
            "Epoch 87/1000\n",
            "2/2 [==============================] - 0s 47ms/step - loss: 0.1710 - binary_accuracy: 0.9107 - val_loss: 0.1704 - val_binary_accuracy: 0.9464\n",
            "Epoch 88/1000\n",
            "2/2 [==============================] - 0s 55ms/step - loss: 0.1485 - binary_accuracy: 0.9375 - val_loss: 0.1681 - val_binary_accuracy: 0.9464\n",
            "Epoch 89/1000\n",
            "2/2 [==============================] - 0s 49ms/step - loss: 0.2142 - binary_accuracy: 0.8929 - val_loss: 0.1657 - val_binary_accuracy: 0.9464\n",
            "Epoch 90/1000\n",
            "2/2 [==============================] - 0s 48ms/step - loss: 0.1763 - binary_accuracy: 0.9107 - val_loss: 0.1671 - val_binary_accuracy: 0.9464\n",
            "Epoch 91/1000\n",
            "2/2 [==============================] - 0s 52ms/step - loss: 0.1550 - binary_accuracy: 0.9286 - val_loss: 0.1732 - val_binary_accuracy: 0.9464\n",
            "Epoch 92/1000\n",
            "2/2 [==============================] - 0s 48ms/step - loss: 0.1675 - binary_accuracy: 0.9196 - val_loss: 0.1812 - val_binary_accuracy: 0.9464\n",
            "Epoch 93/1000\n",
            "2/2 [==============================] - 0s 48ms/step - loss: 0.1900 - binary_accuracy: 0.8839 - val_loss: 0.1737 - val_binary_accuracy: 0.9464\n",
            "Epoch 94/1000\n",
            "2/2 [==============================] - 0s 49ms/step - loss: 0.1725 - binary_accuracy: 0.9286 - val_loss: 0.1678 - val_binary_accuracy: 0.9464\n",
            "Epoch 95/1000\n",
            "2/2 [==============================] - 0s 50ms/step - loss: 0.1692 - binary_accuracy: 0.9018 - val_loss: 0.1673 - val_binary_accuracy: 0.9464\n",
            "Epoch 96/1000\n",
            "2/2 [==============================] - 0s 51ms/step - loss: 0.1989 - binary_accuracy: 0.9018 - val_loss: 0.1688 - val_binary_accuracy: 0.9464\n",
            "Epoch 97/1000\n",
            "2/2 [==============================] - 0s 48ms/step - loss: 0.1763 - binary_accuracy: 0.9196 - val_loss: 0.1755 - val_binary_accuracy: 0.9643\n",
            "Epoch 98/1000\n",
            "2/2 [==============================] - 0s 53ms/step - loss: 0.1769 - binary_accuracy: 0.9196 - val_loss: 0.1813 - val_binary_accuracy: 0.9464\n",
            "Epoch 99/1000\n",
            "2/2 [==============================] - 0s 48ms/step - loss: 0.1800 - binary_accuracy: 0.8929 - val_loss: 0.1720 - val_binary_accuracy: 0.9464\n",
            "Epoch 100/1000\n",
            "2/2 [==============================] - 0s 50ms/step - loss: 0.1693 - binary_accuracy: 0.9196 - val_loss: 0.1665 - val_binary_accuracy: 0.9464\n",
            "Epoch 101/1000\n",
            "2/2 [==============================] - 0s 49ms/step - loss: 0.1857 - binary_accuracy: 0.9196 - val_loss: 0.1660 - val_binary_accuracy: 0.9464\n",
            "Epoch 102/1000\n",
            "2/2 [==============================] - 0s 68ms/step - loss: 0.2063 - binary_accuracy: 0.8929 - val_loss: 0.1721 - val_binary_accuracy: 0.9464\n",
            "Epoch 103/1000\n",
            "2/2 [==============================] - 0s 48ms/step - loss: 0.1588 - binary_accuracy: 0.9196 - val_loss: 0.1755 - val_binary_accuracy: 0.9464\n",
            "Epoch 104/1000\n",
            "2/2 [==============================] - 0s 50ms/step - loss: 0.1825 - binary_accuracy: 0.9018 - val_loss: 0.1731 - val_binary_accuracy: 0.9464\n",
            "Epoch 105/1000\n",
            "2/2 [==============================] - 0s 47ms/step - loss: 0.1667 - binary_accuracy: 0.9018 - val_loss: 0.1705 - val_binary_accuracy: 0.9464\n",
            "Epoch 106/1000\n",
            "2/2 [==============================] - 0s 49ms/step - loss: 0.1671 - binary_accuracy: 0.9196 - val_loss: 0.1677 - val_binary_accuracy: 0.9464\n",
            "Epoch 107/1000\n",
            "2/2 [==============================] - 0s 49ms/step - loss: 0.1621 - binary_accuracy: 0.9196 - val_loss: 0.1669 - val_binary_accuracy: 0.9464\n",
            "Epoch 108/1000\n",
            "2/2 [==============================] - 0s 55ms/step - loss: 0.1662 - binary_accuracy: 0.9196 - val_loss: 0.1676 - val_binary_accuracy: 0.9464\n",
            "Epoch 109/1000\n",
            "2/2 [==============================] - 0s 51ms/step - loss: 0.1794 - binary_accuracy: 0.9018 - val_loss: 0.1685 - val_binary_accuracy: 0.9464\n",
            "Epoch 110/1000\n",
            "2/2 [==============================] - 0s 51ms/step - loss: 0.1755 - binary_accuracy: 0.9107 - val_loss: 0.1686 - val_binary_accuracy: 0.9464\n",
            "Epoch 111/1000\n",
            "2/2 [==============================] - 0s 54ms/step - loss: 0.1710 - binary_accuracy: 0.9196 - val_loss: 0.1681 - val_binary_accuracy: 0.9464\n",
            "Epoch 112/1000\n",
            "2/2 [==============================] - 0s 48ms/step - loss: 0.1769 - binary_accuracy: 0.9286 - val_loss: 0.1693 - val_binary_accuracy: 0.9464\n",
            "Epoch 113/1000\n",
            "2/2 [==============================] - 0s 49ms/step - loss: 0.1746 - binary_accuracy: 0.9107 - val_loss: 0.1670 - val_binary_accuracy: 0.9464\n",
            "Epoch 114/1000\n",
            "2/2 [==============================] - 0s 48ms/step - loss: 0.1738 - binary_accuracy: 0.9107 - val_loss: 0.1624 - val_binary_accuracy: 0.9464\n",
            "Epoch 115/1000\n",
            "2/2 [==============================] - 0s 49ms/step - loss: 0.1833 - binary_accuracy: 0.9107 - val_loss: 0.1637 - val_binary_accuracy: 0.9464\n",
            "Epoch 116/1000\n",
            "2/2 [==============================] - 0s 50ms/step - loss: 0.1611 - binary_accuracy: 0.9107 - val_loss: 0.1687 - val_binary_accuracy: 0.9464\n",
            "Epoch 117/1000\n",
            "2/2 [==============================] - 0s 50ms/step - loss: 0.1613 - binary_accuracy: 0.9107 - val_loss: 0.1707 - val_binary_accuracy: 0.9464\n",
            "Epoch 118/1000\n",
            "2/2 [==============================] - 0s 48ms/step - loss: 0.1914 - binary_accuracy: 0.9018 - val_loss: 0.1708 - val_binary_accuracy: 0.9464\n",
            "Epoch 119/1000\n",
            "2/2 [==============================] - 0s 53ms/step - loss: 0.1670 - binary_accuracy: 0.9196 - val_loss: 0.1641 - val_binary_accuracy: 0.9464\n",
            "Epoch 120/1000\n",
            "2/2 [==============================] - 0s 49ms/step - loss: 0.1736 - binary_accuracy: 0.9107 - val_loss: 0.1611 - val_binary_accuracy: 0.9464\n",
            "Epoch 121/1000\n",
            "2/2 [==============================] - 0s 55ms/step - loss: 0.1572 - binary_accuracy: 0.9286 - val_loss: 0.1674 - val_binary_accuracy: 0.9464\n",
            "Epoch 122/1000\n",
            "2/2 [==============================] - 0s 55ms/step - loss: 0.1538 - binary_accuracy: 0.9286 - val_loss: 0.1744 - val_binary_accuracy: 0.9464\n",
            "Epoch 123/1000\n",
            "2/2 [==============================] - 0s 57ms/step - loss: 0.1688 - binary_accuracy: 0.9018 - val_loss: 0.1720 - val_binary_accuracy: 0.9464\n",
            "Epoch 124/1000\n",
            "2/2 [==============================] - 0s 48ms/step - loss: 0.1770 - binary_accuracy: 0.9107 - val_loss: 0.1680 - val_binary_accuracy: 0.9464\n",
            "Epoch 125/1000\n",
            "2/2 [==============================] - 0s 52ms/step - loss: 0.1896 - binary_accuracy: 0.9196 - val_loss: 0.1687 - val_binary_accuracy: 0.9464\n",
            "Epoch 126/1000\n",
            "2/2 [==============================] - 0s 52ms/step - loss: 0.1798 - binary_accuracy: 0.9018 - val_loss: 0.1702 - val_binary_accuracy: 0.9464\n",
            "Epoch 127/1000\n",
            "2/2 [==============================] - 0s 56ms/step - loss: 0.1787 - binary_accuracy: 0.9196 - val_loss: 0.1760 - val_binary_accuracy: 0.9464\n",
            "Epoch 128/1000\n",
            "2/2 [==============================] - 0s 48ms/step - loss: 0.1727 - binary_accuracy: 0.9196 - val_loss: 0.1741 - val_binary_accuracy: 0.9821\n",
            "Epoch 129/1000\n",
            "2/2 [==============================] - 0s 48ms/step - loss: 0.1567 - binary_accuracy: 0.9286 - val_loss: 0.1731 - val_binary_accuracy: 0.9464\n",
            "Epoch 130/1000\n",
            "2/2 [==============================] - 0s 52ms/step - loss: 0.1767 - binary_accuracy: 0.9018 - val_loss: 0.1704 - val_binary_accuracy: 0.9464\n",
            "Epoch 131/1000\n",
            "2/2 [==============================] - 0s 48ms/step - loss: 0.1872 - binary_accuracy: 0.9107 - val_loss: 0.1726 - val_binary_accuracy: 0.9464\n",
            "Epoch 132/1000\n",
            "2/2 [==============================] - 0s 49ms/step - loss: 0.1609 - binary_accuracy: 0.9286 - val_loss: 0.1756 - val_binary_accuracy: 0.9464\n",
            "Epoch 133/1000\n",
            "2/2 [==============================] - 0s 49ms/step - loss: 0.1638 - binary_accuracy: 0.9196 - val_loss: 0.1817 - val_binary_accuracy: 0.9464\n",
            "Epoch 134/1000\n",
            "2/2 [==============================] - 0s 48ms/step - loss: 0.1704 - binary_accuracy: 0.9196 - val_loss: 0.1751 - val_binary_accuracy: 0.9643\n",
            "Epoch 135/1000\n",
            "2/2 [==============================] - 0s 52ms/step - loss: 0.1939 - binary_accuracy: 0.9018 - val_loss: 0.1678 - val_binary_accuracy: 0.9464\n",
            "Epoch 136/1000\n",
            "2/2 [==============================] - 0s 58ms/step - loss: 0.1666 - binary_accuracy: 0.9286 - val_loss: 0.1697 - val_binary_accuracy: 0.9464\n",
            "Epoch 137/1000\n",
            "2/2 [==============================] - 0s 50ms/step - loss: 0.1832 - binary_accuracy: 0.9196 - val_loss: 0.1715 - val_binary_accuracy: 0.9464\n",
            "Epoch 138/1000\n",
            "2/2 [==============================] - 0s 51ms/step - loss: 0.1685 - binary_accuracy: 0.9107 - val_loss: 0.1811 - val_binary_accuracy: 0.9821\n",
            "Epoch 139/1000\n",
            "2/2 [==============================] - 0s 46ms/step - loss: 0.1691 - binary_accuracy: 0.9018 - val_loss: 0.1874 - val_binary_accuracy: 0.9464\n",
            "Epoch 140/1000\n",
            "2/2 [==============================] - 0s 48ms/step - loss: 0.1685 - binary_accuracy: 0.9107 - val_loss: 0.1755 - val_binary_accuracy: 0.9464\n",
            "Epoch 141/1000\n",
            "2/2 [==============================] - 0s 53ms/step - loss: 0.1745 - binary_accuracy: 0.9107 - val_loss: 0.1677 - val_binary_accuracy: 0.9464\n",
            "Epoch 142/1000\n",
            "2/2 [==============================] - 0s 52ms/step - loss: 0.1770 - binary_accuracy: 0.9196 - val_loss: 0.1676 - val_binary_accuracy: 0.9464\n",
            "Epoch 143/1000\n",
            "2/2 [==============================] - 0s 47ms/step - loss: 0.2111 - binary_accuracy: 0.9286 - val_loss: 0.1766 - val_binary_accuracy: 0.9464\n",
            "Epoch 144/1000\n",
            "2/2 [==============================] - 0s 49ms/step - loss: 0.1757 - binary_accuracy: 0.9107 - val_loss: 0.1873 - val_binary_accuracy: 0.9643\n",
            "Epoch 145/1000\n",
            "2/2 [==============================] - 0s 51ms/step - loss: 0.1845 - binary_accuracy: 0.9018 - val_loss: 0.1854 - val_binary_accuracy: 0.9464\n",
            "Epoch 146/1000\n",
            "2/2 [==============================] - 0s 50ms/step - loss: 0.1794 - binary_accuracy: 0.9018 - val_loss: 0.1714 - val_binary_accuracy: 0.9464\n",
            "Epoch 147/1000\n",
            "2/2 [==============================] - 0s 50ms/step - loss: 0.1700 - binary_accuracy: 0.9018 - val_loss: 0.1615 - val_binary_accuracy: 0.9464\n",
            "Epoch 148/1000\n",
            "2/2 [==============================] - 0s 47ms/step - loss: 0.1716 - binary_accuracy: 0.9196 - val_loss: 0.1620 - val_binary_accuracy: 0.9464\n",
            "Epoch 149/1000\n",
            "2/2 [==============================] - 0s 50ms/step - loss: 0.1927 - binary_accuracy: 0.9196 - val_loss: 0.1743 - val_binary_accuracy: 0.9464\n",
            "Epoch 150/1000\n",
            "2/2 [==============================] - 0s 50ms/step - loss: 0.1896 - binary_accuracy: 0.9018 - val_loss: 0.1873 - val_binary_accuracy: 0.9643\n",
            "Epoch 151/1000\n",
            "2/2 [==============================] - 0s 49ms/step - loss: 0.1793 - binary_accuracy: 0.9107 - val_loss: 0.1862 - val_binary_accuracy: 0.9464\n",
            "Epoch 152/1000\n",
            "2/2 [==============================] - 0s 52ms/step - loss: 0.1737 - binary_accuracy: 0.9107 - val_loss: 0.1700 - val_binary_accuracy: 0.9464\n",
            "Epoch 153/1000\n",
            "2/2 [==============================] - 0s 50ms/step - loss: 0.1707 - binary_accuracy: 0.9018 - val_loss: 0.1607 - val_binary_accuracy: 0.9464\n",
            "Epoch 154/1000\n",
            "2/2 [==============================] - 0s 54ms/step - loss: 0.1744 - binary_accuracy: 0.9196 - val_loss: 0.1593 - val_binary_accuracy: 0.9464\n",
            "Epoch 155/1000\n",
            "2/2 [==============================] - 0s 50ms/step - loss: 0.1798 - binary_accuracy: 0.9196 - val_loss: 0.1627 - val_binary_accuracy: 0.9464\n",
            "Epoch 156/1000\n",
            "2/2 [==============================] - 0s 47ms/step - loss: 0.1616 - binary_accuracy: 0.9107 - val_loss: 0.1722 - val_binary_accuracy: 0.9821\n",
            "Epoch 157/1000\n",
            "2/2 [==============================] - 0s 53ms/step - loss: 0.1782 - binary_accuracy: 0.9018 - val_loss: 0.1810 - val_binary_accuracy: 0.9464\n",
            "Epoch 158/1000\n",
            "2/2 [==============================] - 0s 55ms/step - loss: 0.1832 - binary_accuracy: 0.9196 - val_loss: 0.1767 - val_binary_accuracy: 0.9821\n",
            "Epoch 159/1000\n",
            "2/2 [==============================] - 0s 60ms/step - loss: 0.1827 - binary_accuracy: 0.9018 - val_loss: 0.1656 - val_binary_accuracy: 0.9464\n",
            "Epoch 160/1000\n",
            "2/2 [==============================] - 0s 56ms/step - loss: 0.1702 - binary_accuracy: 0.9196 - val_loss: 0.1605 - val_binary_accuracy: 0.9464\n",
            "Epoch 161/1000\n",
            "2/2 [==============================] - 0s 49ms/step - loss: 0.1489 - binary_accuracy: 0.9286 - val_loss: 0.1578 - val_binary_accuracy: 0.9464\n",
            "Epoch 162/1000\n",
            "2/2 [==============================] - 0s 55ms/step - loss: 0.1748 - binary_accuracy: 0.9107 - val_loss: 0.1622 - val_binary_accuracy: 0.9464\n",
            "Epoch 163/1000\n",
            "2/2 [==============================] - 0s 50ms/step - loss: 0.1649 - binary_accuracy: 0.9107 - val_loss: 0.1702 - val_binary_accuracy: 0.9464\n",
            "Epoch 164/1000\n",
            "2/2 [==============================] - 0s 49ms/step - loss: 0.1870 - binary_accuracy: 0.9018 - val_loss: 0.1799 - val_binary_accuracy: 0.9464\n",
            "Epoch 165/1000\n",
            "2/2 [==============================] - 0s 51ms/step - loss: 0.1523 - binary_accuracy: 0.9375 - val_loss: 0.1762 - val_binary_accuracy: 0.9643\n",
            "Epoch 166/1000\n",
            "2/2 [==============================] - 0s 49ms/step - loss: 0.1642 - binary_accuracy: 0.9018 - val_loss: 0.1667 - val_binary_accuracy: 0.9464\n",
            "Epoch 167/1000\n",
            "2/2 [==============================] - 0s 57ms/step - loss: 0.1488 - binary_accuracy: 0.9375 - val_loss: 0.1621 - val_binary_accuracy: 0.9464\n",
            "Epoch 168/1000\n",
            "2/2 [==============================] - 0s 50ms/step - loss: 0.1750 - binary_accuracy: 0.9196 - val_loss: 0.1616 - val_binary_accuracy: 0.9464\n",
            "Epoch 169/1000\n",
            "2/2 [==============================] - 0s 51ms/step - loss: 0.1644 - binary_accuracy: 0.9196 - val_loss: 0.1652 - val_binary_accuracy: 0.9464\n",
            "Epoch 170/1000\n",
            "2/2 [==============================] - 0s 57ms/step - loss: 0.1720 - binary_accuracy: 0.9107 - val_loss: 0.1699 - val_binary_accuracy: 0.9464\n",
            "Epoch 171/1000\n",
            "2/2 [==============================] - 0s 48ms/step - loss: 0.1829 - binary_accuracy: 0.9107 - val_loss: 0.1743 - val_binary_accuracy: 0.9464\n",
            "Epoch 172/1000\n",
            "2/2 [==============================] - 0s 48ms/step - loss: 0.1698 - binary_accuracy: 0.9107 - val_loss: 0.1721 - val_binary_accuracy: 0.9464\n",
            "Epoch 173/1000\n",
            "2/2 [==============================] - 0s 49ms/step - loss: 0.1675 - binary_accuracy: 0.9018 - val_loss: 0.1689 - val_binary_accuracy: 0.9464\n",
            "Epoch 174/1000\n",
            "2/2 [==============================] - 0s 54ms/step - loss: 0.1621 - binary_accuracy: 0.9286 - val_loss: 0.1695 - val_binary_accuracy: 0.9464\n",
            "Epoch 175/1000\n",
            "2/2 [==============================] - 0s 52ms/step - loss: 0.1619 - binary_accuracy: 0.9196 - val_loss: 0.1694 - val_binary_accuracy: 0.9464\n",
            "Epoch 176/1000\n",
            "2/2 [==============================] - 0s 52ms/step - loss: 0.1781 - binary_accuracy: 0.8929 - val_loss: 0.1700 - val_binary_accuracy: 0.9464\n",
            "Epoch 177/1000\n",
            "2/2 [==============================] - 0s 49ms/step - loss: 0.1577 - binary_accuracy: 0.9286 - val_loss: 0.1750 - val_binary_accuracy: 0.9464\n",
            "Epoch 178/1000\n",
            "2/2 [==============================] - 0s 54ms/step - loss: 0.1742 - binary_accuracy: 0.9107 - val_loss: 0.1762 - val_binary_accuracy: 0.9464\n",
            "Epoch 179/1000\n",
            "2/2 [==============================] - 0s 48ms/step - loss: 0.1733 - binary_accuracy: 0.9107 - val_loss: 0.1691 - val_binary_accuracy: 0.9464\n",
            "Epoch 180/1000\n",
            "2/2 [==============================] - 0s 50ms/step - loss: 0.1648 - binary_accuracy: 0.9107 - val_loss: 0.1634 - val_binary_accuracy: 0.9464\n",
            "Epoch 181/1000\n",
            "2/2 [==============================] - 0s 51ms/step - loss: 0.1646 - binary_accuracy: 0.9196 - val_loss: 0.1655 - val_binary_accuracy: 0.9464\n",
            "Epoch 182/1000\n",
            "2/2 [==============================] - 0s 49ms/step - loss: 0.1451 - binary_accuracy: 0.9464 - val_loss: 0.1736 - val_binary_accuracy: 0.9821\n",
            "Epoch 183/1000\n",
            "2/2 [==============================] - 0s 52ms/step - loss: 0.1883 - binary_accuracy: 0.9107 - val_loss: 0.1801 - val_binary_accuracy: 0.9464\n",
            "Epoch 184/1000\n",
            "2/2 [==============================] - 0s 51ms/step - loss: 0.1839 - binary_accuracy: 0.9107 - val_loss: 0.1816 - val_binary_accuracy: 0.9464\n",
            "Epoch 185/1000\n",
            "2/2 [==============================] - 0s 62ms/step - loss: 0.1776 - binary_accuracy: 0.9286 - val_loss: 0.1773 - val_binary_accuracy: 0.9464\n",
            "Epoch 186/1000\n",
            "2/2 [==============================] - 0s 54ms/step - loss: 0.1590 - binary_accuracy: 0.9286 - val_loss: 0.1734 - val_binary_accuracy: 0.9464\n",
            "Epoch 187/1000\n",
            "2/2 [==============================] - 0s 52ms/step - loss: 0.1754 - binary_accuracy: 0.9107 - val_loss: 0.1757 - val_binary_accuracy: 0.9464\n",
            "Epoch 188/1000\n",
            "2/2 [==============================] - 0s 51ms/step - loss: 0.1765 - binary_accuracy: 0.9018 - val_loss: 0.1812 - val_binary_accuracy: 0.9464\n",
            "Epoch 189/1000\n",
            "2/2 [==============================] - 0s 49ms/step - loss: 0.1779 - binary_accuracy: 0.9018 - val_loss: 0.1758 - val_binary_accuracy: 0.9464\n",
            "Epoch 190/1000\n",
            "2/2 [==============================] - 0s 56ms/step - loss: 0.1768 - binary_accuracy: 0.9018 - val_loss: 0.1730 - val_binary_accuracy: 0.9464\n",
            "Epoch 191/1000\n",
            "2/2 [==============================] - 0s 60ms/step - loss: 0.1647 - binary_accuracy: 0.9196 - val_loss: 0.1754 - val_binary_accuracy: 0.9464\n",
            "Epoch 192/1000\n",
            "2/2 [==============================] - 0s 53ms/step - loss: 0.1694 - binary_accuracy: 0.9196 - val_loss: 0.1820 - val_binary_accuracy: 0.9464\n",
            "Epoch 193/1000\n",
            "2/2 [==============================] - 0s 51ms/step - loss: 0.1661 - binary_accuracy: 0.9286 - val_loss: 0.1886 - val_binary_accuracy: 0.9464\n",
            "Epoch 194/1000\n",
            "2/2 [==============================] - 0s 52ms/step - loss: 0.1729 - binary_accuracy: 0.9018 - val_loss: 0.1871 - val_binary_accuracy: 0.9464\n",
            "Epoch 195/1000\n",
            "2/2 [==============================] - 0s 50ms/step - loss: 0.1741 - binary_accuracy: 0.8929 - val_loss: 0.1776 - val_binary_accuracy: 0.9464\n",
            "Epoch 196/1000\n",
            "2/2 [==============================] - 0s 58ms/step - loss: 0.1837 - binary_accuracy: 0.9107 - val_loss: 0.1693 - val_binary_accuracy: 0.9464\n",
            "Epoch 197/1000\n",
            "2/2 [==============================] - 0s 52ms/step - loss: 0.1713 - binary_accuracy: 0.9196 - val_loss: 0.1695 - val_binary_accuracy: 0.9464\n",
            "Epoch 198/1000\n",
            "2/2 [==============================] - 0s 51ms/step - loss: 0.1615 - binary_accuracy: 0.9196 - val_loss: 0.1765 - val_binary_accuracy: 0.9464\n",
            "Epoch 199/1000\n",
            "2/2 [==============================] - 0s 50ms/step - loss: 0.1607 - binary_accuracy: 0.9196 - val_loss: 0.1800 - val_binary_accuracy: 0.9464\n",
            "Epoch 200/1000\n",
            "2/2 [==============================] - 0s 52ms/step - loss: 0.1628 - binary_accuracy: 0.9196 - val_loss: 0.1787 - val_binary_accuracy: 0.9464\n",
            "Epoch 201/1000\n",
            "2/2 [==============================] - 0s 54ms/step - loss: 0.1655 - binary_accuracy: 0.9107 - val_loss: 0.1700 - val_binary_accuracy: 0.9464\n",
            "Epoch 202/1000\n",
            "2/2 [==============================] - 0s 50ms/step - loss: 0.1829 - binary_accuracy: 0.9107 - val_loss: 0.1667 - val_binary_accuracy: 0.9464\n",
            "Epoch 203/1000\n",
            "2/2 [==============================] - 0s 53ms/step - loss: 0.1629 - binary_accuracy: 0.9107 - val_loss: 0.1697 - val_binary_accuracy: 0.9464\n",
            "Epoch 204/1000\n",
            "2/2 [==============================] - 0s 54ms/step - loss: 0.1838 - binary_accuracy: 0.8929 - val_loss: 0.1726 - val_binary_accuracy: 0.9464\n",
            "Epoch 205/1000\n",
            "2/2 [==============================] - 0s 53ms/step - loss: 0.1613 - binary_accuracy: 0.8929 - val_loss: 0.1766 - val_binary_accuracy: 0.9464\n",
            "Epoch 206/1000\n",
            "2/2 [==============================] - 0s 53ms/step - loss: 0.1520 - binary_accuracy: 0.9196 - val_loss: 0.1785 - val_binary_accuracy: 0.9821\n",
            "Epoch 207/1000\n",
            "2/2 [==============================] - 0s 52ms/step - loss: 0.1849 - binary_accuracy: 0.9107 - val_loss: 0.1774 - val_binary_accuracy: 0.9821\n",
            "Epoch 208/1000\n",
            "2/2 [==============================] - 0s 60ms/step - loss: 0.1616 - binary_accuracy: 0.9107 - val_loss: 0.1703 - val_binary_accuracy: 0.9464\n",
            "Epoch 209/1000\n",
            "2/2 [==============================] - 0s 51ms/step - loss: 0.1776 - binary_accuracy: 0.9196 - val_loss: 0.1669 - val_binary_accuracy: 0.9464\n",
            "Epoch 210/1000\n",
            "2/2 [==============================] - 0s 49ms/step - loss: 0.1852 - binary_accuracy: 0.9196 - val_loss: 0.1733 - val_binary_accuracy: 0.9464\n",
            "Epoch 211/1000\n",
            "2/2 [==============================] - 0s 50ms/step - loss: 0.1620 - binary_accuracy: 0.9286 - val_loss: 0.1861 - val_binary_accuracy: 0.9464\n",
            "Epoch 212/1000\n",
            "2/2 [==============================] - 0s 53ms/step - loss: 0.1617 - binary_accuracy: 0.9196 - val_loss: 0.1852 - val_binary_accuracy: 0.9464\n",
            "Epoch 213/1000\n",
            "2/2 [==============================] - 0s 51ms/step - loss: 0.1810 - binary_accuracy: 0.9107 - val_loss: 0.1743 - val_binary_accuracy: 0.9464\n",
            "Epoch 214/1000\n",
            "2/2 [==============================] - 0s 51ms/step - loss: 0.1685 - binary_accuracy: 0.9196 - val_loss: 0.1686 - val_binary_accuracy: 0.9464\n",
            "Epoch 215/1000\n",
            "2/2 [==============================] - 0s 51ms/step - loss: 0.1619 - binary_accuracy: 0.9196 - val_loss: 0.1688 - val_binary_accuracy: 0.9464\n",
            "Epoch 216/1000\n",
            "2/2 [==============================] - 0s 51ms/step - loss: 0.1592 - binary_accuracy: 0.9196 - val_loss: 0.1766 - val_binary_accuracy: 0.9464\n",
            "Epoch 217/1000\n",
            "2/2 [==============================] - 0s 50ms/step - loss: 0.1677 - binary_accuracy: 0.9107 - val_loss: 0.1895 - val_binary_accuracy: 0.9464\n",
            "Epoch 218/1000\n",
            "2/2 [==============================] - 0s 52ms/step - loss: 0.1707 - binary_accuracy: 0.9286 - val_loss: 0.1905 - val_binary_accuracy: 0.9464\n",
            "Epoch 219/1000\n",
            "2/2 [==============================] - 0s 48ms/step - loss: 0.1669 - binary_accuracy: 0.9196 - val_loss: 0.1796 - val_binary_accuracy: 0.9464\n",
            "Epoch 220/1000\n",
            "2/2 [==============================] - 0s 53ms/step - loss: 0.1741 - binary_accuracy: 0.9286 - val_loss: 0.1739 - val_binary_accuracy: 0.9464\n",
            "Epoch 221/1000\n",
            "2/2 [==============================] - 0s 50ms/step - loss: 0.1596 - binary_accuracy: 0.9196 - val_loss: 0.1738 - val_binary_accuracy: 0.9464\n",
            "Epoch 222/1000\n",
            "2/2 [==============================] - 0s 51ms/step - loss: 0.1744 - binary_accuracy: 0.9286 - val_loss: 0.1810 - val_binary_accuracy: 0.9464\n",
            "Epoch 223/1000\n",
            "2/2 [==============================] - 0s 51ms/step - loss: 0.1735 - binary_accuracy: 0.9107 - val_loss: 0.1835 - val_binary_accuracy: 0.9643\n",
            "Epoch 224/1000\n",
            "2/2 [==============================] - 0s 53ms/step - loss: 0.1686 - binary_accuracy: 0.9018 - val_loss: 0.1792 - val_binary_accuracy: 0.9464\n",
            "Epoch 225/1000\n",
            "2/2 [==============================] - 0s 53ms/step - loss: 0.1760 - binary_accuracy: 0.9107 - val_loss: 0.1756 - val_binary_accuracy: 0.9464\n",
            "Epoch 226/1000\n",
            "2/2 [==============================] - 0s 58ms/step - loss: 0.1902 - binary_accuracy: 0.9018 - val_loss: 0.1729 - val_binary_accuracy: 0.9464\n",
            "Epoch 227/1000\n",
            "2/2 [==============================] - 0s 55ms/step - loss: 0.1771 - binary_accuracy: 0.9107 - val_loss: 0.1734 - val_binary_accuracy: 0.9464\n",
            "Epoch 228/1000\n",
            "2/2 [==============================] - 0s 53ms/step - loss: 0.1653 - binary_accuracy: 0.9286 - val_loss: 0.1784 - val_binary_accuracy: 0.9464\n",
            "Epoch 229/1000\n",
            "2/2 [==============================] - 0s 56ms/step - loss: 0.1570 - binary_accuracy: 0.9196 - val_loss: 0.1837 - val_binary_accuracy: 0.9464\n",
            "Epoch 230/1000\n",
            "2/2 [==============================] - 0s 51ms/step - loss: 0.1669 - binary_accuracy: 0.9107 - val_loss: 0.1767 - val_binary_accuracy: 0.9464\n",
            "Epoch 231/1000\n",
            "2/2 [==============================] - 0s 55ms/step - loss: 0.1747 - binary_accuracy: 0.9107 - val_loss: 0.1711 - val_binary_accuracy: 0.9464\n",
            "Epoch 232/1000\n",
            "2/2 [==============================] - 0s 57ms/step - loss: 0.1773 - binary_accuracy: 0.9107 - val_loss: 0.1703 - val_binary_accuracy: 0.9464\n",
            "Epoch 233/1000\n",
            "2/2 [==============================] - 0s 57ms/step - loss: 0.1626 - binary_accuracy: 0.9196 - val_loss: 0.1722 - val_binary_accuracy: 0.9464\n",
            "Epoch 234/1000\n",
            "2/2 [==============================] - 0s 52ms/step - loss: 0.1518 - binary_accuracy: 0.9464 - val_loss: 0.1792 - val_binary_accuracy: 0.9643\n",
            "Epoch 235/1000\n",
            "2/2 [==============================] - 0s 51ms/step - loss: 0.1592 - binary_accuracy: 0.9196 - val_loss: 0.1803 - val_binary_accuracy: 0.9464\n",
            "Epoch 236/1000\n",
            "2/2 [==============================] - 0s 49ms/step - loss: 0.1808 - binary_accuracy: 0.9107 - val_loss: 0.1742 - val_binary_accuracy: 0.9464\n",
            "Epoch 237/1000\n",
            "2/2 [==============================] - 0s 54ms/step - loss: 0.1605 - binary_accuracy: 0.9107 - val_loss: 0.1699 - val_binary_accuracy: 0.9464\n",
            "Epoch 238/1000\n",
            "2/2 [==============================] - 0s 54ms/step - loss: 0.1737 - binary_accuracy: 0.9196 - val_loss: 0.1701 - val_binary_accuracy: 0.9464\n",
            "Epoch 239/1000\n",
            "2/2 [==============================] - 0s 52ms/step - loss: 0.1640 - binary_accuracy: 0.9196 - val_loss: 0.1771 - val_binary_accuracy: 0.9464\n",
            "Epoch 240/1000\n",
            "2/2 [==============================] - 0s 52ms/step - loss: 0.1652 - binary_accuracy: 0.9018 - val_loss: 0.1771 - val_binary_accuracy: 0.9464\n",
            "Epoch 241/1000\n",
            "2/2 [==============================] - 0s 50ms/step - loss: 0.1599 - binary_accuracy: 0.9196 - val_loss: 0.1750 - val_binary_accuracy: 0.9464\n",
            "Epoch 242/1000\n",
            "2/2 [==============================] - 0s 53ms/step - loss: 0.1596 - binary_accuracy: 0.9018 - val_loss: 0.1717 - val_binary_accuracy: 0.9464\n",
            "Epoch 243/1000\n",
            "2/2 [==============================] - 0s 55ms/step - loss: 0.1469 - binary_accuracy: 0.9286 - val_loss: 0.1705 - val_binary_accuracy: 0.9464\n",
            "Epoch 244/1000\n",
            "2/2 [==============================] - 0s 53ms/step - loss: 0.1930 - binary_accuracy: 0.9018 - val_loss: 0.1769 - val_binary_accuracy: 0.9464\n",
            "Epoch 245/1000\n",
            "2/2 [==============================] - 0s 54ms/step - loss: 0.1631 - binary_accuracy: 0.9196 - val_loss: 0.1824 - val_binary_accuracy: 0.9464\n",
            "Epoch 246/1000\n",
            "2/2 [==============================] - 0s 50ms/step - loss: 0.1638 - binary_accuracy: 0.9196 - val_loss: 0.1856 - val_binary_accuracy: 0.9643\n",
            "Epoch 247/1000\n",
            "2/2 [==============================] - 0s 52ms/step - loss: 0.1913 - binary_accuracy: 0.9018 - val_loss: 0.1812 - val_binary_accuracy: 0.9464\n",
            "Epoch 248/1000\n",
            "2/2 [==============================] - 0s 52ms/step - loss: 0.1690 - binary_accuracy: 0.9018 - val_loss: 0.1757 - val_binary_accuracy: 0.9464\n",
            "Epoch 249/1000\n",
            "2/2 [==============================] - 0s 55ms/step - loss: 0.1599 - binary_accuracy: 0.9196 - val_loss: 0.1734 - val_binary_accuracy: 0.9464\n",
            "Epoch 250/1000\n",
            "2/2 [==============================] - 0s 51ms/step - loss: 0.1537 - binary_accuracy: 0.9286 - val_loss: 0.1751 - val_binary_accuracy: 0.9464\n",
            "Epoch 251/1000\n",
            "2/2 [==============================] - 0s 57ms/step - loss: 0.1607 - binary_accuracy: 0.9107 - val_loss: 0.1799 - val_binary_accuracy: 0.9464\n",
            "Epoch 252/1000\n",
            "2/2 [==============================] - 0s 60ms/step - loss: 0.1541 - binary_accuracy: 0.9286 - val_loss: 0.1887 - val_binary_accuracy: 0.9821\n",
            "Epoch 253/1000\n",
            "2/2 [==============================] - 0s 52ms/step - loss: 0.1590 - binary_accuracy: 0.9196 - val_loss: 0.1895 - val_binary_accuracy: 0.9464\n",
            "Epoch 254/1000\n",
            "2/2 [==============================] - 0s 60ms/step - loss: 0.1695 - binary_accuracy: 0.9018 - val_loss: 0.1782 - val_binary_accuracy: 0.9464\n",
            "Epoch 255/1000\n",
            "2/2 [==============================] - 0s 54ms/step - loss: 0.1442 - binary_accuracy: 0.9286 - val_loss: 0.1736 - val_binary_accuracy: 0.9464\n",
            "Epoch 256/1000\n",
            "2/2 [==============================] - 0s 58ms/step - loss: 0.1716 - binary_accuracy: 0.9196 - val_loss: 0.1730 - val_binary_accuracy: 0.9464\n",
            "Epoch 257/1000\n",
            "2/2 [==============================] - 0s 55ms/step - loss: 0.1787 - binary_accuracy: 0.9107 - val_loss: 0.1793 - val_binary_accuracy: 0.9464\n",
            "Epoch 258/1000\n",
            "2/2 [==============================] - 0s 49ms/step - loss: 0.1594 - binary_accuracy: 0.9196 - val_loss: 0.1932 - val_binary_accuracy: 0.9821\n",
            "Epoch 259/1000\n",
            "2/2 [==============================] - 0s 56ms/step - loss: 0.1733 - binary_accuracy: 0.9018 - val_loss: 0.1929 - val_binary_accuracy: 0.9643\n",
            "Epoch 260/1000\n",
            "2/2 [==============================] - 0s 51ms/step - loss: 0.1614 - binary_accuracy: 0.9286 - val_loss: 0.1831 - val_binary_accuracy: 0.9464\n",
            "Epoch 261/1000\n",
            "2/2 [==============================] - 0s 56ms/step - loss: 0.1635 - binary_accuracy: 0.9375 - val_loss: 0.1760 - val_binary_accuracy: 0.9464\n",
            "Epoch 262/1000\n",
            "2/2 [==============================] - 0s 54ms/step - loss: 0.1739 - binary_accuracy: 0.9107 - val_loss: 0.1759 - val_binary_accuracy: 0.9464\n",
            "Epoch 263/1000\n",
            "2/2 [==============================] - 0s 51ms/step - loss: 0.1759 - binary_accuracy: 0.9196 - val_loss: 0.1827 - val_binary_accuracy: 0.9464\n",
            "Epoch 264/1000\n",
            "2/2 [==============================] - 0s 59ms/step - loss: 0.1577 - binary_accuracy: 0.9375 - val_loss: 0.1860 - val_binary_accuracy: 0.9464\n",
            "Epoch 265/1000\n",
            "2/2 [==============================] - 0s 61ms/step - loss: 0.1570 - binary_accuracy: 0.9375 - val_loss: 0.1866 - val_binary_accuracy: 0.9464\n",
            "Epoch 266/1000\n",
            "2/2 [==============================] - 0s 58ms/step - loss: 0.1569 - binary_accuracy: 0.9196 - val_loss: 0.1861 - val_binary_accuracy: 0.9464\n",
            "Epoch 267/1000\n",
            "2/2 [==============================] - 0s 53ms/step - loss: 0.1629 - binary_accuracy: 0.9107 - val_loss: 0.1843 - val_binary_accuracy: 0.9464\n",
            "Epoch 268/1000\n",
            "2/2 [==============================] - 0s 53ms/step - loss: 0.1561 - binary_accuracy: 0.9286 - val_loss: 0.1847 - val_binary_accuracy: 0.9464\n",
            "Epoch 269/1000\n",
            "2/2 [==============================] - 0s 51ms/step - loss: 0.1607 - binary_accuracy: 0.9286 - val_loss: 0.1959 - val_binary_accuracy: 0.9464\n",
            "Epoch 270/1000\n",
            "2/2 [==============================] - 0s 53ms/step - loss: 0.1811 - binary_accuracy: 0.9018 - val_loss: 0.2032 - val_binary_accuracy: 0.9464\n",
            "Epoch 271/1000\n",
            "2/2 [==============================] - 0s 55ms/step - loss: 0.1731 - binary_accuracy: 0.9196 - val_loss: 0.2052 - val_binary_accuracy: 0.9464\n",
            "Epoch 272/1000\n",
            "2/2 [==============================] - 0s 62ms/step - loss: 0.1575 - binary_accuracy: 0.9107 - val_loss: 0.1914 - val_binary_accuracy: 0.9821\n",
            "Epoch 273/1000\n",
            "2/2 [==============================] - 0s 58ms/step - loss: 0.1859 - binary_accuracy: 0.9107 - val_loss: 0.1792 - val_binary_accuracy: 0.9464\n",
            "Epoch 274/1000\n",
            "2/2 [==============================] - 0s 56ms/step - loss: 0.1574 - binary_accuracy: 0.9196 - val_loss: 0.1800 - val_binary_accuracy: 0.9464\n",
            "Epoch 275/1000\n",
            "2/2 [==============================] - 0s 53ms/step - loss: 0.1699 - binary_accuracy: 0.9196 - val_loss: 0.1863 - val_binary_accuracy: 0.9464\n",
            "Epoch 276/1000\n",
            "2/2 [==============================] - 0s 54ms/step - loss: 0.1662 - binary_accuracy: 0.9107 - val_loss: 0.1991 - val_binary_accuracy: 0.9643\n",
            "Epoch 277/1000\n",
            "2/2 [==============================] - 0s 55ms/step - loss: 0.1869 - binary_accuracy: 0.9018 - val_loss: 0.2004 - val_binary_accuracy: 0.9464\n",
            "Epoch 278/1000\n",
            "2/2 [==============================] - 0s 50ms/step - loss: 0.1646 - binary_accuracy: 0.9018 - val_loss: 0.1826 - val_binary_accuracy: 0.9464\n",
            "Epoch 279/1000\n",
            "2/2 [==============================] - 0s 50ms/step - loss: 0.1848 - binary_accuracy: 0.9107 - val_loss: 0.1768 - val_binary_accuracy: 0.9464\n",
            "Epoch 280/1000\n",
            "2/2 [==============================] - 0s 54ms/step - loss: 0.1558 - binary_accuracy: 0.9196 - val_loss: 0.1761 - val_binary_accuracy: 0.9464\n",
            "Epoch 281/1000\n",
            "2/2 [==============================] - 0s 50ms/step - loss: 0.1627 - binary_accuracy: 0.9196 - val_loss: 0.1820 - val_binary_accuracy: 0.9464\n",
            "Epoch 282/1000\n",
            "2/2 [==============================] - 0s 53ms/step - loss: 0.1645 - binary_accuracy: 0.9107 - val_loss: 0.1846 - val_binary_accuracy: 0.9464\n",
            "Epoch 283/1000\n",
            "2/2 [==============================] - 0s 56ms/step - loss: 0.1639 - binary_accuracy: 0.9196 - val_loss: 0.1836 - val_binary_accuracy: 0.9464\n",
            "Epoch 284/1000\n",
            "2/2 [==============================] - 0s 57ms/step - loss: 0.1520 - binary_accuracy: 0.9196 - val_loss: 0.1809 - val_binary_accuracy: 0.9464\n",
            "Epoch 285/1000\n",
            "2/2 [==============================] - 0s 56ms/step - loss: 0.1591 - binary_accuracy: 0.9286 - val_loss: 0.1803 - val_binary_accuracy: 0.9464\n",
            "Epoch 286/1000\n",
            "2/2 [==============================] - 0s 52ms/step - loss: 0.1628 - binary_accuracy: 0.9196 - val_loss: 0.1805 - val_binary_accuracy: 0.9464\n",
            "Epoch 287/1000\n",
            "2/2 [==============================] - 0s 54ms/step - loss: 0.1603 - binary_accuracy: 0.9286 - val_loss: 0.1804 - val_binary_accuracy: 0.9464\n",
            "Epoch 288/1000\n",
            "2/2 [==============================] - 0s 51ms/step - loss: 0.1616 - binary_accuracy: 0.9286 - val_loss: 0.1810 - val_binary_accuracy: 0.9464\n",
            "Epoch 289/1000\n",
            "2/2 [==============================] - 0s 60ms/step - loss: 0.1596 - binary_accuracy: 0.9286 - val_loss: 0.1835 - val_binary_accuracy: 0.9464\n",
            "Epoch 290/1000\n",
            "2/2 [==============================] - 0s 54ms/step - loss: 0.1738 - binary_accuracy: 0.9107 - val_loss: 0.1854 - val_binary_accuracy: 0.9464\n",
            "Epoch 291/1000\n",
            "2/2 [==============================] - 0s 53ms/step - loss: 0.1675 - binary_accuracy: 0.9018 - val_loss: 0.1859 - val_binary_accuracy: 0.9464\n",
            "Epoch 292/1000\n",
            "2/2 [==============================] - 0s 54ms/step - loss: 0.1491 - binary_accuracy: 0.9286 - val_loss: 0.1887 - val_binary_accuracy: 0.9464\n",
            "Epoch 293/1000\n",
            "2/2 [==============================] - 0s 52ms/step - loss: 0.1652 - binary_accuracy: 0.9018 - val_loss: 0.1884 - val_binary_accuracy: 0.9464\n",
            "Epoch 294/1000\n",
            "2/2 [==============================] - 0s 53ms/step - loss: 0.1646 - binary_accuracy: 0.9196 - val_loss: 0.1876 - val_binary_accuracy: 0.9464\n",
            "Epoch 295/1000\n",
            "2/2 [==============================] - 0s 58ms/step - loss: 0.1642 - binary_accuracy: 0.9107 - val_loss: 0.1932 - val_binary_accuracy: 0.9464\n",
            "Epoch 296/1000\n",
            "2/2 [==============================] - 0s 53ms/step - loss: 0.1633 - binary_accuracy: 0.9018 - val_loss: 0.1952 - val_binary_accuracy: 0.9464\n",
            "Epoch 297/1000\n",
            "2/2 [==============================] - 0s 54ms/step - loss: 0.1641 - binary_accuracy: 0.9196 - val_loss: 0.1973 - val_binary_accuracy: 0.9643\n",
            "Epoch 298/1000\n",
            "2/2 [==============================] - 0s 52ms/step - loss: 0.1588 - binary_accuracy: 0.9107 - val_loss: 0.1917 - val_binary_accuracy: 0.9464\n",
            "Epoch 299/1000\n",
            "2/2 [==============================] - 0s 50ms/step - loss: 0.1648 - binary_accuracy: 0.9107 - val_loss: 0.1876 - val_binary_accuracy: 0.9464\n",
            "Epoch 300/1000\n",
            "2/2 [==============================] - 0s 60ms/step - loss: 0.1640 - binary_accuracy: 0.9196 - val_loss: 0.1902 - val_binary_accuracy: 0.9464\n",
            "Epoch 301/1000\n",
            "2/2 [==============================] - 0s 54ms/step - loss: 0.1582 - binary_accuracy: 0.9196 - val_loss: 0.1929 - val_binary_accuracy: 0.9464\n",
            "Epoch 302/1000\n",
            "2/2 [==============================] - 0s 53ms/step - loss: 0.1576 - binary_accuracy: 0.9286 - val_loss: 0.1945 - val_binary_accuracy: 0.9464\n",
            "Epoch 303/1000\n",
            "2/2 [==============================] - 0s 57ms/step - loss: 0.1554 - binary_accuracy: 0.9375 - val_loss: 0.1982 - val_binary_accuracy: 0.9643\n",
            "Epoch 304/1000\n",
            "2/2 [==============================] - 0s 56ms/step - loss: 0.1600 - binary_accuracy: 0.9375 - val_loss: 0.1959 - val_binary_accuracy: 0.9821\n",
            "Epoch 305/1000\n",
            "2/2 [==============================] - 0s 54ms/step - loss: 0.1475 - binary_accuracy: 0.9196 - val_loss: 0.1888 - val_binary_accuracy: 0.9464\n",
            "Epoch 306/1000\n",
            "2/2 [==============================] - 0s 53ms/step - loss: 0.1681 - binary_accuracy: 0.9196 - val_loss: 0.1958 - val_binary_accuracy: 0.9464\n",
            "Epoch 307/1000\n",
            "2/2 [==============================] - 0s 55ms/step - loss: 0.1829 - binary_accuracy: 0.9107 - val_loss: 0.2016 - val_binary_accuracy: 0.9464\n",
            "Epoch 308/1000\n",
            "2/2 [==============================] - 0s 54ms/step - loss: 0.1729 - binary_accuracy: 0.9018 - val_loss: 0.2029 - val_binary_accuracy: 0.9464\n",
            "Epoch 309/1000\n",
            "2/2 [==============================] - 0s 55ms/step - loss: 0.1738 - binary_accuracy: 0.9107 - val_loss: 0.1981 - val_binary_accuracy: 0.9464\n",
            "Epoch 310/1000\n",
            "2/2 [==============================] - 0s 53ms/step - loss: 0.1698 - binary_accuracy: 0.9196 - val_loss: 0.1871 - val_binary_accuracy: 0.9464\n",
            "Epoch 311/1000\n",
            "2/2 [==============================] - 0s 53ms/step - loss: 0.1576 - binary_accuracy: 0.9107 - val_loss: 0.1876 - val_binary_accuracy: 0.9464\n",
            "Epoch 312/1000\n",
            "2/2 [==============================] - 0s 52ms/step - loss: 0.1532 - binary_accuracy: 0.9107 - val_loss: 0.1980 - val_binary_accuracy: 0.9464\n",
            "Epoch 313/1000\n",
            "2/2 [==============================] - 0s 51ms/step - loss: 0.1614 - binary_accuracy: 0.9018 - val_loss: 0.2019 - val_binary_accuracy: 0.9821\n",
            "Epoch 314/1000\n",
            "2/2 [==============================] - 0s 53ms/step - loss: 0.1505 - binary_accuracy: 0.9196 - val_loss: 0.1959 - val_binary_accuracy: 0.9464\n",
            "Epoch 315/1000\n",
            "2/2 [==============================] - 0s 57ms/step - loss: 0.1628 - binary_accuracy: 0.9018 - val_loss: 0.1835 - val_binary_accuracy: 0.9464\n",
            "Epoch 316/1000\n",
            "2/2 [==============================] - 0s 57ms/step - loss: 0.1729 - binary_accuracy: 0.9107 - val_loss: 0.1799 - val_binary_accuracy: 0.9464\n",
            "Epoch 317/1000\n",
            "2/2 [==============================] - 0s 51ms/step - loss: 0.1552 - binary_accuracy: 0.9196 - val_loss: 0.1833 - val_binary_accuracy: 0.9464\n",
            "Epoch 318/1000\n",
            "2/2 [==============================] - 0s 53ms/step - loss: 0.1661 - binary_accuracy: 0.9107 - val_loss: 0.1926 - val_binary_accuracy: 0.9464\n",
            "Epoch 319/1000\n",
            "2/2 [==============================] - 0s 52ms/step - loss: 0.1683 - binary_accuracy: 0.9107 - val_loss: 0.2001 - val_binary_accuracy: 0.9464\n",
            "Epoch 320/1000\n",
            "2/2 [==============================] - 0s 49ms/step - loss: 0.1699 - binary_accuracy: 0.9018 - val_loss: 0.1924 - val_binary_accuracy: 0.9464\n",
            "Epoch 321/1000\n",
            "2/2 [==============================] - 0s 65ms/step - loss: 0.1499 - binary_accuracy: 0.9196 - val_loss: 0.1855 - val_binary_accuracy: 0.9464\n",
            "Epoch 322/1000\n",
            "2/2 [==============================] - 0s 57ms/step - loss: 0.1585 - binary_accuracy: 0.9286 - val_loss: 0.1861 - val_binary_accuracy: 0.9464\n",
            "Epoch 323/1000\n",
            "2/2 [==============================] - 0s 56ms/step - loss: 0.1755 - binary_accuracy: 0.9107 - val_loss: 0.1917 - val_binary_accuracy: 0.9464\n",
            "Epoch 324/1000\n",
            "2/2 [==============================] - 0s 52ms/step - loss: 0.1646 - binary_accuracy: 0.9107 - val_loss: 0.1963 - val_binary_accuracy: 0.9464\n",
            "Epoch 325/1000\n",
            "2/2 [==============================] - 0s 53ms/step - loss: 0.1741 - binary_accuracy: 0.9107 - val_loss: 0.1970 - val_binary_accuracy: 0.9464\n",
            "Epoch 326/1000\n",
            "2/2 [==============================] - 0s 51ms/step - loss: 0.1456 - binary_accuracy: 0.9464 - val_loss: 0.1964 - val_binary_accuracy: 0.9464\n",
            "Epoch 327/1000\n",
            "2/2 [==============================] - 0s 55ms/step - loss: 0.1747 - binary_accuracy: 0.9107 - val_loss: 0.1898 - val_binary_accuracy: 0.9464\n",
            "Epoch 328/1000\n",
            "2/2 [==============================] - 0s 54ms/step - loss: 0.1729 - binary_accuracy: 0.9018 - val_loss: 0.1844 - val_binary_accuracy: 0.9464\n",
            "Epoch 329/1000\n",
            "2/2 [==============================] - 0s 53ms/step - loss: 0.1829 - binary_accuracy: 0.9196 - val_loss: 0.1925 - val_binary_accuracy: 0.9464\n",
            "Epoch 330/1000\n",
            "2/2 [==============================] - 0s 55ms/step - loss: 0.1727 - binary_accuracy: 0.9196 - val_loss: 0.2020 - val_binary_accuracy: 0.9464\n",
            "Epoch 331/1000\n",
            "2/2 [==============================] - 0s 52ms/step - loss: 0.1676 - binary_accuracy: 0.9196 - val_loss: 0.2048 - val_binary_accuracy: 0.9821\n",
            "Epoch 332/1000\n",
            "2/2 [==============================] - 0s 54ms/step - loss: 0.1621 - binary_accuracy: 0.9196 - val_loss: 0.1942 - val_binary_accuracy: 0.9464\n",
            "Epoch 333/1000\n",
            "2/2 [==============================] - 0s 52ms/step - loss: 0.1819 - binary_accuracy: 0.9196 - val_loss: 0.1885 - val_binary_accuracy: 0.9464\n",
            "Epoch 334/1000\n",
            "2/2 [==============================] - 0s 63ms/step - loss: 0.1748 - binary_accuracy: 0.9018 - val_loss: 0.1881 - val_binary_accuracy: 0.9464\n",
            "Epoch 335/1000\n",
            "2/2 [==============================] - 0s 56ms/step - loss: 0.1678 - binary_accuracy: 0.9107 - val_loss: 0.1920 - val_binary_accuracy: 0.9464\n",
            "Epoch 336/1000\n",
            "2/2 [==============================] - 0s 53ms/step - loss: 0.1572 - binary_accuracy: 0.9286 - val_loss: 0.1975 - val_binary_accuracy: 0.9464\n",
            "Epoch 337/1000\n",
            "2/2 [==============================] - 0s 55ms/step - loss: 0.1630 - binary_accuracy: 0.9018 - val_loss: 0.2003 - val_binary_accuracy: 0.9464\n",
            "Epoch 338/1000\n",
            "2/2 [==============================] - 0s 52ms/step - loss: 0.1596 - binary_accuracy: 0.9107 - val_loss: 0.1955 - val_binary_accuracy: 0.9643\n",
            "Epoch 339/1000\n",
            "2/2 [==============================] - 0s 71ms/step - loss: 0.1550 - binary_accuracy: 0.9196 - val_loss: 0.1837 - val_binary_accuracy: 0.9464\n",
            "Epoch 340/1000\n",
            "2/2 [==============================] - 0s 57ms/step - loss: 0.1513 - binary_accuracy: 0.9286 - val_loss: 0.1809 - val_binary_accuracy: 0.9464\n",
            "Epoch 341/1000\n",
            "2/2 [==============================] - 0s 55ms/step - loss: 0.1664 - binary_accuracy: 0.9196 - val_loss: 0.1824 - val_binary_accuracy: 0.9464\n",
            "Epoch 342/1000\n",
            "2/2 [==============================] - 0s 53ms/step - loss: 0.1800 - binary_accuracy: 0.9196 - val_loss: 0.1954 - val_binary_accuracy: 0.9464\n",
            "Epoch 343/1000\n",
            "2/2 [==============================] - 0s 55ms/step - loss: 0.1541 - binary_accuracy: 0.9464 - val_loss: 0.2072 - val_binary_accuracy: 0.9464\n",
            "Epoch 344/1000\n",
            "2/2 [==============================] - 0s 52ms/step - loss: 0.1623 - binary_accuracy: 0.9018 - val_loss: 0.1991 - val_binary_accuracy: 0.9643\n",
            "Epoch 345/1000\n",
            "2/2 [==============================] - 0s 53ms/step - loss: 0.1731 - binary_accuracy: 0.9018 - val_loss: 0.1821 - val_binary_accuracy: 0.9464\n",
            "Epoch 346/1000\n",
            "2/2 [==============================] - 0s 54ms/step - loss: 0.1556 - binary_accuracy: 0.9196 - val_loss: 0.1757 - val_binary_accuracy: 0.9464\n",
            "Epoch 347/1000\n",
            "2/2 [==============================] - 0s 55ms/step - loss: 0.1657 - binary_accuracy: 0.9196 - val_loss: 0.1795 - val_binary_accuracy: 0.9464\n",
            "Epoch 348/1000\n",
            "2/2 [==============================] - 0s 56ms/step - loss: 0.1578 - binary_accuracy: 0.9286 - val_loss: 0.1871 - val_binary_accuracy: 0.9464\n",
            "Epoch 349/1000\n",
            "2/2 [==============================] - 0s 54ms/step - loss: 0.1620 - binary_accuracy: 0.9107 - val_loss: 0.1913 - val_binary_accuracy: 0.9464\n",
            "Epoch 350/1000\n",
            "2/2 [==============================] - 0s 54ms/step - loss: 0.1700 - binary_accuracy: 0.9107 - val_loss: 0.1894 - val_binary_accuracy: 0.9464\n",
            "Epoch 351/1000\n",
            "2/2 [==============================] - 0s 58ms/step - loss: 0.1621 - binary_accuracy: 0.9107 - val_loss: 0.1952 - val_binary_accuracy: 0.9821\n",
            "Epoch 352/1000\n",
            "2/2 [==============================] - 0s 67ms/step - loss: 0.1578 - binary_accuracy: 0.9196 - val_loss: 0.1952 - val_binary_accuracy: 0.9821\n",
            "Epoch 353/1000\n",
            "2/2 [==============================] - 0s 58ms/step - loss: 0.1761 - binary_accuracy: 0.9018 - val_loss: 0.1939 - val_binary_accuracy: 0.9464\n",
            "Epoch 354/1000\n",
            "2/2 [==============================] - 0s 55ms/step - loss: 0.1624 - binary_accuracy: 0.9286 - val_loss: 0.1933 - val_binary_accuracy: 0.9464\n",
            "Epoch 355/1000\n",
            "2/2 [==============================] - 0s 52ms/step - loss: 0.1632 - binary_accuracy: 0.9018 - val_loss: 0.1884 - val_binary_accuracy: 0.9464\n",
            "Epoch 356/1000\n",
            "2/2 [==============================] - 0s 55ms/step - loss: 0.1663 - binary_accuracy: 0.9018 - val_loss: 0.1885 - val_binary_accuracy: 0.9464\n",
            "Epoch 357/1000\n",
            "2/2 [==============================] - 0s 55ms/step - loss: 0.1634 - binary_accuracy: 0.9196 - val_loss: 0.1919 - val_binary_accuracy: 0.9464\n",
            "Epoch 358/1000\n",
            "2/2 [==============================] - 0s 52ms/step - loss: 0.1535 - binary_accuracy: 0.9107 - val_loss: 0.1949 - val_binary_accuracy: 0.9464\n",
            "Epoch 359/1000\n",
            "2/2 [==============================] - 0s 54ms/step - loss: 0.1731 - binary_accuracy: 0.9107 - val_loss: 0.1999 - val_binary_accuracy: 0.9821\n",
            "Epoch 360/1000\n",
            "2/2 [==============================] - 0s 53ms/step - loss: 0.1734 - binary_accuracy: 0.9107 - val_loss: 0.2034 - val_binary_accuracy: 0.9464\n",
            "Epoch 361/1000\n",
            "2/2 [==============================] - 0s 52ms/step - loss: 0.1627 - binary_accuracy: 0.9196 - val_loss: 0.2057 - val_binary_accuracy: 0.9464\n",
            "Epoch 362/1000\n",
            "2/2 [==============================] - 0s 51ms/step - loss: 0.1821 - binary_accuracy: 0.9018 - val_loss: 0.1973 - val_binary_accuracy: 0.9464\n",
            "Epoch 363/1000\n",
            "2/2 [==============================] - 0s 58ms/step - loss: 0.1400 - binary_accuracy: 0.9375 - val_loss: 0.1928 - val_binary_accuracy: 0.9464\n",
            "Epoch 364/1000\n",
            "2/2 [==============================] - 0s 55ms/step - loss: 0.1633 - binary_accuracy: 0.9107 - val_loss: 0.1913 - val_binary_accuracy: 0.9464\n",
            "Epoch 365/1000\n",
            "2/2 [==============================] - 0s 54ms/step - loss: 0.1517 - binary_accuracy: 0.9286 - val_loss: 0.1908 - val_binary_accuracy: 0.9464\n",
            "Epoch 366/1000\n",
            "2/2 [==============================] - 0s 56ms/step - loss: 0.1564 - binary_accuracy: 0.9196 - val_loss: 0.1938 - val_binary_accuracy: 0.9464\n",
            "Epoch 367/1000\n",
            "2/2 [==============================] - 0s 52ms/step - loss: 0.1645 - binary_accuracy: 0.9286 - val_loss: 0.1923 - val_binary_accuracy: 0.9464\n",
            "Epoch 368/1000\n",
            "2/2 [==============================] - 0s 53ms/step - loss: 0.1576 - binary_accuracy: 0.9286 - val_loss: 0.1893 - val_binary_accuracy: 0.9464\n",
            "Epoch 369/1000\n",
            "2/2 [==============================] - 0s 51ms/step - loss: 0.1709 - binary_accuracy: 0.9196 - val_loss: 0.1893 - val_binary_accuracy: 0.9464\n",
            "Epoch 370/1000\n",
            "2/2 [==============================] - 0s 53ms/step - loss: 0.1592 - binary_accuracy: 0.9286 - val_loss: 0.1883 - val_binary_accuracy: 0.9464\n",
            "Epoch 371/1000\n",
            "2/2 [==============================] - 0s 51ms/step - loss: 0.1558 - binary_accuracy: 0.9107 - val_loss: 0.1912 - val_binary_accuracy: 0.9464\n",
            "Epoch 372/1000\n",
            "2/2 [==============================] - 0s 55ms/step - loss: 0.1745 - binary_accuracy: 0.9018 - val_loss: 0.1975 - val_binary_accuracy: 0.9643\n",
            "Epoch 373/1000\n",
            "2/2 [==============================] - 0s 57ms/step - loss: 0.1620 - binary_accuracy: 0.9107 - val_loss: 0.1994 - val_binary_accuracy: 0.9643\n",
            "Epoch 374/1000\n",
            "2/2 [==============================] - 0s 55ms/step - loss: 0.1620 - binary_accuracy: 0.9196 - val_loss: 0.1955 - val_binary_accuracy: 0.9464\n",
            "Epoch 375/1000\n",
            "2/2 [==============================] - 0s 54ms/step - loss: 0.1526 - binary_accuracy: 0.9107 - val_loss: 0.1915 - val_binary_accuracy: 0.9464\n",
            "Epoch 376/1000\n",
            "2/2 [==============================] - 0s 52ms/step - loss: 0.1582 - binary_accuracy: 0.9107 - val_loss: 0.1964 - val_binary_accuracy: 0.9464\n",
            "Epoch 377/1000\n",
            "2/2 [==============================] - 0s 51ms/step - loss: 0.1574 - binary_accuracy: 0.9196 - val_loss: 0.1997 - val_binary_accuracy: 0.9821\n",
            "Epoch 378/1000\n",
            "2/2 [==============================] - 0s 53ms/step - loss: 0.1837 - binary_accuracy: 0.9018 - val_loss: 0.1938 - val_binary_accuracy: 0.9464\n",
            "Epoch 379/1000\n",
            "2/2 [==============================] - 0s 65ms/step - loss: 0.1662 - binary_accuracy: 0.9107 - val_loss: 0.1913 - val_binary_accuracy: 0.9464\n",
            "Epoch 380/1000\n",
            "2/2 [==============================] - 0s 58ms/step - loss: 0.1585 - binary_accuracy: 0.9107 - val_loss: 0.1955 - val_binary_accuracy: 0.9464\n",
            "Epoch 381/1000\n",
            "2/2 [==============================] - 0s 59ms/step - loss: 0.1615 - binary_accuracy: 0.9196 - val_loss: 0.1965 - val_binary_accuracy: 0.9464\n",
            "Epoch 382/1000\n",
            "2/2 [==============================] - 0s 54ms/step - loss: 0.1601 - binary_accuracy: 0.9107 - val_loss: 0.1953 - val_binary_accuracy: 0.9464\n",
            "Epoch 383/1000\n",
            "2/2 [==============================] - 0s 54ms/step - loss: 0.1653 - binary_accuracy: 0.9107 - val_loss: 0.1935 - val_binary_accuracy: 0.9464\n",
            "Epoch 384/1000\n",
            "2/2 [==============================] - 0s 50ms/step - loss: 0.1578 - binary_accuracy: 0.9107 - val_loss: 0.1950 - val_binary_accuracy: 0.9464\n",
            "Epoch 385/1000\n",
            "2/2 [==============================] - 0s 60ms/step - loss: 0.1533 - binary_accuracy: 0.9286 - val_loss: 0.1936 - val_binary_accuracy: 0.9464\n",
            "Epoch 386/1000\n",
            "2/2 [==============================] - 0s 51ms/step - loss: 0.1743 - binary_accuracy: 0.8839 - val_loss: 0.1926 - val_binary_accuracy: 0.9464\n",
            "Epoch 387/1000\n",
            "2/2 [==============================] - 0s 53ms/step - loss: 0.1767 - binary_accuracy: 0.9196 - val_loss: 0.1957 - val_binary_accuracy: 0.9464\n",
            "Epoch 388/1000\n",
            "2/2 [==============================] - 0s 52ms/step - loss: 0.1636 - binary_accuracy: 0.9018 - val_loss: 0.2007 - val_binary_accuracy: 0.9464\n",
            "Epoch 389/1000\n",
            "2/2 [==============================] - 0s 59ms/step - loss: 0.1560 - binary_accuracy: 0.9196 - val_loss: 0.1985 - val_binary_accuracy: 0.9464\n",
            "Epoch 390/1000\n",
            "2/2 [==============================] - 0s 52ms/step - loss: 0.1662 - binary_accuracy: 0.9196 - val_loss: 0.1962 - val_binary_accuracy: 0.9464\n",
            "Epoch 391/1000\n",
            "2/2 [==============================] - 0s 59ms/step - loss: 0.1471 - binary_accuracy: 0.9375 - val_loss: 0.2001 - val_binary_accuracy: 0.9643\n",
            "Epoch 392/1000\n",
            "2/2 [==============================] - 0s 53ms/step - loss: 0.1829 - binary_accuracy: 0.8839 - val_loss: 0.1974 - val_binary_accuracy: 0.9464\n",
            "Epoch 393/1000\n",
            "2/2 [==============================] - 0s 61ms/step - loss: 0.1604 - binary_accuracy: 0.9286 - val_loss: 0.1933 - val_binary_accuracy: 0.9464\n",
            "Epoch 394/1000\n",
            "2/2 [==============================] - 0s 57ms/step - loss: 0.1708 - binary_accuracy: 0.9196 - val_loss: 0.1972 - val_binary_accuracy: 0.9464\n",
            "Epoch 395/1000\n",
            "2/2 [==============================] - 0s 54ms/step - loss: 0.1638 - binary_accuracy: 0.9107 - val_loss: 0.2025 - val_binary_accuracy: 0.9464\n",
            "Epoch 396/1000\n",
            "2/2 [==============================] - 0s 64ms/step - loss: 0.1545 - binary_accuracy: 0.9107 - val_loss: 0.2039 - val_binary_accuracy: 0.9821\n",
            "Epoch 397/1000\n",
            "2/2 [==============================] - 0s 58ms/step - loss: 0.1595 - binary_accuracy: 0.9018 - val_loss: 0.1995 - val_binary_accuracy: 0.9821\n",
            "Epoch 398/1000\n",
            "2/2 [==============================] - 0s 51ms/step - loss: 0.1599 - binary_accuracy: 0.9196 - val_loss: 0.1910 - val_binary_accuracy: 0.9464\n",
            "Epoch 399/1000\n",
            "2/2 [==============================] - 0s 51ms/step - loss: 0.1659 - binary_accuracy: 0.9196 - val_loss: 0.1967 - val_binary_accuracy: 0.9464\n",
            "Epoch 400/1000\n",
            "2/2 [==============================] - 0s 51ms/step - loss: 0.1637 - binary_accuracy: 0.9375 - val_loss: 0.2030 - val_binary_accuracy: 0.9821\n",
            "Epoch 401/1000\n",
            "2/2 [==============================] - 0s 59ms/step - loss: 0.1707 - binary_accuracy: 0.8839 - val_loss: 0.1981 - val_binary_accuracy: 0.9464\n",
            "Epoch 402/1000\n",
            "2/2 [==============================] - 0s 56ms/step - loss: 0.1676 - binary_accuracy: 0.9196 - val_loss: 0.1972 - val_binary_accuracy: 0.9464\n",
            "Epoch 403/1000\n",
            "2/2 [==============================] - 0s 50ms/step - loss: 0.1566 - binary_accuracy: 0.9196 - val_loss: 0.1954 - val_binary_accuracy: 0.9464\n",
            "Epoch 404/1000\n",
            "2/2 [==============================] - 0s 53ms/step - loss: 0.1409 - binary_accuracy: 0.9196 - val_loss: 0.1912 - val_binary_accuracy: 0.9464\n",
            "Epoch 405/1000\n",
            "2/2 [==============================] - 0s 56ms/step - loss: 0.1582 - binary_accuracy: 0.9107 - val_loss: 0.1873 - val_binary_accuracy: 0.9464\n",
            "Epoch 406/1000\n",
            "2/2 [==============================] - 0s 50ms/step - loss: 0.1585 - binary_accuracy: 0.9286 - val_loss: 0.1929 - val_binary_accuracy: 0.9464\n",
            "Epoch 407/1000\n",
            "2/2 [==============================] - 0s 61ms/step - loss: 0.1497 - binary_accuracy: 0.9286 - val_loss: 0.2060 - val_binary_accuracy: 0.9464\n",
            "Epoch 408/1000\n",
            "2/2 [==============================] - 0s 50ms/step - loss: 0.1623 - binary_accuracy: 0.9107 - val_loss: 0.2058 - val_binary_accuracy: 0.9464\n",
            "Epoch 409/1000\n",
            "2/2 [==============================] - 0s 52ms/step - loss: 0.1557 - binary_accuracy: 0.9286 - val_loss: 0.1980 - val_binary_accuracy: 0.9464\n",
            "Epoch 410/1000\n",
            "2/2 [==============================] - 0s 53ms/step - loss: 0.1531 - binary_accuracy: 0.9018 - val_loss: 0.1889 - val_binary_accuracy: 0.9464\n",
            "Epoch 411/1000\n",
            "2/2 [==============================] - 0s 55ms/step - loss: 0.1579 - binary_accuracy: 0.9286 - val_loss: 0.1893 - val_binary_accuracy: 0.9464\n",
            "Epoch 412/1000\n",
            "2/2 [==============================] - 0s 59ms/step - loss: 0.1726 - binary_accuracy: 0.9107 - val_loss: 0.2033 - val_binary_accuracy: 0.9464\n",
            "Epoch 413/1000\n",
            "2/2 [==============================] - 0s 55ms/step - loss: 0.1537 - binary_accuracy: 0.9107 - val_loss: 0.2104 - val_binary_accuracy: 0.9643\n",
            "Epoch 414/1000\n",
            "2/2 [==============================] - 0s 53ms/step - loss: 0.1488 - binary_accuracy: 0.9286 - val_loss: 0.2059 - val_binary_accuracy: 0.9821\n",
            "Epoch 415/1000\n",
            "2/2 [==============================] - 0s 54ms/step - loss: 0.1690 - binary_accuracy: 0.9107 - val_loss: 0.1949 - val_binary_accuracy: 0.9464\n",
            "Epoch 416/1000\n",
            "2/2 [==============================] - 0s 58ms/step - loss: 0.1468 - binary_accuracy: 0.9286 - val_loss: 0.1912 - val_binary_accuracy: 0.9464\n",
            "Epoch 417/1000\n",
            "2/2 [==============================] - 0s 51ms/step - loss: 0.1586 - binary_accuracy: 0.9196 - val_loss: 0.1976 - val_binary_accuracy: 0.9464\n",
            "Epoch 418/1000\n",
            "2/2 [==============================] - 0s 62ms/step - loss: 0.1555 - binary_accuracy: 0.9286 - val_loss: 0.2028 - val_binary_accuracy: 0.9464\n",
            "Epoch 419/1000\n",
            "2/2 [==============================] - 0s 54ms/step - loss: 0.1491 - binary_accuracy: 0.9286 - val_loss: 0.2046 - val_binary_accuracy: 0.9464\n",
            "Epoch 420/1000\n",
            "2/2 [==============================] - 0s 55ms/step - loss: 0.1531 - binary_accuracy: 0.9196 - val_loss: 0.1978 - val_binary_accuracy: 0.9464\n",
            "Epoch 421/1000\n",
            "2/2 [==============================] - 0s 53ms/step - loss: 0.1558 - binary_accuracy: 0.9107 - val_loss: 0.1956 - val_binary_accuracy: 0.9464\n",
            "Epoch 422/1000\n",
            "2/2 [==============================] - 0s 55ms/step - loss: 0.1609 - binary_accuracy: 0.9196 - val_loss: 0.1906 - val_binary_accuracy: 0.9464\n",
            "Epoch 423/1000\n",
            "2/2 [==============================] - 0s 55ms/step - loss: 0.1681 - binary_accuracy: 0.9196 - val_loss: 0.1915 - val_binary_accuracy: 0.9464\n",
            "Epoch 424/1000\n",
            "2/2 [==============================] - 0s 58ms/step - loss: 0.1594 - binary_accuracy: 0.9196 - val_loss: 0.1996 - val_binary_accuracy: 0.9464\n",
            "Epoch 425/1000\n",
            "2/2 [==============================] - 0s 53ms/step - loss: 0.1624 - binary_accuracy: 0.9196 - val_loss: 0.2095 - val_binary_accuracy: 0.9821\n",
            "Epoch 426/1000\n",
            "2/2 [==============================] - 0s 53ms/step - loss: 0.1767 - binary_accuracy: 0.8929 - val_loss: 0.2061 - val_binary_accuracy: 0.9464\n",
            "Epoch 427/1000\n",
            "2/2 [==============================] - 0s 56ms/step - loss: 0.1623 - binary_accuracy: 0.9196 - val_loss: 0.2021 - val_binary_accuracy: 0.9464\n",
            "Epoch 428/1000\n",
            "2/2 [==============================] - 0s 56ms/step - loss: 0.1649 - binary_accuracy: 0.9107 - val_loss: 0.2005 - val_binary_accuracy: 0.9464\n",
            "Epoch 429/1000\n",
            "2/2 [==============================] - 0s 58ms/step - loss: 0.1617 - binary_accuracy: 0.9196 - val_loss: 0.2047 - val_binary_accuracy: 0.9464\n",
            "Epoch 430/1000\n",
            "2/2 [==============================] - 0s 56ms/step - loss: 0.1568 - binary_accuracy: 0.9196 - val_loss: 0.2067 - val_binary_accuracy: 0.9643\n",
            "Epoch 431/1000\n",
            "2/2 [==============================] - 0s 54ms/step - loss: 0.1655 - binary_accuracy: 0.9107 - val_loss: 0.2027 - val_binary_accuracy: 0.9464\n",
            "Epoch 432/1000\n",
            "2/2 [==============================] - 0s 58ms/step - loss: 0.1483 - binary_accuracy: 0.9196 - val_loss: 0.1982 - val_binary_accuracy: 0.9464\n",
            "Epoch 433/1000\n",
            "2/2 [==============================] - 0s 50ms/step - loss: 0.1570 - binary_accuracy: 0.9286 - val_loss: 0.1987 - val_binary_accuracy: 0.9464\n",
            "Epoch 434/1000\n",
            "2/2 [==============================] - 0s 55ms/step - loss: 0.1736 - binary_accuracy: 0.9286 - val_loss: 0.2046 - val_binary_accuracy: 0.9464\n",
            "Epoch 435/1000\n",
            "2/2 [==============================] - 0s 51ms/step - loss: 0.1496 - binary_accuracy: 0.9196 - val_loss: 0.2064 - val_binary_accuracy: 0.9464\n",
            "Epoch 436/1000\n",
            "2/2 [==============================] - 0s 55ms/step - loss: 0.1660 - binary_accuracy: 0.9196 - val_loss: 0.2103 - val_binary_accuracy: 0.9464\n",
            "Epoch 437/1000\n",
            "2/2 [==============================] - 0s 55ms/step - loss: 0.1688 - binary_accuracy: 0.9018 - val_loss: 0.2085 - val_binary_accuracy: 0.9464\n",
            "Epoch 438/1000\n",
            "2/2 [==============================] - 0s 57ms/step - loss: 0.1691 - binary_accuracy: 0.9018 - val_loss: 0.2016 - val_binary_accuracy: 0.9464\n",
            "Epoch 439/1000\n",
            "2/2 [==============================] - 0s 54ms/step - loss: 0.1590 - binary_accuracy: 0.9286 - val_loss: 0.2025 - val_binary_accuracy: 0.9464\n",
            "Epoch 440/1000\n",
            "2/2 [==============================] - 0s 61ms/step - loss: 0.1480 - binary_accuracy: 0.9375 - val_loss: 0.2060 - val_binary_accuracy: 0.9464\n",
            "Epoch 441/1000\n",
            "2/2 [==============================] - 0s 56ms/step - loss: 0.1571 - binary_accuracy: 0.9286 - val_loss: 0.2087 - val_binary_accuracy: 0.9464\n",
            "Epoch 442/1000\n",
            "2/2 [==============================] - 0s 51ms/step - loss: 0.1614 - binary_accuracy: 0.9107 - val_loss: 0.2108 - val_binary_accuracy: 0.9464\n",
            "Epoch 443/1000\n",
            "2/2 [==============================] - 0s 57ms/step - loss: 0.1561 - binary_accuracy: 0.9107 - val_loss: 0.2103 - val_binary_accuracy: 0.9464\n",
            "Epoch 444/1000\n",
            "2/2 [==============================] - 0s 57ms/step - loss: 0.1559 - binary_accuracy: 0.9107 - val_loss: 0.2058 - val_binary_accuracy: 0.9464\n",
            "Epoch 445/1000\n",
            "2/2 [==============================] - 0s 55ms/step - loss: 0.1595 - binary_accuracy: 0.9196 - val_loss: 0.1987 - val_binary_accuracy: 0.9464\n",
            "Epoch 446/1000\n",
            "2/2 [==============================] - 0s 55ms/step - loss: 0.1589 - binary_accuracy: 0.9196 - val_loss: 0.1969 - val_binary_accuracy: 0.9464\n",
            "Epoch 447/1000\n",
            "2/2 [==============================] - 0s 61ms/step - loss: 0.1592 - binary_accuracy: 0.9196 - val_loss: 0.2044 - val_binary_accuracy: 0.9464\n",
            "Epoch 448/1000\n",
            "2/2 [==============================] - 0s 54ms/step - loss: 0.1727 - binary_accuracy: 0.8929 - val_loss: 0.2077 - val_binary_accuracy: 0.9464\n",
            "Epoch 449/1000\n",
            "2/2 [==============================] - 0s 57ms/step - loss: 0.1510 - binary_accuracy: 0.9196 - val_loss: 0.2134 - val_binary_accuracy: 0.9821\n",
            "Epoch 450/1000\n",
            "2/2 [==============================] - 0s 76ms/step - loss: 0.1631 - binary_accuracy: 0.9107 - val_loss: 0.2135 - val_binary_accuracy: 0.9643\n",
            "Epoch 451/1000\n",
            "2/2 [==============================] - 0s 51ms/step - loss: 0.1603 - binary_accuracy: 0.9286 - val_loss: 0.2018 - val_binary_accuracy: 0.9464\n",
            "Epoch 452/1000\n",
            "2/2 [==============================] - 0s 55ms/step - loss: 0.1554 - binary_accuracy: 0.9196 - val_loss: 0.1962 - val_binary_accuracy: 0.9464\n",
            "Epoch 453/1000\n",
            "2/2 [==============================] - 0s 63ms/step - loss: 0.1563 - binary_accuracy: 0.9107 - val_loss: 0.1890 - val_binary_accuracy: 0.9464\n",
            "Epoch 454/1000\n",
            "2/2 [==============================] - 0s 58ms/step - loss: 0.1484 - binary_accuracy: 0.9196 - val_loss: 0.1920 - val_binary_accuracy: 0.9464\n",
            "Epoch 455/1000\n",
            "2/2 [==============================] - 0s 54ms/step - loss: 0.1518 - binary_accuracy: 0.9286 - val_loss: 0.2040 - val_binary_accuracy: 0.9464\n",
            "Epoch 456/1000\n",
            "2/2 [==============================] - 0s 55ms/step - loss: 0.1719 - binary_accuracy: 0.9018 - val_loss: 0.2036 - val_binary_accuracy: 0.9464\n",
            "Epoch 457/1000\n",
            "2/2 [==============================] - 0s 51ms/step - loss: 0.1486 - binary_accuracy: 0.9464 - val_loss: 0.1966 - val_binary_accuracy: 0.9464\n",
            "Epoch 458/1000\n",
            "2/2 [==============================] - 0s 56ms/step - loss: 0.1534 - binary_accuracy: 0.9018 - val_loss: 0.1894 - val_binary_accuracy: 0.9464\n",
            "Epoch 459/1000\n",
            "2/2 [==============================] - 0s 55ms/step - loss: 0.1703 - binary_accuracy: 0.9196 - val_loss: 0.1934 - val_binary_accuracy: 0.9464\n",
            "Epoch 460/1000\n",
            "2/2 [==============================] - 0s 53ms/step - loss: 0.1713 - binary_accuracy: 0.9196 - val_loss: 0.1997 - val_binary_accuracy: 0.9464\n",
            "Epoch 461/1000\n",
            "2/2 [==============================] - 0s 59ms/step - loss: 0.1523 - binary_accuracy: 0.9375 - val_loss: 0.2129 - val_binary_accuracy: 0.9464\n",
            "Epoch 462/1000\n",
            "2/2 [==============================] - 0s 56ms/step - loss: 0.1631 - binary_accuracy: 0.9196 - val_loss: 0.2057 - val_binary_accuracy: 0.9464\n",
            "Epoch 463/1000\n",
            "2/2 [==============================] - 0s 58ms/step - loss: 0.1623 - binary_accuracy: 0.9196 - val_loss: 0.1973 - val_binary_accuracy: 0.9464\n",
            "Epoch 464/1000\n",
            "2/2 [==============================] - 0s 54ms/step - loss: 0.1549 - binary_accuracy: 0.9286 - val_loss: 0.1959 - val_binary_accuracy: 0.9464\n",
            "Epoch 465/1000\n",
            "2/2 [==============================] - 0s 55ms/step - loss: 0.1520 - binary_accuracy: 0.9107 - val_loss: 0.1990 - val_binary_accuracy: 0.9464\n",
            "Epoch 466/1000\n",
            "2/2 [==============================] - 0s 55ms/step - loss: 0.1467 - binary_accuracy: 0.9286 - val_loss: 0.2026 - val_binary_accuracy: 0.9464\n",
            "Epoch 467/1000\n",
            "2/2 [==============================] - 0s 57ms/step - loss: 0.1656 - binary_accuracy: 0.9196 - val_loss: 0.2018 - val_binary_accuracy: 0.9464\n",
            "Epoch 468/1000\n",
            "2/2 [==============================] - 0s 53ms/step - loss: 0.1553 - binary_accuracy: 0.9286 - val_loss: 0.1995 - val_binary_accuracy: 0.9464\n",
            "Epoch 469/1000\n",
            "2/2 [==============================] - 0s 62ms/step - loss: 0.1545 - binary_accuracy: 0.9196 - val_loss: 0.2018 - val_binary_accuracy: 0.9464\n",
            "Epoch 470/1000\n",
            "2/2 [==============================] - 0s 60ms/step - loss: 0.1559 - binary_accuracy: 0.9107 - val_loss: 0.2029 - val_binary_accuracy: 0.9464\n",
            "Epoch 471/1000\n",
            "2/2 [==============================] - 0s 58ms/step - loss: 0.1702 - binary_accuracy: 0.9107 - val_loss: 0.2018 - val_binary_accuracy: 0.9464\n",
            "Epoch 472/1000\n",
            "2/2 [==============================] - 0s 61ms/step - loss: 0.1595 - binary_accuracy: 0.9286 - val_loss: 0.2041 - val_binary_accuracy: 0.9464\n",
            "Epoch 473/1000\n",
            "2/2 [==============================] - 0s 60ms/step - loss: 0.1688 - binary_accuracy: 0.9018 - val_loss: 0.2012 - val_binary_accuracy: 0.9464\n",
            "Epoch 474/1000\n",
            "2/2 [==============================] - 0s 52ms/step - loss: 0.1596 - binary_accuracy: 0.9286 - val_loss: 0.2002 - val_binary_accuracy: 0.9464\n",
            "Epoch 475/1000\n",
            "2/2 [==============================] - 0s 53ms/step - loss: 0.1661 - binary_accuracy: 0.9196 - val_loss: 0.2034 - val_binary_accuracy: 0.9464\n",
            "Epoch 476/1000\n",
            "2/2 [==============================] - 0s 53ms/step - loss: 0.1629 - binary_accuracy: 0.9286 - val_loss: 0.2099 - val_binary_accuracy: 0.9464\n",
            "Epoch 477/1000\n",
            "2/2 [==============================] - 0s 56ms/step - loss: 0.1532 - binary_accuracy: 0.9196 - val_loss: 0.2133 - val_binary_accuracy: 0.9821\n",
            "Epoch 478/1000\n",
            "2/2 [==============================] - 0s 62ms/step - loss: 0.1503 - binary_accuracy: 0.9286 - val_loss: 0.2060 - val_binary_accuracy: 0.9464\n",
            "Epoch 479/1000\n",
            "2/2 [==============================] - 0s 51ms/step - loss: 0.1604 - binary_accuracy: 0.9286 - val_loss: 0.2016 - val_binary_accuracy: 0.9464\n",
            "Epoch 480/1000\n",
            "2/2 [==============================] - 0s 52ms/step - loss: 0.1549 - binary_accuracy: 0.9196 - val_loss: 0.2038 - val_binary_accuracy: 0.9464\n",
            "Epoch 481/1000\n",
            "2/2 [==============================] - 0s 53ms/step - loss: 0.1618 - binary_accuracy: 0.9196 - val_loss: 0.2064 - val_binary_accuracy: 0.9464\n",
            "Epoch 482/1000\n",
            "2/2 [==============================] - 0s 64ms/step - loss: 0.1763 - binary_accuracy: 0.9196 - val_loss: 0.2121 - val_binary_accuracy: 0.9464\n",
            "Epoch 483/1000\n",
            "2/2 [==============================] - 0s 58ms/step - loss: 0.1506 - binary_accuracy: 0.9375 - val_loss: 0.2097 - val_binary_accuracy: 0.9464\n",
            "Epoch 484/1000\n",
            "2/2 [==============================] - 0s 53ms/step - loss: 0.1747 - binary_accuracy: 0.9107 - val_loss: 0.2011 - val_binary_accuracy: 0.9464\n",
            "Epoch 485/1000\n",
            "2/2 [==============================] - 0s 57ms/step - loss: 0.1465 - binary_accuracy: 0.9107 - val_loss: 0.1945 - val_binary_accuracy: 0.9464\n",
            "Epoch 486/1000\n",
            "2/2 [==============================] - 0s 58ms/step - loss: 0.1585 - binary_accuracy: 0.9196 - val_loss: 0.1993 - val_binary_accuracy: 0.9464\n",
            "Epoch 487/1000\n",
            "2/2 [==============================] - 0s 54ms/step - loss: 0.1709 - binary_accuracy: 0.9107 - val_loss: 0.2095 - val_binary_accuracy: 0.9821\n",
            "Epoch 488/1000\n",
            "2/2 [==============================] - 0s 53ms/step - loss: 0.1706 - binary_accuracy: 0.9018 - val_loss: 0.2091 - val_binary_accuracy: 0.9464\n",
            "Epoch 489/1000\n",
            "2/2 [==============================] - 0s 56ms/step - loss: 0.1592 - binary_accuracy: 0.9196 - val_loss: 0.2033 - val_binary_accuracy: 0.9464\n",
            "Epoch 490/1000\n",
            "2/2 [==============================] - 0s 53ms/step - loss: 0.1612 - binary_accuracy: 0.9196 - val_loss: 0.1981 - val_binary_accuracy: 0.9464\n",
            "Epoch 491/1000\n",
            "2/2 [==============================] - 0s 54ms/step - loss: 0.1533 - binary_accuracy: 0.9196 - val_loss: 0.1961 - val_binary_accuracy: 0.9464\n",
            "Epoch 492/1000\n",
            "2/2 [==============================] - 0s 54ms/step - loss: 0.1626 - binary_accuracy: 0.9196 - val_loss: 0.2004 - val_binary_accuracy: 0.9464\n",
            "Epoch 493/1000\n",
            "2/2 [==============================] - 0s 54ms/step - loss: 0.1526 - binary_accuracy: 0.9107 - val_loss: 0.1962 - val_binary_accuracy: 0.9464\n",
            "Epoch 494/1000\n",
            "2/2 [==============================] - 0s 55ms/step - loss: 0.1620 - binary_accuracy: 0.9107 - val_loss: 0.1961 - val_binary_accuracy: 0.9464\n",
            "Epoch 495/1000\n",
            "2/2 [==============================] - 0s 55ms/step - loss: 0.1664 - binary_accuracy: 0.9196 - val_loss: 0.2008 - val_binary_accuracy: 0.9464\n",
            "Epoch 496/1000\n",
            "2/2 [==============================] - 0s 54ms/step - loss: 0.1702 - binary_accuracy: 0.9018 - val_loss: 0.2075 - val_binary_accuracy: 0.9643\n",
            "Epoch 497/1000\n",
            "2/2 [==============================] - 0s 55ms/step - loss: 0.1604 - binary_accuracy: 0.9196 - val_loss: 0.2068 - val_binary_accuracy: 0.9464\n",
            "Epoch 498/1000\n",
            "2/2 [==============================] - 0s 65ms/step - loss: 0.1678 - binary_accuracy: 0.9107 - val_loss: 0.1991 - val_binary_accuracy: 0.9464\n",
            "Epoch 499/1000\n",
            "2/2 [==============================] - 0s 52ms/step - loss: 0.1595 - binary_accuracy: 0.8929 - val_loss: 0.1933 - val_binary_accuracy: 0.9464\n",
            "Epoch 500/1000\n",
            "2/2 [==============================] - 0s 52ms/step - loss: 0.1639 - binary_accuracy: 0.9196 - val_loss: 0.1911 - val_binary_accuracy: 0.9464\n",
            "Epoch 501/1000\n",
            "2/2 [==============================] - 0s 50ms/step - loss: 0.1583 - binary_accuracy: 0.9196 - val_loss: 0.1955 - val_binary_accuracy: 0.9464\n",
            "Epoch 502/1000\n",
            "2/2 [==============================] - 0s 50ms/step - loss: 0.1560 - binary_accuracy: 0.9286 - val_loss: 0.2030 - val_binary_accuracy: 0.9821\n",
            "Epoch 503/1000\n",
            "2/2 [==============================] - 0s 54ms/step - loss: 0.1585 - binary_accuracy: 0.9196 - val_loss: 0.2060 - val_binary_accuracy: 0.9643\n",
            "Epoch 504/1000\n",
            "2/2 [==============================] - 0s 52ms/step - loss: 0.1681 - binary_accuracy: 0.9107 - val_loss: 0.2040 - val_binary_accuracy: 0.9464\n",
            "Epoch 505/1000\n",
            "2/2 [==============================] - 0s 53ms/step - loss: 0.1541 - binary_accuracy: 0.9107 - val_loss: 0.1987 - val_binary_accuracy: 0.9464\n",
            "Epoch 506/1000\n",
            "2/2 [==============================] - 0s 51ms/step - loss: 0.1644 - binary_accuracy: 0.9107 - val_loss: 0.1937 - val_binary_accuracy: 0.9464\n",
            "Epoch 507/1000\n",
            "2/2 [==============================] - 0s 61ms/step - loss: 0.1678 - binary_accuracy: 0.9196 - val_loss: 0.1906 - val_binary_accuracy: 0.9464\n",
            "Epoch 508/1000\n",
            "2/2 [==============================] - 0s 59ms/step - loss: 0.1675 - binary_accuracy: 0.9196 - val_loss: 0.1944 - val_binary_accuracy: 0.9464\n",
            "Epoch 509/1000\n",
            "2/2 [==============================] - 0s 59ms/step - loss: 0.1565 - binary_accuracy: 0.9196 - val_loss: 0.2003 - val_binary_accuracy: 0.9464\n",
            "Epoch 510/1000\n",
            "2/2 [==============================] - 0s 64ms/step - loss: 0.1642 - binary_accuracy: 0.9196 - val_loss: 0.2138 - val_binary_accuracy: 0.9464\n",
            "Epoch 511/1000\n",
            "2/2 [==============================] - 0s 62ms/step - loss: 0.1597 - binary_accuracy: 0.9107 - val_loss: 0.2161 - val_binary_accuracy: 0.9464\n",
            "Epoch 512/1000\n",
            "2/2 [==============================] - 0s 56ms/step - loss: 0.1580 - binary_accuracy: 0.9107 - val_loss: 0.2084 - val_binary_accuracy: 0.9464\n",
            "Epoch 513/1000\n",
            "2/2 [==============================] - 0s 68ms/step - loss: 0.1631 - binary_accuracy: 0.9286 - val_loss: 0.2014 - val_binary_accuracy: 0.9464\n",
            "Epoch 514/1000\n",
            "2/2 [==============================] - 0s 59ms/step - loss: 0.1594 - binary_accuracy: 0.9196 - val_loss: 0.2049 - val_binary_accuracy: 0.9464\n",
            "Epoch 515/1000\n",
            "2/2 [==============================] - 0s 56ms/step - loss: 0.1570 - binary_accuracy: 0.9286 - val_loss: 0.2057 - val_binary_accuracy: 0.9464\n",
            "Epoch 516/1000\n",
            "2/2 [==============================] - 0s 61ms/step - loss: 0.1635 - binary_accuracy: 0.9107 - val_loss: 0.2043 - val_binary_accuracy: 0.9464\n",
            "Epoch 517/1000\n",
            "2/2 [==============================] - 0s 56ms/step - loss: 0.1514 - binary_accuracy: 0.9196 - val_loss: 0.1980 - val_binary_accuracy: 0.9464\n",
            "Epoch 518/1000\n",
            "2/2 [==============================] - 0s 53ms/step - loss: 0.1754 - binary_accuracy: 0.9196 - val_loss: 0.2058 - val_binary_accuracy: 0.9464\n",
            "Epoch 519/1000\n",
            "2/2 [==============================] - 0s 53ms/step - loss: 0.1774 - binary_accuracy: 0.9018 - val_loss: 0.2134 - val_binary_accuracy: 0.9643\n",
            "Epoch 520/1000\n",
            "2/2 [==============================] - 0s 56ms/step - loss: 0.1625 - binary_accuracy: 0.9018 - val_loss: 0.2113 - val_binary_accuracy: 0.9643\n",
            "Epoch 521/1000\n",
            "2/2 [==============================] - 0s 54ms/step - loss: 0.1526 - binary_accuracy: 0.9464 - val_loss: 0.2013 - val_binary_accuracy: 0.9464\n",
            "Epoch 522/1000\n",
            "2/2 [==============================] - 0s 57ms/step - loss: 0.1488 - binary_accuracy: 0.9286 - val_loss: 0.1957 - val_binary_accuracy: 0.9464\n",
            "Epoch 523/1000\n",
            "2/2 [==============================] - 0s 61ms/step - loss: 0.1571 - binary_accuracy: 0.9375 - val_loss: 0.2012 - val_binary_accuracy: 0.9464\n",
            "Epoch 524/1000\n",
            "2/2 [==============================] - 0s 65ms/step - loss: 0.1589 - binary_accuracy: 0.9286 - val_loss: 0.2061 - val_binary_accuracy: 0.9464\n",
            "Epoch 525/1000\n",
            "2/2 [==============================] - 0s 63ms/step - loss: 0.1530 - binary_accuracy: 0.9286 - val_loss: 0.2046 - val_binary_accuracy: 0.9464\n",
            "Epoch 526/1000\n",
            "2/2 [==============================] - 0s 56ms/step - loss: 0.1526 - binary_accuracy: 0.9286 - val_loss: 0.2022 - val_binary_accuracy: 0.9464\n",
            "Epoch 527/1000\n",
            "2/2 [==============================] - 0s 62ms/step - loss: 0.1520 - binary_accuracy: 0.9196 - val_loss: 0.1999 - val_binary_accuracy: 0.9464\n",
            "Epoch 528/1000\n",
            "2/2 [==============================] - 0s 54ms/step - loss: 0.1651 - binary_accuracy: 0.9107 - val_loss: 0.2022 - val_binary_accuracy: 0.9464\n",
            "Epoch 529/1000\n",
            "2/2 [==============================] - 0s 59ms/step - loss: 0.1569 - binary_accuracy: 0.9196 - val_loss: 0.2114 - val_binary_accuracy: 0.9464\n",
            "Epoch 530/1000\n",
            "2/2 [==============================] - 0s 58ms/step - loss: 0.1526 - binary_accuracy: 0.9286 - val_loss: 0.2241 - val_binary_accuracy: 0.9464\n",
            "Epoch 531/1000\n",
            "2/2 [==============================] - 0s 51ms/step - loss: 0.1692 - binary_accuracy: 0.9018 - val_loss: 0.2233 - val_binary_accuracy: 0.9464\n",
            "Epoch 532/1000\n",
            "2/2 [==============================] - 0s 53ms/step - loss: 0.1654 - binary_accuracy: 0.9018 - val_loss: 0.2142 - val_binary_accuracy: 0.9464\n",
            "Epoch 533/1000\n",
            "2/2 [==============================] - 0s 54ms/step - loss: 0.1744 - binary_accuracy: 0.8929 - val_loss: 0.2012 - val_binary_accuracy: 0.9464\n",
            "Epoch 534/1000\n",
            "2/2 [==============================] - 0s 53ms/step - loss: 0.1680 - binary_accuracy: 0.9107 - val_loss: 0.2000 - val_binary_accuracy: 0.9464\n",
            "Epoch 535/1000\n",
            "2/2 [==============================] - 0s 56ms/step - loss: 0.1652 - binary_accuracy: 0.9107 - val_loss: 0.1991 - val_binary_accuracy: 0.9464\n",
            "Epoch 536/1000\n",
            "2/2 [==============================] - 0s 60ms/step - loss: 0.1479 - binary_accuracy: 0.9196 - val_loss: 0.2053 - val_binary_accuracy: 0.9464\n",
            "Epoch 537/1000\n",
            "2/2 [==============================] - 0s 55ms/step - loss: 0.1465 - binary_accuracy: 0.9375 - val_loss: 0.2118 - val_binary_accuracy: 0.9821\n",
            "Epoch 538/1000\n",
            "2/2 [==============================] - 0s 56ms/step - loss: 0.1668 - binary_accuracy: 0.9018 - val_loss: 0.2103 - val_binary_accuracy: 0.9821\n",
            "Epoch 539/1000\n",
            "2/2 [==============================] - 0s 52ms/step - loss: 0.1572 - binary_accuracy: 0.9196 - val_loss: 0.2034 - val_binary_accuracy: 0.9464\n",
            "Epoch 540/1000\n",
            "2/2 [==============================] - 0s 55ms/step - loss: 0.1529 - binary_accuracy: 0.9196 - val_loss: 0.2040 - val_binary_accuracy: 0.9464\n",
            "Epoch 541/1000\n",
            "2/2 [==============================] - 0s 56ms/step - loss: 0.1664 - binary_accuracy: 0.9286 - val_loss: 0.2018 - val_binary_accuracy: 0.9464\n",
            "Epoch 542/1000\n",
            "2/2 [==============================] - 0s 52ms/step - loss: 0.1507 - binary_accuracy: 0.9196 - val_loss: 0.2060 - val_binary_accuracy: 0.9464\n",
            "Epoch 543/1000\n",
            "2/2 [==============================] - 0s 54ms/step - loss: 0.1644 - binary_accuracy: 0.9286 - val_loss: 0.2092 - val_binary_accuracy: 0.9464\n",
            "Epoch 544/1000\n",
            "2/2 [==============================] - 0s 56ms/step - loss: 0.1523 - binary_accuracy: 0.9286 - val_loss: 0.2040 - val_binary_accuracy: 0.9464\n",
            "Epoch 545/1000\n",
            "2/2 [==============================] - 0s 63ms/step - loss: 0.1568 - binary_accuracy: 0.9286 - val_loss: 0.2006 - val_binary_accuracy: 0.9464\n",
            "Epoch 546/1000\n",
            "2/2 [==============================] - 0s 55ms/step - loss: 0.1650 - binary_accuracy: 0.9196 - val_loss: 0.2023 - val_binary_accuracy: 0.9464\n",
            "Epoch 547/1000\n",
            "2/2 [==============================] - 0s 56ms/step - loss: 0.1722 - binary_accuracy: 0.9107 - val_loss: 0.2124 - val_binary_accuracy: 0.9464\n",
            "Epoch 548/1000\n",
            "2/2 [==============================] - 0s 55ms/step - loss: 0.1660 - binary_accuracy: 0.9018 - val_loss: 0.2256 - val_binary_accuracy: 0.9643\n",
            "Epoch 549/1000\n",
            "2/2 [==============================] - 0s 53ms/step - loss: 0.1496 - binary_accuracy: 0.9375 - val_loss: 0.2336 - val_binary_accuracy: 0.9464\n",
            "Epoch 550/1000\n",
            "2/2 [==============================] - 0s 70ms/step - loss: 0.1609 - binary_accuracy: 0.9375 - val_loss: 0.2225 - val_binary_accuracy: 0.9821\n",
            "Epoch 551/1000\n",
            "2/2 [==============================] - 0s 59ms/step - loss: 0.1541 - binary_accuracy: 0.9286 - val_loss: 0.2101 - val_binary_accuracy: 0.9464\n",
            "Epoch 552/1000\n",
            "2/2 [==============================] - 0s 55ms/step - loss: 0.1617 - binary_accuracy: 0.9196 - val_loss: 0.2083 - val_binary_accuracy: 0.9464\n",
            "Epoch 553/1000\n",
            "2/2 [==============================] - 0s 62ms/step - loss: 0.1505 - binary_accuracy: 0.9196 - val_loss: 0.2126 - val_binary_accuracy: 0.9464\n",
            "Epoch 554/1000\n",
            "2/2 [==============================] - 0s 54ms/step - loss: 0.1578 - binary_accuracy: 0.9286 - val_loss: 0.2224 - val_binary_accuracy: 0.9643\n",
            "Epoch 555/1000\n",
            "2/2 [==============================] - 0s 59ms/step - loss: 0.1636 - binary_accuracy: 0.9196 - val_loss: 0.2269 - val_binary_accuracy: 0.9643\n",
            "Epoch 556/1000\n",
            "2/2 [==============================] - 0s 59ms/step - loss: 0.1617 - binary_accuracy: 0.9196 - val_loss: 0.2138 - val_binary_accuracy: 0.9464\n",
            "Epoch 557/1000\n",
            "2/2 [==============================] - 0s 58ms/step - loss: 0.1526 - binary_accuracy: 0.9286 - val_loss: 0.2047 - val_binary_accuracy: 0.9464\n",
            "Epoch 558/1000\n",
            "2/2 [==============================] - 0s 57ms/step - loss: 0.1483 - binary_accuracy: 0.9375 - val_loss: 0.2050 - val_binary_accuracy: 0.9464\n",
            "Epoch 559/1000\n",
            "2/2 [==============================] - 0s 70ms/step - loss: 0.1599 - binary_accuracy: 0.9196 - val_loss: 0.2123 - val_binary_accuracy: 0.9643\n",
            "Epoch 560/1000\n",
            "2/2 [==============================] - 0s 58ms/step - loss: 0.1665 - binary_accuracy: 0.9196 - val_loss: 0.2141 - val_binary_accuracy: 0.9821\n",
            "Epoch 561/1000\n",
            "2/2 [==============================] - 0s 73ms/step - loss: 0.1524 - binary_accuracy: 0.9286 - val_loss: 0.2134 - val_binary_accuracy: 0.9821\n",
            "Epoch 562/1000\n",
            "2/2 [==============================] - 0s 56ms/step - loss: 0.1609 - binary_accuracy: 0.9107 - val_loss: 0.2080 - val_binary_accuracy: 0.9464\n",
            "Epoch 563/1000\n",
            "2/2 [==============================] - 0s 55ms/step - loss: 0.1637 - binary_accuracy: 0.9286 - val_loss: 0.2070 - val_binary_accuracy: 0.9464\n",
            "Epoch 564/1000\n",
            "2/2 [==============================] - 0s 51ms/step - loss: 0.1471 - binary_accuracy: 0.9286 - val_loss: 0.2061 - val_binary_accuracy: 0.9464\n",
            "Epoch 565/1000\n",
            "2/2 [==============================] - 0s 63ms/step - loss: 0.1575 - binary_accuracy: 0.9196 - val_loss: 0.2103 - val_binary_accuracy: 0.9643\n",
            "Epoch 566/1000\n",
            "2/2 [==============================] - 0s 63ms/step - loss: 0.1573 - binary_accuracy: 0.9286 - val_loss: 0.2187 - val_binary_accuracy: 0.9464\n",
            "Epoch 567/1000\n",
            "2/2 [==============================] - 0s 58ms/step - loss: 0.1674 - binary_accuracy: 0.9107 - val_loss: 0.2102 - val_binary_accuracy: 0.9464\n",
            "Epoch 568/1000\n",
            "2/2 [==============================] - 0s 56ms/step - loss: 0.1691 - binary_accuracy: 0.9196 - val_loss: 0.2026 - val_binary_accuracy: 0.9464\n",
            "Epoch 569/1000\n",
            "2/2 [==============================] - 0s 56ms/step - loss: 0.1597 - binary_accuracy: 0.9286 - val_loss: 0.2028 - val_binary_accuracy: 0.9464\n",
            "Epoch 570/1000\n",
            "2/2 [==============================] - 0s 60ms/step - loss: 0.1580 - binary_accuracy: 0.9196 - val_loss: 0.2136 - val_binary_accuracy: 0.9464\n",
            "Epoch 571/1000\n",
            "2/2 [==============================] - 0s 60ms/step - loss: 0.1528 - binary_accuracy: 0.9196 - val_loss: 0.2250 - val_binary_accuracy: 0.9464\n",
            "Epoch 572/1000\n",
            "2/2 [==============================] - 0s 53ms/step - loss: 0.1613 - binary_accuracy: 0.9018 - val_loss: 0.2201 - val_binary_accuracy: 0.9643\n",
            "Epoch 573/1000\n",
            "2/2 [==============================] - 0s 57ms/step - loss: 0.1583 - binary_accuracy: 0.9107 - val_loss: 0.2095 - val_binary_accuracy: 0.9464\n",
            "Epoch 574/1000\n",
            "2/2 [==============================] - 0s 56ms/step - loss: 0.1591 - binary_accuracy: 0.9196 - val_loss: 0.2068 - val_binary_accuracy: 0.9464\n",
            "Epoch 575/1000\n",
            "2/2 [==============================] - 0s 66ms/step - loss: 0.1474 - binary_accuracy: 0.9196 - val_loss: 0.2106 - val_binary_accuracy: 0.9643\n",
            "Epoch 576/1000\n",
            "2/2 [==============================] - 0s 61ms/step - loss: 0.1489 - binary_accuracy: 0.9286 - val_loss: 0.2128 - val_binary_accuracy: 0.9821\n",
            "Epoch 577/1000\n",
            "2/2 [==============================] - 0s 56ms/step - loss: 0.1640 - binary_accuracy: 0.9107 - val_loss: 0.2079 - val_binary_accuracy: 0.9464\n",
            "Epoch 578/1000\n",
            "2/2 [==============================] - 0s 53ms/step - loss: 0.1569 - binary_accuracy: 0.9196 - val_loss: 0.2085 - val_binary_accuracy: 0.9464\n",
            "Epoch 579/1000\n",
            "2/2 [==============================] - 0s 57ms/step - loss: 0.1620 - binary_accuracy: 0.9375 - val_loss: 0.2031 - val_binary_accuracy: 0.9464\n",
            "Epoch 580/1000\n",
            "2/2 [==============================] - 0s 57ms/step - loss: 0.1532 - binary_accuracy: 0.9196 - val_loss: 0.2014 - val_binary_accuracy: 0.9464\n",
            "Epoch 581/1000\n",
            "2/2 [==============================] - 0s 53ms/step - loss: 0.1536 - binary_accuracy: 0.9107 - val_loss: 0.2047 - val_binary_accuracy: 0.9643\n",
            "Epoch 582/1000\n",
            "2/2 [==============================] - 0s 53ms/step - loss: 0.1643 - binary_accuracy: 0.9107 - val_loss: 0.2143 - val_binary_accuracy: 0.9464\n",
            "Epoch 583/1000\n",
            "2/2 [==============================] - 0s 54ms/step - loss: 0.1623 - binary_accuracy: 0.9375 - val_loss: 0.2175 - val_binary_accuracy: 0.9643\n",
            "Epoch 584/1000\n",
            "2/2 [==============================] - 0s 60ms/step - loss: 0.1687 - binary_accuracy: 0.9018 - val_loss: 0.2081 - val_binary_accuracy: 0.9464\n",
            "Epoch 585/1000\n",
            "2/2 [==============================] - 0s 54ms/step - loss: 0.1655 - binary_accuracy: 0.9375 - val_loss: 0.2042 - val_binary_accuracy: 0.9464\n",
            "Epoch 586/1000\n",
            "2/2 [==============================] - 0s 57ms/step - loss: 0.1539 - binary_accuracy: 0.9196 - val_loss: 0.2075 - val_binary_accuracy: 0.9464\n",
            "Epoch 587/1000\n",
            "2/2 [==============================] - 0s 57ms/step - loss: 0.1735 - binary_accuracy: 0.9107 - val_loss: 0.2098 - val_binary_accuracy: 0.9464\n",
            "Epoch 588/1000\n",
            "2/2 [==============================] - 0s 57ms/step - loss: 0.1513 - binary_accuracy: 0.9286 - val_loss: 0.2075 - val_binary_accuracy: 0.9464\n",
            "Epoch 589/1000\n",
            "2/2 [==============================] - 0s 54ms/step - loss: 0.1624 - binary_accuracy: 0.9196 - val_loss: 0.2061 - val_binary_accuracy: 0.9464\n",
            "Epoch 590/1000\n",
            "2/2 [==============================] - 0s 57ms/step - loss: 0.1564 - binary_accuracy: 0.9196 - val_loss: 0.2088 - val_binary_accuracy: 0.9464\n",
            "Epoch 591/1000\n",
            "2/2 [==============================] - 0s 58ms/step - loss: 0.1571 - binary_accuracy: 0.9286 - val_loss: 0.2114 - val_binary_accuracy: 0.9464\n",
            "Epoch 592/1000\n",
            "2/2 [==============================] - 0s 58ms/step - loss: 0.1626 - binary_accuracy: 0.9196 - val_loss: 0.2183 - val_binary_accuracy: 0.9643\n",
            "Epoch 593/1000\n",
            "2/2 [==============================] - 0s 58ms/step - loss: 0.1629 - binary_accuracy: 0.9375 - val_loss: 0.2184 - val_binary_accuracy: 0.9821\n",
            "Epoch 594/1000\n",
            "2/2 [==============================] - 0s 58ms/step - loss: 0.1666 - binary_accuracy: 0.9018 - val_loss: 0.2120 - val_binary_accuracy: 0.9464\n",
            "Epoch 595/1000\n",
            "2/2 [==============================] - 0s 54ms/step - loss: 0.1586 - binary_accuracy: 0.9286 - val_loss: 0.2088 - val_binary_accuracy: 0.9464\n",
            "Epoch 596/1000\n",
            "2/2 [==============================] - 0s 56ms/step - loss: 0.1602 - binary_accuracy: 0.9107 - val_loss: 0.2096 - val_binary_accuracy: 0.9464\n",
            "Epoch 597/1000\n",
            "2/2 [==============================] - 0s 70ms/step - loss: 0.1618 - binary_accuracy: 0.9196 - val_loss: 0.2178 - val_binary_accuracy: 0.9821\n",
            "Epoch 598/1000\n",
            "2/2 [==============================] - 0s 57ms/step - loss: 0.1499 - binary_accuracy: 0.9286 - val_loss: 0.2195 - val_binary_accuracy: 0.9643\n",
            "Epoch 599/1000\n",
            "2/2 [==============================] - 0s 57ms/step - loss: 0.1631 - binary_accuracy: 0.9286 - val_loss: 0.2190 - val_binary_accuracy: 0.9643\n",
            "Epoch 600/1000\n",
            "2/2 [==============================] - 0s 64ms/step - loss: 0.1661 - binary_accuracy: 0.8929 - val_loss: 0.2151 - val_binary_accuracy: 0.9821\n",
            "Epoch 601/1000\n",
            "2/2 [==============================] - 0s 62ms/step - loss: 0.1616 - binary_accuracy: 0.8929 - val_loss: 0.2071 - val_binary_accuracy: 0.9464\n",
            "Epoch 602/1000\n",
            "2/2 [==============================] - 0s 58ms/step - loss: 0.1533 - binary_accuracy: 0.9196 - val_loss: 0.2020 - val_binary_accuracy: 0.9464\n",
            "Epoch 603/1000\n",
            "2/2 [==============================] - 0s 55ms/step - loss: 0.1523 - binary_accuracy: 0.9196 - val_loss: 0.2102 - val_binary_accuracy: 0.9464\n",
            "Epoch 604/1000\n",
            "2/2 [==============================] - 0s 57ms/step - loss: 0.1546 - binary_accuracy: 0.9286 - val_loss: 0.2279 - val_binary_accuracy: 0.9464\n",
            "Epoch 605/1000\n",
            "2/2 [==============================] - 0s 54ms/step - loss: 0.1662 - binary_accuracy: 0.9107 - val_loss: 0.2269 - val_binary_accuracy: 0.9464\n",
            "Epoch 606/1000\n",
            "2/2 [==============================] - 0s 60ms/step - loss: 0.1649 - binary_accuracy: 0.9018 - val_loss: 0.2074 - val_binary_accuracy: 0.9464\n",
            "Epoch 607/1000\n",
            "2/2 [==============================] - 0s 67ms/step - loss: 0.1614 - binary_accuracy: 0.9196 - val_loss: 0.1972 - val_binary_accuracy: 0.9464\n",
            "Epoch 608/1000\n",
            "2/2 [==============================] - 0s 63ms/step - loss: 0.1638 - binary_accuracy: 0.9196 - val_loss: 0.2003 - val_binary_accuracy: 0.9464\n",
            "Epoch 609/1000\n",
            "2/2 [==============================] - 0s 59ms/step - loss: 0.1731 - binary_accuracy: 0.9286 - val_loss: 0.2156 - val_binary_accuracy: 0.9643\n",
            "Epoch 610/1000\n",
            "2/2 [==============================] - 0s 58ms/step - loss: 0.1508 - binary_accuracy: 0.9375 - val_loss: 0.2306 - val_binary_accuracy: 0.9464\n",
            "Epoch 611/1000\n",
            "2/2 [==============================] - 0s 54ms/step - loss: 0.1584 - binary_accuracy: 0.9196 - val_loss: 0.2258 - val_binary_accuracy: 0.9464\n",
            "Epoch 612/1000\n",
            "2/2 [==============================] - 0s 57ms/step - loss: 0.1602 - binary_accuracy: 0.9286 - val_loss: 0.2174 - val_binary_accuracy: 0.9821\n",
            "Epoch 613/1000\n",
            "2/2 [==============================] - 0s 57ms/step - loss: 0.1651 - binary_accuracy: 0.9107 - val_loss: 0.2099 - val_binary_accuracy: 0.9464\n",
            "Epoch 614/1000\n",
            "2/2 [==============================] - 0s 60ms/step - loss: 0.1458 - binary_accuracy: 0.9196 - val_loss: 0.2029 - val_binary_accuracy: 0.9464\n",
            "Epoch 615/1000\n",
            "2/2 [==============================] - 0s 59ms/step - loss: 0.1584 - binary_accuracy: 0.9286 - val_loss: 0.2003 - val_binary_accuracy: 0.9464\n",
            "Epoch 616/1000\n",
            "2/2 [==============================] - 0s 57ms/step - loss: 0.1586 - binary_accuracy: 0.9196 - val_loss: 0.2049 - val_binary_accuracy: 0.9464\n",
            "Epoch 617/1000\n",
            "2/2 [==============================] - 0s 58ms/step - loss: 0.1553 - binary_accuracy: 0.9286 - val_loss: 0.2133 - val_binary_accuracy: 0.9643\n",
            "Epoch 618/1000\n",
            "2/2 [==============================] - 0s 56ms/step - loss: 0.1519 - binary_accuracy: 0.9286 - val_loss: 0.2166 - val_binary_accuracy: 0.9643\n",
            "Epoch 619/1000\n",
            "2/2 [==============================] - 0s 57ms/step - loss: 0.1483 - binary_accuracy: 0.9375 - val_loss: 0.2198 - val_binary_accuracy: 0.9464\n",
            "Epoch 620/1000\n",
            "2/2 [==============================] - 0s 56ms/step - loss: 0.1656 - binary_accuracy: 0.9107 - val_loss: 0.2030 - val_binary_accuracy: 0.9464\n",
            "Epoch 621/1000\n",
            "2/2 [==============================] - 0s 58ms/step - loss: 0.1615 - binary_accuracy: 0.9196 - val_loss: 0.1930 - val_binary_accuracy: 0.9464\n",
            "Epoch 622/1000\n",
            "2/2 [==============================] - 0s 54ms/step - loss: 0.1541 - binary_accuracy: 0.9286 - val_loss: 0.1992 - val_binary_accuracy: 0.9464\n",
            "Epoch 623/1000\n",
            "2/2 [==============================] - 0s 55ms/step - loss: 0.1512 - binary_accuracy: 0.9196 - val_loss: 0.2125 - val_binary_accuracy: 0.9464\n",
            "Epoch 624/1000\n",
            "2/2 [==============================] - 0s 59ms/step - loss: 0.1538 - binary_accuracy: 0.9107 - val_loss: 0.2233 - val_binary_accuracy: 0.9464\n",
            "Epoch 625/1000\n",
            "2/2 [==============================] - 0s 58ms/step - loss: 0.1459 - binary_accuracy: 0.9375 - val_loss: 0.2233 - val_binary_accuracy: 0.9464\n",
            "Epoch 626/1000\n",
            "2/2 [==============================] - 0s 57ms/step - loss: 0.1683 - binary_accuracy: 0.9107 - val_loss: 0.2149 - val_binary_accuracy: 0.9643\n",
            "Epoch 627/1000\n",
            "2/2 [==============================] - 0s 58ms/step - loss: 0.1522 - binary_accuracy: 0.9107 - val_loss: 0.2038 - val_binary_accuracy: 0.9464\n",
            "Epoch 628/1000\n",
            "2/2 [==============================] - 0s 67ms/step - loss: 0.1580 - binary_accuracy: 0.9286 - val_loss: 0.2002 - val_binary_accuracy: 0.9464\n",
            "Epoch 629/1000\n",
            "2/2 [==============================] - 0s 58ms/step - loss: 0.1691 - binary_accuracy: 0.9196 - val_loss: 0.2071 - val_binary_accuracy: 0.9464\n",
            "Epoch 630/1000\n",
            "2/2 [==============================] - 0s 57ms/step - loss: 0.1515 - binary_accuracy: 0.9196 - val_loss: 0.2157 - val_binary_accuracy: 0.9821\n",
            "Epoch 631/1000\n",
            "2/2 [==============================] - 0s 59ms/step - loss: 0.1633 - binary_accuracy: 0.8839 - val_loss: 0.2138 - val_binary_accuracy: 0.9821\n",
            "Epoch 632/1000\n",
            "2/2 [==============================] - 0s 62ms/step - loss: 0.1564 - binary_accuracy: 0.9286 - val_loss: 0.2098 - val_binary_accuracy: 0.9464\n",
            "Epoch 633/1000\n",
            "2/2 [==============================] - 0s 59ms/step - loss: 0.1506 - binary_accuracy: 0.9196 - val_loss: 0.2067 - val_binary_accuracy: 0.9464\n",
            "Epoch 634/1000\n",
            "2/2 [==============================] - 0s 61ms/step - loss: 0.1552 - binary_accuracy: 0.9196 - val_loss: 0.2090 - val_binary_accuracy: 0.9464\n",
            "Epoch 635/1000\n",
            "2/2 [==============================] - 0s 57ms/step - loss: 0.1454 - binary_accuracy: 0.9286 - val_loss: 0.2124 - val_binary_accuracy: 0.9464\n",
            "Epoch 636/1000\n",
            "2/2 [==============================] - 0s 60ms/step - loss: 0.1603 - binary_accuracy: 0.9107 - val_loss: 0.2172 - val_binary_accuracy: 0.9643\n",
            "Epoch 637/1000\n",
            "2/2 [==============================] - 0s 60ms/step - loss: 0.1560 - binary_accuracy: 0.9286 - val_loss: 0.2142 - val_binary_accuracy: 0.9643\n",
            "Epoch 638/1000\n",
            "2/2 [==============================] - 0s 66ms/step - loss: 0.1558 - binary_accuracy: 0.9107 - val_loss: 0.2137 - val_binary_accuracy: 0.9821\n",
            "Epoch 639/1000\n",
            "2/2 [==============================] - 0s 61ms/step - loss: 0.1583 - binary_accuracy: 0.9286 - val_loss: 0.2110 - val_binary_accuracy: 0.9643\n",
            "Epoch 640/1000\n",
            "2/2 [==============================] - 0s 54ms/step - loss: 0.1581 - binary_accuracy: 0.9196 - val_loss: 0.2156 - val_binary_accuracy: 0.9821\n",
            "Epoch 641/1000\n",
            "2/2 [==============================] - 0s 54ms/step - loss: 0.1564 - binary_accuracy: 0.9107 - val_loss: 0.2148 - val_binary_accuracy: 0.9821\n",
            "Epoch 642/1000\n",
            "2/2 [==============================] - 0s 58ms/step - loss: 0.1615 - binary_accuracy: 0.9018 - val_loss: 0.2046 - val_binary_accuracy: 0.9464\n",
            "Epoch 643/1000\n",
            "2/2 [==============================] - 0s 56ms/step - loss: 0.1562 - binary_accuracy: 0.9196 - val_loss: 0.2036 - val_binary_accuracy: 0.9464\n",
            "Epoch 644/1000\n",
            "2/2 [==============================] - 0s 52ms/step - loss: 0.1739 - binary_accuracy: 0.9196 - val_loss: 0.2144 - val_binary_accuracy: 0.9464\n",
            "Epoch 645/1000\n",
            "2/2 [==============================] - 0s 59ms/step - loss: 0.1611 - binary_accuracy: 0.9107 - val_loss: 0.2263 - val_binary_accuracy: 0.9821\n",
            "Epoch 646/1000\n",
            "2/2 [==============================] - 0s 58ms/step - loss: 0.1538 - binary_accuracy: 0.9375 - val_loss: 0.2287 - val_binary_accuracy: 0.9464\n",
            "Epoch 647/1000\n",
            "2/2 [==============================] - 0s 67ms/step - loss: 0.1510 - binary_accuracy: 0.9286 - val_loss: 0.2175 - val_binary_accuracy: 0.9821\n",
            "Epoch 648/1000\n",
            "2/2 [==============================] - 0s 67ms/step - loss: 0.1703 - binary_accuracy: 0.9107 - val_loss: 0.2103 - val_binary_accuracy: 0.9643\n",
            "Epoch 649/1000\n",
            "2/2 [==============================] - 0s 55ms/step - loss: 0.1541 - binary_accuracy: 0.9196 - val_loss: 0.2083 - val_binary_accuracy: 0.9464\n",
            "Epoch 650/1000\n",
            "2/2 [==============================] - 0s 58ms/step - loss: 0.1564 - binary_accuracy: 0.9286 - val_loss: 0.2105 - val_binary_accuracy: 0.9464\n",
            "Epoch 651/1000\n",
            "2/2 [==============================] - 0s 54ms/step - loss: 0.1568 - binary_accuracy: 0.9196 - val_loss: 0.2135 - val_binary_accuracy: 0.9464\n",
            "Epoch 652/1000\n",
            "2/2 [==============================] - 0s 62ms/step - loss: 0.1590 - binary_accuracy: 0.9018 - val_loss: 0.2166 - val_binary_accuracy: 0.9464\n",
            "Epoch 653/1000\n",
            "2/2 [==============================] - 0s 56ms/step - loss: 0.1585 - binary_accuracy: 0.9286 - val_loss: 0.2181 - val_binary_accuracy: 0.9464\n",
            "Epoch 654/1000\n",
            "2/2 [==============================] - 0s 58ms/step - loss: 0.1569 - binary_accuracy: 0.9286 - val_loss: 0.2204 - val_binary_accuracy: 0.9821\n",
            "Epoch 655/1000\n",
            "2/2 [==============================] - 0s 56ms/step - loss: 0.1578 - binary_accuracy: 0.9196 - val_loss: 0.2181 - val_binary_accuracy: 0.9821\n",
            "Epoch 656/1000\n",
            "2/2 [==============================] - 0s 56ms/step - loss: 0.1607 - binary_accuracy: 0.9196 - val_loss: 0.2135 - val_binary_accuracy: 0.9821\n",
            "Epoch 657/1000\n",
            "2/2 [==============================] - 0s 58ms/step - loss: 0.1651 - binary_accuracy: 0.9018 - val_loss: 0.2017 - val_binary_accuracy: 0.9464\n",
            "Epoch 658/1000\n",
            "2/2 [==============================] - 0s 53ms/step - loss: 0.1623 - binary_accuracy: 0.9196 - val_loss: 0.2012 - val_binary_accuracy: 0.9464\n",
            "Epoch 659/1000\n",
            "2/2 [==============================] - 0s 54ms/step - loss: 0.1451 - binary_accuracy: 0.9196 - val_loss: 0.2027 - val_binary_accuracy: 0.9464\n",
            "Epoch 660/1000\n",
            "2/2 [==============================] - 0s 56ms/step - loss: 0.1619 - binary_accuracy: 0.9107 - val_loss: 0.2122 - val_binary_accuracy: 0.9821\n",
            "Epoch 661/1000\n",
            "2/2 [==============================] - 0s 64ms/step - loss: 0.1537 - binary_accuracy: 0.9464 - val_loss: 0.2179 - val_binary_accuracy: 0.9643\n",
            "Epoch 662/1000\n",
            "2/2 [==============================] - 0s 60ms/step - loss: 0.1700 - binary_accuracy: 0.9107 - val_loss: 0.2110 - val_binary_accuracy: 0.9464\n",
            "Epoch 663/1000\n",
            "2/2 [==============================] - 0s 59ms/step - loss: 0.1624 - binary_accuracy: 0.9196 - val_loss: 0.2057 - val_binary_accuracy: 0.9464\n",
            "Epoch 664/1000\n",
            "2/2 [==============================] - 0s 56ms/step - loss: 0.1578 - binary_accuracy: 0.9196 - val_loss: 0.2066 - val_binary_accuracy: 0.9464\n",
            "Epoch 665/1000\n",
            "2/2 [==============================] - 0s 61ms/step - loss: 0.1478 - binary_accuracy: 0.9286 - val_loss: 0.2079 - val_binary_accuracy: 0.9464\n",
            "Epoch 666/1000\n",
            "2/2 [==============================] - 0s 54ms/step - loss: 0.1408 - binary_accuracy: 0.9196 - val_loss: 0.2069 - val_binary_accuracy: 0.9464\n",
            "Epoch 667/1000\n",
            "2/2 [==============================] - 0s 62ms/step - loss: 0.1558 - binary_accuracy: 0.9196 - val_loss: 0.2061 - val_binary_accuracy: 0.9464\n",
            "Epoch 668/1000\n",
            "2/2 [==============================] - 0s 61ms/step - loss: 0.1544 - binary_accuracy: 0.9286 - val_loss: 0.2117 - val_binary_accuracy: 0.9821\n",
            "Epoch 669/1000\n",
            "2/2 [==============================] - 0s 67ms/step - loss: 0.1501 - binary_accuracy: 0.9107 - val_loss: 0.2169 - val_binary_accuracy: 0.9643\n",
            "Epoch 670/1000\n",
            "2/2 [==============================] - 0s 55ms/step - loss: 0.1570 - binary_accuracy: 0.9107 - val_loss: 0.2165 - val_binary_accuracy: 0.9643\n",
            "Epoch 671/1000\n",
            "2/2 [==============================] - 0s 58ms/step - loss: 0.1579 - binary_accuracy: 0.9286 - val_loss: 0.2141 - val_binary_accuracy: 0.9821\n",
            "Epoch 672/1000\n",
            "2/2 [==============================] - 0s 58ms/step - loss: 0.1498 - binary_accuracy: 0.9286 - val_loss: 0.2112 - val_binary_accuracy: 0.9464\n",
            "Epoch 673/1000\n",
            "2/2 [==============================] - 0s 54ms/step - loss: 0.1640 - binary_accuracy: 0.9018 - val_loss: 0.2101 - val_binary_accuracy: 0.9464\n",
            "Epoch 674/1000\n",
            "2/2 [==============================] - 0s 55ms/step - loss: 0.1606 - binary_accuracy: 0.9107 - val_loss: 0.2099 - val_binary_accuracy: 0.9464\n",
            "Epoch 675/1000\n",
            "2/2 [==============================] - 0s 53ms/step - loss: 0.1616 - binary_accuracy: 0.9018 - val_loss: 0.2168 - val_binary_accuracy: 0.9643\n",
            "Epoch 676/1000\n",
            "2/2 [==============================] - 0s 52ms/step - loss: 0.1586 - binary_accuracy: 0.9018 - val_loss: 0.2148 - val_binary_accuracy: 0.9643\n",
            "Epoch 677/1000\n",
            "2/2 [==============================] - 0s 56ms/step - loss: 0.1578 - binary_accuracy: 0.9107 - val_loss: 0.2159 - val_binary_accuracy: 0.9821\n",
            "Epoch 678/1000\n",
            "2/2 [==============================] - 0s 57ms/step - loss: 0.1559 - binary_accuracy: 0.9286 - val_loss: 0.2082 - val_binary_accuracy: 0.9464\n",
            "Epoch 679/1000\n",
            "2/2 [==============================] - 0s 60ms/step - loss: 0.1544 - binary_accuracy: 0.9107 - val_loss: 0.2028 - val_binary_accuracy: 0.9464\n",
            "Epoch 680/1000\n",
            "2/2 [==============================] - 0s 53ms/step - loss: 0.1537 - binary_accuracy: 0.9107 - val_loss: 0.2044 - val_binary_accuracy: 0.9464\n",
            "Epoch 681/1000\n",
            "2/2 [==============================] - 0s 54ms/step - loss: 0.1658 - binary_accuracy: 0.9107 - val_loss: 0.2164 - val_binary_accuracy: 0.9821\n",
            "Epoch 682/1000\n",
            "2/2 [==============================] - 0s 55ms/step - loss: 0.1611 - binary_accuracy: 0.9107 - val_loss: 0.2204 - val_binary_accuracy: 0.9643\n",
            "Epoch 683/1000\n",
            "2/2 [==============================] - 0s 55ms/step - loss: 0.1546 - binary_accuracy: 0.9286 - val_loss: 0.2139 - val_binary_accuracy: 0.9821\n",
            "Epoch 684/1000\n",
            "2/2 [==============================] - 0s 54ms/step - loss: 0.1519 - binary_accuracy: 0.9286 - val_loss: 0.2074 - val_binary_accuracy: 0.9464\n",
            "Epoch 685/1000\n",
            "2/2 [==============================] - 0s 64ms/step - loss: 0.1569 - binary_accuracy: 0.9286 - val_loss: 0.2046 - val_binary_accuracy: 0.9464\n",
            "Epoch 686/1000\n",
            "2/2 [==============================] - 0s 61ms/step - loss: 0.1491 - binary_accuracy: 0.9196 - val_loss: 0.2078 - val_binary_accuracy: 0.9464\n",
            "Epoch 687/1000\n",
            "2/2 [==============================] - 0s 57ms/step - loss: 0.1526 - binary_accuracy: 0.9107 - val_loss: 0.2130 - val_binary_accuracy: 0.9821\n",
            "Epoch 688/1000\n",
            "2/2 [==============================] - 0s 62ms/step - loss: 0.1587 - binary_accuracy: 0.9196 - val_loss: 0.2179 - val_binary_accuracy: 0.9821\n",
            "Epoch 689/1000\n",
            "2/2 [==============================] - 0s 59ms/step - loss: 0.1581 - binary_accuracy: 0.9196 - val_loss: 0.2169 - val_binary_accuracy: 0.9821\n",
            "Epoch 690/1000\n",
            "2/2 [==============================] - 0s 66ms/step - loss: 0.1474 - binary_accuracy: 0.9375 - val_loss: 0.2099 - val_binary_accuracy: 0.9643\n",
            "Epoch 691/1000\n",
            "2/2 [==============================] - 0s 52ms/step - loss: 0.1496 - binary_accuracy: 0.9107 - val_loss: 0.2035 - val_binary_accuracy: 0.9464\n",
            "Epoch 692/1000\n",
            "2/2 [==============================] - 0s 57ms/step - loss: 0.1535 - binary_accuracy: 0.9196 - val_loss: 0.2036 - val_binary_accuracy: 0.9464\n",
            "Epoch 693/1000\n",
            "2/2 [==============================] - 0s 56ms/step - loss: 0.1530 - binary_accuracy: 0.9196 - val_loss: 0.2150 - val_binary_accuracy: 0.9821\n",
            "Epoch 694/1000\n",
            "2/2 [==============================] - 0s 56ms/step - loss: 0.1590 - binary_accuracy: 0.9107 - val_loss: 0.2261 - val_binary_accuracy: 0.9464\n",
            "Epoch 695/1000\n",
            "2/2 [==============================] - 0s 54ms/step - loss: 0.1589 - binary_accuracy: 0.9196 - val_loss: 0.2172 - val_binary_accuracy: 0.9643\n",
            "Epoch 696/1000\n",
            "2/2 [==============================] - 0s 58ms/step - loss: 0.1566 - binary_accuracy: 0.9286 - val_loss: 0.2048 - val_binary_accuracy: 0.9464\n",
            "Epoch 697/1000\n",
            "2/2 [==============================] - 0s 59ms/step - loss: 0.1600 - binary_accuracy: 0.9196 - val_loss: 0.2055 - val_binary_accuracy: 0.9464\n",
            "Epoch 698/1000\n",
            "2/2 [==============================] - 0s 55ms/step - loss: 0.1684 - binary_accuracy: 0.9196 - val_loss: 0.2193 - val_binary_accuracy: 0.9821\n",
            "Epoch 699/1000\n",
            "2/2 [==============================] - 0s 54ms/step - loss: 0.1610 - binary_accuracy: 0.9196 - val_loss: 0.2216 - val_binary_accuracy: 0.9643\n",
            "Epoch 700/1000\n",
            "2/2 [==============================] - 0s 60ms/step - loss: 0.1548 - binary_accuracy: 0.9286 - val_loss: 0.2170 - val_binary_accuracy: 0.9821\n",
            "Epoch 701/1000\n",
            "2/2 [==============================] - 0s 56ms/step - loss: 0.1557 - binary_accuracy: 0.9196 - val_loss: 0.2169 - val_binary_accuracy: 0.9643\n",
            "Epoch 702/1000\n",
            "2/2 [==============================] - 0s 58ms/step - loss: 0.1628 - binary_accuracy: 0.9196 - val_loss: 0.2188 - val_binary_accuracy: 0.9643\n",
            "Epoch 703/1000\n",
            "2/2 [==============================] - 0s 54ms/step - loss: 0.1469 - binary_accuracy: 0.9286 - val_loss: 0.2113 - val_binary_accuracy: 0.9643\n",
            "Epoch 704/1000\n",
            "2/2 [==============================] - 0s 55ms/step - loss: 0.1511 - binary_accuracy: 0.9286 - val_loss: 0.2027 - val_binary_accuracy: 0.9464\n",
            "Epoch 705/1000\n",
            "2/2 [==============================] - 0s 57ms/step - loss: 0.1583 - binary_accuracy: 0.9196 - val_loss: 0.2023 - val_binary_accuracy: 0.9464\n",
            "Epoch 706/1000\n",
            "2/2 [==============================] - 0s 59ms/step - loss: 0.1534 - binary_accuracy: 0.9196 - val_loss: 0.2133 - val_binary_accuracy: 0.9643\n",
            "Epoch 707/1000\n",
            "2/2 [==============================] - 0s 58ms/step - loss: 0.1651 - binary_accuracy: 0.9107 - val_loss: 0.2180 - val_binary_accuracy: 0.9821\n",
            "Epoch 708/1000\n",
            "2/2 [==============================] - 0s 55ms/step - loss: 0.1629 - binary_accuracy: 0.9018 - val_loss: 0.2180 - val_binary_accuracy: 0.9643\n",
            "Epoch 709/1000\n",
            "2/2 [==============================] - 0s 59ms/step - loss: 0.1468 - binary_accuracy: 0.9196 - val_loss: 0.2100 - val_binary_accuracy: 0.9821\n",
            "Epoch 710/1000\n",
            "2/2 [==============================] - 0s 58ms/step - loss: 0.1426 - binary_accuracy: 0.9286 - val_loss: 0.2059 - val_binary_accuracy: 0.9643\n",
            "Epoch 711/1000\n",
            "2/2 [==============================] - 0s 65ms/step - loss: 0.1510 - binary_accuracy: 0.9196 - val_loss: 0.2050 - val_binary_accuracy: 0.9464\n",
            "Epoch 712/1000\n",
            "2/2 [==============================] - 0s 59ms/step - loss: 0.1510 - binary_accuracy: 0.9107 - val_loss: 0.2070 - val_binary_accuracy: 0.9643\n",
            "Epoch 713/1000\n",
            "2/2 [==============================] - 0s 56ms/step - loss: 0.1588 - binary_accuracy: 0.9196 - val_loss: 0.2056 - val_binary_accuracy: 0.9643\n",
            "Epoch 714/1000\n",
            "2/2 [==============================] - 0s 59ms/step - loss: 0.1634 - binary_accuracy: 0.9196 - val_loss: 0.2053 - val_binary_accuracy: 0.9464\n",
            "Epoch 715/1000\n",
            "2/2 [==============================] - 0s 57ms/step - loss: 0.1698 - binary_accuracy: 0.9107 - val_loss: 0.2110 - val_binary_accuracy: 0.9821\n",
            "Epoch 716/1000\n",
            "2/2 [==============================] - 0s 56ms/step - loss: 0.1560 - binary_accuracy: 0.9196 - val_loss: 0.2158 - val_binary_accuracy: 0.9821\n",
            "Epoch 717/1000\n",
            "2/2 [==============================] - 0s 55ms/step - loss: 0.1668 - binary_accuracy: 0.9018 - val_loss: 0.2184 - val_binary_accuracy: 0.9821\n",
            "Epoch 718/1000\n",
            "2/2 [==============================] - 0s 55ms/step - loss: 0.1552 - binary_accuracy: 0.9196 - val_loss: 0.2092 - val_binary_accuracy: 0.9464\n",
            "Epoch 719/1000\n",
            "2/2 [==============================] - 0s 54ms/step - loss: 0.1603 - binary_accuracy: 0.9196 - val_loss: 0.2093 - val_binary_accuracy: 0.9464\n",
            "Epoch 720/1000\n",
            "2/2 [==============================] - 0s 54ms/step - loss: 0.1570 - binary_accuracy: 0.9196 - val_loss: 0.2137 - val_binary_accuracy: 0.9643\n",
            "Epoch 721/1000\n",
            "2/2 [==============================] - 0s 52ms/step - loss: 0.1468 - binary_accuracy: 0.9286 - val_loss: 0.2151 - val_binary_accuracy: 0.9821\n",
            "Epoch 722/1000\n",
            "2/2 [==============================] - 0s 56ms/step - loss: 0.1531 - binary_accuracy: 0.9107 - val_loss: 0.2103 - val_binary_accuracy: 0.9643\n",
            "Epoch 723/1000\n",
            "2/2 [==============================] - 0s 53ms/step - loss: 0.1575 - binary_accuracy: 0.9196 - val_loss: 0.2094 - val_binary_accuracy: 0.9643\n",
            "Epoch 724/1000\n",
            "2/2 [==============================] - 0s 58ms/step - loss: 0.1516 - binary_accuracy: 0.9107 - val_loss: 0.2096 - val_binary_accuracy: 0.9464\n",
            "Epoch 725/1000\n",
            "2/2 [==============================] - 0s 55ms/step - loss: 0.1554 - binary_accuracy: 0.9107 - val_loss: 0.2113 - val_binary_accuracy: 0.9464\n",
            "Epoch 726/1000\n",
            "2/2 [==============================] - 0s 54ms/step - loss: 0.1458 - binary_accuracy: 0.9196 - val_loss: 0.2159 - val_binary_accuracy: 0.9821\n",
            "Epoch 727/1000\n",
            "2/2 [==============================] - 0s 58ms/step - loss: 0.1564 - binary_accuracy: 0.9107 - val_loss: 0.2154 - val_binary_accuracy: 0.9821\n",
            "Epoch 728/1000\n",
            "2/2 [==============================] - 0s 64ms/step - loss: 0.1490 - binary_accuracy: 0.9375 - val_loss: 0.2053 - val_binary_accuracy: 0.9464\n",
            "Epoch 729/1000\n",
            "2/2 [==============================] - 0s 54ms/step - loss: 0.1552 - binary_accuracy: 0.9196 - val_loss: 0.1945 - val_binary_accuracy: 0.9464\n",
            "Epoch 730/1000\n",
            "2/2 [==============================] - 0s 59ms/step - loss: 0.1451 - binary_accuracy: 0.9286 - val_loss: 0.1948 - val_binary_accuracy: 0.9464\n",
            "Epoch 731/1000\n",
            "2/2 [==============================] - 0s 61ms/step - loss: 0.1626 - binary_accuracy: 0.9286 - val_loss: 0.2096 - val_binary_accuracy: 0.9821\n",
            "Epoch 732/1000\n",
            "2/2 [==============================] - 0s 56ms/step - loss: 0.1559 - binary_accuracy: 0.9196 - val_loss: 0.2238 - val_binary_accuracy: 0.9464\n",
            "Epoch 733/1000\n",
            "2/2 [==============================] - 0s 59ms/step - loss: 0.1565 - binary_accuracy: 0.9196 - val_loss: 0.2275 - val_binary_accuracy: 0.9464\n",
            "Epoch 734/1000\n",
            "2/2 [==============================] - 0s 59ms/step - loss: 0.1714 - binary_accuracy: 0.8929 - val_loss: 0.2021 - val_binary_accuracy: 0.9464\n",
            "Epoch 735/1000\n",
            "2/2 [==============================] - 0s 58ms/step - loss: 0.1639 - binary_accuracy: 0.9196 - val_loss: 0.1928 - val_binary_accuracy: 0.9464\n",
            "Epoch 736/1000\n",
            "2/2 [==============================] - 0s 55ms/step - loss: 0.1605 - binary_accuracy: 0.9196 - val_loss: 0.2014 - val_binary_accuracy: 0.9464\n",
            "Epoch 737/1000\n",
            "2/2 [==============================] - 0s 58ms/step - loss: 0.1636 - binary_accuracy: 0.9196 - val_loss: 0.2147 - val_binary_accuracy: 0.9821\n",
            "Epoch 738/1000\n",
            "2/2 [==============================] - 0s 56ms/step - loss: 0.1556 - binary_accuracy: 0.9196 - val_loss: 0.2219 - val_binary_accuracy: 0.9464\n",
            "Epoch 739/1000\n",
            "2/2 [==============================] - 0s 62ms/step - loss: 0.1472 - binary_accuracy: 0.9196 - val_loss: 0.2158 - val_binary_accuracy: 0.9643\n",
            "Epoch 740/1000\n",
            "2/2 [==============================] - 0s 60ms/step - loss: 0.1560 - binary_accuracy: 0.9196 - val_loss: 0.2023 - val_binary_accuracy: 0.9464\n",
            "Epoch 741/1000\n",
            "2/2 [==============================] - 0s 57ms/step - loss: 0.1631 - binary_accuracy: 0.9286 - val_loss: 0.1997 - val_binary_accuracy: 0.9464\n",
            "Epoch 742/1000\n",
            "2/2 [==============================] - 0s 67ms/step - loss: 0.1563 - binary_accuracy: 0.9196 - val_loss: 0.2061 - val_binary_accuracy: 0.9464\n",
            "Epoch 743/1000\n",
            "2/2 [==============================] - 0s 57ms/step - loss: 0.1589 - binary_accuracy: 0.9107 - val_loss: 0.2156 - val_binary_accuracy: 0.9821\n",
            "Epoch 744/1000\n",
            "2/2 [==============================] - 0s 61ms/step - loss: 0.1529 - binary_accuracy: 0.9286 - val_loss: 0.2171 - val_binary_accuracy: 0.9643\n",
            "Epoch 745/1000\n",
            "2/2 [==============================] - 0s 63ms/step - loss: 0.1499 - binary_accuracy: 0.9196 - val_loss: 0.2070 - val_binary_accuracy: 0.9643\n",
            "Epoch 746/1000\n",
            "2/2 [==============================] - 0s 58ms/step - loss: 0.1444 - binary_accuracy: 0.9196 - val_loss: 0.1932 - val_binary_accuracy: 0.9464\n",
            "Epoch 747/1000\n",
            "2/2 [==============================] - 0s 61ms/step - loss: 0.1475 - binary_accuracy: 0.9196 - val_loss: 0.1897 - val_binary_accuracy: 0.9464\n",
            "Epoch 748/1000\n",
            "2/2 [==============================] - 0s 55ms/step - loss: 0.1641 - binary_accuracy: 0.9196 - val_loss: 0.2073 - val_binary_accuracy: 0.9821\n",
            "Epoch 749/1000\n",
            "2/2 [==============================] - 0s 57ms/step - loss: 0.1531 - binary_accuracy: 0.9196 - val_loss: 0.2138 - val_binary_accuracy: 0.9464\n",
            "Epoch 750/1000\n",
            "2/2 [==============================] - 0s 55ms/step - loss: 0.1487 - binary_accuracy: 0.9196 - val_loss: 0.2078 - val_binary_accuracy: 0.9643\n",
            "Epoch 751/1000\n",
            "2/2 [==============================] - 0s 56ms/step - loss: 0.1443 - binary_accuracy: 0.9286 - val_loss: 0.2035 - val_binary_accuracy: 0.9821\n",
            "Epoch 752/1000\n",
            "2/2 [==============================] - 0s 61ms/step - loss: 0.1595 - binary_accuracy: 0.8929 - val_loss: 0.1990 - val_binary_accuracy: 0.9821\n",
            "Epoch 753/1000\n",
            "2/2 [==============================] - 0s 54ms/step - loss: 0.1611 - binary_accuracy: 0.9286 - val_loss: 0.1922 - val_binary_accuracy: 0.9464\n",
            "Epoch 754/1000\n",
            "2/2 [==============================] - 0s 57ms/step - loss: 0.1598 - binary_accuracy: 0.9196 - val_loss: 0.2044 - val_binary_accuracy: 0.9643\n",
            "Epoch 755/1000\n",
            "2/2 [==============================] - 0s 53ms/step - loss: 0.1494 - binary_accuracy: 0.9286 - val_loss: 0.2179 - val_binary_accuracy: 0.9643\n",
            "Epoch 756/1000\n",
            "2/2 [==============================] - 0s 63ms/step - loss: 0.1560 - binary_accuracy: 0.9286 - val_loss: 0.2225 - val_binary_accuracy: 0.9464\n",
            "Epoch 757/1000\n",
            "2/2 [==============================] - 0s 58ms/step - loss: 0.1585 - binary_accuracy: 0.9196 - val_loss: 0.2185 - val_binary_accuracy: 0.9643\n",
            "Epoch 758/1000\n",
            "2/2 [==============================] - 0s 64ms/step - loss: 0.1479 - binary_accuracy: 0.9196 - val_loss: 0.2130 - val_binary_accuracy: 0.9821\n",
            "Epoch 759/1000\n",
            "2/2 [==============================] - 0s 55ms/step - loss: 0.1645 - binary_accuracy: 0.9018 - val_loss: 0.2132 - val_binary_accuracy: 0.9821\n",
            "Epoch 760/1000\n",
            "2/2 [==============================] - 0s 57ms/step - loss: 0.1531 - binary_accuracy: 0.9286 - val_loss: 0.2108 - val_binary_accuracy: 0.9821\n",
            "Epoch 761/1000\n",
            "2/2 [==============================] - 0s 58ms/step - loss: 0.1581 - binary_accuracy: 0.9107 - val_loss: 0.2076 - val_binary_accuracy: 0.9821\n",
            "Epoch 762/1000\n",
            "2/2 [==============================] - 0s 57ms/step - loss: 0.1564 - binary_accuracy: 0.9196 - val_loss: 0.2086 - val_binary_accuracy: 0.9821\n",
            "Epoch 763/1000\n",
            "2/2 [==============================] - 0s 63ms/step - loss: 0.1538 - binary_accuracy: 0.9107 - val_loss: 0.2076 - val_binary_accuracy: 0.9821\n",
            "Epoch 764/1000\n",
            "2/2 [==============================] - 0s 65ms/step - loss: 0.1521 - binary_accuracy: 0.9286 - val_loss: 0.2072 - val_binary_accuracy: 0.9643\n",
            "Epoch 765/1000\n",
            "2/2 [==============================] - 0s 55ms/step - loss: 0.1447 - binary_accuracy: 0.9375 - val_loss: 0.2123 - val_binary_accuracy: 0.9821\n",
            "Epoch 766/1000\n",
            "2/2 [==============================] - 0s 58ms/step - loss: 0.1635 - binary_accuracy: 0.9286 - val_loss: 0.2184 - val_binary_accuracy: 0.9643\n",
            "Epoch 767/1000\n",
            "2/2 [==============================] - 0s 63ms/step - loss: 0.1553 - binary_accuracy: 0.9018 - val_loss: 0.2216 - val_binary_accuracy: 0.9464\n",
            "Epoch 768/1000\n",
            "2/2 [==============================] - 0s 61ms/step - loss: 0.1684 - binary_accuracy: 0.9107 - val_loss: 0.2224 - val_binary_accuracy: 0.9464\n",
            "Epoch 769/1000\n",
            "2/2 [==============================] - 0s 55ms/step - loss: 0.1563 - binary_accuracy: 0.9107 - val_loss: 0.2077 - val_binary_accuracy: 0.9821\n",
            "Epoch 770/1000\n",
            "2/2 [==============================] - 0s 59ms/step - loss: 0.1563 - binary_accuracy: 0.9196 - val_loss: 0.1973 - val_binary_accuracy: 0.9464\n",
            "Epoch 771/1000\n",
            "2/2 [==============================] - 0s 64ms/step - loss: 0.1524 - binary_accuracy: 0.9196 - val_loss: 0.2039 - val_binary_accuracy: 0.9821\n",
            "Epoch 772/1000\n",
            "2/2 [==============================] - 0s 56ms/step - loss: 0.1490 - binary_accuracy: 0.9286 - val_loss: 0.2174 - val_binary_accuracy: 0.9464\n",
            "Epoch 773/1000\n",
            "2/2 [==============================] - 0s 63ms/step - loss: 0.1552 - binary_accuracy: 0.9286 - val_loss: 0.2321 - val_binary_accuracy: 0.9464\n",
            "Epoch 774/1000\n",
            "2/2 [==============================] - 0s 61ms/step - loss: 0.1555 - binary_accuracy: 0.9107 - val_loss: 0.2178 - val_binary_accuracy: 0.9643\n",
            "Epoch 775/1000\n",
            "2/2 [==============================] - 0s 58ms/step - loss: 0.1531 - binary_accuracy: 0.9018 - val_loss: 0.1949 - val_binary_accuracy: 0.9464\n",
            "Epoch 776/1000\n",
            "2/2 [==============================] - 0s 54ms/step - loss: 0.1524 - binary_accuracy: 0.9196 - val_loss: 0.1898 - val_binary_accuracy: 0.9464\n",
            "Epoch 777/1000\n",
            "2/2 [==============================] - 0s 54ms/step - loss: 0.1564 - binary_accuracy: 0.9107 - val_loss: 0.2036 - val_binary_accuracy: 0.9643\n",
            "Epoch 778/1000\n",
            "2/2 [==============================] - 0s 63ms/step - loss: 0.1547 - binary_accuracy: 0.9286 - val_loss: 0.2143 - val_binary_accuracy: 0.9643\n",
            "Epoch 779/1000\n",
            "2/2 [==============================] - 0s 58ms/step - loss: 0.1496 - binary_accuracy: 0.9286 - val_loss: 0.2121 - val_binary_accuracy: 0.9643\n",
            "Epoch 780/1000\n",
            "2/2 [==============================] - 0s 58ms/step - loss: 0.1539 - binary_accuracy: 0.9107 - val_loss: 0.2065 - val_binary_accuracy: 0.9821\n",
            "Epoch 781/1000\n",
            "2/2 [==============================] - 0s 53ms/step - loss: 0.1571 - binary_accuracy: 0.9196 - val_loss: 0.2014 - val_binary_accuracy: 0.9643\n",
            "Epoch 782/1000\n",
            "2/2 [==============================] - 0s 55ms/step - loss: 0.1493 - binary_accuracy: 0.9196 - val_loss: 0.2044 - val_binary_accuracy: 0.9821\n",
            "Epoch 783/1000\n",
            "2/2 [==============================] - 0s 60ms/step - loss: 0.1410 - binary_accuracy: 0.9286 - val_loss: 0.2099 - val_binary_accuracy: 0.9821\n",
            "Epoch 784/1000\n",
            "2/2 [==============================] - 0s 58ms/step - loss: 0.1479 - binary_accuracy: 0.9107 - val_loss: 0.2141 - val_binary_accuracy: 0.9464\n",
            "Epoch 785/1000\n",
            "2/2 [==============================] - 0s 61ms/step - loss: 0.1442 - binary_accuracy: 0.9286 - val_loss: 0.2078 - val_binary_accuracy: 0.9464\n",
            "Epoch 786/1000\n",
            "2/2 [==============================] - 0s 61ms/step - loss: 0.1524 - binary_accuracy: 0.9286 - val_loss: 0.2011 - val_binary_accuracy: 0.9821\n",
            "Epoch 787/1000\n",
            "2/2 [==============================] - 0s 58ms/step - loss: 0.1488 - binary_accuracy: 0.9375 - val_loss: 0.1922 - val_binary_accuracy: 0.9464\n",
            "Epoch 788/1000\n",
            "2/2 [==============================] - 0s 59ms/step - loss: 0.1654 - binary_accuracy: 0.9196 - val_loss: 0.1998 - val_binary_accuracy: 0.9464\n",
            "Epoch 789/1000\n",
            "2/2 [==============================] - 0s 54ms/step - loss: 0.1597 - binary_accuracy: 0.9107 - val_loss: 0.2246 - val_binary_accuracy: 0.9464\n",
            "Epoch 790/1000\n",
            "2/2 [==============================] - 0s 57ms/step - loss: 0.1572 - binary_accuracy: 0.9196 - val_loss: 0.2309 - val_binary_accuracy: 0.9464\n",
            "Epoch 791/1000\n",
            "2/2 [==============================] - 0s 56ms/step - loss: 0.1600 - binary_accuracy: 0.9107 - val_loss: 0.2235 - val_binary_accuracy: 0.9464\n",
            "Epoch 792/1000\n",
            "2/2 [==============================] - 0s 55ms/step - loss: 0.1517 - binary_accuracy: 0.9107 - val_loss: 0.1977 - val_binary_accuracy: 0.9821\n",
            "Epoch 793/1000\n",
            "2/2 [==============================] - 0s 64ms/step - loss: 0.1491 - binary_accuracy: 0.9196 - val_loss: 0.1918 - val_binary_accuracy: 0.9464\n",
            "Epoch 794/1000\n",
            "2/2 [==============================] - 0s 55ms/step - loss: 0.1497 - binary_accuracy: 0.9196 - val_loss: 0.2016 - val_binary_accuracy: 0.9821\n",
            "Epoch 795/1000\n",
            "2/2 [==============================] - 0s 64ms/step - loss: 0.1578 - binary_accuracy: 0.9018 - val_loss: 0.2198 - val_binary_accuracy: 0.9643\n",
            "Epoch 796/1000\n",
            "2/2 [==============================] - 0s 57ms/step - loss: 0.1523 - binary_accuracy: 0.9375 - val_loss: 0.2278 - val_binary_accuracy: 0.9464\n",
            "Epoch 797/1000\n",
            "2/2 [==============================] - 0s 57ms/step - loss: 0.1476 - binary_accuracy: 0.9464 - val_loss: 0.2153 - val_binary_accuracy: 0.9643\n",
            "Epoch 798/1000\n",
            "2/2 [==============================] - 0s 59ms/step - loss: 0.1485 - binary_accuracy: 0.9107 - val_loss: 0.1986 - val_binary_accuracy: 0.9464\n",
            "Epoch 799/1000\n",
            "2/2 [==============================] - 0s 58ms/step - loss: 0.1567 - binary_accuracy: 0.9286 - val_loss: 0.1972 - val_binary_accuracy: 0.9643\n",
            "Epoch 800/1000\n",
            "2/2 [==============================] - 0s 60ms/step - loss: 0.1393 - binary_accuracy: 0.9286 - val_loss: 0.2035 - val_binary_accuracy: 0.9821\n",
            "Epoch 801/1000\n",
            "2/2 [==============================] - 0s 59ms/step - loss: 0.1533 - binary_accuracy: 0.9196 - val_loss: 0.2106 - val_binary_accuracy: 0.9643\n",
            "Epoch 802/1000\n",
            "2/2 [==============================] - 0s 55ms/step - loss: 0.1486 - binary_accuracy: 0.9286 - val_loss: 0.2129 - val_binary_accuracy: 0.9643\n",
            "Epoch 803/1000\n",
            "2/2 [==============================] - 0s 61ms/step - loss: 0.1515 - binary_accuracy: 0.9107 - val_loss: 0.2116 - val_binary_accuracy: 0.9643\n",
            "Epoch 804/1000\n",
            "2/2 [==============================] - 0s 55ms/step - loss: 0.1590 - binary_accuracy: 0.9375 - val_loss: 0.2041 - val_binary_accuracy: 0.9643\n",
            "Epoch 805/1000\n",
            "2/2 [==============================] - 0s 56ms/step - loss: 0.1535 - binary_accuracy: 0.9196 - val_loss: 0.2028 - val_binary_accuracy: 0.9821\n",
            "Epoch 806/1000\n",
            "2/2 [==============================] - 0s 60ms/step - loss: 0.1506 - binary_accuracy: 0.9286 - val_loss: 0.2140 - val_binary_accuracy: 0.9464\n",
            "Epoch 807/1000\n",
            "2/2 [==============================] - 0s 61ms/step - loss: 0.1497 - binary_accuracy: 0.9286 - val_loss: 0.2036 - val_binary_accuracy: 0.9821\n",
            "Epoch 808/1000\n",
            "2/2 [==============================] - 0s 55ms/step - loss: 0.1558 - binary_accuracy: 0.9018 - val_loss: 0.2028 - val_binary_accuracy: 0.9821\n",
            "Epoch 809/1000\n",
            "2/2 [==============================] - 0s 57ms/step - loss: 0.1770 - binary_accuracy: 0.8929 - val_loss: 0.2187 - val_binary_accuracy: 0.9464\n",
            "Epoch 810/1000\n",
            "2/2 [==============================] - 0s 57ms/step - loss: 0.1482 - binary_accuracy: 0.9286 - val_loss: 0.2207 - val_binary_accuracy: 0.9464\n",
            "Epoch 811/1000\n",
            "2/2 [==============================] - 0s 63ms/step - loss: 0.1551 - binary_accuracy: 0.9286 - val_loss: 0.2112 - val_binary_accuracy: 0.9643\n",
            "Epoch 812/1000\n",
            "2/2 [==============================] - 0s 62ms/step - loss: 0.1482 - binary_accuracy: 0.9375 - val_loss: 0.1997 - val_binary_accuracy: 0.9643\n",
            "Epoch 813/1000\n",
            "2/2 [==============================] - 0s 69ms/step - loss: 0.1573 - binary_accuracy: 0.9107 - val_loss: 0.2103 - val_binary_accuracy: 0.9643\n",
            "Epoch 814/1000\n",
            "2/2 [==============================] - 0s 59ms/step - loss: 0.1497 - binary_accuracy: 0.9375 - val_loss: 0.2078 - val_binary_accuracy: 0.9643\n",
            "Epoch 815/1000\n",
            "2/2 [==============================] - 0s 62ms/step - loss: 0.1497 - binary_accuracy: 0.9196 - val_loss: 0.1971 - val_binary_accuracy: 0.9821\n",
            "Epoch 816/1000\n",
            "2/2 [==============================] - 0s 60ms/step - loss: 0.1576 - binary_accuracy: 0.9196 - val_loss: 0.2007 - val_binary_accuracy: 0.9821\n",
            "Epoch 817/1000\n",
            "2/2 [==============================] - 0s 58ms/step - loss: 0.1516 - binary_accuracy: 0.9286 - val_loss: 0.2113 - val_binary_accuracy: 0.9464\n",
            "Epoch 818/1000\n",
            "2/2 [==============================] - 0s 56ms/step - loss: 0.1465 - binary_accuracy: 0.9196 - val_loss: 0.2229 - val_binary_accuracy: 0.9464\n",
            "Epoch 819/1000\n",
            "2/2 [==============================] - 0s 59ms/step - loss: 0.1489 - binary_accuracy: 0.9286 - val_loss: 0.2206 - val_binary_accuracy: 0.9464\n",
            "Epoch 820/1000\n",
            "2/2 [==============================] - 0s 54ms/step - loss: 0.1515 - binary_accuracy: 0.9286 - val_loss: 0.2030 - val_binary_accuracy: 0.9821\n",
            "Epoch 821/1000\n",
            "2/2 [==============================] - 0s 63ms/step - loss: 0.1589 - binary_accuracy: 0.9107 - val_loss: 0.1916 - val_binary_accuracy: 0.9464\n",
            "Epoch 822/1000\n",
            "2/2 [==============================] - 0s 68ms/step - loss: 0.1588 - binary_accuracy: 0.9196 - val_loss: 0.2036 - val_binary_accuracy: 0.9643\n",
            "Epoch 823/1000\n",
            "2/2 [==============================] - 0s 62ms/step - loss: 0.1418 - binary_accuracy: 0.9107 - val_loss: 0.2087 - val_binary_accuracy: 0.9464\n",
            "Epoch 824/1000\n",
            "2/2 [==============================] - 0s 57ms/step - loss: 0.1490 - binary_accuracy: 0.9107 - val_loss: 0.2077 - val_binary_accuracy: 0.9464\n",
            "Epoch 825/1000\n",
            "2/2 [==============================] - 0s 58ms/step - loss: 0.1525 - binary_accuracy: 0.9196 - val_loss: 0.2015 - val_binary_accuracy: 0.9821\n",
            "Epoch 826/1000\n",
            "2/2 [==============================] - 0s 58ms/step - loss: 0.1674 - binary_accuracy: 0.8929 - val_loss: 0.2051 - val_binary_accuracy: 0.9821\n",
            "Epoch 827/1000\n",
            "2/2 [==============================] - 0s 58ms/step - loss: 0.1381 - binary_accuracy: 0.9286 - val_loss: 0.2024 - val_binary_accuracy: 0.9821\n",
            "Epoch 828/1000\n",
            "2/2 [==============================] - 0s 55ms/step - loss: 0.1676 - binary_accuracy: 0.9018 - val_loss: 0.2027 - val_binary_accuracy: 0.9821\n",
            "Epoch 829/1000\n",
            "2/2 [==============================] - 0s 63ms/step - loss: 0.1515 - binary_accuracy: 0.9018 - val_loss: 0.2070 - val_binary_accuracy: 0.9643\n",
            "Epoch 830/1000\n",
            "2/2 [==============================] - 0s 58ms/step - loss: 0.1406 - binary_accuracy: 0.9286 - val_loss: 0.2145 - val_binary_accuracy: 0.9464\n",
            "Epoch 831/1000\n",
            "2/2 [==============================] - 0s 62ms/step - loss: 0.1547 - binary_accuracy: 0.9196 - val_loss: 0.2140 - val_binary_accuracy: 0.9464\n",
            "Epoch 832/1000\n",
            "2/2 [==============================] - 0s 58ms/step - loss: 0.1644 - binary_accuracy: 0.9018 - val_loss: 0.2124 - val_binary_accuracy: 0.9643\n",
            "Epoch 833/1000\n",
            "2/2 [==============================] - 0s 59ms/step - loss: 0.1484 - binary_accuracy: 0.9107 - val_loss: 0.2022 - val_binary_accuracy: 0.9821\n",
            "Epoch 834/1000\n",
            "2/2 [==============================] - 0s 61ms/step - loss: 0.1524 - binary_accuracy: 0.9375 - val_loss: 0.1966 - val_binary_accuracy: 0.9643\n",
            "Epoch 835/1000\n",
            "2/2 [==============================] - 0s 57ms/step - loss: 0.1430 - binary_accuracy: 0.9196 - val_loss: 0.1903 - val_binary_accuracy: 0.9464\n",
            "Epoch 836/1000\n",
            "2/2 [==============================] - 0s 57ms/step - loss: 0.1524 - binary_accuracy: 0.9375 - val_loss: 0.1956 - val_binary_accuracy: 0.9643\n",
            "Epoch 837/1000\n",
            "2/2 [==============================] - 0s 56ms/step - loss: 0.1457 - binary_accuracy: 0.9107 - val_loss: 0.2111 - val_binary_accuracy: 0.9643\n",
            "Epoch 838/1000\n",
            "2/2 [==============================] - 0s 62ms/step - loss: 0.1338 - binary_accuracy: 0.9554 - val_loss: 0.2186 - val_binary_accuracy: 0.9464\n",
            "Epoch 839/1000\n",
            "2/2 [==============================] - 0s 60ms/step - loss: 0.1499 - binary_accuracy: 0.9107 - val_loss: 0.2195 - val_binary_accuracy: 0.9464\n",
            "Epoch 840/1000\n",
            "2/2 [==============================] - 0s 60ms/step - loss: 0.1430 - binary_accuracy: 0.9375 - val_loss: 0.2054 - val_binary_accuracy: 0.9464\n",
            "Epoch 841/1000\n",
            "2/2 [==============================] - 0s 52ms/step - loss: 0.1477 - binary_accuracy: 0.9196 - val_loss: 0.1931 - val_binary_accuracy: 0.9821\n",
            "Epoch 842/1000\n",
            "2/2 [==============================] - 0s 70ms/step - loss: 0.1570 - binary_accuracy: 0.9196 - val_loss: 0.2023 - val_binary_accuracy: 0.9643\n",
            "Epoch 843/1000\n",
            "2/2 [==============================] - 0s 62ms/step - loss: 0.1554 - binary_accuracy: 0.9375 - val_loss: 0.2168 - val_binary_accuracy: 0.9464\n",
            "Epoch 844/1000\n",
            "2/2 [==============================] - 0s 57ms/step - loss: 0.1423 - binary_accuracy: 0.9375 - val_loss: 0.2167 - val_binary_accuracy: 0.9464\n",
            "Epoch 845/1000\n",
            "2/2 [==============================] - 0s 60ms/step - loss: 0.1498 - binary_accuracy: 0.9107 - val_loss: 0.2053 - val_binary_accuracy: 0.9464\n",
            "Epoch 846/1000\n",
            "2/2 [==============================] - 0s 59ms/step - loss: 0.1436 - binary_accuracy: 0.9196 - val_loss: 0.1873 - val_binary_accuracy: 0.9821\n",
            "Epoch 847/1000\n",
            "2/2 [==============================] - 0s 58ms/step - loss: 0.1433 - binary_accuracy: 0.9107 - val_loss: 0.1961 - val_binary_accuracy: 0.9643\n",
            "Epoch 848/1000\n",
            "2/2 [==============================] - 0s 54ms/step - loss: 0.1586 - binary_accuracy: 0.9286 - val_loss: 0.2414 - val_binary_accuracy: 0.9464\n",
            "Epoch 849/1000\n",
            "2/2 [==============================] - 0s 60ms/step - loss: 0.1515 - binary_accuracy: 0.9286 - val_loss: 0.2285 - val_binary_accuracy: 0.9464\n",
            "Epoch 850/1000\n",
            "2/2 [==============================] - 0s 62ms/step - loss: 0.1683 - binary_accuracy: 0.9107 - val_loss: 0.1974 - val_binary_accuracy: 0.9821\n",
            "Epoch 851/1000\n",
            "2/2 [==============================] - 0s 59ms/step - loss: 0.1554 - binary_accuracy: 0.9196 - val_loss: 0.2071 - val_binary_accuracy: 0.9643\n",
            "Epoch 852/1000\n",
            "2/2 [==============================] - 0s 57ms/step - loss: 0.1505 - binary_accuracy: 0.9375 - val_loss: 0.2174 - val_binary_accuracy: 0.9464\n",
            "Epoch 853/1000\n",
            "2/2 [==============================] - 0s 58ms/step - loss: 0.1429 - binary_accuracy: 0.9375 - val_loss: 0.1989 - val_binary_accuracy: 0.9643\n",
            "Epoch 854/1000\n",
            "2/2 [==============================] - 0s 56ms/step - loss: 0.1426 - binary_accuracy: 0.9286 - val_loss: 0.1892 - val_binary_accuracy: 0.9821\n",
            "Epoch 855/1000\n",
            "2/2 [==============================] - 0s 68ms/step - loss: 0.1437 - binary_accuracy: 0.9107 - val_loss: 0.2024 - val_binary_accuracy: 0.9643\n",
            "Epoch 856/1000\n",
            "2/2 [==============================] - 0s 55ms/step - loss: 0.1446 - binary_accuracy: 0.9375 - val_loss: 0.2135 - val_binary_accuracy: 0.9464\n",
            "Epoch 857/1000\n",
            "2/2 [==============================] - 0s 56ms/step - loss: 0.1598 - binary_accuracy: 0.9018 - val_loss: 0.2084 - val_binary_accuracy: 0.9643\n",
            "Epoch 858/1000\n",
            "2/2 [==============================] - 0s 54ms/step - loss: 0.1468 - binary_accuracy: 0.9196 - val_loss: 0.2239 - val_binary_accuracy: 0.9464\n",
            "Epoch 859/1000\n",
            "2/2 [==============================] - 0s 57ms/step - loss: 0.1486 - binary_accuracy: 0.9286 - val_loss: 0.2288 - val_binary_accuracy: 0.9464\n",
            "Epoch 860/1000\n",
            "2/2 [==============================] - 0s 58ms/step - loss: 0.1377 - binary_accuracy: 0.9286 - val_loss: 0.2128 - val_binary_accuracy: 0.9464\n",
            "Epoch 861/1000\n",
            "2/2 [==============================] - 0s 60ms/step - loss: 0.1621 - binary_accuracy: 0.9196 - val_loss: 0.1952 - val_binary_accuracy: 0.9821\n",
            "Epoch 862/1000\n",
            "2/2 [==============================] - 0s 70ms/step - loss: 0.1348 - binary_accuracy: 0.9196 - val_loss: 0.2047 - val_binary_accuracy: 0.9643\n",
            "Epoch 863/1000\n",
            "2/2 [==============================] - 0s 56ms/step - loss: 0.1607 - binary_accuracy: 0.9286 - val_loss: 0.2289 - val_binary_accuracy: 0.9464\n",
            "Epoch 864/1000\n",
            "2/2 [==============================] - 0s 64ms/step - loss: 0.1554 - binary_accuracy: 0.9018 - val_loss: 0.2212 - val_binary_accuracy: 0.9464\n",
            "Epoch 865/1000\n",
            "2/2 [==============================] - 0s 59ms/step - loss: 0.1314 - binary_accuracy: 0.9464 - val_loss: 0.2098 - val_binary_accuracy: 0.9643\n",
            "Epoch 866/1000\n",
            "2/2 [==============================] - 0s 54ms/step - loss: 0.1724 - binary_accuracy: 0.9018 - val_loss: 0.2158 - val_binary_accuracy: 0.9464\n",
            "Epoch 867/1000\n",
            "2/2 [==============================] - 0s 60ms/step - loss: 0.1343 - binary_accuracy: 0.9554 - val_loss: 0.2166 - val_binary_accuracy: 0.9464\n",
            "Epoch 868/1000\n",
            "2/2 [==============================] - 0s 57ms/step - loss: 0.1495 - binary_accuracy: 0.9196 - val_loss: 0.2215 - val_binary_accuracy: 0.9464\n",
            "Epoch 869/1000\n",
            "2/2 [==============================] - 0s 60ms/step - loss: 0.1430 - binary_accuracy: 0.9196 - val_loss: 0.2271 - val_binary_accuracy: 0.9464\n",
            "Epoch 870/1000\n",
            "2/2 [==============================] - 0s 57ms/step - loss: 0.1538 - binary_accuracy: 0.9196 - val_loss: 0.2323 - val_binary_accuracy: 0.9464\n",
            "Epoch 871/1000\n",
            "2/2 [==============================] - 0s 55ms/step - loss: 0.1545 - binary_accuracy: 0.9196 - val_loss: 0.2040 - val_binary_accuracy: 0.9643\n",
            "Epoch 872/1000\n",
            "2/2 [==============================] - 0s 64ms/step - loss: 0.1580 - binary_accuracy: 0.9107 - val_loss: 0.2177 - val_binary_accuracy: 0.9464\n",
            "Epoch 873/1000\n",
            "2/2 [==============================] - 0s 58ms/step - loss: 0.1678 - binary_accuracy: 0.9286 - val_loss: 0.2416 - val_binary_accuracy: 0.9464\n",
            "Epoch 874/1000\n",
            "2/2 [==============================] - 0s 80ms/step - loss: 0.1542 - binary_accuracy: 0.9196 - val_loss: 0.2346 - val_binary_accuracy: 0.9464\n",
            "Epoch 875/1000\n",
            "2/2 [==============================] - 0s 62ms/step - loss: 0.1532 - binary_accuracy: 0.9286 - val_loss: 0.2125 - val_binary_accuracy: 0.9643\n",
            "Epoch 876/1000\n",
            "2/2 [==============================] - 0s 69ms/step - loss: 0.1567 - binary_accuracy: 0.9107 - val_loss: 0.2032 - val_binary_accuracy: 0.9821\n",
            "Epoch 877/1000\n",
            "2/2 [==============================] - 0s 61ms/step - loss: 0.1647 - binary_accuracy: 0.9107 - val_loss: 0.2242 - val_binary_accuracy: 0.9464\n",
            "Epoch 878/1000\n",
            "2/2 [==============================] - 0s 58ms/step - loss: 0.1513 - binary_accuracy: 0.9375 - val_loss: 0.2261 - val_binary_accuracy: 0.9464\n",
            "Epoch 879/1000\n",
            "2/2 [==============================] - 0s 55ms/step - loss: 0.1495 - binary_accuracy: 0.9464 - val_loss: 0.2077 - val_binary_accuracy: 0.9821\n",
            "Epoch 880/1000\n",
            "2/2 [==============================] - 0s 62ms/step - loss: 0.1625 - binary_accuracy: 0.9196 - val_loss: 0.2046 - val_binary_accuracy: 0.9821\n",
            "Epoch 881/1000\n",
            "2/2 [==============================] - 0s 56ms/step - loss: 0.1573 - binary_accuracy: 0.9018 - val_loss: 0.2214 - val_binary_accuracy: 0.9464\n",
            "Epoch 882/1000\n",
            "2/2 [==============================] - 0s 58ms/step - loss: 0.1639 - binary_accuracy: 0.9018 - val_loss: 0.2288 - val_binary_accuracy: 0.9464\n",
            "Epoch 883/1000\n",
            "2/2 [==============================] - 0s 55ms/step - loss: 0.1554 - binary_accuracy: 0.9375 - val_loss: 0.2201 - val_binary_accuracy: 0.9464\n",
            "Epoch 884/1000\n",
            "2/2 [==============================] - 0s 64ms/step - loss: 0.1511 - binary_accuracy: 0.9196 - val_loss: 0.1995 - val_binary_accuracy: 0.9821\n",
            "Epoch 885/1000\n",
            "2/2 [==============================] - 0s 56ms/step - loss: 0.1449 - binary_accuracy: 0.9107 - val_loss: 0.1886 - val_binary_accuracy: 0.9464\n",
            "Epoch 886/1000\n",
            "2/2 [==============================] - 0s 67ms/step - loss: 0.1637 - binary_accuracy: 0.9107 - val_loss: 0.2053 - val_binary_accuracy: 0.9643\n",
            "Epoch 887/1000\n",
            "2/2 [==============================] - 0s 59ms/step - loss: 0.1522 - binary_accuracy: 0.9286 - val_loss: 0.2199 - val_binary_accuracy: 0.9464\n",
            "Epoch 888/1000\n",
            "2/2 [==============================] - 0s 59ms/step - loss: 0.1507 - binary_accuracy: 0.9107 - val_loss: 0.2212 - val_binary_accuracy: 0.9464\n",
            "Epoch 889/1000\n",
            "2/2 [==============================] - 0s 57ms/step - loss: 0.1458 - binary_accuracy: 0.9196 - val_loss: 0.2031 - val_binary_accuracy: 0.9643\n",
            "Epoch 890/1000\n",
            "2/2 [==============================] - 0s 54ms/step - loss: 0.1472 - binary_accuracy: 0.9196 - val_loss: 0.1907 - val_binary_accuracy: 0.9643\n",
            "Epoch 891/1000\n",
            "2/2 [==============================] - 0s 56ms/step - loss: 0.1547 - binary_accuracy: 0.9196 - val_loss: 0.1968 - val_binary_accuracy: 0.9821\n",
            "Epoch 892/1000\n",
            "2/2 [==============================] - 0s 58ms/step - loss: 0.1511 - binary_accuracy: 0.9375 - val_loss: 0.2116 - val_binary_accuracy: 0.9643\n",
            "Epoch 893/1000\n",
            "2/2 [==============================] - 0s 61ms/step - loss: 0.1504 - binary_accuracy: 0.9464 - val_loss: 0.2169 - val_binary_accuracy: 0.9464\n",
            "Epoch 894/1000\n",
            "2/2 [==============================] - 0s 61ms/step - loss: 0.1546 - binary_accuracy: 0.9196 - val_loss: 0.2147 - val_binary_accuracy: 0.9643\n",
            "Epoch 895/1000\n",
            "2/2 [==============================] - 0s 55ms/step - loss: 0.1564 - binary_accuracy: 0.9107 - val_loss: 0.2075 - val_binary_accuracy: 0.9643\n",
            "Epoch 896/1000\n",
            "2/2 [==============================] - 0s 55ms/step - loss: 0.1480 - binary_accuracy: 0.9196 - val_loss: 0.2032 - val_binary_accuracy: 0.9821\n",
            "Epoch 897/1000\n",
            "2/2 [==============================] - 0s 56ms/step - loss: 0.1505 - binary_accuracy: 0.9196 - val_loss: 0.2110 - val_binary_accuracy: 0.9643\n",
            "Epoch 898/1000\n",
            "2/2 [==============================] - 0s 60ms/step - loss: 0.1569 - binary_accuracy: 0.9196 - val_loss: 0.2248 - val_binary_accuracy: 0.9464\n",
            "Epoch 899/1000\n",
            "2/2 [==============================] - 0s 60ms/step - loss: 0.1447 - binary_accuracy: 0.9375 - val_loss: 0.2207 - val_binary_accuracy: 0.9464\n",
            "Epoch 900/1000\n",
            "2/2 [==============================] - 0s 61ms/step - loss: 0.1547 - binary_accuracy: 0.9196 - val_loss: 0.2057 - val_binary_accuracy: 0.9643\n",
            "Epoch 901/1000\n",
            "2/2 [==============================] - 0s 60ms/step - loss: 0.1568 - binary_accuracy: 0.9018 - val_loss: 0.1992 - val_binary_accuracy: 0.9821\n",
            "Epoch 902/1000\n",
            "2/2 [==============================] - 0s 56ms/step - loss: 0.1545 - binary_accuracy: 0.9196 - val_loss: 0.2142 - val_binary_accuracy: 0.9464\n",
            "Epoch 903/1000\n",
            "2/2 [==============================] - 0s 67ms/step - loss: 0.1559 - binary_accuracy: 0.9107 - val_loss: 0.2372 - val_binary_accuracy: 0.9464\n",
            "Epoch 904/1000\n",
            "2/2 [==============================] - 0s 64ms/step - loss: 0.1455 - binary_accuracy: 0.9286 - val_loss: 0.2284 - val_binary_accuracy: 0.9464\n",
            "Epoch 905/1000\n",
            "2/2 [==============================] - 0s 59ms/step - loss: 0.1567 - binary_accuracy: 0.9107 - val_loss: 0.1961 - val_binary_accuracy: 0.9821\n",
            "Epoch 906/1000\n",
            "2/2 [==============================] - 0s 57ms/step - loss: 0.1442 - binary_accuracy: 0.9286 - val_loss: 0.1928 - val_binary_accuracy: 0.9643\n",
            "Epoch 907/1000\n",
            "2/2 [==============================] - 0s 65ms/step - loss: 0.1524 - binary_accuracy: 0.9375 - val_loss: 0.2178 - val_binary_accuracy: 0.9464\n",
            "Epoch 908/1000\n",
            "2/2 [==============================] - 0s 57ms/step - loss: 0.1509 - binary_accuracy: 0.9286 - val_loss: 0.2288 - val_binary_accuracy: 0.9464\n",
            "Epoch 909/1000\n",
            "2/2 [==============================] - 0s 56ms/step - loss: 0.1454 - binary_accuracy: 0.9375 - val_loss: 0.2318 - val_binary_accuracy: 0.9464\n",
            "Epoch 910/1000\n",
            "2/2 [==============================] - 0s 57ms/step - loss: 0.1603 - binary_accuracy: 0.9018 - val_loss: 0.2135 - val_binary_accuracy: 0.9643\n",
            "Epoch 911/1000\n",
            "2/2 [==============================] - 0s 57ms/step - loss: 0.1454 - binary_accuracy: 0.9107 - val_loss: 0.1989 - val_binary_accuracy: 0.9821\n",
            "Epoch 912/1000\n",
            "2/2 [==============================] - 0s 57ms/step - loss: 0.1477 - binary_accuracy: 0.9286 - val_loss: 0.2031 - val_binary_accuracy: 0.9821\n",
            "Epoch 913/1000\n",
            "2/2 [==============================] - 0s 57ms/step - loss: 0.1603 - binary_accuracy: 0.9107 - val_loss: 0.2278 - val_binary_accuracy: 0.9464\n",
            "Epoch 914/1000\n",
            "2/2 [==============================] - 0s 72ms/step - loss: 0.1450 - binary_accuracy: 0.9286 - val_loss: 0.2422 - val_binary_accuracy: 0.9464\n",
            "Epoch 915/1000\n",
            "2/2 [==============================] - 0s 57ms/step - loss: 0.1557 - binary_accuracy: 0.9196 - val_loss: 0.2242 - val_binary_accuracy: 0.9464\n",
            "Epoch 916/1000\n",
            "2/2 [==============================] - 0s 69ms/step - loss: 0.1509 - binary_accuracy: 0.9196 - val_loss: 0.1981 - val_binary_accuracy: 0.9821\n",
            "Epoch 917/1000\n",
            "2/2 [==============================] - 0s 62ms/step - loss: 0.1566 - binary_accuracy: 0.9018 - val_loss: 0.1906 - val_binary_accuracy: 0.9821\n",
            "Epoch 918/1000\n",
            "2/2 [==============================] - 0s 57ms/step - loss: 0.1589 - binary_accuracy: 0.9107 - val_loss: 0.2057 - val_binary_accuracy: 0.9643\n"
          ],
          "name": "stdout"
        },
        {
          "output_type": "execute_result",
          "data": {
            "text/plain": [
              "<tensorflow.python.keras.callbacks.History at 0x7fd114453190>"
            ]
          },
          "metadata": {
            "tags": []
          },
          "execution_count": 74
        }
      ]
    },
    {
      "cell_type": "code",
      "metadata": {
        "colab": {
          "base_uri": "https://localhost:8080/"
        },
        "id": "57sCSzgwaqUV",
        "outputId": "d5ead98b-7495-4441-ac17-9376d0530f7d"
      },
      "source": [
        "scores = model.evaluate(X_train, y_train, verbose=1)\n",
        "print(\"Accuracy: %.2f%%\" % (scores[1]*100))"
      ],
      "execution_count": 75,
      "outputs": [
        {
          "output_type": "stream",
          "text": [
            "WARNING:tensorflow:Model was constructed with shape (None, 2, 1) for input KerasTensor(type_spec=TensorSpec(shape=(None, 2, 1), dtype=tf.float32, name='lstm_3_input'), name='lstm_3_input', description=\"created by layer 'lstm_3_input'\"), but it was called on an input with incompatible shape (None, 14, 1).\n",
            "4/4 [==============================] - 4s 13ms/step - loss: 0.2973 - binary_accuracy: 0.8929\n",
            "Accuracy: 89.29%\n"
          ],
          "name": "stdout"
        }
      ]
    },
    {
      "cell_type": "code",
      "metadata": {
        "colab": {
          "base_uri": "https://localhost:8080/"
        },
        "id": "vGW7bcKe_Zj0",
        "outputId": "a69f577b-2c3c-4b23-f11a-4b219010a66e"
      },
      "source": [
        "scores = model.evaluate(X_test, y_test, verbose=1)\n",
        "print(\"Accuracy: %.2f%%\" % (scores[1]*100))"
      ],
      "execution_count": 76,
      "outputs": [
        {
          "output_type": "stream",
          "text": [
            "2/2 [==============================] - 0s 14ms/step - loss: 0.2789 - binary_accuracy: 0.9821\n",
            "Accuracy: 98.21%\n"
          ],
          "name": "stdout"
        }
      ]
    },
    {
      "cell_type": "code",
      "metadata": {
        "id": "t6wcl9eQru1m",
        "colab": {
          "base_uri": "https://localhost:8080/"
        },
        "outputId": "8dbff99f-1117-4463-e1f0-1e4dbd153278"
      },
      "source": [
        "y_pred = model.predict(X_test)"
      ],
      "execution_count": 77,
      "outputs": [
        {
          "output_type": "stream",
          "text": [
            "WARNING:tensorflow:Model was constructed with shape (None, 2, 1) for input KerasTensor(type_spec=TensorSpec(shape=(None, 2, 1), dtype=tf.float32, name='lstm_3_input'), name='lstm_3_input', description=\"created by layer 'lstm_3_input'\"), but it was called on an input with incompatible shape (None, 14, 1).\n"
          ],
          "name": "stdout"
        }
      ]
    },
    {
      "cell_type": "code",
      "metadata": {
        "colab": {
          "base_uri": "https://localhost:8080/",
          "height": 265
        },
        "id": "b2tY1tMg_jEe",
        "outputId": "0aeb86c5-4627-4485-a23a-60da218ac937"
      },
      "source": [
        "import matplotlib.pyplot as plt\n",
        "plt.plot(y_test,c='r')\n",
        "plt.plot(y_pred,c='g') \n",
        "plt.show()"
      ],
      "execution_count": 78,
      "outputs": [
        {
          "output_type": "display_data",
          "data": {
            "image/png": "[encoded data removed]",
            "text/plain": [
              "<Figure size 432x288 with 1 Axes>"
            ]
          },
          "metadata": {
            "tags": [],
            "needs_background": "light"
          }
        }
      ]
    },
    {
      "cell_type": "code",
      "metadata": {
        "colab": {
          "base_uri": "https://localhost:8080/",
          "height": 265
        },
        "id": "fQqXEulA5BzY",
        "outputId": "e29ae2f1-80a8-44ca-a22b-7d24897fe874"
      },
      "source": [
        "import matplotlib.pyplot as plt\n",
        "plt.plot(y_test,c='r')\n",
        "plt.plot(y_pred,c='g') \n",
        "plt.show()"
      ],
      "execution_count": null,
      "outputs": [
        {
          "output_type": "display_data",
          "data": {
            "image/png": "[encoded data removed]",
            "text/plain": [
              "<Figure size 432x288 with 1 Axes>"
            ]
          },
          "metadata": {
            "tags": []
          }
        }
      ]
    },
    {
      "cell_type": "markdown",
      "metadata": {
        "id": "6ehhdNE3peFe"
      },
      "source": [
        "# Logistic Regression"
      ]
    },
    {
      "cell_type": "code",
      "metadata": {
        "colab": {
          "base_uri": "https://localhost:8080/"
        },
        "id": "CGW4ufrjJsjC",
        "outputId": "f6c47aa2-7bb6-4ed4-c92a-8bcf37933d6a"
      },
      "source": [
        "from sklearn.linear_model import LogisticRegression\n",
        "from sklearn import metrics\n",
        "#X_train, X_test, y_train, y_test = train_test_split(X, y, test_size=0.3, random_state=0)\n",
        "# class_weight='balanced',\n",
        "logreg = LogisticRegression(C =50 , n_jobs=-1,random_state=42,max_iter=10,solver = 'newton-cg')\n",
        "# X_res, y_res\n",
        "logreg.fit(X_train, y_train)"
      ],
      "execution_count": 48,
      "outputs": [
        {
          "output_type": "execute_result",
          "data": {
            "text/plain": [
              "LogisticRegression(C=50, class_weight=None, dual=False, fit_intercept=True,\n",
              "                   intercept_scaling=1, l1_ratio=None, max_iter=10,\n",
              "                   multi_class='auto', n_jobs=-1, penalty='l2', random_state=42,\n",
              "                   solver='newton-cg', tol=0.0001, verbose=0, warm_start=False)"
            ]
          },
          "metadata": {
            "tags": []
          },
          "execution_count": 48
        }
      ]
    },
    {
      "cell_type": "code",
      "metadata": {
        "colab": {
          "base_uri": "https://localhost:8080/"
        },
        "id": "3pyG5AioL_C2",
        "outputId": "40b45070-2605-4d83-a737-f4dff67087ae"
      },
      "source": [
        "y_pred = logreg.predict(X_test)\n",
        "print('Accuracy of logistic regression classifier on test set: {:.2f}'.format(logreg.score(X_test, y_test)))\n",
        "print('Accuracy of logistic regression classifier on train set: {:.2f}'.format(logreg.score(X_train, y_train)))"
      ],
      "execution_count": 49,
      "outputs": [
        {
          "output_type": "stream",
          "text": [
            "Accuracy of logistic regression classifier on test set: 0.96\n",
            "Accuracy of logistic regression classifier on train set: 0.94\n"
          ],
          "name": "stdout"
        }
      ]
    },
    {
      "cell_type": "code",
      "metadata": {
        "colab": {
          "base_uri": "https://localhost:8080/"
        },
        "id": "NcPIujymMKoA",
        "outputId": "80e566d3-1e55-4fbd-a58e-52612fe57800"
      },
      "source": [
        "from sklearn.metrics import confusion_matrix\n",
        "confusion_matrix = confusion_matrix(y_test, y_pred)\n",
        "print(confusion_matrix)"
      ],
      "execution_count": 50,
      "outputs": [
        {
          "output_type": "stream",
          "text": [
            "[[34  0]\n",
            " [ 2 20]]\n"
          ],
          "name": "stdout"
        }
      ]
    },
    {
      "cell_type": "code",
      "metadata": {
        "id": "pXWGTPQ4c_TW",
        "colab": {
          "base_uri": "https://localhost:8080/"
        },
        "outputId": "fa4aa748-1e18-4af5-8804-ad173e0ccb54"
      },
      "source": [
        "from sklearn.model_selection import RepeatedStratifiedKFold\n",
        "from sklearn.model_selection import GridSearchCV\n",
        "solvers = ['newton-cg', 'lbfgs', 'liblinear']\n",
        "penalty = ['l2','10']\n",
        "c_values = [100, 10, 1.0, 0.1, 0.01]\n",
        "# define grid search\n",
        "grid = dict(solver=solvers,penalty=penalty,C=c_values)\n",
        "cv = RepeatedStratifiedKFold(n_splits=10, n_repeats=10, random_state=1)\n",
        "grid_search = GridSearchCV(estimator=logreg, param_grid=grid, n_jobs=-1, cv=cv, scoring='accuracy',error_score=0)\n",
        "grid_result = grid_search.fit(X_train, y_train)\n",
        "# summarize results\n",
        "print(\"Best: %f using %s\" % (grid_result.best_score_, grid_result.best_params_))\n",
        "means = grid_result.cv_results_['mean_test_score']\n",
        "stds = grid_result.cv_results_['std_test_score']\n",
        "params = grid_result.cv_results_['params']\n",
        "for mean, stdev, param in zip(means, stds, params):\n",
        "    print(\"%f (%f) with: %r\" % (mean, stdev, param))"
      ],
      "execution_count": 33,
      "outputs": [
        {
          "output_type": "stream",
          "text": [
            "Best: 0.903333 using {'C': 10, 'penalty': 'l2', 'solver': 'newton-cg'}\n",
            "0.902500 (0.085002) with: {'C': 100, 'penalty': 'l2', 'solver': 'newton-cg'}\n",
            "0.902500 (0.085002) with: {'C': 100, 'penalty': 'l2', 'solver': 'lbfgs'}\n",
            "0.901667 (0.084448) with: {'C': 100, 'penalty': 'l2', 'solver': 'liblinear'}\n",
            "0.000000 (0.000000) with: {'C': 100, 'penalty': '10', 'solver': 'newton-cg'}\n",
            "0.000000 (0.000000) with: {'C': 100, 'penalty': '10', 'solver': 'lbfgs'}\n",
            "0.000000 (0.000000) with: {'C': 100, 'penalty': '10', 'solver': 'liblinear'}\n",
            "0.903333 (0.083389) with: {'C': 10, 'penalty': 'l2', 'solver': 'newton-cg'}\n",
            "0.903333 (0.083389) with: {'C': 10, 'penalty': 'l2', 'solver': 'lbfgs'}\n",
            "0.901667 (0.085576) with: {'C': 10, 'penalty': 'l2', 'solver': 'liblinear'}\n",
            "0.000000 (0.000000) with: {'C': 10, 'penalty': '10', 'solver': 'newton-cg'}\n",
            "0.000000 (0.000000) with: {'C': 10, 'penalty': '10', 'solver': 'lbfgs'}\n",
            "0.000000 (0.000000) with: {'C': 10, 'penalty': '10', 'solver': 'liblinear'}\n",
            "0.897197 (0.082449) with: {'C': 1.0, 'penalty': 'l2', 'solver': 'newton-cg'}\n",
            "0.897197 (0.082449) with: {'C': 1.0, 'penalty': 'l2', 'solver': 'lbfgs'}\n",
            "0.899848 (0.081597) with: {'C': 1.0, 'penalty': 'l2', 'solver': 'liblinear'}\n",
            "0.000000 (0.000000) with: {'C': 1.0, 'penalty': '10', 'solver': 'newton-cg'}\n",
            "0.000000 (0.000000) with: {'C': 1.0, 'penalty': '10', 'solver': 'lbfgs'}\n",
            "0.000000 (0.000000) with: {'C': 1.0, 'penalty': '10', 'solver': 'liblinear'}\n",
            "0.822121 (0.085391) with: {'C': 0.1, 'penalty': 'l2', 'solver': 'newton-cg'}\n",
            "0.822121 (0.085391) with: {'C': 0.1, 'penalty': 'l2', 'solver': 'lbfgs'}\n",
            "0.885000 (0.079480) with: {'C': 0.1, 'penalty': 'l2', 'solver': 'liblinear'}\n",
            "0.000000 (0.000000) with: {'C': 0.1, 'penalty': '10', 'solver': 'newton-cg'}\n",
            "0.000000 (0.000000) with: {'C': 0.1, 'penalty': '10', 'solver': 'lbfgs'}\n",
            "0.000000 (0.000000) with: {'C': 0.1, 'penalty': '10', 'solver': 'liblinear'}\n",
            "0.607576 (0.037237) with: {'C': 0.01, 'penalty': 'l2', 'solver': 'newton-cg'}\n",
            "0.607576 (0.037237) with: {'C': 0.01, 'penalty': 'l2', 'solver': 'lbfgs'}\n",
            "0.630227 (0.057583) with: {'C': 0.01, 'penalty': 'l2', 'solver': 'liblinear'}\n",
            "0.000000 (0.000000) with: {'C': 0.01, 'penalty': '10', 'solver': 'newton-cg'}\n",
            "0.000000 (0.000000) with: {'C': 0.01, 'penalty': '10', 'solver': 'lbfgs'}\n",
            "0.000000 (0.000000) with: {'C': 0.01, 'penalty': '10', 'solver': 'liblinear'}\n"
          ],
          "name": "stdout"
        }
      ]
    },
    {
      "cell_type": "code",
      "metadata": {
        "colab": {
          "base_uri": "https://localhost:8080/",
          "height": 265
        },
        "id": "Q3FOGA3sfaLn",
        "outputId": "afd83cbb-e91f-4043-a9a1-f7776561f1e3"
      },
      "source": [
        "import matplotlib.pyplot as plt\n",
        "plt.plot(y_test,c='r')\n",
        "plt.plot(y_pred,c='g') \n",
        "plt.show()"
      ],
      "execution_count": 51,
      "outputs": [
        {
          "output_type": "display_data",
          "data": {
            "image/png": "[encoded data removed]",
            "text/plain": [
              "<Figure size 432x288 with 1 Axes>"
            ]
          },
          "metadata": {
            "tags": [],
            "needs_background": "light"
          }
        }
      ]
    },
    {
      "cell_type": "markdown",
      "metadata": {
        "id": "y1FHT8g-2vQH"
      },
      "source": [
        "# LSTM 2"
      ]
    },
    {
      "cell_type": "code",
      "metadata": {
        "id": "yOkZm3EG2xLT"
      },
      "source": [
        "#n_features = x_train.shape[2]\n",
        "model = Sequential()\n",
        "\n",
        "model.add(LSTM(32, activation = 'tanh',return_sequences = False, input_shape = (2,1)))\n",
        "\n",
        "#model.add(LSTM(16, activation = 'tanh',return_sequences = False))\n",
        "#model.add(Dropout(0.3))\n",
        "model.add(Dense(32,activation = 'tanh'))\n",
        "model.add(Dense(32,activation = 'tanh'))\n",
        "model.add(Dense(32,activation = 'tanh'))\n",
        "model.add(Dense(32,activation = 'tanh'))\n",
        "model.add(Dense(32,activation = 'tanh'))\n",
        "model.add(Dense(32,activation = 'tanh'))\n",
        "model.add(Dense(32,activation = 'tanh'))\n",
        "model.add(Dense(32,activation = 'tanh'))\n",
        "model.add(Dense(32,activation = 'tanh'))\n",
        "model.add(Dense(32,activation = 'tanh'))\n",
        "#model.add(Dropout(0.3))\n",
        "model.add(Dense(1,activation = 'tanh'))\n",
        "model.compile(optimizer = 'adam',loss='binary_crossentropy',metrics='accuracy')\n"
      ],
      "execution_count": null,
      "outputs": []
    },
    {
      "cell_type": "code",
      "metadata": {
        "id": "FJ6s018z27B6"
      },
      "source": [
        "history = model.fit(X_train, y_train, epochs = 128, batch_size = 5, verbose = 1, shuffle = False)\n",
        "y_pred = model.predict(X_test)\n",
        "scores = model.evaluate(X_test, y_test, verbose=1)\n"
      ],
      "execution_count": null,
      "outputs": []
    },
    {
      "cell_type": "code",
      "metadata": {
        "colab": {
          "base_uri": "https://localhost:8080/"
        },
        "id": "0QdbqodL3fGW",
        "outputId": "faae38c1-74da-4616-f66c-26ecd68fbb40"
      },
      "source": [
        "scores"
      ],
      "execution_count": null,
      "outputs": [
        {
          "output_type": "execute_result",
          "data": {
            "text/plain": [
              "[1.9281185865402222, 0.875]"
            ]
          },
          "metadata": {
            "tags": []
          },
          "execution_count": 185
        }
      ]
    },
    {
      "cell_type": "markdown",
      "metadata": {
        "id": "B69tHaOBoQPH"
      },
      "source": [
        "# SVC"
      ]
    },
    {
      "cell_type": "code",
      "metadata": {
        "id": "NuoRkSPnPO0R",
        "colab": {
          "base_uri": "https://localhost:8080/"
        },
        "outputId": "34fd39e1-2a7b-4b87-eca3-a521a200dffc"
      },
      "source": [
        "##SVC\n",
        "from sklearn import svm\n",
        "#'C': 50, 'gamma': 'scale', 'kernel': 'sigmoid'\n",
        "clf = svm.SVC(kernel='rbf',gamma = 'scale',C = 50)\n",
        "clf.fit(X_train, y_train)\n",
        "y_pred = clf.predict(X_test)\n",
        "y_train_pred = clf.predict(X_train)\n",
        "print('accuracy score:',clf.score(X_train,y_train))\n",
        "print('accuracy score:',clf.score(X_test,y_test))"
      ],
      "execution_count": 57,
      "outputs": [
        {
          "output_type": "stream",
          "text": [
            "accuracy score: 0.9464285714285714\n",
            "accuracy score: 0.9464285714285714\n"
          ],
          "name": "stdout"
        }
      ]
    },
    {
      "cell_type": "code",
      "metadata": {
        "id": "EEBAXG-LPO5v",
        "colab": {
          "base_uri": "https://localhost:8080/"
        },
        "outputId": "44e3928a-2ce4-4625-e164-f6afde7ccb80"
      },
      "source": [
        "# Hyperparameter tuning SVM \n",
        "#model = SVC()\n",
        "kernel = ['poly', 'rbf', 'sigmoid']\n",
        "C = [50, 10, 1.0, 0.1, 0.01]\n",
        "gamma = ['scale']\n",
        "# define grid search\n",
        "grid = dict(kernel=kernel,C=C,gamma=gamma)\n",
        "cv = RepeatedStratifiedKFold(n_splits=10, n_repeats=3, random_state=1)\n",
        "grid_search = GridSearchCV(estimator=clf, param_grid=grid, n_jobs=-1, cv=cv, scoring='accuracy',error_score=0)\n",
        "grid_result = grid_search.fit(X_train, y_train)\n",
        "# summarize results\n",
        "print(\"Best: %f using %s\" % (grid_result.best_score_, grid_result.best_params_))\n",
        "means = grid_result.cv_results_['mean_test_score']\n",
        "stds = grid_result.cv_results_['std_test_score']\n",
        "params = grid_result.cv_results_['params']\n",
        "for mean, stdev, param in zip(means, stds, params):\n",
        "    print(\"%f (%f) with: %r\" % (mean, stdev, param))"
      ],
      "execution_count": 53,
      "outputs": [
        {
          "output_type": "stream",
          "text": [
            "Best: 0.916414 using {'C': 50, 'gamma': 'scale', 'kernel': 'poly'}\n",
            "0.916414 (0.072729) with: {'C': 50, 'gamma': 'scale', 'kernel': 'poly'}\n",
            "0.901515 (0.084428) with: {'C': 50, 'gamma': 'scale', 'kernel': 'rbf'}\n",
            "0.842172 (0.122266) with: {'C': 50, 'gamma': 'scale', 'kernel': 'sigmoid'}\n",
            "0.907576 (0.081439) with: {'C': 10, 'gamma': 'scale', 'kernel': 'poly'}\n",
            "0.898485 (0.085723) with: {'C': 10, 'gamma': 'scale', 'kernel': 'rbf'}\n",
            "0.878030 (0.108844) with: {'C': 10, 'gamma': 'scale', 'kernel': 'sigmoid'}\n",
            "0.904545 (0.086257) with: {'C': 1.0, 'gamma': 'scale', 'kernel': 'poly'}\n",
            "0.904545 (0.086257) with: {'C': 1.0, 'gamma': 'scale', 'kernel': 'rbf'}\n",
            "0.907828 (0.091037) with: {'C': 1.0, 'gamma': 'scale', 'kernel': 'sigmoid'}\n",
            "0.856818 (0.097103) with: {'C': 0.1, 'gamma': 'scale', 'kernel': 'poly'}\n",
            "0.771717 (0.087842) with: {'C': 0.1, 'gamma': 'scale', 'kernel': 'rbf'}\n",
            "0.871717 (0.088929) with: {'C': 0.1, 'gamma': 'scale', 'kernel': 'sigmoid'}\n",
            "0.607576 (0.037237) with: {'C': 0.01, 'gamma': 'scale', 'kernel': 'poly'}\n",
            "0.607576 (0.037237) with: {'C': 0.01, 'gamma': 'scale', 'kernel': 'rbf'}\n",
            "0.607576 (0.037237) with: {'C': 0.01, 'gamma': 'scale', 'kernel': 'sigmoid'}\n"
          ],
          "name": "stdout"
        }
      ]
    },
    {
      "cell_type": "code",
      "metadata": {
        "id": "fUjB12wvsfER",
        "colab": {
          "base_uri": "https://localhost:8080/",
          "height": 265
        },
        "outputId": "c1be178a-9212-41ac-e06c-788f112e9f87"
      },
      "source": [
        "import matplotlib.pyplot as plt\n",
        "plt.plot(y_test,c='r')\n",
        "plt.plot(y_pred,c='g') \n",
        "plt.show()"
      ],
      "execution_count": 58,
      "outputs": [
        {
          "output_type": "display_data",
          "data": {
            "image/png": "[encoded data removed]",
            "text/plain": [
              "<Figure size 432x288 with 1 Axes>"
            ]
          },
          "metadata": {
            "tags": [],
            "needs_background": "light"
          }
        }
      ]
    },
    {
      "cell_type": "markdown",
      "metadata": {
        "id": "NCJxTLPeoala"
      },
      "source": [
        "# Decision Tree Classifier"
      ]
    },
    {
      "cell_type": "code",
      "metadata": {
        "id": "vwiRcO5EPO8F"
      },
      "source": [
        "from sklearn.tree import DecisionTreeClassifier\n",
        "dt=DecisionTreeClassifier(criterion='entropy',random_state=0,class_weight='balanced')"
      ],
      "execution_count": null,
      "outputs": []
    },
    {
      "cell_type": "code",
      "metadata": {
        "colab": {
          "base_uri": "https://localhost:8080/"
        },
        "id": "H3DX455NwUyU",
        "outputId": "d3227286-6a4b-4c26-942a-518116238837"
      },
      "source": [
        "dt.fit(X_train, y_train)"
      ],
      "execution_count": null,
      "outputs": [
        {
          "output_type": "execute_result",
          "data": {
            "text/plain": [
              "DecisionTreeClassifier(ccp_alpha=0.0, class_weight='balanced',\n",
              "                       criterion='entropy', max_depth=None, max_features=None,\n",
              "                       max_leaf_nodes=None, min_impurity_decrease=0.0,\n",
              "                       min_impurity_split=None, min_samples_leaf=1,\n",
              "                       min_samples_split=2, min_weight_fraction_leaf=0.0,\n",
              "                       presort='deprecated', random_state=0, splitter='best')"
            ]
          },
          "metadata": {
            "tags": []
          },
          "execution_count": 41
        }
      ]
    },
    {
      "cell_type": "code",
      "metadata": {
        "colab": {
          "base_uri": "https://localhost:8080/"
        },
        "id": "vXDl9-xZwUyW",
        "outputId": "481b645c-b957-4dca-faf2-d1702bc5d3de"
      },
      "source": [
        "y_pred = dt.predict(X_test)\n",
        "print('Accuracy of Gradient Boosting classifier on test set: {:.2f}'.format(dt.score(X_test, y_test)))\n",
        "print('Accuracy of Gradient Boosting classifier on train set: {:.2f}'.format(dt.score(X_train, y_train)))"
      ],
      "execution_count": null,
      "outputs": [
        {
          "output_type": "stream",
          "text": [
            "Accuracy of Gradient Boosting classifier on test set: 0.89\n",
            "Accuracy of Gradient Boosting classifier on train set: 1.00\n"
          ],
          "name": "stdout"
        }
      ]
    },
    {
      "cell_type": "code",
      "metadata": {
        "id": "qjjWMAEow0xp"
      },
      "source": [
        "from sklearn.model_selection import RepeatedStratifiedKFold\n",
        "from sklearn.model_selection import GridSearchCV\n",
        "solvers = ['newton-cg', 'lbfgs', 'liblinear']\n",
        "penalty = ['l2','10']\n",
        "c_values = [100, 10, 1.0, 0.1, 0.01]\n",
        "# define grid search\n",
        "grid = dict(solver=solvers,penalty=penalty,C=c_values)\n",
        "cv = RepeatedStratifiedKFold(n_splits=10, n_repeats=3, random_state=1)\n",
        "grid_search = GridSearchCV(estimator=dt, param_grid=grid, n_jobs=-1, cv=cv, scoring='accuracy',error_score=0)\n",
        "grid_result = grid_search.fit(X_train, y_train)\n",
        "# summarize results\n",
        "print(\"Best: %f using %s\" % (grid_result.best_score_, grid_result.best_params_))\n",
        "means = grid_result.cv_results_['mean_test_score']\n",
        "stds = grid_result.cv_results_['std_test_score']\n",
        "params = grid_result.cv_results_['params']\n",
        "for mean, stdev, param in zip(means, stds, params):\n",
        "    print(\"%f (%f) with: %r\" % (mean, stdev, param))"
      ],
      "execution_count": null,
      "outputs": []
    },
    {
      "cell_type": "markdown",
      "metadata": {
        "id": "gdjWxPMSopWI"
      },
      "source": [
        "# GaussianNB"
      ]
    },
    {
      "cell_type": "code",
      "metadata": {
        "id": "Imt56x8kcxaR"
      },
      "source": [
        "from sklearn.naive_bayes import GaussianNB\n",
        "nb=GaussianNB()"
      ],
      "execution_count": null,
      "outputs": []
    },
    {
      "cell_type": "markdown",
      "metadata": {
        "id": "eV_kabaCozl1"
      },
      "source": [
        "# Random Forest Classifier"
      ]
    },
    {
      "cell_type": "code",
      "metadata": {
        "id": "WYjFK2y4cxcp"
      },
      "source": [
        "from sklearn.metrics import confusion_matrix,accuracy_score,roc_auc_score,roc_curve\n",
        "from sklearn.ensemble import RandomForestClassifier\n",
        "rfc=RandomForestClassifier(n_estimators=100,random_state=0,class_weight='balanced')"
      ],
      "execution_count": null,
      "outputs": []
    },
    {
      "cell_type": "markdown",
      "metadata": {
        "id": "J8a0kgEdpFHX"
      },
      "source": [
        "#Ensemble Methods"
      ]
    },
    {
      "cell_type": "code",
      "metadata": {
        "id": "9GyAYFyVo_By",
        "colab": {
          "base_uri": "https://localhost:8080/"
        },
        "outputId": "eb6b3442-e104-4d92-8acc-d2dfa5f12f04"
      },
      "source": [
        "from sklearn.ensemble import AdaBoostClassifier,BaggingClassifier,GradientBoostingClassifier\n",
        "\n",
        "gb=GradientBoostingClassifier(random_state=0)\n",
        "#bc=BaggingClassifier(base_estimator=knn,random_state=0)\n",
        "\n",
        "import lightgbm as lgb\n",
        "lgbm=lgb.LGBMClassifier(random_state=0)\n",
        "\n",
        "from xgboost import XGBClassifier\n",
        "classifier = XGBClassifier()\n",
        "\n",
        "classifier.fit(X_train,y_train)\n",
        "y_pred = classifier.predict(X_test)\n",
        "#print('accuracy score:',accuracy_score(y_test,y_pred))\n",
        "print(classifier.score(X_train,y_train))"
      ],
      "execution_count": null,
      "outputs": [
        {
          "output_type": "stream",
          "text": [
            "0.9642857142857143\n"
          ],
          "name": "stdout"
        }
      ]
    },
    {
      "cell_type": "markdown",
      "metadata": {
        "id": "jXXUoD0DpYda"
      },
      "source": [
        "#Stacking Classifier"
      ]
    },
    {
      "cell_type": "code",
      "metadata": {
        "id": "9B904YZ5cxgG"
      },
      "source": [
        "from numpy import mean\n",
        "from numpy import std\n",
        "from sklearn.datasets import make_classification\n",
        "from sklearn.model_selection import cross_val_score\n",
        "from sklearn.model_selection import RepeatedStratifiedKFold\n",
        "from sklearn.linear_model import LogisticRegression\n",
        "from sklearn.neighbors import KNeighborsClassifier\n",
        "from sklearn.tree import DecisionTreeClassifier\n",
        "from sklearn.svm import SVC\n",
        "from sklearn.naive_bayes import GaussianNB\n",
        "from sklearn.ensemble import StackingClassifier\n",
        "from matplotlib import pyplot"
      ],
      "execution_count": null,
      "outputs": []
    },
    {
      "cell_type": "code",
      "metadata": {
        "colab": {
          "base_uri": "https://localhost:8080/"
        },
        "id": "NY9A3j5acyak",
        "outputId": "edea6899-c48f-405d-8a68-eb8b6eb7cc0e"
      },
      "source": [
        "def get_stacking():\n",
        "\t# define the base models\n",
        "\tlevel0 = list()\n",
        "\tlevel0.append(('lr', LogisticRegression()))\n",
        "\tlevel0.append(('knn', KNeighborsClassifier()))\n",
        "\tlevel0.append(('cart', DecisionTreeClassifier()))\n",
        "\tlevel0.append(('svm', SVC()))\n",
        "\tlevel0.append(('bayes', GaussianNB()))\n",
        "\t# define meta learner model\n",
        "\tlevel1 = LogisticRegression()\n",
        "\t# define the stacking ensemble\n",
        "\tmodel = StackingClassifier(estimators=level0, final_estimator=level1, cv=5)\n",
        "\treturn model\n",
        " \n",
        "# get a list of models to evaluate\n",
        "def get_models():\n",
        "\tmodels = dict()\n",
        "\tmodels['lr'] = LogisticRegression()\n",
        "\tmodels['knn'] = KNeighborsClassifier()\n",
        "\tmodels['cart'] = DecisionTreeClassifier()\n",
        "\tmodels['svm'] = SVC()\n",
        "\tmodels['bayes'] = GaussianNB()\n",
        "\tmodels['stacking'] = get_stacking()\n",
        "\treturn models\n",
        " \n",
        "# evaluate a give model using cross-validation\n",
        "def evaluate_model(model, X, y):\n",
        "\tcv = RepeatedStratifiedKFold(n_splits=10, n_repeats=3, random_state=1)\n",
        "\tscores = cross_val_score(model, X_train, y_train, scoring='accuracy', cv=cv, n_jobs=-1, error_score='raise')\n",
        "\treturn scores\n",
        " \n",
        "\n",
        "# get the models to evaluate\n",
        "models = get_models()\n",
        "# evaluate the models and store results\n",
        "results, names = list(), list()\n",
        "for name, model in models.items():\n",
        "\tscores = evaluate_model(model, X_test, y_test)\n",
        "\tresults.append(scores)\n",
        "\tnames.append(name)\n",
        "\tprint('>%s %.3f (%.3f)' % (name, mean(scores), std(scores)))"
      ],
      "execution_count": null,
      "outputs": [
        {
          "output_type": "stream",
          "text": [
            ">lr 0.848 (0.111)\n",
            ">knn 0.906 (0.095)\n",
            ">cart 0.884 (0.085)\n",
            ">svm 0.871 (0.101)\n",
            ">bayes 0.853 (0.101)\n",
            ">stacking 0.874 (0.095)\n"
          ],
          "name": "stdout"
        }
      ]
    },
    {
      "cell_type": "code",
      "metadata": {
        "id": "aDD13AwTc2go"
      },
      "source": [
        ""
      ],
      "execution_count": null,
      "outputs": []
    },
    {
      "cell_type": "code",
      "metadata": {
        "id": "r3YH8yT-c_Py"
      },
      "source": [
        ""
      ],
      "execution_count": null,
      "outputs": []
    },
    {
      "cell_type": "markdown",
      "metadata": {
        "id": "I3z_bkVncvNG"
      },
      "source": [
        "# Gradient Boosting Classifier"
      ]
    },
    {
      "cell_type": "code",
      "metadata": {
        "id": "zbufN3MNc86-"
      },
      "source": [
        "from sklearn.ensemble import GradientBoostingClassifier"
      ],
      "execution_count": 59,
      "outputs": []
    },
    {
      "cell_type": "code",
      "metadata": {
        "id": "lZ6sFQtHIhq3",
        "colab": {
          "base_uri": "https://localhost:8080/"
        },
        "outputId": "bf404b4f-6b5c-4fa4-d3ec-fd1bd4c75987"
      },
      "source": [
        "gbm_clf=GradientBoostingClassifier(n_estimators=100,learning_rate=1,random_state=0,max_features=3, max_depth = 1)\n",
        "gbm_clf.fit(X_train, y_train)"
      ],
      "execution_count": 63,
      "outputs": [
        {
          "output_type": "execute_result",
          "data": {
            "text/plain": [
              "GradientBoostingClassifier(ccp_alpha=0.0, criterion='friedman_mse', init=None,\n",
              "                           learning_rate=1, loss='deviance', max_depth=1,\n",
              "                           max_features=3, max_leaf_nodes=None,\n",
              "                           min_impurity_decrease=0.0, min_impurity_split=None,\n",
              "                           min_samples_leaf=1, min_samples_split=2,\n",
              "                           min_weight_fraction_leaf=0.0, n_estimators=100,\n",
              "                           n_iter_no_change=None, presort='deprecated',\n",
              "                           random_state=0, subsample=1.0, tol=0.0001,\n",
              "                           validation_fraction=0.1, verbose=0,\n",
              "                           warm_start=False)"
            ]
          },
          "metadata": {
            "tags": []
          },
          "execution_count": 63
        }
      ]
    },
    {
      "cell_type": "code",
      "metadata": {
        "colab": {
          "base_uri": "https://localhost:8080/"
        },
        "id": "VFTBgmsAAQcZ",
        "outputId": "3e7800b6-8e88-444e-c89b-43d173460ff4"
      },
      "source": [
        "y_pred = gbm_clf.predict(X_test)\n",
        "print('Accuracy of Gradient Boosting classifier on test set: {:.2f}'.format(gbm_clf.score(X_test, y_test)))\n",
        "print('Accuracy of Gradient Boosting classifier on train set: {:.2f}'.format(gbm_clf.score(X_train, y_train)))"
      ],
      "execution_count": 64,
      "outputs": [
        {
          "output_type": "stream",
          "text": [
            "Accuracy of Gradient Boosting classifier on test set: 0.96\n",
            "Accuracy of Gradient Boosting classifier on train set: 0.98\n"
          ],
          "name": "stdout"
        }
      ]
    },
    {
      "cell_type": "code",
      "metadata": {
        "colab": {
          "base_uri": "https://localhost:8080/"
        },
        "id": "dSnMkKiYj_zd",
        "outputId": "7af2d1c3-2901-4a67-e60b-9a658bb95d84"
      },
      "source": [
        "learning_rates = [0.05, 0.1, 0.25, 0.5, 0.75, 1]\n",
        "for learning_rate in learning_rates:\n",
        "    gb = GradientBoostingClassifier(n_estimators=100, learning_rate = learning_rate, max_features=3, max_depth = 1, random_state = 0)\n",
        "    gb.fit(X_train, y_train)\n",
        "    print(\"Learning rate: \", learning_rate)\n",
        "    print(\"Accuracy score (training): {0:.3f}\".format(gb.score(X_train, y_train)))\n",
        "    print(\"Accuracy score (validation): {0:.3f}\".format(gb.score(X_test, y_test)))"
      ],
      "execution_count": 62,
      "outputs": [
        {
          "output_type": "stream",
          "text": [
            "Learning rate:  0.05\n",
            "Accuracy score (training): 0.938\n",
            "Accuracy score (validation): 0.982\n",
            "Learning rate:  0.1\n",
            "Accuracy score (training): 0.938\n",
            "Accuracy score (validation): 0.982\n",
            "Learning rate:  0.25\n",
            "Accuracy score (training): 0.955\n",
            "Accuracy score (validation): 0.946\n",
            "Learning rate:  0.5\n",
            "Accuracy score (training): 0.955\n",
            "Accuracy score (validation): 0.946\n",
            "Learning rate:  0.75\n",
            "Accuracy score (training): 0.964\n",
            "Accuracy score (validation): 0.946\n",
            "Learning rate:  1\n",
            "Accuracy score (training): 0.982\n",
            "Accuracy score (validation): 0.964\n"
          ],
          "name": "stdout"
        }
      ]
    },
    {
      "cell_type": "code",
      "metadata": {
        "id": "I2IUtk67kACw",
        "colab": {
          "base_uri": "https://localhost:8080/",
          "height": 265
        },
        "outputId": "742a86d4-575f-4642-97b8-7fe719ae219e"
      },
      "source": [
        "import matplotlib.pyplot as plt\n",
        "plt.plot(y_test,c='b')\n",
        "plt.plot(y_pred,c='r') \n",
        "plt.show()"
      ],
      "execution_count": null,
      "outputs": [
        {
          "output_type": "display_data",
          "data": {
            "image/png": "[encoded data removed]",
            "text/plain": [
              "<Figure size 432x288 with 1 Axes>"
            ]
          },
          "metadata": {
            "tags": [],
            "needs_background": "light"
          }
        }
      ]
    },
    {
      "cell_type": "code",
      "metadata": {
        "id": "cHm0uan83Hnm"
      },
      "source": [
        ""
      ],
      "execution_count": null,
      "outputs": []
    }
  ]
}